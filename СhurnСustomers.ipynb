{
 "cells": [
  {
   "cell_type": "markdown",
   "metadata": {
    "toc": true
   },
   "source": [
    "<h1>Содержание<span class=\"tocSkip\"></span></h1>\n",
    "<div class=\"toc\"><ul class=\"toc-item\"><li><span><a href=\"#Подготовка-данных\" data-toc-modified-id=\"Подготовка-данных-1\"><span class=\"toc-item-num\">1&nbsp;&nbsp;</span>Подготовка данных</a></span></li><li><span><a href=\"#Исследование-задачи\" data-toc-modified-id=\"Исследование-задачи-2\"><span class=\"toc-item-num\">2&nbsp;&nbsp;</span>Исследование задачи</a></span><ul class=\"toc-item\"><li><span><a href=\"#Преобразование-данных\" data-toc-modified-id=\"Преобразование-данных-2.1\"><span class=\"toc-item-num\">2.1&nbsp;&nbsp;</span>Преобразование данных</a></span></li><li><span><a href=\"#Масштабирование-данных\" data-toc-modified-id=\"Масштабирование-данных-2.2\"><span class=\"toc-item-num\">2.2&nbsp;&nbsp;</span>Масштабирование данных</a></span></li><li><span><a href=\"#Исследуем-баланс-классов\" data-toc-modified-id=\"Исследуем-баланс-классов-2.3\"><span class=\"toc-item-num\">2.3&nbsp;&nbsp;</span>Исследуем баланс классов</a></span></li><li><span><a href=\"#Построение-моделей-при-дисбалансе-классов\" data-toc-modified-id=\"Построение-моделей-при-дисбалансе-классов-2.4\"><span class=\"toc-item-num\">2.4&nbsp;&nbsp;</span>Построение моделей при дисбалансе классов</a></span><ul class=\"toc-item\"><li><span><a href=\"#&quot;Случайный-лес&quot;\" data-toc-modified-id=\"&quot;Случайный-лес&quot;-2.4.1\"><span class=\"toc-item-num\">2.4.1&nbsp;&nbsp;</span>\"Случайный лес\"</a></span></li><li><span><a href=\"#&quot;Дерево-решений&quot;\" data-toc-modified-id=\"&quot;Дерево-решений&quot;-2.4.2\"><span class=\"toc-item-num\">2.4.2&nbsp;&nbsp;</span>\"Дерево решений\"</a></span></li><li><span><a href=\"#&quot;Логистическая-регрессия&quot;\" data-toc-modified-id=\"&quot;Логистическая-регрессия&quot;-2.4.3\"><span class=\"toc-item-num\">2.4.3&nbsp;&nbsp;</span>\"Логистическая регрессия\"</a></span></li></ul></li></ul></li><li><span><a href=\"#Борьба-с-дисбалансом\" data-toc-modified-id=\"Борьба-с-дисбалансом-3\"><span class=\"toc-item-num\">3&nbsp;&nbsp;</span>Борьба с дисбалансом</a></span><ul class=\"toc-item\"><li><span><a href=\"#Взвешивание-классов\" data-toc-modified-id=\"Взвешивание-классов-3.1\"><span class=\"toc-item-num\">3.1&nbsp;&nbsp;</span>Взвешивание классов</a></span><ul class=\"toc-item\"><li><span><a href=\"#Взвешивание-&quot;Случайного-леса&quot;\" data-toc-modified-id=\"Взвешивание-&quot;Случайного-леса&quot;-3.1.1\"><span class=\"toc-item-num\">3.1.1&nbsp;&nbsp;</span>Взвешивание \"Случайного леса\"</a></span></li><li><span><a href=\"#Взвешивание-&quot;Дерева-решений&quot;\" data-toc-modified-id=\"Взвешивание-&quot;Дерева-решений&quot;-3.1.2\"><span class=\"toc-item-num\">3.1.2&nbsp;&nbsp;</span>Взвешивание \"Дерева решений\"</a></span></li><li><span><a href=\"#Взвешивание-&quot;Логистической-регрессии&quot;\" data-toc-modified-id=\"Взвешивание-&quot;Логистической-регрессии&quot;-3.1.3\"><span class=\"toc-item-num\">3.1.3&nbsp;&nbsp;</span>Взвешивание \"Логистической регрессии\"</a></span></li></ul></li><li><span><a href=\"#Увеличение-выборки\" data-toc-modified-id=\"Увеличение-выборки-3.2\"><span class=\"toc-item-num\">3.2&nbsp;&nbsp;</span>Увеличение выборки</a></span><ul class=\"toc-item\"><li><span><a href=\"#Увеличение-выборки-в-&quot;Случайном-лесе&quot;\" data-toc-modified-id=\"Увеличение-выборки-в-&quot;Случайном-лесе&quot;-3.2.1\"><span class=\"toc-item-num\">3.2.1&nbsp;&nbsp;</span>Увеличение выборки в \"Случайном лесе\"</a></span></li><li><span><a href=\"#Увеличение-выборки-в-&quot;Дереве-решений&quot;\" data-toc-modified-id=\"Увеличение-выборки-в-&quot;Дереве-решений&quot;-3.2.2\"><span class=\"toc-item-num\">3.2.2&nbsp;&nbsp;</span>Увеличение выборки в \"Дереве решений\"</a></span></li><li><span><a href=\"#Увеличение-выборки-в-&quot;Логистической-регрессии&quot;\" data-toc-modified-id=\"Увеличение-выборки-в-&quot;Логистической-регрессии&quot;-3.2.3\"><span class=\"toc-item-num\">3.2.3&nbsp;&nbsp;</span>Увеличение выборки в \"Логистической регрессии\"</a></span></li></ul></li><li><span><a href=\"#Уменьшение-выборки\" data-toc-modified-id=\"Уменьшение-выборки-3.3\"><span class=\"toc-item-num\">3.3&nbsp;&nbsp;</span>Уменьшение выборки</a></span><ul class=\"toc-item\"><li><span><a href=\"#Уменьшение-выборки-в-&quot;Случайном-лесе&quot;\" data-toc-modified-id=\"Уменьшение-выборки-в-&quot;Случайном-лесе&quot;-3.3.1\"><span class=\"toc-item-num\">3.3.1&nbsp;&nbsp;</span>Уменьшение выборки в \"Случайном лесе\"</a></span></li><li><span><a href=\"#Уменьшение-выборки-в-&quot;Дереве-решений&quot;\" data-toc-modified-id=\"Уменьшение-выборки-в-&quot;Дереве-решений&quot;-3.3.2\"><span class=\"toc-item-num\">3.3.2&nbsp;&nbsp;</span>Уменьшение выборки в \"Дереве решений\"</a></span></li><li><span><a href=\"#Уменьшение-выборки-в-&quot;Логистической-регрессии&quot;\" data-toc-modified-id=\"Уменьшение-выборки-в-&quot;Логистической-регрессии&quot;-3.3.3\"><span class=\"toc-item-num\">3.3.3&nbsp;&nbsp;</span>Уменьшение выборки в \"Логистической регрессии\"</a></span></li></ul></li></ul></li><li><span><a href=\"#Тестирование-модели\" data-toc-modified-id=\"Тестирование-модели-4\"><span class=\"toc-item-num\">4&nbsp;&nbsp;</span>Тестирование модели</a></span><ul class=\"toc-item\"><li><span><a href=\"#Тестируем-&quot;Случайный-лес&quot;\" data-toc-modified-id=\"Тестируем-&quot;Случайный-лес&quot;-4.1\"><span class=\"toc-item-num\">4.1&nbsp;&nbsp;</span>Тестируем \"Случайный лес\"</a></span></li><li><span><a href=\"#Тестируем-&quot;Дерево-решений&quot;\" data-toc-modified-id=\"Тестируем-&quot;Дерево-решений&quot;-4.2\"><span class=\"toc-item-num\">4.2&nbsp;&nbsp;</span>Тестируем \"Дерево решений\"</a></span></li><li><span><a href=\"#Исследование-метрик-качества-&quot;Случайного-леса&quot;\" data-toc-modified-id=\"Исследование-метрик-качества-&quot;Случайного-леса&quot;-4.3\"><span class=\"toc-item-num\">4.3&nbsp;&nbsp;</span>Исследование метрик качества \"Случайного леса\"</a></span></li></ul></li><li><span><a href=\"#Чек-лист-готовности-проекта\" data-toc-modified-id=\"Чек-лист-готовности-проекта-5\"><span class=\"toc-item-num\">5&nbsp;&nbsp;</span>Чек-лист готовности проекта</a></span></li></ul></div>"
   ]
  },
  {
   "cell_type": "markdown",
   "metadata": {},
   "source": [
    "# Отток клиентов"
   ]
  },
  {
   "cell_type": "markdown",
   "metadata": {},
   "source": [
    "Целью проекта является построение модели, прогнозирующей отток клиентов «Бета-Банка» на основе данных о поведении банковских клиентов, включающих сведения о расторжении договоров с банком. \n",
    "\n",
    "Для построения модели предпримем следующую тактику:разделим исходный датасет на учебную, валидационную и тестовую выборки, обучим модель на учебной выборке, проверим на валидационной и протестируем на тестовой.\n",
    "\n",
    "В указанной связи изучим представленные данные, проведем их предварительную обработку, исследуем баланс классов, в соответствии с условием проекта построим несколько моделей без учета баланса классов, подобрав наилучшие гиперпараметры.\n",
    "\n",
    "Применим несколько методов к сбалансированию классов, также построим несколько моделей с учетом сбалансированности классов,  подберем модель с наивысшим показателем F1-меры (по условию проекта не менее 0.59).\n",
    "\n",
    "На модели, достигшей наибольший показатель F1-меры исследуем динамику метрик в зависимости от способов устранения дисбаланса классов. Сделаем выводы."
   ]
  },
  {
   "cell_type": "markdown",
   "metadata": {},
   "source": [
    "## Подготовка данных"
   ]
  },
  {
   "cell_type": "markdown",
   "metadata": {},
   "source": [
    "Импортируем библиотеку pandas, а также структуры библиотеки sklearn, необходимые для построения и проверки качества работы моделей."
   ]
  },
  {
   "cell_type": "code",
   "execution_count": 1,
   "metadata": {},
   "outputs": [],
   "source": [
    "import pandas as pd\n",
    "from sklearn import metrics\n",
    "from sklearn.metrics import accuracy_score, roc_curve, roc_auc_score, confusion_matrix, recall_score, precision_score, f1_score\n",
    "from sklearn.preprocessing import StandardScaler\n",
    "from sklearn.tree import DecisionTreeClassifier\n",
    "from sklearn.ensemble import RandomForestClassifier\n",
    "from sklearn.linear_model import LogisticRegression\n",
    "from sklearn.model_selection import train_test_split,cross_val_score, GridSearchCV, StratifiedShuffleSplit\n",
    "from sklearn.utils import shuffle\n",
    "from sklearn.metrics import precision_recall_curve\n",
    "\n",
    "import matplotlib.pyplot as plt\n",
    "import numpy as np\n",
    "import seaborn as sns"
   ]
  },
  {
   "cell_type": "markdown",
   "metadata": {},
   "source": [
    "<div class=\"alert alert-info\"> <b> Комментарий студента:</b> Импортируем модуль itertools стандартной библиотеки pandas "
   ]
  },
  {
   "cell_type": "code",
   "execution_count": 2,
   "metadata": {},
   "outputs": [],
   "source": [
    "import itertools"
   ]
  },
  {
   "cell_type": "markdown",
   "metadata": {},
   "source": [
    "Читаем файл '/datasets/Churn.csv' и сохраняем в переменной churn."
   ]
  },
  {
   "cell_type": "code",
   "execution_count": 3,
   "metadata": {},
   "outputs": [
    {
     "data": {
      "text/html": [
       "<div>\n",
       "<style scoped>\n",
       "    .dataframe tbody tr th:only-of-type {\n",
       "        vertical-align: middle;\n",
       "    }\n",
       "\n",
       "    .dataframe tbody tr th {\n",
       "        vertical-align: top;\n",
       "    }\n",
       "\n",
       "    .dataframe thead th {\n",
       "        text-align: right;\n",
       "    }\n",
       "</style>\n",
       "<table border=\"1\" class=\"dataframe\">\n",
       "  <thead>\n",
       "    <tr style=\"text-align: right;\">\n",
       "      <th></th>\n",
       "      <th>RowNumber</th>\n",
       "      <th>CustomerId</th>\n",
       "      <th>Surname</th>\n",
       "      <th>CreditScore</th>\n",
       "      <th>Geography</th>\n",
       "      <th>Gender</th>\n",
       "      <th>Age</th>\n",
       "      <th>Tenure</th>\n",
       "      <th>Balance</th>\n",
       "      <th>NumOfProducts</th>\n",
       "      <th>HasCrCard</th>\n",
       "      <th>IsActiveMember</th>\n",
       "      <th>EstimatedSalary</th>\n",
       "      <th>Exited</th>\n",
       "    </tr>\n",
       "  </thead>\n",
       "  <tbody>\n",
       "    <tr>\n",
       "      <th>0</th>\n",
       "      <td>1</td>\n",
       "      <td>15634602</td>\n",
       "      <td>Hargrave</td>\n",
       "      <td>619</td>\n",
       "      <td>France</td>\n",
       "      <td>Female</td>\n",
       "      <td>42</td>\n",
       "      <td>2.0</td>\n",
       "      <td>0.00</td>\n",
       "      <td>1</td>\n",
       "      <td>1</td>\n",
       "      <td>1</td>\n",
       "      <td>101348.88</td>\n",
       "      <td>1</td>\n",
       "    </tr>\n",
       "    <tr>\n",
       "      <th>1</th>\n",
       "      <td>2</td>\n",
       "      <td>15647311</td>\n",
       "      <td>Hill</td>\n",
       "      <td>608</td>\n",
       "      <td>Spain</td>\n",
       "      <td>Female</td>\n",
       "      <td>41</td>\n",
       "      <td>1.0</td>\n",
       "      <td>83807.86</td>\n",
       "      <td>1</td>\n",
       "      <td>0</td>\n",
       "      <td>1</td>\n",
       "      <td>112542.58</td>\n",
       "      <td>0</td>\n",
       "    </tr>\n",
       "    <tr>\n",
       "      <th>2</th>\n",
       "      <td>3</td>\n",
       "      <td>15619304</td>\n",
       "      <td>Onio</td>\n",
       "      <td>502</td>\n",
       "      <td>France</td>\n",
       "      <td>Female</td>\n",
       "      <td>42</td>\n",
       "      <td>8.0</td>\n",
       "      <td>159660.80</td>\n",
       "      <td>3</td>\n",
       "      <td>1</td>\n",
       "      <td>0</td>\n",
       "      <td>113931.57</td>\n",
       "      <td>1</td>\n",
       "    </tr>\n",
       "    <tr>\n",
       "      <th>3</th>\n",
       "      <td>4</td>\n",
       "      <td>15701354</td>\n",
       "      <td>Boni</td>\n",
       "      <td>699</td>\n",
       "      <td>France</td>\n",
       "      <td>Female</td>\n",
       "      <td>39</td>\n",
       "      <td>1.0</td>\n",
       "      <td>0.00</td>\n",
       "      <td>2</td>\n",
       "      <td>0</td>\n",
       "      <td>0</td>\n",
       "      <td>93826.63</td>\n",
       "      <td>0</td>\n",
       "    </tr>\n",
       "    <tr>\n",
       "      <th>4</th>\n",
       "      <td>5</td>\n",
       "      <td>15737888</td>\n",
       "      <td>Mitchell</td>\n",
       "      <td>850</td>\n",
       "      <td>Spain</td>\n",
       "      <td>Female</td>\n",
       "      <td>43</td>\n",
       "      <td>2.0</td>\n",
       "      <td>125510.82</td>\n",
       "      <td>1</td>\n",
       "      <td>1</td>\n",
       "      <td>1</td>\n",
       "      <td>79084.10</td>\n",
       "      <td>0</td>\n",
       "    </tr>\n",
       "  </tbody>\n",
       "</table>\n",
       "</div>"
      ],
      "text/plain": [
       "   RowNumber  CustomerId   Surname  CreditScore Geography  Gender  Age  \\\n",
       "0          1    15634602  Hargrave          619    France  Female   42   \n",
       "1          2    15647311      Hill          608     Spain  Female   41   \n",
       "2          3    15619304      Onio          502    France  Female   42   \n",
       "3          4    15701354      Boni          699    France  Female   39   \n",
       "4          5    15737888  Mitchell          850     Spain  Female   43   \n",
       "\n",
       "   Tenure    Balance  NumOfProducts  HasCrCard  IsActiveMember  \\\n",
       "0     2.0       0.00              1          1               1   \n",
       "1     1.0   83807.86              1          0               1   \n",
       "2     8.0  159660.80              3          1               0   \n",
       "3     1.0       0.00              2          0               0   \n",
       "4     2.0  125510.82              1          1               1   \n",
       "\n",
       "   EstimatedSalary  Exited  \n",
       "0        101348.88       1  \n",
       "1        112542.58       0  \n",
       "2        113931.57       1  \n",
       "3         93826.63       0  \n",
       "4         79084.10       0  "
      ]
     },
     "metadata": {},
     "output_type": "display_data"
    },
    {
     "name": "stdout",
     "output_type": "stream",
     "text": [
      "<class 'pandas.core.frame.DataFrame'>\n",
      "RangeIndex: 10000 entries, 0 to 9999\n",
      "Data columns (total 14 columns):\n",
      " #   Column           Non-Null Count  Dtype  \n",
      "---  ------           --------------  -----  \n",
      " 0   RowNumber        10000 non-null  int64  \n",
      " 1   CustomerId       10000 non-null  int64  \n",
      " 2   Surname          10000 non-null  object \n",
      " 3   CreditScore      10000 non-null  int64  \n",
      " 4   Geography        10000 non-null  object \n",
      " 5   Gender           10000 non-null  object \n",
      " 6   Age              10000 non-null  int64  \n",
      " 7   Tenure           9091 non-null   float64\n",
      " 8   Balance          10000 non-null  float64\n",
      " 9   NumOfProducts    10000 non-null  int64  \n",
      " 10  HasCrCard        10000 non-null  int64  \n",
      " 11  IsActiveMember   10000 non-null  int64  \n",
      " 12  EstimatedSalary  10000 non-null  float64\n",
      " 13  Exited           10000 non-null  int64  \n",
      "dtypes: float64(3), int64(8), object(3)\n",
      "memory usage: 1.1+ MB\n"
     ]
    },
    {
     "data": {
      "text/plain": [
       "(10000, 14)"
      ]
     },
     "execution_count": 3,
     "metadata": {},
     "output_type": "execute_result"
    }
   ],
   "source": [
    "churn = pd.read_csv('/datasets/Churn.csv')\n",
    "display(churn.head())\n",
    "churn.info()\n",
    "churn.shape"
   ]
  },
  {
   "cell_type": "markdown",
   "metadata": {},
   "source": [
    "Приведем наименования столбцов к общепринятому формату, сделав записи нижним регистром с нижним разделителем."
   ]
  },
  {
   "cell_type": "code",
   "execution_count": 4,
   "metadata": {},
   "outputs": [
    {
     "data": {
      "text/html": [
       "<div>\n",
       "<style scoped>\n",
       "    .dataframe tbody tr th:only-of-type {\n",
       "        vertical-align: middle;\n",
       "    }\n",
       "\n",
       "    .dataframe tbody tr th {\n",
       "        vertical-align: top;\n",
       "    }\n",
       "\n",
       "    .dataframe thead th {\n",
       "        text-align: right;\n",
       "    }\n",
       "</style>\n",
       "<table border=\"1\" class=\"dataframe\">\n",
       "  <thead>\n",
       "    <tr style=\"text-align: right;\">\n",
       "      <th></th>\n",
       "      <th>row_number</th>\n",
       "      <th>customer_id</th>\n",
       "      <th>surname</th>\n",
       "      <th>credit_score</th>\n",
       "      <th>geography</th>\n",
       "      <th>gender</th>\n",
       "      <th>age</th>\n",
       "      <th>tenure</th>\n",
       "      <th>balance</th>\n",
       "      <th>num_of_products</th>\n",
       "      <th>has_cr_card</th>\n",
       "      <th>is_active_member</th>\n",
       "      <th>estimated_salary</th>\n",
       "      <th>exited</th>\n",
       "    </tr>\n",
       "  </thead>\n",
       "  <tbody>\n",
       "    <tr>\n",
       "      <th>0</th>\n",
       "      <td>1</td>\n",
       "      <td>15634602</td>\n",
       "      <td>Hargrave</td>\n",
       "      <td>619</td>\n",
       "      <td>France</td>\n",
       "      <td>Female</td>\n",
       "      <td>42</td>\n",
       "      <td>2.0</td>\n",
       "      <td>0.00</td>\n",
       "      <td>1</td>\n",
       "      <td>1</td>\n",
       "      <td>1</td>\n",
       "      <td>101348.88</td>\n",
       "      <td>1</td>\n",
       "    </tr>\n",
       "    <tr>\n",
       "      <th>1</th>\n",
       "      <td>2</td>\n",
       "      <td>15647311</td>\n",
       "      <td>Hill</td>\n",
       "      <td>608</td>\n",
       "      <td>Spain</td>\n",
       "      <td>Female</td>\n",
       "      <td>41</td>\n",
       "      <td>1.0</td>\n",
       "      <td>83807.86</td>\n",
       "      <td>1</td>\n",
       "      <td>0</td>\n",
       "      <td>1</td>\n",
       "      <td>112542.58</td>\n",
       "      <td>0</td>\n",
       "    </tr>\n",
       "    <tr>\n",
       "      <th>2</th>\n",
       "      <td>3</td>\n",
       "      <td>15619304</td>\n",
       "      <td>Onio</td>\n",
       "      <td>502</td>\n",
       "      <td>France</td>\n",
       "      <td>Female</td>\n",
       "      <td>42</td>\n",
       "      <td>8.0</td>\n",
       "      <td>159660.80</td>\n",
       "      <td>3</td>\n",
       "      <td>1</td>\n",
       "      <td>0</td>\n",
       "      <td>113931.57</td>\n",
       "      <td>1</td>\n",
       "    </tr>\n",
       "  </tbody>\n",
       "</table>\n",
       "</div>"
      ],
      "text/plain": [
       "   row_number  customer_id   surname  credit_score geography  gender  age  \\\n",
       "0           1     15634602  Hargrave           619    France  Female   42   \n",
       "1           2     15647311      Hill           608     Spain  Female   41   \n",
       "2           3     15619304      Onio           502    France  Female   42   \n",
       "\n",
       "   tenure    balance  num_of_products  has_cr_card  is_active_member  \\\n",
       "0     2.0       0.00                1            1                 1   \n",
       "1     1.0   83807.86                1            0                 1   \n",
       "2     8.0  159660.80                3            1                 0   \n",
       "\n",
       "   estimated_salary  exited  \n",
       "0         101348.88       1  \n",
       "1         112542.58       0  \n",
       "2         113931.57       1  "
      ]
     },
     "metadata": {},
     "output_type": "display_data"
    }
   ],
   "source": [
    "churn = churn.rename(columns = {'RowNumber':'row_number','CustomerId' : 'customer_id','Surname' : 'surname',\n",
    "                                'CreditScore' : 'credit_score','Geography' :'geography','Gender':'gender', 'Age':'age',\n",
    "                                'Tenure':'tenure','Balance':'balance','NumOfProducts':'num_of_products','HasCrCard':'has_cr_card',\n",
    "                                'IsActiveMember':'is_active_member','EstimatedSalary':'estimated_salary','Exited':'exited'})\n",
    "display(churn.head(3))"
   ]
  },
  {
   "cell_type": "markdown",
   "metadata": {},
   "source": [
    "Методом isna().sum() проверяем наличие пропсков в столбцах"
   ]
  },
  {
   "cell_type": "code",
   "execution_count": 5,
   "metadata": {},
   "outputs": [
    {
     "data": {
      "text/plain": [
       "row_number            0\n",
       "customer_id           0\n",
       "surname               0\n",
       "credit_score          0\n",
       "geography             0\n",
       "gender                0\n",
       "age                   0\n",
       "tenure              909\n",
       "balance               0\n",
       "num_of_products       0\n",
       "has_cr_card           0\n",
       "is_active_member      0\n",
       "estimated_salary      0\n",
       "exited                0\n",
       "dtype: int64"
      ]
     },
     "execution_count": 5,
     "metadata": {},
     "output_type": "execute_result"
    }
   ],
   "source": [
    "churn.isna().sum()"
   ]
  },
  {
   "cell_type": "markdown",
   "metadata": {},
   "source": [
    "В столбце 'tenure' обнаружено 909 пропусков, что составляет более 9% от общего количества данных. Многовато для того, чтоб удалять.\n",
    "\n",
    "\n",
    "В данном столбце содержится информация о том, сколько лет человек является клиентом банка. Скорее всего пропуски связаны с тем, что клиент банка пользуется услугами банка менее года. Поскольку информация в указанном столбце указана в годах, данные сведения о таких клиентах остались пропущенными.\n",
    "\n",
    "\n",
    "В указанной связи возможно заполнить пропуски медианными значениями методом fillna()."
   ]
  },
  {
   "cell_type": "code",
   "execution_count": 6,
   "metadata": {},
   "outputs": [
    {
     "data": {
      "text/plain": [
       "1.0     952\n",
       "2.0     950\n",
       "8.0     933\n",
       "3.0     928\n",
       "5.0     927\n",
       "7.0     925\n",
       "4.0     885\n",
       "9.0     882\n",
       "6.0     881\n",
       "10.0    446\n",
       "0.0     382\n",
       "Name: tenure, dtype: int64"
      ]
     },
     "execution_count": 6,
     "metadata": {},
     "output_type": "execute_result"
    }
   ],
   "source": [
    "churn['tenure'].value_counts()"
   ]
  },
  {
   "cell_type": "code",
   "execution_count": 7,
   "metadata": {},
   "outputs": [
    {
     "data": {
      "text/plain": [
       "count    9091.000000\n",
       "mean        4.997690\n",
       "std         2.894723\n",
       "min         0.000000\n",
       "25%         2.000000\n",
       "50%         5.000000\n",
       "75%         7.000000\n",
       "max        10.000000\n",
       "Name: tenure, dtype: float64"
      ]
     },
     "execution_count": 7,
     "metadata": {},
     "output_type": "execute_result"
    }
   ],
   "source": [
    "churn['tenure'].describe()"
   ]
  },
  {
   "cell_type": "code",
   "execution_count": 8,
   "metadata": {},
   "outputs": [
    {
     "data": {
      "text/plain": [
       "row_number          0\n",
       "customer_id         0\n",
       "surname             0\n",
       "credit_score        0\n",
       "geography           0\n",
       "gender              0\n",
       "age                 0\n",
       "tenure              0\n",
       "balance             0\n",
       "num_of_products     0\n",
       "has_cr_card         0\n",
       "is_active_member    0\n",
       "estimated_salary    0\n",
       "exited              0\n",
       "dtype: int64"
      ]
     },
     "execution_count": 8,
     "metadata": {},
     "output_type": "execute_result"
    }
   ],
   "source": [
    "churn['tenure'] = churn['tenure'].fillna(churn['tenure'].median())\n",
    "churn.isna().sum()"
   ]
  },
  {
   "cell_type": "code",
   "execution_count": 9,
   "metadata": {},
   "outputs": [
    {
     "data": {
      "text/plain": [
       "count    10000.00000\n",
       "mean         4.99790\n",
       "std          2.76001\n",
       "min          0.00000\n",
       "25%          3.00000\n",
       "50%          5.00000\n",
       "75%          7.00000\n",
       "max         10.00000\n",
       "Name: tenure, dtype: float64"
      ]
     },
     "execution_count": 9,
     "metadata": {},
     "output_type": "execute_result"
    }
   ],
   "source": [
    "churn['tenure'].describe()"
   ]
  },
  {
   "cell_type": "markdown",
   "metadata": {},
   "source": [
    "По условию проекта нам необходимо спрогнозировать, уйдёт клиент из банка в ближайшее время или нет. Согласно избранной стратегии исследования мы разделим данные на целевой признак, который необходимо спрогнозировать и признаки - данные, служащие основой для предсказания цлевого признака.\n",
    "\n",
    "\n",
    "В нашем случае целевым признаком является информация столбца 'exited' (факт ухода клиента).  \n",
    "\n",
    "Среди остальных признаков (столбцов) имеются так называемые фиктивные признаки, которые не могут и не должны влиять на предсказания нашей будущей модели относительно  факта ухода клиента из банка. Эти признаки - столбцы 'surname', 'row_number' и 'customer_id' (фамилия, индекс строки в данных и уникальный идентификатор клиента соответственно). По указанной причине данные столбцы возможно удалить, чтоб избежать при обучении будущей модели излишней информации. \n",
    "\n",
    "\n",
    "Удаление названных столбцов производим методом drop()."
   ]
  },
  {
   "cell_type": "code",
   "execution_count": 10,
   "metadata": {},
   "outputs": [
    {
     "name": "stdout",
     "output_type": "stream",
     "text": [
      "<class 'pandas.core.frame.DataFrame'>\n",
      "RangeIndex: 10000 entries, 0 to 9999\n",
      "Data columns (total 11 columns):\n",
      " #   Column            Non-Null Count  Dtype  \n",
      "---  ------            --------------  -----  \n",
      " 0   credit_score      10000 non-null  int64  \n",
      " 1   geography         10000 non-null  object \n",
      " 2   gender            10000 non-null  object \n",
      " 3   age               10000 non-null  int64  \n",
      " 4   tenure            10000 non-null  float64\n",
      " 5   balance           10000 non-null  float64\n",
      " 6   num_of_products   10000 non-null  int64  \n",
      " 7   has_cr_card       10000 non-null  int64  \n",
      " 8   is_active_member  10000 non-null  int64  \n",
      " 9   estimated_salary  10000 non-null  float64\n",
      " 10  exited            10000 non-null  int64  \n",
      "dtypes: float64(3), int64(6), object(2)\n",
      "memory usage: 859.5+ KB\n"
     ]
    },
    {
     "data": {
      "text/html": [
       "<div>\n",
       "<style scoped>\n",
       "    .dataframe tbody tr th:only-of-type {\n",
       "        vertical-align: middle;\n",
       "    }\n",
       "\n",
       "    .dataframe tbody tr th {\n",
       "        vertical-align: top;\n",
       "    }\n",
       "\n",
       "    .dataframe thead th {\n",
       "        text-align: right;\n",
       "    }\n",
       "</style>\n",
       "<table border=\"1\" class=\"dataframe\">\n",
       "  <thead>\n",
       "    <tr style=\"text-align: right;\">\n",
       "      <th></th>\n",
       "      <th>credit_score</th>\n",
       "      <th>geography</th>\n",
       "      <th>gender</th>\n",
       "      <th>age</th>\n",
       "      <th>tenure</th>\n",
       "      <th>balance</th>\n",
       "      <th>num_of_products</th>\n",
       "      <th>has_cr_card</th>\n",
       "      <th>is_active_member</th>\n",
       "      <th>estimated_salary</th>\n",
       "      <th>exited</th>\n",
       "    </tr>\n",
       "  </thead>\n",
       "  <tbody>\n",
       "    <tr>\n",
       "      <th>0</th>\n",
       "      <td>619</td>\n",
       "      <td>France</td>\n",
       "      <td>Female</td>\n",
       "      <td>42</td>\n",
       "      <td>2.0</td>\n",
       "      <td>0.00</td>\n",
       "      <td>1</td>\n",
       "      <td>1</td>\n",
       "      <td>1</td>\n",
       "      <td>101348.88</td>\n",
       "      <td>1</td>\n",
       "    </tr>\n",
       "    <tr>\n",
       "      <th>1</th>\n",
       "      <td>608</td>\n",
       "      <td>Spain</td>\n",
       "      <td>Female</td>\n",
       "      <td>41</td>\n",
       "      <td>1.0</td>\n",
       "      <td>83807.86</td>\n",
       "      <td>1</td>\n",
       "      <td>0</td>\n",
       "      <td>1</td>\n",
       "      <td>112542.58</td>\n",
       "      <td>0</td>\n",
       "    </tr>\n",
       "    <tr>\n",
       "      <th>2</th>\n",
       "      <td>502</td>\n",
       "      <td>France</td>\n",
       "      <td>Female</td>\n",
       "      <td>42</td>\n",
       "      <td>8.0</td>\n",
       "      <td>159660.80</td>\n",
       "      <td>3</td>\n",
       "      <td>1</td>\n",
       "      <td>0</td>\n",
       "      <td>113931.57</td>\n",
       "      <td>1</td>\n",
       "    </tr>\n",
       "    <tr>\n",
       "      <th>3</th>\n",
       "      <td>699</td>\n",
       "      <td>France</td>\n",
       "      <td>Female</td>\n",
       "      <td>39</td>\n",
       "      <td>1.0</td>\n",
       "      <td>0.00</td>\n",
       "      <td>2</td>\n",
       "      <td>0</td>\n",
       "      <td>0</td>\n",
       "      <td>93826.63</td>\n",
       "      <td>0</td>\n",
       "    </tr>\n",
       "    <tr>\n",
       "      <th>4</th>\n",
       "      <td>850</td>\n",
       "      <td>Spain</td>\n",
       "      <td>Female</td>\n",
       "      <td>43</td>\n",
       "      <td>2.0</td>\n",
       "      <td>125510.82</td>\n",
       "      <td>1</td>\n",
       "      <td>1</td>\n",
       "      <td>1</td>\n",
       "      <td>79084.10</td>\n",
       "      <td>0</td>\n",
       "    </tr>\n",
       "  </tbody>\n",
       "</table>\n",
       "</div>"
      ],
      "text/plain": [
       "   credit_score geography  gender  age  tenure    balance  num_of_products  \\\n",
       "0           619    France  Female   42     2.0       0.00                1   \n",
       "1           608     Spain  Female   41     1.0   83807.86                1   \n",
       "2           502    France  Female   42     8.0  159660.80                3   \n",
       "3           699    France  Female   39     1.0       0.00                2   \n",
       "4           850     Spain  Female   43     2.0  125510.82                1   \n",
       "\n",
       "   has_cr_card  is_active_member  estimated_salary  exited  \n",
       "0            1                 1         101348.88       1  \n",
       "1            0                 1         112542.58       0  \n",
       "2            1                 0         113931.57       1  \n",
       "3            0                 0          93826.63       0  \n",
       "4            1                 1          79084.10       0  "
      ]
     },
     "metadata": {},
     "output_type": "display_data"
    }
   ],
   "source": [
    "churn = churn.drop(['surname', 'row_number', 'customer_id'], axis=1)\n",
    "churn.info()\n",
    "display(churn.head(5)) "
   ]
  },
  {
   "cell_type": "markdown",
   "metadata": {},
   "source": [
    "Методом duplicated().sum() проверяем наличие дубликатов"
   ]
  },
  {
   "cell_type": "code",
   "execution_count": 11,
   "metadata": {},
   "outputs": [
    {
     "data": {
      "text/plain": [
       "0"
      ]
     },
     "execution_count": 11,
     "metadata": {},
     "output_type": "execute_result"
    }
   ],
   "source": [
    "churn.duplicated().sum()"
   ]
  },
  {
   "cell_type": "markdown",
   "metadata": {},
   "source": [
    "Дубликатов не обнаружено"
   ]
  },
  {
   "cell_type": "markdown",
   "metadata": {},
   "source": [
    "<div class=\"alert alert-info\"> <b> Вывод:</b> Для реализации целей исследования мы провели предварительную обработку данных: привели наименования столбцов к общепринятому формату, сделав записи нижним регистром с нижним разделителем, в столбце 'tenure' устранили пропуски, заменив их медианой, удалили столбцы 'surname', 'row_number' и 'customer_id' как поедставляющие для нашей задачи фиктивные признаки и проконтролировали отсутствие дубликатов. "
   ]
  },
  {
   "cell_type": "markdown",
   "metadata": {},
   "source": [
    "## Исследование задачи"
   ]
  },
  {
   "cell_type": "markdown",
   "metadata": {},
   "source": [
    "### Преобразование данных"
   ]
  },
  {
   "cell_type": "markdown",
   "metadata": {},
   "source": [
    "\n",
    "Мы получили датасет, в котором один столбец  'exited' - это целевой признак и 10 столбцов - признаки, в числе которых 'geography' и 'gender' представлены категориальными переменными. Для построения модели регрессии нам необходимо категориальные переменные преобразовать в численные. Для выбора способа кодирования сначала более подробно изучим инфорацию указанных столбцов. "
   ]
  },
  {
   "cell_type": "code",
   "execution_count": 12,
   "metadata": {},
   "outputs": [
    {
     "data": {
      "text/plain": [
       "France     5014\n",
       "Germany    2509\n",
       "Spain      2477\n",
       "Name: geography, dtype: int64"
      ]
     },
     "execution_count": 12,
     "metadata": {},
     "output_type": "execute_result"
    }
   ],
   "source": [
    "churn['geography'].value_counts()"
   ]
  },
  {
   "cell_type": "code",
   "execution_count": 13,
   "metadata": {},
   "outputs": [
    {
     "data": {
      "text/plain": [
       "Male      5457\n",
       "Female    4543\n",
       "Name: gender, dtype: int64"
      ]
     },
     "execution_count": 13,
     "metadata": {},
     "output_type": "execute_result"
    }
   ],
   "source": [
    "churn['gender'].value_counts()"
   ]
  },
  {
   "cell_type": "markdown",
   "metadata": {},
   "source": [
    "В нашем наборе данных для построения модели все признаки должны стать количественными, кроме того, по условию проекта необходимо исследовать несколько различных моделий, в указанной связи применим метод прямого кодирования get_dummies(), а не порядкового OrdinalEncoder. \n",
    "\n",
    "Также для удаления излишней информации метод get_dummies() применим с аргументом drop_first=True, который удалит первые колонки категориальных признаков."
   ]
  },
  {
   "cell_type": "code",
   "execution_count": 14,
   "metadata": {},
   "outputs": [
    {
     "data": {
      "text/html": [
       "<div>\n",
       "<style scoped>\n",
       "    .dataframe tbody tr th:only-of-type {\n",
       "        vertical-align: middle;\n",
       "    }\n",
       "\n",
       "    .dataframe tbody tr th {\n",
       "        vertical-align: top;\n",
       "    }\n",
       "\n",
       "    .dataframe thead th {\n",
       "        text-align: right;\n",
       "    }\n",
       "</style>\n",
       "<table border=\"1\" class=\"dataframe\">\n",
       "  <thead>\n",
       "    <tr style=\"text-align: right;\">\n",
       "      <th></th>\n",
       "      <th>credit_score</th>\n",
       "      <th>age</th>\n",
       "      <th>tenure</th>\n",
       "      <th>balance</th>\n",
       "      <th>num_of_products</th>\n",
       "      <th>has_cr_card</th>\n",
       "      <th>is_active_member</th>\n",
       "      <th>estimated_salary</th>\n",
       "      <th>exited</th>\n",
       "      <th>geography_Germany</th>\n",
       "      <th>geography_Spain</th>\n",
       "      <th>gender_Male</th>\n",
       "    </tr>\n",
       "  </thead>\n",
       "  <tbody>\n",
       "    <tr>\n",
       "      <th>0</th>\n",
       "      <td>619</td>\n",
       "      <td>42</td>\n",
       "      <td>2.0</td>\n",
       "      <td>0.00</td>\n",
       "      <td>1</td>\n",
       "      <td>1</td>\n",
       "      <td>1</td>\n",
       "      <td>101348.88</td>\n",
       "      <td>1</td>\n",
       "      <td>0</td>\n",
       "      <td>0</td>\n",
       "      <td>0</td>\n",
       "    </tr>\n",
       "    <tr>\n",
       "      <th>1</th>\n",
       "      <td>608</td>\n",
       "      <td>41</td>\n",
       "      <td>1.0</td>\n",
       "      <td>83807.86</td>\n",
       "      <td>1</td>\n",
       "      <td>0</td>\n",
       "      <td>1</td>\n",
       "      <td>112542.58</td>\n",
       "      <td>0</td>\n",
       "      <td>0</td>\n",
       "      <td>1</td>\n",
       "      <td>0</td>\n",
       "    </tr>\n",
       "    <tr>\n",
       "      <th>2</th>\n",
       "      <td>502</td>\n",
       "      <td>42</td>\n",
       "      <td>8.0</td>\n",
       "      <td>159660.80</td>\n",
       "      <td>3</td>\n",
       "      <td>1</td>\n",
       "      <td>0</td>\n",
       "      <td>113931.57</td>\n",
       "      <td>1</td>\n",
       "      <td>0</td>\n",
       "      <td>0</td>\n",
       "      <td>0</td>\n",
       "    </tr>\n",
       "  </tbody>\n",
       "</table>\n",
       "</div>"
      ],
      "text/plain": [
       "   credit_score  age  tenure    balance  num_of_products  has_cr_card  \\\n",
       "0           619   42     2.0       0.00                1            1   \n",
       "1           608   41     1.0   83807.86                1            0   \n",
       "2           502   42     8.0  159660.80                3            1   \n",
       "\n",
       "   is_active_member  estimated_salary  exited  geography_Germany  \\\n",
       "0                 1         101348.88       1                  0   \n",
       "1                 1         112542.58       0                  0   \n",
       "2                 0         113931.57       1                  0   \n",
       "\n",
       "   geography_Spain  gender_Male  \n",
       "0                0            0  \n",
       "1                1            0  \n",
       "2                0            0  "
      ]
     },
     "metadata": {},
     "output_type": "display_data"
    },
    {
     "name": "stdout",
     "output_type": "stream",
     "text": [
      "<class 'pandas.core.frame.DataFrame'>\n",
      "RangeIndex: 10000 entries, 0 to 9999\n",
      "Data columns (total 12 columns):\n",
      " #   Column             Non-Null Count  Dtype  \n",
      "---  ------             --------------  -----  \n",
      " 0   credit_score       10000 non-null  int64  \n",
      " 1   age                10000 non-null  int64  \n",
      " 2   tenure             10000 non-null  float64\n",
      " 3   balance            10000 non-null  float64\n",
      " 4   num_of_products    10000 non-null  int64  \n",
      " 5   has_cr_card        10000 non-null  int64  \n",
      " 6   is_active_member   10000 non-null  int64  \n",
      " 7   estimated_salary   10000 non-null  float64\n",
      " 8   exited             10000 non-null  int64  \n",
      " 9   geography_Germany  10000 non-null  uint8  \n",
      " 10  geography_Spain    10000 non-null  uint8  \n",
      " 11  gender_Male        10000 non-null  uint8  \n",
      "dtypes: float64(3), int64(6), uint8(3)\n",
      "memory usage: 732.5 KB\n"
     ]
    }
   ],
   "source": [
    "churn = pd.get_dummies(churn, drop_first=True)\n",
    "display(churn.head(3))\n",
    "churn.info()"
   ]
  },
  {
   "cell_type": "markdown",
   "metadata": {},
   "source": [
    "### Масштабирование данных"
   ]
  },
  {
   "cell_type": "markdown",
   "metadata": {},
   "source": [
    "В полученных данных разный масштаб. Чтоб наша будущая модель равнозначно оценивала все признаки приведем их к единому масштабу методом стандартизации специальной структуры библиотки sklearn модуля sklearn.preprocessing - StandardScaler, которую мы импортировали. "
   ]
  },
  {
   "cell_type": "code",
   "execution_count": 15,
   "metadata": {},
   "outputs": [
    {
     "data": {
      "text/html": [
       "<div>\n",
       "<style scoped>\n",
       "    .dataframe tbody tr th:only-of-type {\n",
       "        vertical-align: middle;\n",
       "    }\n",
       "\n",
       "    .dataframe tbody tr th {\n",
       "        vertical-align: top;\n",
       "    }\n",
       "\n",
       "    .dataframe thead th {\n",
       "        text-align: right;\n",
       "    }\n",
       "</style>\n",
       "<table border=\"1\" class=\"dataframe\">\n",
       "  <thead>\n",
       "    <tr style=\"text-align: right;\">\n",
       "      <th></th>\n",
       "      <th>credit_score</th>\n",
       "      <th>age</th>\n",
       "      <th>tenure</th>\n",
       "      <th>balance</th>\n",
       "      <th>num_of_products</th>\n",
       "      <th>has_cr_card</th>\n",
       "      <th>is_active_member</th>\n",
       "      <th>estimated_salary</th>\n",
       "      <th>exited</th>\n",
       "      <th>geography_Germany</th>\n",
       "      <th>geography_Spain</th>\n",
       "      <th>gender_Male</th>\n",
       "    </tr>\n",
       "  </thead>\n",
       "  <tbody>\n",
       "    <tr>\n",
       "      <th>0</th>\n",
       "      <td>-0.326221</td>\n",
       "      <td>0.293517</td>\n",
       "      <td>-1.086246</td>\n",
       "      <td>-1.225848</td>\n",
       "      <td>1</td>\n",
       "      <td>1</td>\n",
       "      <td>1</td>\n",
       "      <td>0.021886</td>\n",
       "      <td>1</td>\n",
       "      <td>0</td>\n",
       "      <td>0</td>\n",
       "      <td>0</td>\n",
       "    </tr>\n",
       "    <tr>\n",
       "      <th>1</th>\n",
       "      <td>-0.440036</td>\n",
       "      <td>0.198164</td>\n",
       "      <td>-1.448581</td>\n",
       "      <td>0.117350</td>\n",
       "      <td>1</td>\n",
       "      <td>0</td>\n",
       "      <td>1</td>\n",
       "      <td>0.216534</td>\n",
       "      <td>0</td>\n",
       "      <td>0</td>\n",
       "      <td>1</td>\n",
       "      <td>0</td>\n",
       "    </tr>\n",
       "    <tr>\n",
       "      <th>2</th>\n",
       "      <td>-1.536794</td>\n",
       "      <td>0.293517</td>\n",
       "      <td>1.087768</td>\n",
       "      <td>1.333053</td>\n",
       "      <td>3</td>\n",
       "      <td>1</td>\n",
       "      <td>0</td>\n",
       "      <td>0.240687</td>\n",
       "      <td>1</td>\n",
       "      <td>0</td>\n",
       "      <td>0</td>\n",
       "      <td>0</td>\n",
       "    </tr>\n",
       "    <tr>\n",
       "      <th>3</th>\n",
       "      <td>0.501521</td>\n",
       "      <td>0.007457</td>\n",
       "      <td>-1.448581</td>\n",
       "      <td>-1.225848</td>\n",
       "      <td>2</td>\n",
       "      <td>0</td>\n",
       "      <td>0</td>\n",
       "      <td>-0.108918</td>\n",
       "      <td>0</td>\n",
       "      <td>0</td>\n",
       "      <td>0</td>\n",
       "      <td>0</td>\n",
       "    </tr>\n",
       "    <tr>\n",
       "      <th>4</th>\n",
       "      <td>2.063884</td>\n",
       "      <td>0.388871</td>\n",
       "      <td>-1.086246</td>\n",
       "      <td>0.785728</td>\n",
       "      <td>1</td>\n",
       "      <td>1</td>\n",
       "      <td>1</td>\n",
       "      <td>-0.365276</td>\n",
       "      <td>0</td>\n",
       "      <td>0</td>\n",
       "      <td>1</td>\n",
       "      <td>0</td>\n",
       "    </tr>\n",
       "    <tr>\n",
       "      <th>...</th>\n",
       "      <td>...</td>\n",
       "      <td>...</td>\n",
       "      <td>...</td>\n",
       "      <td>...</td>\n",
       "      <td>...</td>\n",
       "      <td>...</td>\n",
       "      <td>...</td>\n",
       "      <td>...</td>\n",
       "      <td>...</td>\n",
       "      <td>...</td>\n",
       "      <td>...</td>\n",
       "      <td>...</td>\n",
       "    </tr>\n",
       "    <tr>\n",
       "      <th>9995</th>\n",
       "      <td>1.246488</td>\n",
       "      <td>0.007457</td>\n",
       "      <td>0.000761</td>\n",
       "      <td>-1.225848</td>\n",
       "      <td>2</td>\n",
       "      <td>1</td>\n",
       "      <td>0</td>\n",
       "      <td>-0.066419</td>\n",
       "      <td>0</td>\n",
       "      <td>0</td>\n",
       "      <td>0</td>\n",
       "      <td>1</td>\n",
       "    </tr>\n",
       "    <tr>\n",
       "      <th>9996</th>\n",
       "      <td>-1.391939</td>\n",
       "      <td>-0.373958</td>\n",
       "      <td>1.812439</td>\n",
       "      <td>-0.306379</td>\n",
       "      <td>1</td>\n",
       "      <td>1</td>\n",
       "      <td>1</td>\n",
       "      <td>0.027988</td>\n",
       "      <td>0</td>\n",
       "      <td>0</td>\n",
       "      <td>0</td>\n",
       "      <td>1</td>\n",
       "    </tr>\n",
       "    <tr>\n",
       "      <th>9997</th>\n",
       "      <td>0.604988</td>\n",
       "      <td>-0.278604</td>\n",
       "      <td>0.725432</td>\n",
       "      <td>-1.225848</td>\n",
       "      <td>1</td>\n",
       "      <td>0</td>\n",
       "      <td>1</td>\n",
       "      <td>-1.008643</td>\n",
       "      <td>1</td>\n",
       "      <td>0</td>\n",
       "      <td>0</td>\n",
       "      <td>0</td>\n",
       "    </tr>\n",
       "    <tr>\n",
       "      <th>9998</th>\n",
       "      <td>1.256835</td>\n",
       "      <td>0.293517</td>\n",
       "      <td>-0.723910</td>\n",
       "      <td>-0.022608</td>\n",
       "      <td>2</td>\n",
       "      <td>1</td>\n",
       "      <td>0</td>\n",
       "      <td>-0.125231</td>\n",
       "      <td>1</td>\n",
       "      <td>1</td>\n",
       "      <td>0</td>\n",
       "      <td>1</td>\n",
       "    </tr>\n",
       "    <tr>\n",
       "      <th>9999</th>\n",
       "      <td>1.463771</td>\n",
       "      <td>-1.041433</td>\n",
       "      <td>0.000761</td>\n",
       "      <td>0.859965</td>\n",
       "      <td>1</td>\n",
       "      <td>1</td>\n",
       "      <td>0</td>\n",
       "      <td>-1.076370</td>\n",
       "      <td>0</td>\n",
       "      <td>0</td>\n",
       "      <td>0</td>\n",
       "      <td>0</td>\n",
       "    </tr>\n",
       "  </tbody>\n",
       "</table>\n",
       "<p>10000 rows × 12 columns</p>\n",
       "</div>"
      ],
      "text/plain": [
       "      credit_score       age    tenure   balance  num_of_products  \\\n",
       "0        -0.326221  0.293517 -1.086246 -1.225848                1   \n",
       "1        -0.440036  0.198164 -1.448581  0.117350                1   \n",
       "2        -1.536794  0.293517  1.087768  1.333053                3   \n",
       "3         0.501521  0.007457 -1.448581 -1.225848                2   \n",
       "4         2.063884  0.388871 -1.086246  0.785728                1   \n",
       "...            ...       ...       ...       ...              ...   \n",
       "9995      1.246488  0.007457  0.000761 -1.225848                2   \n",
       "9996     -1.391939 -0.373958  1.812439 -0.306379                1   \n",
       "9997      0.604988 -0.278604  0.725432 -1.225848                1   \n",
       "9998      1.256835  0.293517 -0.723910 -0.022608                2   \n",
       "9999      1.463771 -1.041433  0.000761  0.859965                1   \n",
       "\n",
       "      has_cr_card  is_active_member  estimated_salary  exited  \\\n",
       "0               1                 1          0.021886       1   \n",
       "1               0                 1          0.216534       0   \n",
       "2               1                 0          0.240687       1   \n",
       "3               0                 0         -0.108918       0   \n",
       "4               1                 1         -0.365276       0   \n",
       "...           ...               ...               ...     ...   \n",
       "9995            1                 0         -0.066419       0   \n",
       "9996            1                 1          0.027988       0   \n",
       "9997            0                 1         -1.008643       1   \n",
       "9998            1                 0         -0.125231       1   \n",
       "9999            1                 0         -1.076370       0   \n",
       "\n",
       "      geography_Germany  geography_Spain  gender_Male  \n",
       "0                     0                0            0  \n",
       "1                     0                1            0  \n",
       "2                     0                0            0  \n",
       "3                     0                0            0  \n",
       "4                     0                1            0  \n",
       "...                 ...              ...          ...  \n",
       "9995                  0                0            1  \n",
       "9996                  0                0            1  \n",
       "9997                  0                0            0  \n",
       "9998                  1                0            1  \n",
       "9999                  0                0            0  \n",
       "\n",
       "[10000 rows x 12 columns]"
      ]
     },
     "metadata": {},
     "output_type": "display_data"
    },
    {
     "name": "stdout",
     "output_type": "stream",
     "text": [
      "<class 'pandas.core.frame.DataFrame'>\n",
      "RangeIndex: 10000 entries, 0 to 9999\n",
      "Data columns (total 12 columns):\n",
      " #   Column             Non-Null Count  Dtype  \n",
      "---  ------             --------------  -----  \n",
      " 0   credit_score       10000 non-null  float64\n",
      " 1   age                10000 non-null  float64\n",
      " 2   tenure             10000 non-null  float64\n",
      " 3   balance            10000 non-null  float64\n",
      " 4   num_of_products    10000 non-null  int64  \n",
      " 5   has_cr_card        10000 non-null  int64  \n",
      " 6   is_active_member   10000 non-null  int64  \n",
      " 7   estimated_salary   10000 non-null  float64\n",
      " 8   exited             10000 non-null  int64  \n",
      " 9   geography_Germany  10000 non-null  uint8  \n",
      " 10  geography_Spain    10000 non-null  uint8  \n",
      " 11  gender_Male        10000 non-null  uint8  \n",
      "dtypes: float64(5), int64(4), uint8(3)\n",
      "memory usage: 732.5 KB\n"
     ]
    }
   ],
   "source": [
    "n = ['credit_score', 'age', 'tenure', 'balance', 'estimated_salary']\n",
    "scaler = StandardScaler()\n",
    "scaler.fit(churn[n]) \n",
    "churn[n] = scaler.transform(churn[n])\n",
    "display(churn)\n",
    "churn.info()"
   ]
  },
  {
   "cell_type": "markdown",
   "metadata": {},
   "source": [
    "Данные преобразованы"
   ]
  },
  {
   "cell_type": "markdown",
   "metadata": {},
   "source": [
    "### Исследуем баланс классов"
   ]
  },
  {
   "cell_type": "markdown",
   "metadata": {},
   "source": [
    "Перед исследованием баланса классов разобъем исходный датасет на три выборки: учебную - на которой обучим модель, валидационную - на которой проверим работу модели,подберем лучшие гиперпараметры и тестовую - на которой протестируем лучшую модель. \n",
    "\n",
    "Признаки и целевой признак исходного датасета сохраним соответственно в переменных features и target, учебной выборки - features_train и target_train, валидационной - features_valid и target_valid, тестовой - features_test и target_test.\n",
    "\n",
    "Проверим соотношение классов целевого признака в исходном датасете и полученных выборках путем деления количества объектов отрицательного класса на количество объектов положительного класса."
   ]
  },
  {
   "cell_type": "code",
   "execution_count": 16,
   "metadata": {},
   "outputs": [],
   "source": [
    "features = churn.drop('exited', axis=1)\n",
    "target = churn['exited']"
   ]
  },
  {
   "cell_type": "code",
   "execution_count": 17,
   "metadata": {},
   "outputs": [
    {
     "name": "stdout",
     "output_type": "stream",
     "text": [
      "Размеры выборок:\n",
      "features_train (6000, 11)\n",
      "features_valid (2000, 11)\n",
      "features_test (2000, 11)\n",
      "target_train (6000,)\n",
      "target_valid (2000,)\n",
      "target_test (2000,)\n"
     ]
    }
   ],
   "source": [
    "features_train, features, target_train, target = train_test_split(\n",
    "    features, target, test_size=0.40, random_state=12345, stratify=target, shuffle=True)\n",
    "features_test, features_valid, target_test, target_valid = train_test_split(\n",
    "    features, target, test_size=0.5, random_state=12345, stratify=target,shuffle=True)\n",
    "print('Размеры выборок:')\n",
    "print('features_train',features_train.shape)\n",
    "print('features_valid', features_valid.shape)\n",
    "print('features_test', features_test.shape)\n",
    "print('target_train', target_train.shape)\n",
    "print('target_valid', target_valid.shape)\n",
    "print('target_test', target_test.shape)"
   ]
  },
  {
   "cell_type": "markdown",
   "metadata": {},
   "source": [
    "Оцениваем корректность выборок, содержащих признаки."
   ]
  },
  {
   "cell_type": "code",
   "execution_count": 18,
   "metadata": {},
   "outputs": [
    {
     "data": {
      "text/html": [
       "<div>\n",
       "<style scoped>\n",
       "    .dataframe tbody tr th:only-of-type {\n",
       "        vertical-align: middle;\n",
       "    }\n",
       "\n",
       "    .dataframe tbody tr th {\n",
       "        vertical-align: top;\n",
       "    }\n",
       "\n",
       "    .dataframe thead th {\n",
       "        text-align: right;\n",
       "    }\n",
       "</style>\n",
       "<table border=\"1\" class=\"dataframe\">\n",
       "  <thead>\n",
       "    <tr style=\"text-align: right;\">\n",
       "      <th></th>\n",
       "      <th>credit_score</th>\n",
       "      <th>age</th>\n",
       "      <th>tenure</th>\n",
       "      <th>balance</th>\n",
       "      <th>num_of_products</th>\n",
       "      <th>has_cr_card</th>\n",
       "      <th>is_active_member</th>\n",
       "      <th>estimated_salary</th>\n",
       "      <th>geography_Germany</th>\n",
       "      <th>geography_Spain</th>\n",
       "      <th>gender_Male</th>\n",
       "    </tr>\n",
       "  </thead>\n",
       "  <tbody>\n",
       "    <tr>\n",
       "      <th>2837</th>\n",
       "      <td>-1.050496</td>\n",
       "      <td>0.960993</td>\n",
       "      <td>0.363096</td>\n",
       "      <td>0.774803</td>\n",
       "      <td>1</td>\n",
       "      <td>0</td>\n",
       "      <td>1</td>\n",
       "      <td>-0.113705</td>\n",
       "      <td>1</td>\n",
       "      <td>0</td>\n",
       "      <td>0</td>\n",
       "    </tr>\n",
       "    <tr>\n",
       "      <th>9925</th>\n",
       "      <td>0.449787</td>\n",
       "      <td>-0.087897</td>\n",
       "      <td>0.000761</td>\n",
       "      <td>1.914286</td>\n",
       "      <td>1</td>\n",
       "      <td>1</td>\n",
       "      <td>1</td>\n",
       "      <td>-0.253313</td>\n",
       "      <td>0</td>\n",
       "      <td>0</td>\n",
       "      <td>0</td>\n",
       "    </tr>\n",
       "    <tr>\n",
       "      <th>8746</th>\n",
       "      <td>0.097996</td>\n",
       "      <td>-0.469311</td>\n",
       "      <td>1.087768</td>\n",
       "      <td>0.480826</td>\n",
       "      <td>2</td>\n",
       "      <td>0</td>\n",
       "      <td>1</td>\n",
       "      <td>1.428896</td>\n",
       "      <td>0</td>\n",
       "      <td>0</td>\n",
       "      <td>1</td>\n",
       "    </tr>\n",
       "  </tbody>\n",
       "</table>\n",
       "</div>"
      ],
      "text/plain": [
       "      credit_score       age    tenure   balance  num_of_products  \\\n",
       "2837     -1.050496  0.960993  0.363096  0.774803                1   \n",
       "9925      0.449787 -0.087897  0.000761  1.914286                1   \n",
       "8746      0.097996 -0.469311  1.087768  0.480826                2   \n",
       "\n",
       "      has_cr_card  is_active_member  estimated_salary  geography_Germany  \\\n",
       "2837            0                 1         -0.113705                  1   \n",
       "9925            1                 1         -0.253313                  0   \n",
       "8746            0                 1          1.428896                  0   \n",
       "\n",
       "      geography_Spain  gender_Male  \n",
       "2837                0            0  \n",
       "9925                0            0  \n",
       "8746                0            1  "
      ]
     },
     "metadata": {},
     "output_type": "display_data"
    },
    {
     "data": {
      "text/html": [
       "<div>\n",
       "<style scoped>\n",
       "    .dataframe tbody tr th:only-of-type {\n",
       "        vertical-align: middle;\n",
       "    }\n",
       "\n",
       "    .dataframe tbody tr th {\n",
       "        vertical-align: top;\n",
       "    }\n",
       "\n",
       "    .dataframe thead th {\n",
       "        text-align: right;\n",
       "    }\n",
       "</style>\n",
       "<table border=\"1\" class=\"dataframe\">\n",
       "  <thead>\n",
       "    <tr style=\"text-align: right;\">\n",
       "      <th></th>\n",
       "      <th>credit_score</th>\n",
       "      <th>age</th>\n",
       "      <th>tenure</th>\n",
       "      <th>balance</th>\n",
       "      <th>num_of_products</th>\n",
       "      <th>has_cr_card</th>\n",
       "      <th>is_active_member</th>\n",
       "      <th>estimated_salary</th>\n",
       "      <th>geography_Germany</th>\n",
       "      <th>geography_Spain</th>\n",
       "      <th>gender_Male</th>\n",
       "    </tr>\n",
       "  </thead>\n",
       "  <tbody>\n",
       "    <tr>\n",
       "      <th>657</th>\n",
       "      <td>-0.512463</td>\n",
       "      <td>1.437761</td>\n",
       "      <td>-1.448581</td>\n",
       "      <td>0.874344</td>\n",
       "      <td>2</td>\n",
       "      <td>1</td>\n",
       "      <td>1</td>\n",
       "      <td>1.731445</td>\n",
       "      <td>1</td>\n",
       "      <td>0</td>\n",
       "      <td>0</td>\n",
       "    </tr>\n",
       "    <tr>\n",
       "      <th>2083</th>\n",
       "      <td>-1.205697</td>\n",
       "      <td>-1.422847</td>\n",
       "      <td>-1.448581</td>\n",
       "      <td>-1.225848</td>\n",
       "      <td>1</td>\n",
       "      <td>1</td>\n",
       "      <td>1</td>\n",
       "      <td>1.209632</td>\n",
       "      <td>0</td>\n",
       "      <td>0</td>\n",
       "      <td>1</td>\n",
       "    </tr>\n",
       "    <tr>\n",
       "      <th>3234</th>\n",
       "      <td>-1.278125</td>\n",
       "      <td>0.770285</td>\n",
       "      <td>-1.448581</td>\n",
       "      <td>-1.225848</td>\n",
       "      <td>1</td>\n",
       "      <td>1</td>\n",
       "      <td>0</td>\n",
       "      <td>-1.369872</td>\n",
       "      <td>0</td>\n",
       "      <td>0</td>\n",
       "      <td>1</td>\n",
       "    </tr>\n",
       "  </tbody>\n",
       "</table>\n",
       "</div>"
      ],
      "text/plain": [
       "      credit_score       age    tenure   balance  num_of_products  \\\n",
       "657      -0.512463  1.437761 -1.448581  0.874344                2   \n",
       "2083     -1.205697 -1.422847 -1.448581 -1.225848                1   \n",
       "3234     -1.278125  0.770285 -1.448581 -1.225848                1   \n",
       "\n",
       "      has_cr_card  is_active_member  estimated_salary  geography_Germany  \\\n",
       "657             1                 1          1.731445                  1   \n",
       "2083            1                 1          1.209632                  0   \n",
       "3234            1                 0         -1.369872                  0   \n",
       "\n",
       "      geography_Spain  gender_Male  \n",
       "657                 0            0  \n",
       "2083                0            1  \n",
       "3234                0            1  "
      ]
     },
     "metadata": {},
     "output_type": "display_data"
    },
    {
     "data": {
      "text/html": [
       "<div>\n",
       "<style scoped>\n",
       "    .dataframe tbody tr th:only-of-type {\n",
       "        vertical-align: middle;\n",
       "    }\n",
       "\n",
       "    .dataframe tbody tr th {\n",
       "        vertical-align: top;\n",
       "    }\n",
       "\n",
       "    .dataframe thead th {\n",
       "        text-align: right;\n",
       "    }\n",
       "</style>\n",
       "<table border=\"1\" class=\"dataframe\">\n",
       "  <thead>\n",
       "    <tr style=\"text-align: right;\">\n",
       "      <th></th>\n",
       "      <th>credit_score</th>\n",
       "      <th>age</th>\n",
       "      <th>tenure</th>\n",
       "      <th>balance</th>\n",
       "      <th>num_of_products</th>\n",
       "      <th>has_cr_card</th>\n",
       "      <th>is_active_member</th>\n",
       "      <th>estimated_salary</th>\n",
       "      <th>geography_Germany</th>\n",
       "      <th>geography_Spain</th>\n",
       "      <th>gender_Male</th>\n",
       "    </tr>\n",
       "  </thead>\n",
       "  <tbody>\n",
       "    <tr>\n",
       "      <th>6612</th>\n",
       "      <td>-1.536794</td>\n",
       "      <td>2.391296</td>\n",
       "      <td>-0.723910</td>\n",
       "      <td>1.012552</td>\n",
       "      <td>1</td>\n",
       "      <td>0</td>\n",
       "      <td>1</td>\n",
       "      <td>0.015735</td>\n",
       "      <td>0</td>\n",
       "      <td>0</td>\n",
       "      <td>0</td>\n",
       "    </tr>\n",
       "    <tr>\n",
       "      <th>519</th>\n",
       "      <td>0.584295</td>\n",
       "      <td>1.819175</td>\n",
       "      <td>0.363096</td>\n",
       "      <td>0.211558</td>\n",
       "      <td>1</td>\n",
       "      <td>0</td>\n",
       "      <td>1</td>\n",
       "      <td>0.458737</td>\n",
       "      <td>0</td>\n",
       "      <td>0</td>\n",
       "      <td>1</td>\n",
       "    </tr>\n",
       "    <tr>\n",
       "      <th>1609</th>\n",
       "      <td>-0.326221</td>\n",
       "      <td>-0.373958</td>\n",
       "      <td>1.087768</td>\n",
       "      <td>0.894421</td>\n",
       "      <td>1</td>\n",
       "      <td>1</td>\n",
       "      <td>0</td>\n",
       "      <td>-0.598309</td>\n",
       "      <td>0</td>\n",
       "      <td>0</td>\n",
       "      <td>0</td>\n",
       "    </tr>\n",
       "  </tbody>\n",
       "</table>\n",
       "</div>"
      ],
      "text/plain": [
       "      credit_score       age    tenure   balance  num_of_products  \\\n",
       "6612     -1.536794  2.391296 -0.723910  1.012552                1   \n",
       "519       0.584295  1.819175  0.363096  0.211558                1   \n",
       "1609     -0.326221 -0.373958  1.087768  0.894421                1   \n",
       "\n",
       "      has_cr_card  is_active_member  estimated_salary  geography_Germany  \\\n",
       "6612            0                 1          0.015735                  0   \n",
       "519             0                 1          0.458737                  0   \n",
       "1609            1                 0         -0.598309                  0   \n",
       "\n",
       "      geography_Spain  gender_Male  \n",
       "6612                0            0  \n",
       "519                 0            1  \n",
       "1609                0            0  "
      ]
     },
     "metadata": {},
     "output_type": "display_data"
    }
   ],
   "source": [
    "display(features_train.head(3))\n",
    "display(features_valid.head(3))\n",
    "display(features_test.head(3))"
   ]
  },
  {
   "cell_type": "markdown",
   "metadata": {},
   "source": [
    "Категориальные переменные отсутствуют, данные масштабированы.\n",
    "\n",
    "Проверяем соотношение классов в целевых признаках выборок"
   ]
  },
  {
   "cell_type": "code",
   "execution_count": 19,
   "metadata": {},
   "outputs": [
    {
     "name": "stdout",
     "output_type": "stream",
     "text": [
      "соотношение классов в исходном датасете: 3.91\n",
      "соотношение классов на учебной выборке: 3.91\n",
      "соотношение классов на валидационной выборке: 3.91\n",
      "соотношение классов на тестовой выборке: 3.9\n"
     ]
    }
   ],
   "source": [
    "print('соотношение классов в исходном датасете:', round((target[target == 0].count()/target[target == 1].count()),2))\n",
    "print('соотношение классов на учебной выборке:', round((target_train[target_train == 0\n",
    "                                                             ].count()/target_train[target_train == 1].count()),2))\n",
    "print('соотношение классов на валидационной выборке:', round((target_valid[target_valid == 0\n",
    "                                                                   ].count()/target_valid[target_valid == 1].count()),2))\n",
    "print('соотношение классов на тестовой выборке:', round((target_test[target_test == 0].count()/\n",
    "                                                         target_test[target_test == 1].count()),2))"
   ]
  },
  {
   "cell_type": "markdown",
   "metadata": {},
   "source": [
    "<div class=\"alert alert-info\"> <b> Комментарий студента:</b> После применения метода stratify соотношение классов на всех выборках сравнялось"
   ]
  },
  {
   "cell_type": "markdown",
   "metadata": {},
   "source": [
    "<div class=\"alert alert-info\"> <b> Комментарий студента:</b>  Визуализируем соотношение классов исходного датасета на круговой диаграмме"
   ]
  },
  {
   "cell_type": "code",
   "execution_count": 20,
   "metadata": {},
   "outputs": [
    {
     "data": {
      "image/png": "[encoded data removed]",
      "text/plain": [
       "<Figure size 576x576 with 1 Axes>"
      ]
     },
     "metadata": {},
     "output_type": "display_data"
    }
   ],
   "source": [
    "a = churn.groupby('exited').size()\n",
    "a.plot(kind='pie', subplots=True, figsize=(8, 8))\n",
    "plt.title(\"Соотношение классов целевого признака\")\n",
    "plt.ylabel(\"\")\n",
    "plt.show()"
   ]
  },
  {
   "cell_type": "markdown",
   "metadata": {},
   "source": [
    "### Построение моделей при дисбалансе классов"
   ]
  },
  {
   "cell_type": "markdown",
   "metadata": {},
   "source": [
    "По целевому признаку наблюдается дисбаланс классов в сторону увеличения числа объектов отрицательного класса на величину 3,9. \n",
    "\n",
    "По условию проекта построим модели, предсказывающие отток клиентов «Бета-Банка» при дисбалансе классов и посчитаем метрики качества бинарной классификации: accuracy, precision (точность), recall (полнота), F1-мера (оптимальное соотношение полноты и точности), AUC ROC (доля пар объектов класса 1 и класса 0, которые алгоритм верно предсказал), сonfusion matrix (матрицу ошибок).\n",
    "\n",
    "\n",
    "Для вычисления этих метрик из библиотеки sklearn мы импортировали модуль sklearn.metrics с функциями accuracy_score, precision_score, recall_score, f1_scoreaccuracy_score(), roc_curve, roc_auc_score и confusion_matrix.\n",
    "\n",
    "В целях исследования динамики метрик accuracy, F1-меры и AUC ROC на примере модели \"Случайный лес\" сохраним эти меры списками в отдельных переменных (по каждой модели \"Случайного леса\"), на основе которых создадим датафрейм и построим график. "
   ]
  },
  {
   "cell_type": "markdown",
   "metadata": {},
   "source": [
    "#### \"Случайный лес\""
   ]
  },
  {
   "cell_type": "markdown",
   "metadata": {},
   "source": [
    "Для построения модели \"Случаный лес\" в условиях дисбаланса классов подберем гиперпараметры, при которых будут наилучшие метрики качества при помощи алгоритма RandomizedSearchCV библиотеки sklearn, который мы импортировали и зададим интересующий диапазон гиперпараметров 'n_estimators','min_samples_leaf','max_depth' при random_state=12345."
   ]
  },
  {
   "cell_type": "code",
   "execution_count": 21,
   "metadata": {},
   "outputs": [
    {
     "name": "stdout",
     "output_type": "stream",
     "text": [
      "Лучшие гиперпараметры для модели 'Случайный лес': {'max_depth': 11, 'min_samples_leaf': 4, 'n_estimators': 11}\n"
     ]
    }
   ],
   "source": [
    "parametrs = { 'n_estimators': range (1, 50, 10),\n",
    "             'min_samples_leaf': range (1,5),\n",
    "             'max_depth': range (1,13, 2)}\n",
    "forest_model = GridSearchCV(RandomForestClassifier(random_state=12345), parametrs, scoring='f1', cv=5)\n",
    "forest_model.fit(features_train, target_train)\n",
    "print(\"Лучшие гиперпараметры для модели 'Случайный лес':\",forest_model.best_params_)"
   ]
  },
  {
   "cell_type": "markdown",
   "metadata": {},
   "source": [
    "Строим модель \"Случайный лес\" с найденными гиперпараметрами, получаем предсказания на валидационной выборке, выводим интересующие метрики качества. "
   ]
  },
  {
   "cell_type": "code",
   "execution_count": 22,
   "metadata": {},
   "outputs": [
    {
     "name": "stdout",
     "output_type": "stream",
     "text": [
      "accuracy: 0.85\n",
      "precision: 0.75\n",
      "recall: 0.43\n",
      "F1-мера: 0.55\n",
      "AUC ROC: 0.85\n",
      "confusion matrix:\n",
      "[[1533   60]\n",
      " [ 231  176]]\n"
     ]
    }
   ],
   "source": [
    "forest_model = RandomForestClassifier(random_state=12345, n_estimators = 11,  min_samples_leaf = 4, max_depth = 11)\n",
    "forest_model.fit(features_train, target_train)        \n",
    "forest_predictions = forest_model.predict(features_valid)\n",
    "print(\"accuracy:\", round((forest_model.score(features_valid,target_valid)),2))\n",
    "print(\"precision:\", round((precision_score(target_valid, forest_predictions)),2))\n",
    "print(\"recall:\", round((recall_score(target_valid, forest_predictions)),2))\n",
    "print(\"F1-мера:\", round((f1_score(target_valid, forest_predictions)),2))\n",
    "print(\"AUC ROC:\", round(roc_auc_score(target_valid, (forest_model.predict_proba(features_valid))[:, 1]),2))\n",
    "print(\"confusion matrix:\")\n",
    "print(confusion_matrix(target_valid,forest_predictions))\n",
    "\n",
    "k = ['RF-дисбаланс',round((forest_model.score(features_valid,target_valid)),2)\n",
    "     ,round((f1_score(target_valid, forest_predictions)),2)\n",
    "     ,round(roc_auc_score(target_valid, (forest_model.predict_proba(features_valid))[:, 1]),2)]"
   ]
  },
  {
   "cell_type": "markdown",
   "metadata": {},
   "source": [
    "#### \"Дерево решений\""
   ]
  },
  {
   "cell_type": "markdown",
   "metadata": {},
   "source": [
    "Для построения модели \"Дерево решений\" у нас уже импоритрована структура DecisionTreeClassifier библиотеки sklearn.\n",
    "\n",
    "По условию проекта необходимо построить модель с наивысшим показателем F1-меры (не менее 0.59). Для этого циклом установим наилучшие гиперпараметры max_depth и min_samples_leafго, которые зададим при создании объекта структуры \"Дерева решений\"."
   ]
  },
  {
   "cell_type": "code",
   "execution_count": 23,
   "metadata": {},
   "outputs": [
    {
     "name": "stdout",
     "output_type": "stream",
     "text": [
      "Лучшее значение f1 = 0.56 при max_depth = 7 и min_samples_leaf = 5\n",
      "accuracy : 0.85\n",
      "precision: 0.71\n",
      "recall: 0.46\n",
      "F1-мера: 0.56\n",
      "AUC ROC: 0.8222\n",
      "confusion_matrix:\n",
      "[[1516   77]\n",
      " [ 220  187]]\n"
     ]
    }
   ],
   "source": [
    "best_depth = 0\n",
    "best_f1 = 0\n",
    "best_msl = 0 \n",
    "for depth in range(1, 10):\n",
    "    for msl in range(1, 11,2):\n",
    "        tree_model = DecisionTreeClassifier(random_state=12345, max_depth=depth, min_samples_leaf = msl)\n",
    "        tree_model.fit(features_train, target_train)\n",
    "        tree_predictions = tree_model.predict(features_valid)\n",
    "        result = f1_score(target_valid, tree_predictions)\n",
    "        if result > best_f1:\n",
    "            best_depth = depth\n",
    "            best_msl = msl\n",
    "            best_f1 = result\n",
    "            \n",
    "print(\"Лучшее значение f1 =\", round((best_f1),2), \"при max_depth =\", best_depth, \"и min_samples_leaf =\", best_msl)            \n",
    "\n",
    "tree_model = DecisionTreeClassifier(random_state=12345,max_depth=7, min_samples_leaf = 5) \n",
    "tree_model.fit(features_train,target_train)\n",
    "tree_predictions = tree_model.predict(features_valid) \n",
    "\n",
    "print(\"accuracy :\", round((accuracy_score(target_valid, tree_predictions)),2))\n",
    "print(\"precision:\", round((precision_score(target_valid, tree_predictions)),2))\n",
    "print(\"recall:\", round((recall_score(target_valid, tree_predictions)),2))\n",
    "print(\"F1-мера:\", round((f1_score(target_valid, tree_predictions)),2))\n",
    "print(\"AUC ROC:\", round(roc_auc_score(target_valid, (tree_model.predict_proba(features_valid))[:, 1]),4))\n",
    "print(\"confusion_matrix:\")\n",
    "print(confusion_matrix(target_valid,tree_predictions))"
   ]
  },
  {
   "cell_type": "markdown",
   "metadata": {},
   "source": [
    "#### \"Логистическая регрессия\""
   ]
  },
  {
   "cell_type": "markdown",
   "metadata": {},
   "source": [
    "Для построения модели \"Логистическая регрессия\" с гиперпараметрами, при которых F1-мера является наивысшей, также циклом переберем гиперпараметры max_iter,solver и penalty, которые передадим объекту структуры \"Логистической регрессии\". "
   ]
  },
  {
   "cell_type": "code",
   "execution_count": 24,
   "metadata": {},
   "outputs": [
    {
     "name": "stdout",
     "output_type": "stream",
     "text": [
      "Лучшее значение f1 = 0.29  при max_iter = 1000 ,solver: newton-cg\n",
      "accuracy: 0.81\n",
      "precision: 0.62\n",
      "recall: 0.19\n",
      "F1-мера: 0.29\n",
      "AUC ROC: 0.7505\n",
      "confusion_matrix:\n",
      "[[1546   47]\n",
      " [ 329   78]]\n"
     ]
    }
   ],
   "source": [
    "solver =  ['newton-cg', 'lbfgs', 'liblinear', 'sag', 'saga']\n",
    "best_s = None\n",
    "best_f1 = 0\n",
    "best_i = 0 \n",
    "for s in solver:        \n",
    "    for i in range(1000,10000,1000):\n",
    "            log_model = LogisticRegression(random_state=12345, max_iter = i,solver = s)\n",
    "            log_model.fit(features_train, target_train)\n",
    "            log_predictions = log_model.predict(features_valid)\n",
    "            result = f1_score(target_valid, log_predictions)\n",
    "            if result > best_f1:\n",
    "                best_i = i\n",
    "                best_f1 = result\n",
    "                best_s = s              \n",
    "print(\"Лучшее значение f1 =\", round((best_f1),2),  \" при max_iter =\", best_i, \",solver:\", best_s)      \n",
    "\n",
    "log_model = LogisticRegression(random_state=12345, max_iter = 1000, solver='newton-cg', penalty = 'l2')\n",
    "log_model.fit(features_train, target_train)\n",
    "log_predictions = log_model.predict(features_valid) \n",
    "\n",
    "print(\"accuracy:\",round((log_model.score(features_valid,target_valid)),2))\n",
    "print(\"precision:\", round((precision_score(target_valid, log_predictions)),2))\n",
    "print(\"recall:\", round((recall_score(target_valid, log_predictions)),2))\n",
    "print(\"F1-мера:\", round((f1_score(target_valid, log_predictions)),2))\n",
    "print(\"AUC ROC:\", round(roc_auc_score(target_valid, (log_model.predict_proba(features_valid))[:, 1]),4))\n",
    "print(\"confusion_matrix:\")\n",
    "print(confusion_matrix(target_valid,log_predictions))"
   ]
  },
  {
   "cell_type": "markdown",
   "metadata": {},
   "source": [
    "<div class=\"alert alert-info\"> <b> Вывод:</b> В ходе исследования задачи установлено, что столбцы с основными признаками 'geography' и 'gender' содержат категориальные переменные, что не приемлемо для построения моделей предсказания. Для преобразования данных в численные мы применили метод прямого кодирования (OHE) get_dummies() с аргументом drop_first=True. \n",
    "    \n",
    "\n",
    "Чтоб наша будущая модель равнозначно оценивала все признаки мы масштабировали признаки 'credit_score', 'age', 'tenure', 'balance', 'estimated_salary'. \n",
    "    \n",
    "Перед исследованием баланса классов исходный датасет мы разбили на три выборки: учебную, валидационную и тестовую, на которых соответственно создадим и обучим, проверим и протестируем модели.   \n",
    " \n",
    "Изучением баланса классов установлено, что в исходном датасете и на всех выборках число объектов отрицательного класса в четыре раза больше объектов положительного класса. При наличии дисбаланса классов построены модели \"Случайный лес\", \"Дерево решений\", \"Логистическая регрессия\" с гиперпараметрами, при которых F1-мера имеет наивысший показатель. Однако ни в одной из этих моделей F1-мера не достигает заданного условием проекта значения (0.59).\n",
    "    \n",
    "   \n",
    "Лучшие значение f1 = 0.55 модели 'Случайный лес' при max_depth = 11, min_samples_leaf = 4, n_estimators = 11, . \n",
    "\n",
    "    \n",
    "Лучшее значение f1 = 0.56 для модели \"Дерево решений\" при max_depth = 7 и min_samples_leaf = 5.    \n",
    "\n",
    "    \n",
    "Лучшее значение f1 = 0.29 для модели \"Логистическая регрессия\" при max_iter = 1000, solver: newton-cg."
   ]
  },
  {
   "cell_type": "markdown",
   "metadata": {},
   "source": [
    "## Борьба с дисбалансом"
   ]
  },
  {
   "cell_type": "markdown",
   "metadata": {},
   "source": [
    "Для устранения дисбаланса классов ко всем трем моделям применим методы взвешивания классов, увеличения количества объектов положительного класса, уменьшения числа объектов отрицательного класса, построим модели, изучим метрики качества."
   ]
  },
  {
   "cell_type": "markdown",
   "metadata": {},
   "source": [
    "### Взвешивание классов"
   ]
  },
  {
   "cell_type": "markdown",
   "metadata": {},
   "source": [
    "Сбалансируем классы аргументом class_weight библиотеки sklearn, добавив его при создании объектов структуры моделей \"Случайный лес\", \"Дерево решений\" и \"Логистическая регрессия\" и посчитаем метрики качества."
   ]
  },
  {
   "cell_type": "markdown",
   "metadata": {},
   "source": [
    "#### Взвешивание \"Случайного леса\""
   ]
  },
  {
   "cell_type": "code",
   "execution_count": 25,
   "metadata": {},
   "outputs": [
    {
     "name": "stdout",
     "output_type": "stream",
     "text": [
      "accuracy: 0.83\n",
      "precision: 0.57\n",
      "recall: 0.61\n",
      "F1-мера: 0.59\n",
      "AUC ROC: 0.84\n",
      "confusion matrix:\n",
      "[[1405  188]\n",
      " [ 158  249]]\n"
     ]
    }
   ],
   "source": [
    "forest_model = RandomForestClassifier(random_state=12345, n_estimators = 11\\\n",
    "                                      , max_depth = 11, min_samples_leaf = 4, class_weight='balanced')\n",
    "forest_model.fit(features_train, target_train)        \n",
    "forest_predictions = forest_model.predict(features_valid)\n",
    "print(\"accuracy:\", round((forest_model.score(features_valid,target_valid)),2))\n",
    "print(\"precision:\", round((precision_score(target_valid, forest_predictions)),2))\n",
    "print(\"recall:\", round((recall_score(target_valid, forest_predictions)),2))\n",
    "print(\"F1-мера:\", round((f1_score(target_valid, forest_predictions)),2))\n",
    "print(\"AUC ROC:\", round(roc_auc_score(target_valid, (forest_model.predict_proba(features_valid))[:, 1]),2))\n",
    "print(\"confusion matrix:\")\n",
    "print(confusion_matrix(target_valid,forest_predictions))\n",
    "\n",
    "l = ['RF-взвешенный', round((forest_model.score(features_valid,target_valid)),2)\n",
    "     ,round((f1_score(target_valid, forest_predictions)),2)\n",
    "     ,round(roc_auc_score(target_valid, (forest_model.predict_proba(features_valid))[:, 1]),2)]"
   ]
  },
  {
   "cell_type": "markdown",
   "metadata": {},
   "source": [
    "#### Взвешивание \"Дерева решений\""
   ]
  },
  {
   "cell_type": "code",
   "execution_count": 26,
   "metadata": {},
   "outputs": [
    {
     "name": "stdout",
     "output_type": "stream",
     "text": [
      "accuracy : 0.75\n",
      "precision 0.44\n",
      "recall: 0.74\n",
      "F1-мера: 0.55\n",
      "AUC ROC: 0.81\n",
      "confusion matrix:\n",
      "[[1202  391]\n",
      " [ 104  303]]\n"
     ]
    }
   ],
   "source": [
    "tree_model = DecisionTreeClassifier(random_state=12345,max_depth=7, min_samples_leaf = 5,class_weight='balanced') \n",
    "tree_model.fit(features_train,target_train)\n",
    "tree_predictions = tree_model.predict(features_valid) \n",
    "\n",
    "print(\"accuracy :\", round((accuracy_score(target_valid, tree_predictions)),2))\n",
    "print(\"precision\", round((precision_score(target_valid, tree_predictions)),2))\n",
    "print(\"recall:\", round((recall_score(target_valid, tree_predictions)),2))\n",
    "print(\"F1-мера:\", round((f1_score(target_valid, tree_predictions)),2))\n",
    "print(\"AUC ROC:\", round(roc_auc_score(target_valid, (tree_model.predict_proba(features_valid))[:, 1]),2))\n",
    "print(\"confusion matrix:\")\n",
    "print(confusion_matrix(target_valid,tree_predictions))"
   ]
  },
  {
   "cell_type": "markdown",
   "metadata": {},
   "source": [
    "#### Взвешивание \"Логистической регрессии\""
   ]
  },
  {
   "cell_type": "code",
   "execution_count": 27,
   "metadata": {},
   "outputs": [
    {
     "name": "stdout",
     "output_type": "stream",
     "text": [
      "accuracy: 0.7\n",
      "precision: 0.37\n",
      "recall: 0.67\n",
      "F1-мера: 0.48\n",
      "AUC ROC: 0.75\n",
      "confusion matrix:\n",
      "[[1124  469]\n",
      " [ 134  273]]\n"
     ]
    }
   ],
   "source": [
    "log_model = LogisticRegression(random_state=12345, max_iter = 1000, solver='newton-cg', penalty = 'l2', class_weight='balanced')\n",
    "log_model.fit(features_train, target_train)\n",
    "log_predictions = log_model.predict(features_valid) \n",
    "\n",
    "print(\"accuracy:\",round((log_model.score(features_valid,target_valid)),2))\n",
    "print(\"precision:\", round((precision_score(target_valid, log_predictions)),2))\n",
    "print(\"recall:\", round((recall_score(target_valid, log_predictions)),2))\n",
    "print(\"F1-мера:\", round((f1_score(target_valid, log_predictions)),2))\n",
    "print(\"AUC ROC:\", round(roc_auc_score(target_valid, (log_model.predict_proba(features_valid))[:, 1]),2))\n",
    "print(\"confusion matrix:\")\n",
    "print(confusion_matrix(target_valid,log_predictions)) "
   ]
  },
  {
   "cell_type": "markdown",
   "metadata": {},
   "source": [
    "<div class=\"alert alert-info\"> <b> </b> При устранении дисбаланса классов аргументом class_weight F1-мера 0.59 достигнута у модели \"Случайный лес\"  при метрике AUC ROC: 0.84. Взвешивание \"Дерева решений\" и \"Логистической регрессии\" не достигли необходимого условия. При этом контрольная метрика \"Логистической регрессии\" значительно далека от необходимого результата (F1-мера: 0.48).  "
   ]
  },
  {
   "cell_type": "markdown",
   "metadata": {},
   "source": [
    "### Увеличение выборки"
   ]
  },
  {
   "cell_type": "markdown",
   "metadata": {},
   "source": [
    "Попробуем устранить дисбаланс классов путем увеличения числа объектов положительного класса. Для этого применим технику upsampling путем создания функции upsample. Количество повторений, на которое увеличиваем выборку устанавливаем 4 (во столько раз в исходном датасете, учебной, валидационной и тестовой выборках отрицательные объекты превосходили положительные объекты."
   ]
  },
  {
   "cell_type": "code",
   "execution_count": 28,
   "metadata": {},
   "outputs": [
    {
     "name": "stdout",
     "output_type": "stream",
     "text": [
      "Размеры выборок после увеличения положительного класса:\n",
      "features_upsampled (9666, 11)\n",
      "target_upsampled (9666,)\n",
      "соотношение классов после увеличения выборки: 0.98\n"
     ]
    }
   ],
   "source": [
    "def upsample(features_train, target_train, repeat):\n",
    "    features_zeros = features_train[target_train == 0]\n",
    "    features_ones = features_train[target_train == 1]\n",
    "    target_zeros = target_train[target_train == 0]\n",
    "    target_ones = target_train[target_train == 1]\n",
    "\n",
    "    features_upsampled = pd.concat([features_zeros] + [features_ones] * repeat)\n",
    "    target_upsampled = pd.concat([target_zeros] + [target_ones] * repeat)\n",
    "    \n",
    "    features_upsampled, target_upsampled = shuffle(\n",
    "        features_upsampled, target_upsampled, random_state=12345)\n",
    "    \n",
    "    return features_upsampled, target_upsampled\n",
    "\n",
    "features_upsampled, target_upsampled = upsample(features_train, target_train, 4)\n",
    "\n",
    "print('Размеры выборок после увеличения положительного класса:')\n",
    "print('features_upsampled',features_upsampled.shape)\n",
    "print('target_upsampled', target_upsampled.shape)\n",
    "print('соотношение классов после увеличения выборки:',round(\n",
    "    (target_upsampled[target_upsampled==0].count()/target_upsampled[target_upsampled==1].count()),2))"
   ]
  },
  {
   "cell_type": "markdown",
   "metadata": {},
   "source": [
    "Для визуализации метрики AUC ROC создадим функцию для построения графиков для каждой модели после сбалансирования классов."
   ]
  },
  {
   "cell_type": "code",
   "execution_count": 29,
   "metadata": {},
   "outputs": [],
   "source": [
    "def plot_roc_curve(fpr, tpr, label=None):\n",
    "    plt.plot(fpr, tpr, linewidth=2, label=label)\n",
    "    plt.plot([0, 1], [0, 1], linestyle='--')\n",
    "    plt.xlim([0.0, 1.0])\n",
    "    plt.ylim([0.0, 1.0])\n",
    "    plt.xlabel('False Positive Rate, FPR (1 - specificity)')\n",
    "    plt.ylabel('True Positive Rate, TPR (Recall)')\n",
    "    plt.title('ROC curve')\n",
    "    plt.savefig(\"ROC.png\")"
   ]
  },
  {
   "cell_type": "markdown",
   "metadata": {},
   "source": [
    "#### Увеличение выборки в \"Случайном лесе\" "
   ]
  },
  {
   "cell_type": "code",
   "execution_count": 30,
   "metadata": {},
   "outputs": [
    {
     "name": "stdout",
     "output_type": "stream",
     "text": [
      "accuracy: 0.81\n",
      "precision: 0.53\n",
      "recall: 0.66\n",
      "F1-мера: 0.59\n",
      "AUC ROC: 0.84\n",
      "confusion matrix:\n",
      "[[1359  234]\n",
      " [ 139  268]]\n"
     ]
    },
    {
     "data": {
      "image/png": "[encoded data removed]",
      "text/plain": [
       "<Figure size 432x288 with 1 Axes>"
      ]
     },
     "metadata": {
      "needs_background": "light"
     },
     "output_type": "display_data"
    },
    {
     "name": "stdout",
     "output_type": "stream",
     "text": [
      "AUC ROC Случайного леса: 0.8435\n"
     ]
    }
   ],
   "source": [
    "forest_model = RandomForestClassifier(random_state=12345,n_estimators = 11, max_depth = 11, min_samples_leaf = 4)\n",
    "forest_model.fit(features_upsampled, target_upsampled)        \n",
    "forest_predictions = forest_model.predict(features_valid)\n",
    "\n",
    "print(\"accuracy:\", round((forest_model.score(features_valid,target_valid)),2))\n",
    "print(\"precision:\", round((precision_score(target_valid, forest_predictions)),2))\n",
    "print(\"recall:\", round((recall_score(target_valid, forest_predictions)),2))\n",
    "print(\"F1-мера:\", round((f1_score(target_valid, forest_predictions)),2))\n",
    "print(\"AUC ROC:\", round(roc_auc_score(target_valid, (forest_model.predict_proba(features_valid))[:, 1]),2))\n",
    "print(\"confusion matrix:\")\n",
    "print(confusion_matrix(target_valid,forest_predictions))\n",
    "\n",
    "m = ['RF-увеличен', round((forest_model.score(features_valid,target_valid)),2)\n",
    "     ,round((f1_score(target_valid, forest_predictions)),2)\n",
    "     ,round(roc_auc_score(target_valid, (forest_model.predict_proba(features_valid))[:, 1]),2)]\n",
    "parametrs = { 'n_estimators': range (1, 50, 10),\n",
    "             'min_samples_leaf': range (1,5),\n",
    "             'max_depth': range (1,13, 2)}\n",
    "\n",
    "\n",
    "fpr, tpr, thresholds = roc_curve(target_valid, forest_model.predict_proba(features_valid)[:, 1]) \n",
    "plot_roc_curve(fpr, tpr)\n",
    "plt.show()\n",
    "print(\"AUC ROC Случайного леса:\", round(roc_auc_score(\n",
    "    target_valid, (forest_model.predict_proba(features_valid))[:, 1]),4))\n"
   ]
  },
  {
   "cell_type": "markdown",
   "metadata": {},
   "source": [
    "#### Увеличение выборки в \"Дереве решений\""
   ]
  },
  {
   "cell_type": "code",
   "execution_count": 31,
   "metadata": {},
   "outputs": [
    {
     "name": "stdout",
     "output_type": "stream",
     "text": [
      "accuracy : 0.75\n",
      "precision: 0.44\n",
      "recall: 0.75\n",
      "F1-мера: 0.55\n",
      "AUC ROC: 0.81\n",
      "confusion matrix:\n",
      "[[1202  391]\n",
      " [ 103  304]]\n"
     ]
    },
    {
     "data": {
      "image/png": "[encoded data removed]",
      "text/plain": [
       "<Figure size 432x288 with 1 Axes>"
      ]
     },
     "metadata": {
      "needs_background": "light"
     },
     "output_type": "display_data"
    },
    {
     "name": "stdout",
     "output_type": "stream",
     "text": [
      "AUC ROC Случайного леса: 0.8068\n"
     ]
    }
   ],
   "source": [
    "tree_model = DecisionTreeClassifier(random_state=12345,max_depth=7, min_samples_leaf = 5) \n",
    "tree_model.fit(features_upsampled, target_upsampled)\n",
    "tree_predictions = tree_model.predict(features_valid) \n",
    "\n",
    "print(\"accuracy :\", round((accuracy_score(target_valid, tree_predictions)),2))\n",
    "print(\"precision:\", round((precision_score(target_valid, tree_predictions)),2))\n",
    "print(\"recall:\", round((recall_score(target_valid, tree_predictions)),2))\n",
    "print(\"F1-мера:\", round((f1_score(target_valid, tree_predictions)),2))\n",
    "print(\"AUC ROC:\", round(roc_auc_score(target_valid, (tree_model.predict_proba(features_valid))[:, 1]),2))\n",
    "print(\"confusion matrix:\")\n",
    "print(confusion_matrix(target_valid,tree_predictions))\n",
    "\n",
    "fpr, tpr, thresholds = roc_curve(target_valid, tree_model.predict_proba(features_valid)[:, 1]) \n",
    "plot_roc_curve(fpr, tpr)\n",
    "plt.show()\n",
    "print(\"AUC ROC Случайного леса:\", round(roc_auc_score(\n",
    "    target_valid, (tree_model.predict_proba(features_valid))[:, 1]),4))\n"
   ]
  },
  {
   "cell_type": "markdown",
   "metadata": {},
   "source": [
    "####  Увеличение выборки в \"Логистической регрессии\""
   ]
  },
  {
   "cell_type": "code",
   "execution_count": 32,
   "metadata": {},
   "outputs": [
    {
     "name": "stdout",
     "output_type": "stream",
     "text": [
      "accuracy: 0.69\n",
      "precision: 0.37\n",
      "recall: 0.69\n",
      "F1-мера: 0.48\n",
      "AUC ROC: 0.75\n",
      "confusion matrix:\n",
      "[[1109  484]\n",
      " [ 127  280]]\n"
     ]
    },
    {
     "data": {
      "image/png": "[encoded data removed]",
      "text/plain": [
       "<Figure size 432x288 with 1 Axes>"
      ]
     },
     "metadata": {
      "needs_background": "light"
     },
     "output_type": "display_data"
    },
    {
     "name": "stdout",
     "output_type": "stream",
     "text": [
      "AUC ROC Логистической регрессии: 0.7542\n"
     ]
    }
   ],
   "source": [
    "log_model = LogisticRegression(random_state=12345, max_iter = 1000, solver='newton-cg', penalty = 'l2')\n",
    "log_model.fit(features_upsampled, target_upsampled)\n",
    "log_predictions = log_model.predict(features_valid)\n",
    "\n",
    "print(\"accuracy:\",round((log_model.score(features_valid,target_valid)),2))\n",
    "print(\"precision:\", round((precision_score(target_valid, log_predictions)),2))\n",
    "print(\"recall:\", round((recall_score(target_valid, log_predictions)),2))\n",
    "print(\"F1-мера:\", round((f1_score(target_valid, log_predictions)),2))\n",
    "print(\"AUC ROC:\", round(roc_auc_score(target_valid, (log_model.predict_proba(features_valid))[:, 1]),2))\n",
    "print(\"confusion matrix:\")\n",
    "print(confusion_matrix(target_valid,log_predictions))\n",
    "\n",
    "\n",
    "fpr, tpr, thresholds = roc_curve(target_valid, log_model.predict_proba(features_valid)[:, 1])\n",
    "plot_roc_curve(fpr, tpr)\n",
    "plt.show()\n",
    "print(\"AUC ROC Логистической регрессии:\", round(roc_auc_score(\n",
    "    target_valid, (log_model.predict_proba(features_valid))[:, 1]),4))"
   ]
  },
  {
   "cell_type": "markdown",
   "metadata": {},
   "source": [
    "<div class=\"alert alert-info\"> <b></b> Устранение дисбаланса классов путем увеличения количества объектов положительного класса также показало F1-меру \"Случайного леса\" 0.59 при том же самом AUC ROC, что и при взвешивании классов  (0.84). \n",
    "    \n",
    "Для моделей \"Дерево решений\" и \"Логистическая регрессия\" устранение дисбаланса указанным способом на F1-меру не повлияло, метрика осталось такой же, что и при взвешиании классов (0.55 и 0.48 соответственно). AUC ROC также не изменилась.  \n",
    "  "
   ]
  },
  {
   "cell_type": "markdown",
   "metadata": {},
   "source": [
    "### Уменьшение выборки"
   ]
  },
  {
   "cell_type": "markdown",
   "metadata": {},
   "source": [
    "Пробуем устранить дисбаланс классов за счет уменьшения количества объектов отрицательного класса техникой downsampling. Создадим функцию downsample"
   ]
  },
  {
   "cell_type": "code",
   "execution_count": 33,
   "metadata": {},
   "outputs": [
    {
     "name": "stdout",
     "output_type": "stream",
     "text": [
      "Размеры выборок после уменьшения отрицательного класса:\n",
      "features_upsampled (2416, 11)\n",
      "target_upsampled (2416,)\n",
      "соотношение классов после увеличения выборки: 0.977\n"
     ]
    }
   ],
   "source": [
    "def downsample(features_train, target_train, fraction):\n",
    "    features_zeros = features_train[target_train == 0]\n",
    "    features_ones = features_train[target_train == 1]\n",
    "    target_zeros = target_train[target_train == 0]\n",
    "    target_ones = target_train[target_train == 1]\n",
    "\n",
    "    features_downsampled = pd.concat(\n",
    "        [features_zeros.sample(frac=fraction, random_state=12345)] + [features_ones])\n",
    "    target_downsampled = pd.concat(\n",
    "        [target_zeros.sample(frac=fraction, random_state=12345)] + [target_ones])\n",
    "    \n",
    "    features_downsampled, target_downsampled = shuffle(\n",
    "        features_downsampled, target_downsampled, random_state=12345)\n",
    "    \n",
    "    return features_downsampled, target_downsampled\n",
    "\n",
    "features_downsampled, target_downsampled = downsample(features_train, target_train, 0.25)\n",
    "\n",
    "print('Размеры выборок после уменьшения отрицательного класса:')\n",
    "print('features_upsampled',features_downsampled.shape)\n",
    "print('target_upsampled', target_downsampled.shape)\n",
    "print('соотношение классов после увеличения выборки:',round(\n",
    "    (target_downsampled[target_downsampled==0].count()/target_downsampled[target_downsampled==1].count()),3))"
   ]
  },
  {
   "cell_type": "markdown",
   "metadata": {},
   "source": [
    "#### Уменьшение выборки в \"Случайном лесе\""
   ]
  },
  {
   "cell_type": "code",
   "execution_count": 34,
   "metadata": {},
   "outputs": [
    {
     "name": "stdout",
     "output_type": "stream",
     "text": [
      "accuracy: 0.77\n",
      "precision: 0.46\n",
      "recall: 0.74\n",
      "F1-мера: 0.57\n",
      "AUC ROC: 0.83\n",
      "confusion matrix:\n",
      "[[1236  357]\n",
      " [ 105  302]]\n"
     ]
    },
    {
     "data": {
      "image/png": "[encoded data removed]",
      "text/plain": [
       "<Figure size 432x288 with 1 Axes>"
      ]
     },
     "metadata": {
      "needs_background": "light"
     },
     "output_type": "display_data"
    },
    {
     "name": "stdout",
     "output_type": "stream",
     "text": [
      "AUC ROC Случайного леса: 0.8343\n"
     ]
    }
   ],
   "source": [
    "forest_model = RandomForestClassifier(random_state=12345, n_estimators = 11, max_depth = 11, min_samples_leaf = 4)\n",
    "forest_model.fit(features_downsampled, target_downsampled)        \n",
    "forest_predictions = forest_model.predict(features_valid)\n",
    "\n",
    "print(\"accuracy:\", round((forest_model.score(features_valid,target_valid)),2))\n",
    "print(\"precision:\", round((precision_score(target_valid, forest_predictions)),2))\n",
    "print(\"recall:\", round((recall_score(target_valid, forest_predictions)),2))\n",
    "print(\"F1-мера:\", round((f1_score(target_valid, forest_predictions)),2))\n",
    "print(\"AUC ROC:\", round(roc_auc_score(target_valid, (forest_model.predict_proba(features_valid))[:, 1]),2))\n",
    "print(\"confusion matrix:\")\n",
    "print(confusion_matrix(target_valid,forest_predictions))\n",
    "\n",
    "fpr, tpr, thresholds = roc_curve(target_valid, forest_model.predict_proba(features_valid)[:, 1]) \n",
    "plot_roc_curve(fpr, tpr)\n",
    "plt.show()\n",
    "print(\"AUC ROC Случайного леса:\", round(roc_auc_score(\n",
    "    target_valid, (forest_model.predict_proba(features_valid))[:, 1]),4))\n",
    "\n",
    "\n",
    "n = ['RF-уменьшен', round((forest_model.score(features_valid,target_valid)),2)\n",
    "     ,round((f1_score(target_valid, forest_predictions)),2)\n",
    "     ,round(roc_auc_score(target_valid, (forest_model.predict_proba(features_valid))[:, 1]),2)]"
   ]
  },
  {
   "cell_type": "markdown",
   "metadata": {},
   "source": [
    "#### Уменьшение выборки в \"Дереве решений\""
   ]
  },
  {
   "cell_type": "code",
   "execution_count": 35,
   "metadata": {},
   "outputs": [
    {
     "name": "stdout",
     "output_type": "stream",
     "text": [
      "Лучшее значение f1 = 0.57 при max_depth = 6 и min_samples_leaf = 3\n"
     ]
    }
   ],
   "source": [
    "best_depth = 0\n",
    "best_f1 = 0\n",
    "best_msl = 0 \n",
    "for depth in range(1, 10):\n",
    "    for msl in range(1, 11,2):\n",
    "        tree_model = DecisionTreeClassifier(random_state=12345, max_depth=depth, min_samples_leaf = msl)\n",
    "        tree_model.fit(features_downsampled, target_downsampled)\n",
    "        tree_predictions = tree_model.predict(features_valid)\n",
    "        result = f1_score(target_valid, tree_predictions)\n",
    "        if result > best_f1:\n",
    "            best_depth = depth\n",
    "            best_msl = msl\n",
    "            best_f1 = result\n",
    "            \n",
    "print(\"Лучшее значение f1 =\", round((best_f1),2), \"при max_depth =\", best_depth, \"и min_samples_leaf =\", best_msl)            \n"
   ]
  },
  {
   "cell_type": "code",
   "execution_count": 36,
   "metadata": {},
   "outputs": [
    {
     "name": "stdout",
     "output_type": "stream",
     "text": [
      "accuracy : 0.77\n",
      "precision: 0.46\n",
      "recall: 0.73\n",
      "F1-мера: 0.57\n",
      "AUC ROC: 0.83\n",
      "confusion matrix:\n",
      "[[1248  345]\n",
      " [ 110  297]]\n"
     ]
    },
    {
     "data": {
      "image/png": "[encoded data removed]",
      "text/plain": [
       "<Figure size 432x288 with 1 Axes>"
      ]
     },
     "metadata": {
      "needs_background": "light"
     },
     "output_type": "display_data"
    },
    {
     "name": "stdout",
     "output_type": "stream",
     "text": [
      "AUC ROC Случайного леса: 0.833\n"
     ]
    }
   ],
   "source": [
    "tree_model = DecisionTreeClassifier(random_state=12345,max_depth=6, min_samples_leaf = 3) \n",
    "tree_model.fit(features_downsampled, target_downsampled)\n",
    "tree_predictions = tree_model.predict(features_valid) \n",
    "\n",
    "print(\"accuracy :\", round((accuracy_score(target_valid, tree_predictions)),2))\n",
    "print(\"precision:\", round((precision_score(target_valid, tree_predictions)),2))\n",
    "print(\"recall:\", round((recall_score(target_valid, tree_predictions)),2))\n",
    "print(\"F1-мера:\", round((f1_score(target_valid, tree_predictions)),2))\n",
    "print(\"AUC ROC:\", round(roc_auc_score(target_valid, (tree_model.predict_proba(features_valid))[:, 1]),2))\n",
    "print(\"confusion matrix:\")\n",
    "print(confusion_matrix(target_valid,tree_predictions))\n",
    "\n",
    "\n",
    "fpr, tpr, thresholds = roc_curve(target_valid, tree_model.predict_proba(features_valid)[:, 1]) \n",
    "plot_roc_curve(fpr, tpr)\n",
    "plt.show()\n",
    "print(\"AUC ROC Случайного леса:\", round(roc_auc_score(\n",
    "    target_valid, (tree_model.predict_proba(features_valid))[:, 1]),4))"
   ]
  },
  {
   "cell_type": "markdown",
   "metadata": {},
   "source": [
    "#### Уменьшение выборки в \"Логистической регрессии\""
   ]
  },
  {
   "cell_type": "code",
   "execution_count": 37,
   "metadata": {},
   "outputs": [
    {
     "name": "stdout",
     "output_type": "stream",
     "text": [
      "accuracy: 0.69\n",
      "precision: 0.37\n",
      "recall: 0.69\n",
      "F1-мера: 0.48\n",
      "AUC ROC: 0.75\n",
      "confusion matrix:\n",
      "[[1108  485]\n",
      " [ 127  280]]\n"
     ]
    },
    {
     "data": {
      "image/png": "[encoded data removed]",
      "text/plain": [
       "<Figure size 432x288 with 1 Axes>"
      ]
     },
     "metadata": {
      "needs_background": "light"
     },
     "output_type": "display_data"
    },
    {
     "name": "stdout",
     "output_type": "stream",
     "text": [
      "AUC ROC Логистической регрессии: 0.7521\n"
     ]
    }
   ],
   "source": [
    "log_model = LogisticRegression(random_state=12345, max_iter = 1000, solver='newton-cg', penalty = 'l2')\n",
    "log_model.fit(features_downsampled, target_downsampled)\n",
    "log_predictions = log_model.predict(features_valid)\n",
    "\n",
    "print(\"accuracy:\",round((log_model.score(features_valid,target_valid)),2))\n",
    "print(\"precision:\", round((precision_score(target_valid, log_predictions)),2))\n",
    "print(\"recall:\", round((recall_score(target_valid, log_predictions)),2))\n",
    "print(\"F1-мера:\", round((f1_score(target_valid, log_predictions)),2))\n",
    "print(\"AUC ROC:\", round(roc_auc_score(target_valid, (log_model.predict_proba(features_valid))[:, 1]),2))\n",
    "print(\"confusion matrix:\")\n",
    "print(confusion_matrix(target_valid,log_predictions))\n",
    "\n",
    "fpr, tpr, thresholds = roc_curve(target_valid, log_model.predict_proba(features_valid)[:, 1])\n",
    "plot_roc_curve(fpr, tpr)\n",
    "plt.show()\n",
    "print(\"AUC ROC Логистической регрессии:\", round(roc_auc_score(\n",
    "    target_valid, (log_model.predict_proba(features_valid))[:, 1]),4))"
   ]
  },
  {
   "cell_type": "markdown",
   "metadata": {},
   "source": [
    "<div class=\"alert alert-info\"> <b></b> Устранение дисбаланса классов путем уменьшения объектов отрицательного класса способствовало увеличению F1-меры \"Дерева решений\" (0.57) при AUC ROC = 0.83.   \n",
    "    \n",
    "Для \"Логистической регрессии\" контрольная метрика не изменилась (0.48) и все еще значительно далека от заданного условия.  \n",
    "    \n",
    "Для \"Случайного леса\" устранение дисбаланса классов указанным способом привело к отрицательному результату: F1-мера опустилась ниже контрольного значения и составила 0.57, немного, но также понизилось значение AUC ROC (0.83).         "
   ]
  },
  {
   "cell_type": "markdown",
   "metadata": {},
   "source": [
    "<div class=\"alert alert-info\"> <b> Вывод:</b> Для устранения дисбаланса классов к каждой из трех моделей (с установленными лучшими гиперпараметрами) были применены методы взвешивания классов аргументом аргументом class_weight, увеличения количества объектов положительного класса техникой upsampling и уменьшения числа объектов отрицательного класса техникой downsampling. Общим для всех моделей является увеличение показателей F1-меры и AUC ROC по сравнению с несбалансированными данными.\n",
    "    \n",
    "Для модели \"Случайный лес\" методами, повысившими F1-меру до необходимого значения (0.59), явились взвешивание классов и увеличение выборки.     \n",
    "\n",
    "\"Дереву решений\" удалось достигнуть максимальной F1-меры = 0.57 при уменьшении выборки при AUC ROC = 83. \n",
    "    \n",
    "Для модели \"Логистическая регрессия\" все три метода устранения дисбаланса классов повлекли практически одинаковый результат - F1-мера значительно повысилась (с 0.29 до 0.48), но достаточно далека от требуемого значения, чтоб принимать во внимание данную модель.\n",
    "    \n",
    "Что касается метрики AUC ROC, то она по сравнению с F1-мерой на всех созданных моделях колеблется незначительно. У \"Случайного леса\" в пределах 0.83-0.85, \"Дерева решений\" - 0.81-0.83, \"Логистической регрессии\" - 0.75. "
   ]
  },
  {
   "cell_type": "markdown",
   "metadata": {},
   "source": [
    "## Тестирование модели"
   ]
  },
  {
   "cell_type": "markdown",
   "metadata": {},
   "source": [
    "Необходимые по условию проекта показатели F1-меры достигнуты у модели \"Случайный лес\" при взвешивании классов (0.59) и увеличении числа объектов положительного класса (0.59).  \n",
    "\n",
    "Проверим на тестовой выборке работу \"Случайного леса\". "
   ]
  },
  {
   "cell_type": "markdown",
   "metadata": {},
   "source": [
    "### Тестируем \"Случайный лес\" "
   ]
  },
  {
   "cell_type": "markdown",
   "metadata": {},
   "source": [
    "Для тестирования модели \"Случайный лес\" при увеличенной выборке, в качестве параметров передаем тестовой модели основные и целевой признаки, полученные в результате работы функции upsample - features_upsampled и target_upsampled. Но перед этим подберем лучшие гиперпараметры с указанными аргументами.   "
   ]
  },
  {
   "cell_type": "markdown",
   "metadata": {},
   "source": [
    "<div class=\"alert alert-info\"> <b> Комментарий студента:</b> В соответствии с рекомендацией подберем лучшие гиперпараметры с указанными аргументами."
   ]
  },
  {
   "cell_type": "code",
   "execution_count": 38,
   "metadata": {},
   "outputs": [
    {
     "name": "stdout",
     "output_type": "stream",
     "text": [
      "Лучшие гиперпараметры для модели 'Случайный лес': {'max_depth': 11, 'min_samples_leaf': 1, 'n_estimators': 41}\n"
     ]
    }
   ],
   "source": [
    "parametrs = { 'n_estimators': range (1, 50, 10),\n",
    "             'min_samples_leaf': range (1,5),\n",
    "             'max_depth': range (1,13, 2)}\n",
    "forest_model = GridSearchCV(RandomForestClassifier(random_state=12345), parametrs, scoring='f1', cv=5)\n",
    "forest_model.fit(features_upsampled, target_upsampled)\n",
    "print(\"Лучшие гиперпараметры для модели 'Случайный лес':\",forest_model.best_params_)"
   ]
  },
  {
   "cell_type": "markdown",
   "metadata": {},
   "source": [
    "<div class=\"alert alert-info\"> <b>Комментарий студента:</b> \"Случайный лес\" с новыми гиперпараметрами показал F1-меру: 0.65. Однако количество ложноотрицательных ответов при этом повысилось до 127, в связи с чем остановимся на гиперпараметрах, найденных в первом варианте проекта:n_estimators = 31, max_depth = 11, min_samples_leaf = 2"
   ]
  },
  {
   "cell_type": "code",
   "execution_count": 39,
   "metadata": {},
   "outputs": [
    {
     "name": "stdout",
     "output_type": "stream",
     "text": [
      "accuracy: 0.84\n",
      "precision: 0.58\n",
      "recall: 0.71\n",
      "F1-мера: 0.64\n",
      "AUC ROC: 0.87\n",
      "confusion matrix:\n",
      "[[1385  207]\n",
      " [ 118  290]]\n"
     ]
    },
    {
     "data": {
      "image/png": "[encoded data removed]",
      "text/plain": [
       "<Figure size 432x288 with 1 Axes>"
      ]
     },
     "metadata": {
      "needs_background": "light"
     },
     "output_type": "display_data"
    },
    {
     "name": "stdout",
     "output_type": "stream",
     "text": [
      "AUC ROC тестовой модели Случайного леса: 0.87\n",
      "CPU times: user 474 ms, sys: 11.9 ms, total: 485 ms\n",
      "Wall time: 540 ms\n"
     ]
    }
   ],
   "source": [
    "%%time\n",
    "forest_test = RandomForestClassifier(random_state=12345,n_estimators = 31, max_depth = 11, min_samples_leaf = 2)\n",
    "forest_test.fit(features_upsampled, target_upsampled)      \n",
    "forest_predictions_test = forest_test.predict(features_test)\n",
    "\n",
    "print(\"accuracy:\", round((forest_test.score(features_test,target_test)),2))\n",
    "print(\"precision:\", round((precision_score(target_test, forest_predictions_test)),2))\n",
    "print(\"recall:\", round((recall_score(target_test, forest_predictions_test)),2))\n",
    "print(\"F1-мера:\", round((f1_score(target_test, forest_predictions_test)),2))\n",
    "print(\"AUC ROC:\", round(roc_auc_score(target_test, (forest_test.predict_proba(features_test))[:, 1]),2))\n",
    "print(\"confusion matrix:\")\n",
    "print(confusion_matrix(target_test ,forest_predictions_test))\n",
    "\n",
    "o = ['RF-тест-увеличен', round((forest_test.score(features_test,target_test)),2)\n",
    "     ,round((f1_score(target_test, forest_predictions_test)),2)\n",
    "     ,round(roc_auc_score(target_test, (forest_test.predict_proba(features_test))[:, 1]),2)]\n",
    "\n",
    "\n",
    "fpr, tpr, thresholds = roc_curve(target_test, forest_test.predict_proba(features_test)[:, 1]) \n",
    "plot_roc_curve(fpr, tpr)\n",
    "plt.show()\n",
    "print(\"AUC ROC тестовой модели Случайного леса:\", round(\n",
    "    roc_auc_score(target_test, (forest_test.predict_proba(features_test))[:, 1]),2))"
   ]
  },
  {
   "cell_type": "markdown",
   "metadata": {},
   "source": [
    "Показатель F1-меры увеличиля до 0.64. "
   ]
  },
  {
   "cell_type": "markdown",
   "metadata": {},
   "source": [
    "<div class=\"alert alert-info\"> <b>Комментарий студента:</b> Тестируем \"Случайный лес\" с применением аргумента class_weight"
   ]
  },
  {
   "cell_type": "code",
   "execution_count": 40,
   "metadata": {},
   "outputs": [
    {
     "name": "stdout",
     "output_type": "stream",
     "text": [
      "accuracy: 0.86\n",
      "precision: 0.65\n",
      "recall: 0.62\n",
      "F1-мера: 0.64\n",
      "AUC ROC: 0.86\n",
      "confusion matrix:\n",
      "[[1457  135]\n",
      " [ 154  254]]\n"
     ]
    },
    {
     "data": {
      "image/png": "[encoded data removed]",
      "text/plain": [
       "<Figure size 432x288 with 1 Axes>"
      ]
     },
     "metadata": {
      "needs_background": "light"
     },
     "output_type": "display_data"
    },
    {
     "name": "stdout",
     "output_type": "stream",
     "text": [
      "AUC ROC тестовой модели Случайного леса: 0.86\n"
     ]
    }
   ],
   "source": [
    "forest_test_weight = RandomForestClassifier(random_state=12345, n_estimators = 41\\\n",
    "                                      , max_depth = 11, min_samples_leaf = 1, class_weight='balanced')\n",
    "forest_test_weight.fit(features_train, target_train) \n",
    "forest_predictions_test_weight = forest_test_weight.predict(features_test)\n",
    "\n",
    "print(\"accuracy:\", round((forest_test_weight.score(features_test,target_test)),2))\n",
    "print(\"precision:\", round((precision_score(target_test, forest_predictions_test_weight)),2))\n",
    "print(\"recall:\", round((recall_score(target_test, forest_predictions_test_weight)),2))\n",
    "print(\"F1-мера:\", round((f1_score(target_test, forest_predictions_test_weight)),2))\n",
    "print(\"AUC ROC:\", round(roc_auc_score(target_test, (forest_test_weight.predict_proba(features_test))[:, 1]),2))\n",
    "print(\"confusion matrix:\")\n",
    "print(confusion_matrix(target_test ,forest_predictions_test_weight))\n",
    "\n",
    "p = ['RF-тест-взвешен', round((forest_test_weight.score(features_test,target_test)),2)\n",
    "     ,round((f1_score(target_test, forest_predictions_test_weight)),2)\n",
    "     ,round(roc_auc_score(target_test, (forest_test_weight.predict_proba(features_test))[:, 1]),2)]\n",
    "\n",
    "\n",
    "fpr, tpr, thresholds = roc_curve(target_test, forest_test_weight.predict_proba(features_test)[:, 1]) \n",
    "plot_roc_curve(fpr, tpr)\n",
    "plt.show()\n",
    "print(\"AUC ROC тестовой модели Случайного леса:\", round(\n",
    "    roc_auc_score(target_test, (forest_test_weight.predict_proba(features_test))[:, 1]),2))"
   ]
  },
  {
   "cell_type": "markdown",
   "metadata": {},
   "source": [
    "Показатель F1-меры также увеличился до 0.64. "
   ]
  },
  {
   "cell_type": "markdown",
   "metadata": {},
   "source": [
    "### Тестируем \"Дерево решений\" "
   ]
  },
  {
   "cell_type": "markdown",
   "metadata": {},
   "source": [
    "Для тестирования модели \"Дерево решений\" при уменьшенной выборке, в качестве параметров передаем тестовой модели основные и целевой признаки, полученные в результате работы функции downsample - features_downsampled и target_downsampled."
   ]
  },
  {
   "cell_type": "code",
   "execution_count": 41,
   "metadata": {},
   "outputs": [
    {
     "name": "stdout",
     "output_type": "stream",
     "text": [
      "accuracy: 0.79\n",
      "precision: 0.49\n",
      "recall: 0.77\n",
      "F1-мера: 0.6\n",
      "AUC ROC: 0.85\n",
      "confusion matrix:\n",
      "[[1260  332]\n",
      " [  94  314]]\n"
     ]
    }
   ],
   "source": [
    "tree_test = DecisionTreeClassifier(random_state=12345,max_depth=6, min_samples_leaf = 3)  \n",
    "tree_test.fit(features_downsampled, target_downsampled)\n",
    "tree_predictions_test = tree_test.predict(features_test) \n",
    "\n",
    "print(\"accuracy:\", round((accuracy_score(target_test, tree_predictions_test)),2))\n",
    "print(\"precision:\", round((precision_score(target_test, tree_predictions_test)),2))\n",
    "print(\"recall:\", round((recall_score(target_test, tree_predictions_test)),2))\n",
    "print(\"F1-мера:\", round((f1_score(target_test, tree_predictions_test)),2))\n",
    "print(\"AUC ROC:\", round(roc_auc_score(target_test, (tree_test.predict_proba(features_test))[:, 1]),2))\n",
    "print(\"confusion matrix:\")\n",
    "print(confusion_matrix(target_test,tree_predictions_test))"
   ]
  },
  {
   "cell_type": "markdown",
   "metadata": {},
   "source": [
    "Показатель F1-меры превысил необходимый по условию проекта и составил 0.60. Однако, в связи с тем, что данная модель на валидационной выборке показала невысокую F1-меру, предлагать ее будет некорректным."
   ]
  },
  {
   "cell_type": "markdown",
   "metadata": {},
   "source": [
    "### Исследование метрик качества \"Случайного леса\" "
   ]
  },
  {
   "cell_type": "markdown",
   "metadata": {},
   "source": [
    "Моделью, отвечающей условию проекта (на тесте достигнута F1-мера = 0.64 ) стал \"Случайный лес\", созданный при увеличении количества объектов положительного класса и при взвешивании классов. Для анализа динамики его метрик в зависимости от способа устранения дисбаланса (а также при наличии дисбаланса) построим датафрейм и график. Метрики аccuracy, F1-меру и AUC ROC мы сохраняли в переменных. "
   ]
  },
  {
   "cell_type": "code",
   "execution_count": 42,
   "metadata": {},
   "outputs": [
    {
     "data": {
      "text/html": [
       "<div>\n",
       "<style scoped>\n",
       "    .dataframe tbody tr th:only-of-type {\n",
       "        vertical-align: middle;\n",
       "    }\n",
       "\n",
       "    .dataframe tbody tr th {\n",
       "        vertical-align: top;\n",
       "    }\n",
       "\n",
       "    .dataframe thead th {\n",
       "        text-align: right;\n",
       "    }\n",
       "</style>\n",
       "<table border=\"1\" class=\"dataframe\">\n",
       "  <thead>\n",
       "    <tr style=\"text-align: right;\">\n",
       "      <th></th>\n",
       "      <th>AUC ROC</th>\n",
       "      <th>Accuracy</th>\n",
       "      <th>F1-мера</th>\n",
       "    </tr>\n",
       "    <tr>\n",
       "      <th>FS_model</th>\n",
       "      <th></th>\n",
       "      <th></th>\n",
       "      <th></th>\n",
       "    </tr>\n",
       "  </thead>\n",
       "  <tbody>\n",
       "    <tr>\n",
       "      <th>RF-взвешенный</th>\n",
       "      <td>0.84</td>\n",
       "      <td>0.83</td>\n",
       "      <td>0.59</td>\n",
       "    </tr>\n",
       "    <tr>\n",
       "      <th>RF-дисбаланс</th>\n",
       "      <td>0.85</td>\n",
       "      <td>0.85</td>\n",
       "      <td>0.55</td>\n",
       "    </tr>\n",
       "    <tr>\n",
       "      <th>RF-тест-взвешен</th>\n",
       "      <td>0.86</td>\n",
       "      <td>0.86</td>\n",
       "      <td>0.64</td>\n",
       "    </tr>\n",
       "    <tr>\n",
       "      <th>RF-тест-увеличен</th>\n",
       "      <td>0.87</td>\n",
       "      <td>0.84</td>\n",
       "      <td>0.64</td>\n",
       "    </tr>\n",
       "    <tr>\n",
       "      <th>RF-увеличен</th>\n",
       "      <td>0.84</td>\n",
       "      <td>0.81</td>\n",
       "      <td>0.59</td>\n",
       "    </tr>\n",
       "    <tr>\n",
       "      <th>RF-уменьшен</th>\n",
       "      <td>0.83</td>\n",
       "      <td>0.77</td>\n",
       "      <td>0.57</td>\n",
       "    </tr>\n",
       "  </tbody>\n",
       "</table>\n",
       "</div>"
      ],
      "text/plain": [
       "                  AUC ROC  Accuracy  F1-мера\n",
       "FS_model                                    \n",
       "RF-взвешенный        0.84      0.83     0.59\n",
       "RF-дисбаланс         0.85      0.85     0.55\n",
       "RF-тест-взвешен      0.86      0.86     0.64\n",
       "RF-тест-увеличен     0.87      0.84     0.64\n",
       "RF-увеличен          0.84      0.81     0.59\n",
       "RF-уменьшен          0.83      0.77     0.57"
      ]
     },
     "metadata": {},
     "output_type": "display_data"
    },
    {
     "data": {
      "image/png": "[encoded data removed]",
      "text/plain": [
       "<Figure size 1080x360 with 1 Axes>"
      ]
     },
     "metadata": {
      "needs_background": "light"
     },
     "output_type": "display_data"
    }
   ],
   "source": [
    "w = pd.DataFrame(data = [k, l, m, n, o, p],columns = ['FS_model', 'Accuracy','F1-мера', 'AUC ROC'])\n",
    "w = w.pivot_table(index='FS_model', values=['Accuracy','F1-мера', 'AUC ROC'])\n",
    "display(w)\n",
    "ax = w.plot(grid=True, kind='bar', title='Метрики \"Случайного леса\"', figsize=(15, 5))"
   ]
  },
  {
   "cell_type": "markdown",
   "metadata": {},
   "source": [
    "<div class=\"alert alert-info\"> <b> </b>На построенных нами моделях \"Случайного леса\" динамика F1-меры колеблется от 0.55 (при дисбалансе классов) до 0.64 (на увеличении выборки и взвешивании классов). При этом показатель AUC ROC колеблется меньше - от 0.83 (на туменьшенной  выборке) до 0.87 (на тесте при увеличении выборки).  \n",
    "\n",
    "Динамика accuracy подтвердила факт того, что в условиях дисбаланса классов не является показательной мерой. В \"Случайном лесе\" при самом низкой F1-мере (0.57) accuracy не является наименьшей. "
   ]
  },
  {
   "cell_type": "markdown",
   "metadata": {},
   "source": [
    "<div class=\"alert alert-info\"> <b> </b> Также стоит обратить внимание на такую метрику как confusion matrix, которую мы выводили при построении всех моделей. \n",
    "    Мы строим модель, предсказывающую вероятность ухода клиента из банка. В имеющихся данных факт ухода - целевой признак, в котором положительный класс 1 означает, что клиент ушел из банка,на самом деле является негативным показателем работы банка. Отрицательный класс 0 означает, что клиент из банка не ушел, что является позитивным показателем для банка.\n",
    "\n",
    "В указанной связи более значимой для банка ошибкой предсказаний модели будет больший показатель ложноотрицательных ответов: модель предскажет, что клиент из банка не уйдет, а в действительности банк \"потеряет\" данного клиента. Показатель ложноположительных ответов (модель предскажет уход клиента, на самом деле клиент останется) не станет неприятной неожиданностью для банка, скорее наоборот: готовься к худшему, а лучшее придет само.\n",
    "\n",
    "В нашем конкретном случае при исследовании метрик качества модели более приемлемой должна быть та, в которой при прочих равных матрица ошибок покажет наименьшее число ложноотрицательных ответов. Правильное предсказание возможного ухода клиента из банка поможет своевременно с ним поработать (предложить какие-либо специальные банковские продукты, бонусы и др.) и предотвратить уход.\n",
    "    \n",
    "В этой связи сопоставим матрицы ошибок тестовых моделей \"Случайного леса\", которые визуализируем. Также визуализируем AUC ROC.  \n"
   ]
  },
  {
   "cell_type": "code",
   "execution_count": 43,
   "metadata": {},
   "outputs": [
    {
     "name": "stdout",
     "output_type": "stream",
     "text": [
      "Confusion matrix, without normalization\n",
      "[[1385  207]\n",
      " [ 118  290]]\n"
     ]
    },
    {
     "data": {
      "image/png": "[encoded data removed]",
      "text/plain": [
       "<Figure size 432x288 with 2 Axes>"
      ]
     },
     "metadata": {
      "needs_background": "light"
     },
     "output_type": "display_data"
    },
    {
     "name": "stdout",
     "output_type": "stream",
     "text": [
      "Confusion matrix, without normalization\n",
      "[[1457  135]\n",
      " [ 154  254]]\n"
     ]
    },
    {
     "data": {
      "image/png": "[encoded data removed]",
      "text/plain": [
       "<Figure size 432x288 with 2 Axes>"
      ]
     },
     "metadata": {
      "needs_background": "light"
     },
     "output_type": "display_data"
    }
   ],
   "source": [
    "def plot_confusion_matrix(cm, classes,\n",
    "                          normalize=False,\n",
    "                          title='Confusion matrix',\n",
    "                          cmap=plt.cm.Blues):\n",
    "    \"\"\"\n",
    "    This function prints and plots the confusion matrix.\n",
    "    Normalization can be applied by setting `normalize=True`.\n",
    "    \"\"\"\n",
    "    plt.imshow(cm, interpolation='nearest', cmap=cmap)\n",
    "    plt.title(title)\n",
    "    plt.colorbar()\n",
    "    tick_marks = np.arange(len(classes))\n",
    "    plt.xticks(tick_marks, classes, rotation=45)\n",
    "    plt.yticks(tick_marks, classes)\n",
    "\n",
    "    if normalize:\n",
    "        cm = cm.astype('float') / cm.sum(axis=1)[:, np.newaxis]\n",
    "        print(\"Normalized confusion matrix\")\n",
    "    else:\n",
    "        print('Confusion matrix, without normalization')\n",
    "\n",
    "    print(cm)\n",
    "\n",
    "    thresh = cm.max() / 2.\n",
    "    for i, j in itertools.product(range(cm.shape[0]), range(cm.shape[1])):\n",
    "        plt.text(j, i, cm[i, j],\n",
    "                 horizontalalignment=\"center\",\n",
    "                 color=\"white\" if cm[i, j] > thresh else \"black\")\n",
    "\n",
    "    plt.tight_layout()\n",
    "    plt.ylabel('True label')\n",
    "    plt.xlabel('Predicted label')\n",
    "\n",
    "font = {'size' : 15}\n",
    "\n",
    "plt.rc('font', **font)\n",
    "\n",
    "cnf_matrix = confusion_matrix(target_test ,forest_predictions_test)\n",
    "plt.figure()\n",
    "plot_confusion_matrix(cnf_matrix, classes=['0', '1'],\n",
    "                      title='Confusion matrix forest_test')\n",
    "plt.savefig(\"conf_matrix.png\")\n",
    "plt.show()\n",
    "\n",
    "\n",
    "cnf_matrix = confusion_matrix(target_test ,forest_predictions_test_weight)\n",
    "plt.figure()\n",
    "plot_confusion_matrix(cnf_matrix, classes=['0', '1'],\n",
    "                      title='Confusion matrix forest_test_weight')\n",
    "plt.savefig(\"conf_matrix.png\")\n",
    "plt.show()"
   ]
  },
  {
   "cell_type": "markdown",
   "metadata": {},
   "source": [
    "<div class=\"alert alert-info\"> <b> </b> Матрица ошибок показывает, что более предпочтительной является модель \"Случайного леса\", обученная на выборке при увеличении объектов положительного класса. Количество ложноотрицательных ответов данной модели на тестовой выборке составило 118, что гораздо меньше 154, предсказанных \"взвешенным\" \"Случайным лесом\"."
   ]
  },
  {
   "cell_type": "markdown",
   "metadata": {},
   "source": [
    "<div class=\"alert alert-info\"> <b> Вывод:</b> Моделью, отвечающей условию проекта (на тесте достигнута F1-мера = 0.64 ) стал \"Случайный лес\", созданный при увеличении количества объектов положительного класса, а также при взвешивании классов. \n",
    "На построенных нами моделях \"Случайного леса\" динамика F1-меры колеблется от 0.55 (при дисбалансе классов) до 0.64 (на увеличении выборки и взвешивании классов). При этом показатель AUC ROC колеблется меньше - от 0.83 (на туменьшенной выборке) до 0.87 (на тесте при увеличении выборки).   \n",
    "    \n",
    "При этом нельзя проигнорировать матрицу ошибок, которая показывает, что более предпочтительной является модель \"Случайного леса\", обученная на выборке при увеличении объектов положительного класса. Количество ложноотрицательных ответов данной модели на тестовой выборке составило 118, что гораздо меньше 154, предсказанных \"взвешенным\" \"Случайным лесом\".\n",
    "    \n",
    "В нашем проекте факт ухода клиента из банка - целевой признак, в котором положительный класс 1 означает, что клиент ушел из банка и является негативным показателем работы банка. Отрицательный класс 0 означает, что клиент из банка не ушел, что является позитивным показателем для банка.\n",
    "В указанной связи более значимой для банка ошибкой предсказаний модели будет больший показатель ложноотрицательных ответов: модель предскажет, что клиент из банка не уйдет, а в действительности банк \"потеряет\" данного клиента. \n",
    "\n",
    "В нашем конкретном случае при исследовании метрик качества модели более приемлемой должна быть та, в которой при прочих равных матрица ошибок покажет наименьшее число ложноотрицательных ответов. Правильное предсказание возможного ухода клиента из банка поможет своевременно с ним поработать (предложить какие-либо специальные банковские продукты, бонусы и др.) и предотвратить уход.\n",
    "\n",
    "В этой связи более предпочтительной является модель\"Случайный лес\", обученная при увеличении числа объектов положительного класса, показавшая на тесте  с гиперпараметрами n_estimators = 31, max_depth = 11, min_samples_leaf = 2 F1-меру = 0.64, AUC ROC: 0.87 и количество ложноотрицательных ответов -118.  \n",
    "    "
   ]
  },
  {
   "cell_type": "markdown",
   "metadata": {},
   "source": [
    "<div class=\"alert alert-info\"> <b> Общий вывод:</b> В соответствии с целью проекта мы создали системы, способные проанализировать поведение клиентов «Бета-Банка» и спрогнозировать их отток из банка, путем построения моделей машинного обучения типов \"Случайный лес\", \"Дерево решений\" и \"Логистическая регрессия\". \n",
    "    \n",
    "    \n",
    "Модели построены на основе данных «Бета-Банка», которые мы предварительно обработали:привели наименования столбцов к общепринятому формату,в столбце 'tenure' устранили пропуски, заменив их медианными значениями, удалили столбцы 'surname', 'row_number' и 'customer_id' как представляющие для нашей задачи фиктивные признаки,проконтролировали отсутствие дубликатов. \n",
    "    \n",
    "По мере исследования задачи преобразовали категориальные признаки 'geography' и 'gender' в численные методом прямого кодирования (OHE) get_dummies() с аргументом drop_first=True, масштабировали признаки 'credit_score', 'age', 'tenure', 'balance', 'estimated_salary'. \n",
    "    \n",
    "    \n",
    "Исходный датасет был разделен на учебную, валидационную и тестовую выборки, на которых модели соответственно были созданы и обучены, проверены и протестированы. Изучением баланса классов установлено, что в исходном датасете и на всех выборках число объектов отрицательного класса в четыре раза больше объектов положительного класса. \n",
    "    \n",
    "    \n",
    "При дисбалансе классов построили модели \"Случайный лес\", \"Дерево решений\", \"Логистическая регрессия\" с гиперпараметрами, при которых F1-мера имеет наивысший показатель. Лучшие гиперпараметры найдены для модели 'Случайный лес': max_depth = 11, min_samples_leaf = 4, n_estimators = 11, модели \"Дерево решений\": max_depth = 7 и min_samples_leaf = 5, модели \"Логистическая регрессия\": max_iter = 1000, solver: newton-cg.Однако ни в одной из них F1-мера не достигла заданного условием проекта значения (0.59).\n",
    "\n",
    "Для устранения дисбаланса классов к каждой из трех моделей (с установленными лучшими гиперпараметрами) были применены методы взвешивания классов аргументом class_weight, увеличения количества объектов положительного класса техникой upsampling и уменьшения числа объектов отрицательного класса техникой downsampling, что привело к увеличение значений F1-меры и AUC ROC по сравнению с несбалансированными данными.\n",
    "    \n",
    "Для модели \"Случайный лес\" методами, повысившими F1-меру до необходимого значения (0.59), явились взвешивание классов и увеличение выборки. Иным моделям не удалось достичь F1-меры, позволяющей принять их во внимание.\n",
    "\n",
    "    \n",
    "Моделью, отвечающей условию проекта стал \"Случайный лес\", созданный при увеличении количества объектов положительного класса, показавший (на тесте с гиперпараметрами n_estimators = 31, max_depth = 11, min_samples_leaf = 2) F1-меру = 0.64, AUC ROC: 0.87 и количество ложноотрицательных ответов -118.\n",
    "    \n"
   ]
  },
  {
   "cell_type": "markdown",
   "metadata": {},
   "source": [
    "## Чек-лист готовности проекта"
   ]
  },
  {
   "cell_type": "markdown",
   "metadata": {},
   "source": [
    "Поставьте 'x' в выполненных пунктах. Далее нажмите Shift+Enter."
   ]
  },
  {
   "cell_type": "markdown",
   "metadata": {},
   "source": [
    "- [x]  Jupyter Notebook открыт\n",
    "- [x]  Весь код выполняется без ошибок\n",
    "- [x]  Ячейки с кодом расположены в порядке исполнения\n",
    "- [x]  Выполнен шаг 1: данные подготовлены\n",
    "- [x]  Выполнен шаг 2: задача исследована\n",
    "    - [x]  Исследован баланс классов\n",
    "    - [x]  Изучены модели без учёта дисбаланса\n",
    "    - [x]  Написаны выводы по результатам исследования\n",
    "- [x]  Выполнен шаг 3: учтён дисбаланс\n",
    "    - [x]  Применено несколько способов борьбы с дисбалансом\n",
    "    - [x]  Написаны выводы по результатам исследования\n",
    "- [x]  Выполнен шаг 4: проведено тестирование\n",
    "- [x]  Удалось достичь *F1*-меры не менее 0.59\n",
    "- [x]  Исследована метрика *AUC-ROC*"
   ]
  }
 ],
 "metadata": {
  "ExecuteTimeLog": [
   {
    "duration": 3,
    "start_time": "2022-08-19T07:58:19.496Z"
   },
   {
    "duration": 40,
    "start_time": "2022-08-19T07:58:48.262Z"
   },
   {
    "duration": 37,
    "start_time": "2022-08-19T07:59:06.748Z"
   },
   {
    "duration": 40,
    "start_time": "2022-08-19T08:11:17.504Z"
   },
   {
    "duration": 23,
    "start_time": "2022-08-19T08:11:25.471Z"
   },
   {
    "duration": 45,
    "start_time": "2022-08-19T08:11:56.136Z"
   },
   {
    "duration": 27,
    "start_time": "2022-08-19T08:11:57.970Z"
   },
   {
    "duration": 50,
    "start_time": "2022-08-19T10:28:06.822Z"
   },
   {
    "duration": 1369,
    "start_time": "2022-08-19T10:28:14.706Z"
   },
   {
    "duration": 82,
    "start_time": "2022-08-19T10:28:16.078Z"
   },
   {
    "duration": 35,
    "start_time": "2022-08-19T10:28:16.162Z"
   },
   {
    "duration": 7,
    "start_time": "2022-08-19T10:28:16.198Z"
   },
   {
    "duration": 6,
    "start_time": "2022-08-19T10:29:14.888Z"
   },
   {
    "duration": 3,
    "start_time": "2022-08-19T10:29:29.053Z"
   },
   {
    "duration": 6,
    "start_time": "2022-08-19T10:30:35.533Z"
   },
   {
    "duration": 9,
    "start_time": "2022-08-19T10:31:12.235Z"
   },
   {
    "duration": 8,
    "start_time": "2022-08-19T10:31:56.468Z"
   },
   {
    "duration": 11,
    "start_time": "2022-08-19T10:32:31.198Z"
   },
   {
    "duration": 11,
    "start_time": "2022-08-19T10:33:24.541Z"
   },
   {
    "duration": 12,
    "start_time": "2022-08-19T10:33:56.553Z"
   },
   {
    "duration": 13,
    "start_time": "2022-08-19T10:34:35.348Z"
   },
   {
    "duration": 13,
    "start_time": "2022-08-19T10:36:14.674Z"
   },
   {
    "duration": 14,
    "start_time": "2022-08-19T10:37:06.224Z"
   },
   {
    "duration": 13,
    "start_time": "2022-08-19T10:38:00.479Z"
   },
   {
    "duration": 18,
    "start_time": "2022-08-19T10:38:52.144Z"
   },
   {
    "duration": 21,
    "start_time": "2022-08-19T10:39:41.793Z"
   },
   {
    "duration": 17,
    "start_time": "2022-08-19T10:40:18.324Z"
   },
   {
    "duration": 71,
    "start_time": "2022-08-19T10:45:20.757Z"
   },
   {
    "duration": 56,
    "start_time": "2022-08-19T10:45:26.837Z"
   },
   {
    "duration": 11,
    "start_time": "2022-08-19T10:47:58.348Z"
   },
   {
    "duration": 7,
    "start_time": "2022-08-19T10:51:32.939Z"
   },
   {
    "duration": 6,
    "start_time": "2022-08-19T10:52:42.802Z"
   },
   {
    "duration": 6,
    "start_time": "2022-08-19T10:54:44.017Z"
   },
   {
    "duration": 9,
    "start_time": "2022-08-19T11:04:22.898Z"
   },
   {
    "duration": 1521,
    "start_time": "2022-08-21T12:39:55.295Z"
   },
   {
    "duration": 79,
    "start_time": "2022-08-21T12:39:56.818Z"
   },
   {
    "duration": 30,
    "start_time": "2022-08-21T12:39:56.899Z"
   },
   {
    "duration": 35,
    "start_time": "2022-08-21T12:39:56.930Z"
   },
   {
    "duration": 20,
    "start_time": "2022-08-21T12:39:56.967Z"
   },
   {
    "duration": 46,
    "start_time": "2022-08-21T12:39:56.988Z"
   },
   {
    "duration": 30,
    "start_time": "2022-08-21T12:43:00.905Z"
   },
   {
    "duration": 26,
    "start_time": "2022-08-21T12:45:02.581Z"
   },
   {
    "duration": 23,
    "start_time": "2022-08-21T12:45:42.698Z"
   },
   {
    "duration": 5,
    "start_time": "2022-08-21T12:45:57.519Z"
   },
   {
    "duration": 43,
    "start_time": "2022-08-21T12:45:57.526Z"
   },
   {
    "duration": 21,
    "start_time": "2022-08-21T12:45:57.570Z"
   },
   {
    "duration": 20,
    "start_time": "2022-08-21T12:45:57.592Z"
   },
   {
    "duration": 14,
    "start_time": "2022-08-21T12:45:57.614Z"
   },
   {
    "duration": 5,
    "start_time": "2022-08-21T12:45:57.629Z"
   },
   {
    "duration": 11,
    "start_time": "2022-08-21T12:45:57.636Z"
   },
   {
    "duration": 3,
    "start_time": "2022-08-21T12:46:30.947Z"
   },
   {
    "duration": 4,
    "start_time": "2022-08-21T12:58:01.308Z"
   },
   {
    "duration": 3,
    "start_time": "2022-08-21T13:01:41.373Z"
   },
   {
    "duration": 5,
    "start_time": "2022-08-21T13:01:56.912Z"
   },
   {
    "duration": 4,
    "start_time": "2022-08-21T13:02:29.744Z"
   },
   {
    "duration": 12,
    "start_time": "2022-08-21T13:02:45.315Z"
   },
   {
    "duration": 10,
    "start_time": "2022-08-21T13:02:54.482Z"
   },
   {
    "duration": 129,
    "start_time": "2022-08-21T13:06:00.720Z"
   },
   {
    "duration": 5,
    "start_time": "2022-08-21T13:13:36.297Z"
   },
   {
    "duration": 4,
    "start_time": "2022-08-21T13:17:29.917Z"
   },
   {
    "duration": 42,
    "start_time": "2022-08-21T13:17:29.923Z"
   },
   {
    "duration": 22,
    "start_time": "2022-08-21T13:17:29.967Z"
   },
   {
    "duration": 4,
    "start_time": "2022-08-21T13:17:29.991Z"
   },
   {
    "duration": 26,
    "start_time": "2022-08-21T13:17:29.997Z"
   },
   {
    "duration": 19,
    "start_time": "2022-08-21T13:17:30.025Z"
   },
   {
    "duration": 1065,
    "start_time": "2022-08-21T13:17:30.046Z"
   },
   {
    "duration": 0,
    "start_time": "2022-08-21T13:17:31.112Z"
   },
   {
    "duration": 0,
    "start_time": "2022-08-21T13:17:31.113Z"
   },
   {
    "duration": 0,
    "start_time": "2022-08-21T13:17:31.114Z"
   },
   {
    "duration": 5,
    "start_time": "2022-08-21T13:18:34.685Z"
   },
   {
    "duration": 41,
    "start_time": "2022-08-21T13:18:34.692Z"
   },
   {
    "duration": 19,
    "start_time": "2022-08-21T13:18:34.734Z"
   },
   {
    "duration": 4,
    "start_time": "2022-08-21T13:18:34.754Z"
   },
   {
    "duration": 15,
    "start_time": "2022-08-21T13:18:34.759Z"
   },
   {
    "duration": 5,
    "start_time": "2022-08-21T13:18:34.776Z"
   },
   {
    "duration": 783,
    "start_time": "2022-08-21T13:18:34.783Z"
   },
   {
    "duration": 0,
    "start_time": "2022-08-21T13:18:35.567Z"
   },
   {
    "duration": 0,
    "start_time": "2022-08-21T13:18:35.568Z"
   },
   {
    "duration": 6,
    "start_time": "2022-08-21T13:19:01.621Z"
   },
   {
    "duration": 78,
    "start_time": "2022-08-21T13:19:01.629Z"
   },
   {
    "duration": 23,
    "start_time": "2022-08-21T13:19:01.709Z"
   },
   {
    "duration": 13,
    "start_time": "2022-08-21T13:19:01.734Z"
   },
   {
    "duration": 63,
    "start_time": "2022-08-21T13:19:01.749Z"
   },
   {
    "duration": 9,
    "start_time": "2022-08-21T13:19:01.814Z"
   },
   {
    "duration": 17,
    "start_time": "2022-08-21T13:19:01.824Z"
   },
   {
    "duration": 18,
    "start_time": "2022-08-21T13:19:01.842Z"
   },
   {
    "duration": 5,
    "start_time": "2022-08-21T13:21:30.736Z"
   },
   {
    "duration": 6,
    "start_time": "2022-08-21T13:21:44.280Z"
   },
   {
    "duration": 52,
    "start_time": "2022-08-21T13:22:17.377Z"
   },
   {
    "duration": 6,
    "start_time": "2022-08-21T13:22:23.950Z"
   },
   {
    "duration": 48,
    "start_time": "2022-08-21T13:31:46.553Z"
   },
   {
    "duration": 3,
    "start_time": "2022-08-21T13:32:58.436Z"
   },
   {
    "duration": 5,
    "start_time": "2022-08-21T13:33:00.847Z"
   },
   {
    "duration": 8,
    "start_time": "2022-08-21T13:33:27.333Z"
   },
   {
    "duration": 4,
    "start_time": "2022-08-21T13:34:34.945Z"
   },
   {
    "duration": 49,
    "start_time": "2022-08-21T13:34:34.950Z"
   },
   {
    "duration": 26,
    "start_time": "2022-08-21T13:34:35.001Z"
   },
   {
    "duration": 4,
    "start_time": "2022-08-21T13:34:35.028Z"
   },
   {
    "duration": 16,
    "start_time": "2022-08-21T13:34:35.034Z"
   },
   {
    "duration": 10,
    "start_time": "2022-08-21T13:34:35.051Z"
   },
   {
    "duration": 7,
    "start_time": "2022-08-21T13:34:35.062Z"
   },
   {
    "duration": 10,
    "start_time": "2022-08-21T13:34:35.070Z"
   },
   {
    "duration": 8,
    "start_time": "2022-08-21T13:37:57.796Z"
   },
   {
    "duration": 4,
    "start_time": "2022-08-21T13:38:08.517Z"
   },
   {
    "duration": 14,
    "start_time": "2022-08-21T14:01:50.767Z"
   },
   {
    "duration": 12,
    "start_time": "2022-08-21T14:02:01.932Z"
   },
   {
    "duration": 4,
    "start_time": "2022-08-21T14:02:26.194Z"
   },
   {
    "duration": 46,
    "start_time": "2022-08-21T14:02:26.200Z"
   },
   {
    "duration": 24,
    "start_time": "2022-08-21T14:02:26.248Z"
   },
   {
    "duration": 3,
    "start_time": "2022-08-21T14:02:26.273Z"
   },
   {
    "duration": 12,
    "start_time": "2022-08-21T14:02:26.277Z"
   },
   {
    "duration": 8,
    "start_time": "2022-08-21T14:02:26.291Z"
   },
   {
    "duration": 6,
    "start_time": "2022-08-21T14:02:26.301Z"
   },
   {
    "duration": 13,
    "start_time": "2022-08-21T14:02:26.313Z"
   },
   {
    "duration": 15,
    "start_time": "2022-08-21T14:02:26.327Z"
   },
   {
    "duration": 6,
    "start_time": "2022-08-21T14:04:50.628Z"
   },
   {
    "duration": 3,
    "start_time": "2022-08-21T14:05:23.092Z"
   },
   {
    "duration": 1449,
    "start_time": "2022-08-22T04:16:50.751Z"
   },
   {
    "duration": 97,
    "start_time": "2022-08-22T04:16:52.205Z"
   },
   {
    "duration": 30,
    "start_time": "2022-08-22T04:16:52.304Z"
   },
   {
    "duration": 3,
    "start_time": "2022-08-22T04:16:52.335Z"
   },
   {
    "duration": 13,
    "start_time": "2022-08-22T04:16:52.340Z"
   },
   {
    "duration": 7,
    "start_time": "2022-08-22T04:16:52.354Z"
   },
   {
    "duration": 8,
    "start_time": "2022-08-22T04:16:52.362Z"
   },
   {
    "duration": 32,
    "start_time": "2022-08-22T04:16:52.371Z"
   },
   {
    "duration": 8,
    "start_time": "2022-08-22T04:16:52.404Z"
   },
   {
    "duration": 2,
    "start_time": "2022-08-22T04:16:52.413Z"
   },
   {
    "duration": 117,
    "start_time": "2022-08-22T04:19:57.177Z"
   },
   {
    "duration": 4,
    "start_time": "2022-08-22T04:20:22.553Z"
   },
   {
    "duration": 46,
    "start_time": "2022-08-22T04:20:22.559Z"
   },
   {
    "duration": 20,
    "start_time": "2022-08-22T04:20:22.606Z"
   },
   {
    "duration": 12,
    "start_time": "2022-08-22T04:20:22.627Z"
   },
   {
    "duration": 14,
    "start_time": "2022-08-22T04:20:22.641Z"
   },
   {
    "duration": 6,
    "start_time": "2022-08-22T04:20:22.657Z"
   },
   {
    "duration": 6,
    "start_time": "2022-08-22T04:20:22.664Z"
   },
   {
    "duration": 35,
    "start_time": "2022-08-22T04:20:22.672Z"
   },
   {
    "duration": 7,
    "start_time": "2022-08-22T04:20:22.708Z"
   },
   {
    "duration": 3,
    "start_time": "2022-08-22T04:20:22.716Z"
   },
   {
    "duration": 46,
    "start_time": "2022-08-22T04:20:22.720Z"
   },
   {
    "duration": 6,
    "start_time": "2022-08-22T04:32:23.105Z"
   },
   {
    "duration": 8,
    "start_time": "2022-08-22T04:32:59.547Z"
   },
   {
    "duration": 2,
    "start_time": "2022-08-22T04:38:48.303Z"
   },
   {
    "duration": 4,
    "start_time": "2022-08-22T04:38:50.892Z"
   },
   {
    "duration": 17,
    "start_time": "2022-08-22T04:38:50.897Z"
   },
   {
    "duration": 49,
    "start_time": "2022-08-22T04:38:50.915Z"
   },
   {
    "duration": 20,
    "start_time": "2022-08-22T04:38:50.965Z"
   },
   {
    "duration": 10,
    "start_time": "2022-08-22T04:38:50.987Z"
   },
   {
    "duration": 11,
    "start_time": "2022-08-22T04:38:50.998Z"
   },
   {
    "duration": 9,
    "start_time": "2022-08-22T04:38:51.010Z"
   },
   {
    "duration": 12,
    "start_time": "2022-08-22T04:38:51.020Z"
   },
   {
    "duration": 31,
    "start_time": "2022-08-22T04:38:51.034Z"
   },
   {
    "duration": 7,
    "start_time": "2022-08-22T04:38:51.067Z"
   },
   {
    "duration": 5,
    "start_time": "2022-08-22T04:38:51.076Z"
   },
   {
    "duration": 18,
    "start_time": "2022-08-22T04:38:51.083Z"
   },
   {
    "duration": 17,
    "start_time": "2022-08-22T04:38:51.103Z"
   },
   {
    "duration": 38,
    "start_time": "2022-08-22T04:40:22.605Z"
   },
   {
    "duration": 47,
    "start_time": "2022-08-22T04:41:26.516Z"
   },
   {
    "duration": 6,
    "start_time": "2022-08-22T04:42:26.711Z"
   },
   {
    "duration": 49,
    "start_time": "2022-08-22T04:42:50.970Z"
   },
   {
    "duration": 5,
    "start_time": "2022-08-22T04:42:59.640Z"
   },
   {
    "duration": 6,
    "start_time": "2022-08-22T04:43:34.749Z"
   },
   {
    "duration": 4,
    "start_time": "2022-08-22T04:43:49.218Z"
   },
   {
    "duration": 5,
    "start_time": "2022-08-22T04:43:49.224Z"
   },
   {
    "duration": 41,
    "start_time": "2022-08-22T04:43:49.230Z"
   },
   {
    "duration": 21,
    "start_time": "2022-08-22T04:43:49.272Z"
   },
   {
    "duration": 4,
    "start_time": "2022-08-22T04:43:49.294Z"
   },
   {
    "duration": 9,
    "start_time": "2022-08-22T04:43:49.300Z"
   },
   {
    "duration": 8,
    "start_time": "2022-08-22T04:43:49.311Z"
   },
   {
    "duration": 11,
    "start_time": "2022-08-22T04:43:49.320Z"
   },
   {
    "duration": 21,
    "start_time": "2022-08-22T04:43:49.332Z"
   },
   {
    "duration": 11,
    "start_time": "2022-08-22T04:43:49.355Z"
   },
   {
    "duration": 30,
    "start_time": "2022-08-22T04:43:49.368Z"
   },
   {
    "duration": 7,
    "start_time": "2022-08-22T04:43:49.400Z"
   },
   {
    "duration": 11,
    "start_time": "2022-08-22T04:43:49.409Z"
   },
   {
    "duration": 56,
    "start_time": "2022-08-22T04:43:49.423Z"
   },
   {
    "duration": 19,
    "start_time": "2022-08-22T04:43:49.480Z"
   },
   {
    "duration": 5,
    "start_time": "2022-08-22T04:43:49.500Z"
   },
   {
    "duration": 16,
    "start_time": "2022-08-22T04:50:48.568Z"
   },
   {
    "duration": 5,
    "start_time": "2022-08-22T04:50:59.683Z"
   },
   {
    "duration": 5,
    "start_time": "2022-08-22T04:50:59.690Z"
   },
   {
    "duration": 45,
    "start_time": "2022-08-22T04:50:59.696Z"
   },
   {
    "duration": 24,
    "start_time": "2022-08-22T04:50:59.743Z"
   },
   {
    "duration": 5,
    "start_time": "2022-08-22T04:50:59.769Z"
   },
   {
    "duration": 11,
    "start_time": "2022-08-22T04:50:59.775Z"
   },
   {
    "duration": 8,
    "start_time": "2022-08-22T04:50:59.788Z"
   },
   {
    "duration": 7,
    "start_time": "2022-08-22T04:50:59.798Z"
   },
   {
    "duration": 21,
    "start_time": "2022-08-22T04:50:59.806Z"
   },
   {
    "duration": 8,
    "start_time": "2022-08-22T04:50:59.828Z"
   },
   {
    "duration": 2,
    "start_time": "2022-08-22T04:50:59.837Z"
   },
   {
    "duration": 13,
    "start_time": "2022-08-22T04:50:59.840Z"
   },
   {
    "duration": 6,
    "start_time": "2022-08-22T04:50:59.854Z"
   },
   {
    "duration": 41,
    "start_time": "2022-08-22T04:50:59.862Z"
   },
   {
    "duration": 49,
    "start_time": "2022-08-22T04:50:59.904Z"
   },
   {
    "duration": 6,
    "start_time": "2022-08-22T04:50:59.955Z"
   },
   {
    "duration": 15,
    "start_time": "2022-08-22T04:50:59.962Z"
   },
   {
    "duration": 76,
    "start_time": "2022-08-22T04:50:59.979Z"
   },
   {
    "duration": 14,
    "start_time": "2022-08-22T04:52:26.423Z"
   },
   {
    "duration": 4,
    "start_time": "2022-08-22T04:52:55.426Z"
   },
   {
    "duration": 3,
    "start_time": "2022-08-22T04:52:55.433Z"
   },
   {
    "duration": 70,
    "start_time": "2022-08-22T04:52:55.438Z"
   },
   {
    "duration": 19,
    "start_time": "2022-08-22T04:52:55.510Z"
   },
   {
    "duration": 3,
    "start_time": "2022-08-22T04:52:55.531Z"
   },
   {
    "duration": 12,
    "start_time": "2022-08-22T04:52:55.535Z"
   },
   {
    "duration": 7,
    "start_time": "2022-08-22T04:52:55.548Z"
   },
   {
    "duration": 6,
    "start_time": "2022-08-22T04:52:55.556Z"
   },
   {
    "duration": 40,
    "start_time": "2022-08-22T04:52:55.563Z"
   },
   {
    "duration": 6,
    "start_time": "2022-08-22T04:52:55.605Z"
   },
   {
    "duration": 3,
    "start_time": "2022-08-22T04:52:55.612Z"
   },
   {
    "duration": 8,
    "start_time": "2022-08-22T04:52:55.616Z"
   },
   {
    "duration": 6,
    "start_time": "2022-08-22T04:52:55.625Z"
   },
   {
    "duration": 18,
    "start_time": "2022-08-22T04:52:55.634Z"
   },
   {
    "duration": 77,
    "start_time": "2022-08-22T04:52:55.654Z"
   },
   {
    "duration": 5,
    "start_time": "2022-08-22T04:52:55.732Z"
   },
   {
    "duration": 7,
    "start_time": "2022-08-22T04:52:55.738Z"
   },
   {
    "duration": 46,
    "start_time": "2022-08-22T04:52:55.746Z"
   },
   {
    "duration": 4,
    "start_time": "2022-08-22T04:55:51.319Z"
   },
   {
    "duration": 8,
    "start_time": "2022-08-22T04:55:51.325Z"
   },
   {
    "duration": 41,
    "start_time": "2022-08-22T04:55:51.334Z"
   },
   {
    "duration": 19,
    "start_time": "2022-08-22T04:55:51.376Z"
   },
   {
    "duration": 4,
    "start_time": "2022-08-22T04:55:51.396Z"
   },
   {
    "duration": 12,
    "start_time": "2022-08-22T04:55:51.401Z"
   },
   {
    "duration": 10,
    "start_time": "2022-08-22T04:55:51.415Z"
   },
   {
    "duration": 6,
    "start_time": "2022-08-22T04:55:51.426Z"
   },
   {
    "duration": 18,
    "start_time": "2022-08-22T04:55:51.434Z"
   },
   {
    "duration": 7,
    "start_time": "2022-08-22T04:55:51.453Z"
   },
   {
    "duration": 2,
    "start_time": "2022-08-22T04:55:51.461Z"
   },
   {
    "duration": 35,
    "start_time": "2022-08-22T04:55:51.464Z"
   },
   {
    "duration": 5,
    "start_time": "2022-08-22T04:55:51.500Z"
   },
   {
    "duration": 52,
    "start_time": "2022-08-22T04:55:51.507Z"
   },
   {
    "duration": 5,
    "start_time": "2022-08-22T04:55:51.560Z"
   },
   {
    "duration": 11,
    "start_time": "2022-08-22T04:55:51.566Z"
   },
   {
    "duration": 54,
    "start_time": "2022-08-22T04:55:51.579Z"
   },
   {
    "duration": 4,
    "start_time": "2022-08-22T05:07:48.463Z"
   },
   {
    "duration": 19,
    "start_time": "2022-08-22T05:07:48.469Z"
   },
   {
    "duration": 41,
    "start_time": "2022-08-22T05:07:48.489Z"
   },
   {
    "duration": 20,
    "start_time": "2022-08-22T05:07:48.532Z"
   },
   {
    "duration": 4,
    "start_time": "2022-08-22T05:07:48.554Z"
   },
   {
    "duration": 10,
    "start_time": "2022-08-22T05:07:48.559Z"
   },
   {
    "duration": 7,
    "start_time": "2022-08-22T05:07:48.570Z"
   },
   {
    "duration": 8,
    "start_time": "2022-08-22T05:07:48.579Z"
   },
   {
    "duration": 26,
    "start_time": "2022-08-22T05:07:48.588Z"
   },
   {
    "duration": 9,
    "start_time": "2022-08-22T05:07:48.615Z"
   },
   {
    "duration": 2,
    "start_time": "2022-08-22T05:07:48.625Z"
   },
   {
    "duration": 6,
    "start_time": "2022-08-22T05:07:48.629Z"
   },
   {
    "duration": 6,
    "start_time": "2022-08-22T05:07:48.637Z"
   },
   {
    "duration": 12,
    "start_time": "2022-08-22T05:07:48.646Z"
   },
   {
    "duration": 2,
    "start_time": "2022-08-22T05:07:48.659Z"
   },
   {
    "duration": 14,
    "start_time": "2022-08-22T05:08:21.333Z"
   },
   {
    "duration": 5,
    "start_time": "2022-08-22T05:29:40.623Z"
   },
   {
    "duration": 16,
    "start_time": "2022-08-22T05:29:40.630Z"
   },
   {
    "duration": 56,
    "start_time": "2022-08-22T05:29:40.647Z"
   },
   {
    "duration": 19,
    "start_time": "2022-08-22T05:29:40.705Z"
   },
   {
    "duration": 3,
    "start_time": "2022-08-22T05:29:40.726Z"
   },
   {
    "duration": 11,
    "start_time": "2022-08-22T05:29:40.731Z"
   },
   {
    "duration": 9,
    "start_time": "2022-08-22T05:29:40.744Z"
   },
   {
    "duration": 7,
    "start_time": "2022-08-22T05:29:40.755Z"
   },
   {
    "duration": 49,
    "start_time": "2022-08-22T05:29:40.763Z"
   },
   {
    "duration": 7,
    "start_time": "2022-08-22T05:29:40.814Z"
   },
   {
    "duration": 2,
    "start_time": "2022-08-22T05:29:40.822Z"
   },
   {
    "duration": 6,
    "start_time": "2022-08-22T05:29:40.826Z"
   },
   {
    "duration": 6,
    "start_time": "2022-08-22T05:29:40.834Z"
   },
   {
    "duration": 4,
    "start_time": "2022-08-22T05:29:40.841Z"
   },
   {
    "duration": 76,
    "start_time": "2022-08-22T05:29:40.847Z"
   },
   {
    "duration": 7,
    "start_time": "2022-08-22T05:37:33.773Z"
   },
   {
    "duration": 5,
    "start_time": "2022-08-22T05:37:48.536Z"
   },
   {
    "duration": 5,
    "start_time": "2022-08-22T05:38:22.691Z"
   },
   {
    "duration": 9,
    "start_time": "2022-08-22T05:41:02.524Z"
   },
   {
    "duration": 7,
    "start_time": "2022-08-22T05:41:40.648Z"
   },
   {
    "duration": 39,
    "start_time": "2022-08-22T05:42:57.617Z"
   },
   {
    "duration": 4,
    "start_time": "2022-08-22T05:43:24.851Z"
   },
   {
    "duration": 7,
    "start_time": "2022-08-22T05:43:24.857Z"
   },
   {
    "duration": 44,
    "start_time": "2022-08-22T05:43:24.866Z"
   },
   {
    "duration": 23,
    "start_time": "2022-08-22T05:43:24.911Z"
   },
   {
    "duration": 4,
    "start_time": "2022-08-22T05:43:24.936Z"
   },
   {
    "duration": 16,
    "start_time": "2022-08-22T05:43:24.941Z"
   },
   {
    "duration": 8,
    "start_time": "2022-08-22T05:43:24.959Z"
   },
   {
    "duration": 9,
    "start_time": "2022-08-22T05:43:24.968Z"
   },
   {
    "duration": 18,
    "start_time": "2022-08-22T05:43:24.998Z"
   },
   {
    "duration": 7,
    "start_time": "2022-08-22T05:43:25.017Z"
   },
   {
    "duration": 3,
    "start_time": "2022-08-22T05:43:25.025Z"
   },
   {
    "duration": 7,
    "start_time": "2022-08-22T05:43:25.029Z"
   },
   {
    "duration": 8,
    "start_time": "2022-08-22T05:43:25.037Z"
   },
   {
    "duration": 4,
    "start_time": "2022-08-22T05:43:25.047Z"
   },
   {
    "duration": 70,
    "start_time": "2022-08-22T05:43:25.052Z"
   },
   {
    "duration": 7,
    "start_time": "2022-08-22T05:43:25.124Z"
   },
   {
    "duration": 87,
    "start_time": "2022-08-22T05:43:25.132Z"
   },
   {
    "duration": 9,
    "start_time": "2022-08-22T05:44:17.826Z"
   },
   {
    "duration": 6,
    "start_time": "2022-08-22T05:46:23.070Z"
   },
   {
    "duration": 9,
    "start_time": "2022-08-22T05:46:29.431Z"
   },
   {
    "duration": 36,
    "start_time": "2022-08-22T05:46:42.090Z"
   },
   {
    "duration": 8,
    "start_time": "2022-08-22T05:46:59.509Z"
   },
   {
    "duration": 12,
    "start_time": "2022-08-22T05:48:09.407Z"
   },
   {
    "duration": 9,
    "start_time": "2022-08-22T05:48:50.431Z"
   },
   {
    "duration": 9,
    "start_time": "2022-08-22T05:50:00.604Z"
   },
   {
    "duration": 5,
    "start_time": "2022-08-22T05:50:04.298Z"
   },
   {
    "duration": 12,
    "start_time": "2022-08-22T05:50:04.305Z"
   },
   {
    "duration": 57,
    "start_time": "2022-08-22T05:50:04.318Z"
   },
   {
    "duration": 25,
    "start_time": "2022-08-22T05:50:04.377Z"
   },
   {
    "duration": 26,
    "start_time": "2022-08-22T05:50:04.405Z"
   },
   {
    "duration": 27,
    "start_time": "2022-08-22T05:50:04.433Z"
   },
   {
    "duration": 21,
    "start_time": "2022-08-22T05:50:04.462Z"
   },
   {
    "duration": 21,
    "start_time": "2022-08-22T05:50:04.486Z"
   },
   {
    "duration": 46,
    "start_time": "2022-08-22T05:50:04.509Z"
   },
   {
    "duration": 22,
    "start_time": "2022-08-22T05:50:04.557Z"
   },
   {
    "duration": 18,
    "start_time": "2022-08-22T05:50:04.581Z"
   },
   {
    "duration": 19,
    "start_time": "2022-08-22T05:50:04.601Z"
   },
   {
    "duration": 23,
    "start_time": "2022-08-22T05:50:04.622Z"
   },
   {
    "duration": 32,
    "start_time": "2022-08-22T05:50:04.647Z"
   },
   {
    "duration": 38,
    "start_time": "2022-08-22T05:50:04.680Z"
   },
   {
    "duration": 56,
    "start_time": "2022-08-22T05:50:04.720Z"
   },
   {
    "duration": 8,
    "start_time": "2022-08-22T05:50:04.777Z"
   },
   {
    "duration": 24,
    "start_time": "2022-08-22T05:50:04.786Z"
   },
   {
    "duration": 70,
    "start_time": "2022-08-22T05:50:04.811Z"
   },
   {
    "duration": 5,
    "start_time": "2022-08-22T05:51:27.123Z"
   },
   {
    "duration": 4,
    "start_time": "2022-08-22T05:51:27.130Z"
   },
   {
    "duration": 41,
    "start_time": "2022-08-22T05:51:27.135Z"
   },
   {
    "duration": 19,
    "start_time": "2022-08-22T05:51:27.177Z"
   },
   {
    "duration": 4,
    "start_time": "2022-08-22T05:51:27.198Z"
   },
   {
    "duration": 11,
    "start_time": "2022-08-22T05:51:27.204Z"
   },
   {
    "duration": 7,
    "start_time": "2022-08-22T05:51:27.217Z"
   },
   {
    "duration": 7,
    "start_time": "2022-08-22T05:51:27.226Z"
   },
   {
    "duration": 24,
    "start_time": "2022-08-22T05:51:27.234Z"
   },
   {
    "duration": 10,
    "start_time": "2022-08-22T05:51:27.260Z"
   },
   {
    "duration": 34,
    "start_time": "2022-08-22T05:51:27.271Z"
   },
   {
    "duration": 3,
    "start_time": "2022-08-22T05:51:27.306Z"
   },
   {
    "duration": 7,
    "start_time": "2022-08-22T05:51:27.310Z"
   },
   {
    "duration": 5,
    "start_time": "2022-08-22T05:51:27.319Z"
   },
   {
    "duration": 16,
    "start_time": "2022-08-22T05:51:27.325Z"
   },
   {
    "duration": 2,
    "start_time": "2022-08-22T05:51:27.343Z"
   },
   {
    "duration": 14,
    "start_time": "2022-08-22T05:51:27.346Z"
   },
   {
    "duration": 45,
    "start_time": "2022-08-22T05:51:27.361Z"
   },
   {
    "duration": 45,
    "start_time": "2022-08-22T05:51:27.407Z"
   },
   {
    "duration": 14,
    "start_time": "2022-08-22T05:55:17.346Z"
   },
   {
    "duration": 5,
    "start_time": "2022-08-22T05:55:27.360Z"
   },
   {
    "duration": 10,
    "start_time": "2022-08-22T05:55:27.367Z"
   },
   {
    "duration": 40,
    "start_time": "2022-08-22T05:55:27.379Z"
   },
   {
    "duration": 19,
    "start_time": "2022-08-22T05:55:27.421Z"
   },
   {
    "duration": 3,
    "start_time": "2022-08-22T05:55:27.442Z"
   },
   {
    "duration": 11,
    "start_time": "2022-08-22T05:55:27.446Z"
   },
   {
    "duration": 7,
    "start_time": "2022-08-22T05:55:27.458Z"
   },
   {
    "duration": 8,
    "start_time": "2022-08-22T05:55:27.466Z"
   },
   {
    "duration": 40,
    "start_time": "2022-08-22T05:55:27.475Z"
   },
   {
    "duration": 12,
    "start_time": "2022-08-22T05:55:27.517Z"
   },
   {
    "duration": 10,
    "start_time": "2022-08-22T05:55:27.531Z"
   },
   {
    "duration": 3,
    "start_time": "2022-08-22T05:55:27.542Z"
   },
   {
    "duration": 7,
    "start_time": "2022-08-22T05:55:27.547Z"
   },
   {
    "duration": 6,
    "start_time": "2022-08-22T05:55:27.557Z"
   },
   {
    "duration": 47,
    "start_time": "2022-08-22T05:55:27.565Z"
   },
   {
    "duration": 2,
    "start_time": "2022-08-22T05:55:27.614Z"
   },
   {
    "duration": 11,
    "start_time": "2022-08-22T05:55:27.618Z"
   },
   {
    "duration": 12,
    "start_time": "2022-08-22T05:55:27.630Z"
   },
   {
    "duration": 46,
    "start_time": "2022-08-22T05:55:27.643Z"
   },
   {
    "duration": 6,
    "start_time": "2022-08-22T05:57:26.407Z"
   },
   {
    "duration": 7,
    "start_time": "2022-08-22T05:58:07.589Z"
   },
   {
    "duration": 18,
    "start_time": "2022-08-22T06:18:36.545Z"
   },
   {
    "duration": 10,
    "start_time": "2022-08-22T06:20:20.398Z"
   },
   {
    "duration": 11,
    "start_time": "2022-08-22T06:21:00.304Z"
   },
   {
    "duration": 7,
    "start_time": "2022-08-22T06:21:17.277Z"
   },
   {
    "duration": 14,
    "start_time": "2022-08-22T06:21:57.506Z"
   },
   {
    "duration": 7,
    "start_time": "2022-08-22T06:25:26.940Z"
   },
   {
    "duration": 9,
    "start_time": "2022-08-22T06:26:57.678Z"
   },
   {
    "duration": 6,
    "start_time": "2022-08-22T06:27:02.748Z"
   },
   {
    "duration": 12,
    "start_time": "2022-08-22T06:27:04.627Z"
   },
   {
    "duration": 5,
    "start_time": "2022-08-22T06:27:20.830Z"
   },
   {
    "duration": 9,
    "start_time": "2022-08-22T06:27:20.836Z"
   },
   {
    "duration": 41,
    "start_time": "2022-08-22T06:27:20.847Z"
   },
   {
    "duration": 20,
    "start_time": "2022-08-22T06:27:20.890Z"
   },
   {
    "duration": 3,
    "start_time": "2022-08-22T06:27:20.912Z"
   },
   {
    "duration": 11,
    "start_time": "2022-08-22T06:27:20.917Z"
   },
   {
    "duration": 8,
    "start_time": "2022-08-22T06:27:20.929Z"
   },
   {
    "duration": 7,
    "start_time": "2022-08-22T06:27:20.938Z"
   },
   {
    "duration": 21,
    "start_time": "2022-08-22T06:27:20.946Z"
   },
   {
    "duration": 10,
    "start_time": "2022-08-22T06:27:20.999Z"
   },
   {
    "duration": 3,
    "start_time": "2022-08-22T06:27:21.010Z"
   },
   {
    "duration": 8,
    "start_time": "2022-08-22T06:27:21.015Z"
   },
   {
    "duration": 8,
    "start_time": "2022-08-22T06:27:21.024Z"
   },
   {
    "duration": 19,
    "start_time": "2022-08-22T06:27:21.034Z"
   },
   {
    "duration": 2,
    "start_time": "2022-08-22T06:27:21.054Z"
   },
   {
    "duration": 45,
    "start_time": "2022-08-22T06:27:21.058Z"
   },
   {
    "duration": 64,
    "start_time": "2022-08-22T06:27:21.105Z"
   },
   {
    "duration": 0,
    "start_time": "2022-08-22T06:27:21.171Z"
   },
   {
    "duration": 0,
    "start_time": "2022-08-22T06:27:21.173Z"
   },
   {
    "duration": 11,
    "start_time": "2022-08-22T06:27:58.816Z"
   },
   {
    "duration": 4,
    "start_time": "2022-08-22T06:28:03.434Z"
   },
   {
    "duration": 13,
    "start_time": "2022-08-22T06:28:03.440Z"
   },
   {
    "duration": 41,
    "start_time": "2022-08-22T06:28:03.454Z"
   },
   {
    "duration": 23,
    "start_time": "2022-08-22T06:28:03.497Z"
   },
   {
    "duration": 4,
    "start_time": "2022-08-22T06:28:03.523Z"
   },
   {
    "duration": 12,
    "start_time": "2022-08-22T06:28:03.528Z"
   },
   {
    "duration": 8,
    "start_time": "2022-08-22T06:28:03.541Z"
   },
   {
    "duration": 8,
    "start_time": "2022-08-22T06:28:03.550Z"
   },
   {
    "duration": 21,
    "start_time": "2022-08-22T06:28:03.599Z"
   },
   {
    "duration": 9,
    "start_time": "2022-08-22T06:28:03.622Z"
   },
   {
    "duration": 3,
    "start_time": "2022-08-22T06:28:03.632Z"
   },
   {
    "duration": 6,
    "start_time": "2022-08-22T06:28:03.636Z"
   },
   {
    "duration": 7,
    "start_time": "2022-08-22T06:28:03.644Z"
   },
   {
    "duration": 46,
    "start_time": "2022-08-22T06:28:03.653Z"
   },
   {
    "duration": 2,
    "start_time": "2022-08-22T06:28:03.701Z"
   },
   {
    "duration": 13,
    "start_time": "2022-08-22T06:28:03.705Z"
   },
   {
    "duration": 53,
    "start_time": "2022-08-22T06:28:03.719Z"
   },
   {
    "duration": 0,
    "start_time": "2022-08-22T06:28:03.774Z"
   },
   {
    "duration": 0,
    "start_time": "2022-08-22T06:28:03.775Z"
   },
   {
    "duration": 5,
    "start_time": "2022-08-22T06:28:19.185Z"
   },
   {
    "duration": 10,
    "start_time": "2022-08-22T06:28:19.191Z"
   },
   {
    "duration": 40,
    "start_time": "2022-08-22T06:28:19.203Z"
   },
   {
    "duration": 18,
    "start_time": "2022-08-22T06:28:19.244Z"
   },
   {
    "duration": 3,
    "start_time": "2022-08-22T06:28:19.264Z"
   },
   {
    "duration": 11,
    "start_time": "2022-08-22T06:28:19.268Z"
   },
   {
    "duration": 7,
    "start_time": "2022-08-22T06:28:19.281Z"
   },
   {
    "duration": 10,
    "start_time": "2022-08-22T06:28:19.289Z"
   },
   {
    "duration": 18,
    "start_time": "2022-08-22T06:28:19.300Z"
   },
   {
    "duration": 7,
    "start_time": "2022-08-22T06:28:19.319Z"
   },
   {
    "duration": 2,
    "start_time": "2022-08-22T06:28:19.327Z"
   },
   {
    "duration": 8,
    "start_time": "2022-08-22T06:28:19.330Z"
   },
   {
    "duration": 7,
    "start_time": "2022-08-22T06:28:19.339Z"
   },
   {
    "duration": 15,
    "start_time": "2022-08-22T06:28:19.349Z"
   },
   {
    "duration": 33,
    "start_time": "2022-08-22T06:28:19.366Z"
   },
   {
    "duration": 12,
    "start_time": "2022-08-22T06:28:19.400Z"
   },
   {
    "duration": 45,
    "start_time": "2022-08-22T06:28:19.413Z"
   },
   {
    "duration": 0,
    "start_time": "2022-08-22T06:28:19.459Z"
   },
   {
    "duration": 0,
    "start_time": "2022-08-22T06:28:19.460Z"
   },
   {
    "duration": 4,
    "start_time": "2022-08-22T06:28:32.847Z"
   },
   {
    "duration": 6,
    "start_time": "2022-08-22T06:28:32.853Z"
   },
   {
    "duration": 41,
    "start_time": "2022-08-22T06:28:32.860Z"
   },
   {
    "duration": 20,
    "start_time": "2022-08-22T06:28:32.902Z"
   },
   {
    "duration": 4,
    "start_time": "2022-08-22T06:28:32.923Z"
   },
   {
    "duration": 10,
    "start_time": "2022-08-22T06:28:32.928Z"
   },
   {
    "duration": 7,
    "start_time": "2022-08-22T06:28:32.940Z"
   },
   {
    "duration": 6,
    "start_time": "2022-08-22T06:28:32.948Z"
   },
   {
    "duration": 43,
    "start_time": "2022-08-22T06:28:32.956Z"
   },
   {
    "duration": 7,
    "start_time": "2022-08-22T06:28:33.001Z"
   },
   {
    "duration": 2,
    "start_time": "2022-08-22T06:28:33.009Z"
   },
   {
    "duration": 7,
    "start_time": "2022-08-22T06:28:33.012Z"
   },
   {
    "duration": 6,
    "start_time": "2022-08-22T06:28:33.020Z"
   },
   {
    "duration": 16,
    "start_time": "2022-08-22T06:28:33.027Z"
   },
   {
    "duration": 1,
    "start_time": "2022-08-22T06:28:33.045Z"
   },
   {
    "duration": 12,
    "start_time": "2022-08-22T06:28:33.048Z"
   },
   {
    "duration": 37,
    "start_time": "2022-08-22T06:28:33.061Z"
   },
   {
    "duration": 11,
    "start_time": "2022-08-22T06:28:33.099Z"
   },
   {
    "duration": 56,
    "start_time": "2022-08-22T06:30:07.174Z"
   },
   {
    "duration": 7,
    "start_time": "2022-08-22T06:30:27.959Z"
   },
   {
    "duration": 16,
    "start_time": "2022-08-22T06:32:51.573Z"
   },
   {
    "duration": 16,
    "start_time": "2022-08-22T06:33:08.734Z"
   },
   {
    "duration": 22,
    "start_time": "2022-08-22T06:33:24.050Z"
   },
   {
    "duration": 11,
    "start_time": "2022-08-22T06:37:57.191Z"
   },
   {
    "duration": 10,
    "start_time": "2022-08-22T06:38:25.163Z"
   },
   {
    "duration": 5,
    "start_time": "2022-08-22T06:38:33.064Z"
   },
   {
    "duration": 6,
    "start_time": "2022-08-22T06:38:33.070Z"
   },
   {
    "duration": 41,
    "start_time": "2022-08-22T06:38:33.078Z"
   },
   {
    "duration": 20,
    "start_time": "2022-08-22T06:38:33.121Z"
   },
   {
    "duration": 4,
    "start_time": "2022-08-22T06:38:33.143Z"
   },
   {
    "duration": 16,
    "start_time": "2022-08-22T06:38:33.149Z"
   },
   {
    "duration": 9,
    "start_time": "2022-08-22T06:38:33.167Z"
   },
   {
    "duration": 21,
    "start_time": "2022-08-22T06:38:33.177Z"
   },
   {
    "duration": 19,
    "start_time": "2022-08-22T06:38:33.199Z"
   },
   {
    "duration": 8,
    "start_time": "2022-08-22T06:38:33.219Z"
   },
   {
    "duration": 3,
    "start_time": "2022-08-22T06:38:33.228Z"
   },
   {
    "duration": 11,
    "start_time": "2022-08-22T06:38:33.233Z"
   },
   {
    "duration": 9,
    "start_time": "2022-08-22T06:38:33.245Z"
   },
   {
    "duration": 19,
    "start_time": "2022-08-22T06:38:33.256Z"
   },
   {
    "duration": 22,
    "start_time": "2022-08-22T06:38:33.276Z"
   },
   {
    "duration": 10,
    "start_time": "2022-08-22T06:38:33.300Z"
   },
   {
    "duration": 10,
    "start_time": "2022-08-22T06:38:33.312Z"
   },
   {
    "duration": 24,
    "start_time": "2022-08-22T06:39:36.929Z"
   },
   {
    "duration": 22,
    "start_time": "2022-08-22T06:42:22.249Z"
   },
   {
    "duration": 3,
    "start_time": "2022-08-22T06:44:18.435Z"
   },
   {
    "duration": 1086,
    "start_time": "2022-08-22T06:44:49.241Z"
   },
   {
    "duration": 4,
    "start_time": "2022-08-22T06:47:18.725Z"
   },
   {
    "duration": 11,
    "start_time": "2022-08-22T06:47:37.454Z"
   },
   {
    "duration": 10,
    "start_time": "2022-08-22T06:54:50.596Z"
   },
   {
    "duration": 4,
    "start_time": "2022-08-22T06:54:59.412Z"
   },
   {
    "duration": 18,
    "start_time": "2022-08-22T06:54:59.418Z"
   },
   {
    "duration": 51,
    "start_time": "2022-08-22T06:54:59.437Z"
   },
   {
    "duration": 20,
    "start_time": "2022-08-22T06:54:59.490Z"
   },
   {
    "duration": 3,
    "start_time": "2022-08-22T06:54:59.512Z"
   },
   {
    "duration": 15,
    "start_time": "2022-08-22T06:54:59.517Z"
   },
   {
    "duration": 21,
    "start_time": "2022-08-22T06:54:59.533Z"
   },
   {
    "duration": 14,
    "start_time": "2022-08-22T06:54:59.555Z"
   },
   {
    "duration": 26,
    "start_time": "2022-08-22T06:54:59.571Z"
   },
   {
    "duration": 7,
    "start_time": "2022-08-22T06:54:59.598Z"
   },
   {
    "duration": 7,
    "start_time": "2022-08-22T06:54:59.606Z"
   },
   {
    "duration": 14,
    "start_time": "2022-08-22T06:54:59.615Z"
   },
   {
    "duration": 14,
    "start_time": "2022-08-22T06:54:59.630Z"
   },
   {
    "duration": 26,
    "start_time": "2022-08-22T06:54:59.646Z"
   },
   {
    "duration": 2,
    "start_time": "2022-08-22T06:54:59.674Z"
   },
   {
    "duration": 27,
    "start_time": "2022-08-22T06:54:59.677Z"
   },
   {
    "duration": 26,
    "start_time": "2022-08-22T06:54:59.707Z"
   },
   {
    "duration": 11,
    "start_time": "2022-08-22T06:54:59.735Z"
   },
   {
    "duration": 20,
    "start_time": "2022-08-22T06:54:59.747Z"
   },
   {
    "duration": 31,
    "start_time": "2022-08-22T06:54:59.769Z"
   },
   {
    "duration": 12,
    "start_time": "2022-08-22T06:59:44.455Z"
   },
   {
    "duration": 4,
    "start_time": "2022-08-22T07:06:15.213Z"
   },
   {
    "duration": 5,
    "start_time": "2022-08-22T07:06:15.219Z"
   },
   {
    "duration": 47,
    "start_time": "2022-08-22T07:06:15.225Z"
   },
   {
    "duration": 22,
    "start_time": "2022-08-22T07:06:15.274Z"
   },
   {
    "duration": 4,
    "start_time": "2022-08-22T07:06:15.298Z"
   },
   {
    "duration": 11,
    "start_time": "2022-08-22T07:06:15.303Z"
   },
   {
    "duration": 6,
    "start_time": "2022-08-22T07:06:15.316Z"
   },
   {
    "duration": 6,
    "start_time": "2022-08-22T07:06:15.323Z"
   },
   {
    "duration": 18,
    "start_time": "2022-08-22T07:06:15.330Z"
   },
   {
    "duration": 7,
    "start_time": "2022-08-22T07:06:15.349Z"
   },
   {
    "duration": 2,
    "start_time": "2022-08-22T07:06:15.358Z"
   },
   {
    "duration": 43,
    "start_time": "2022-08-22T07:06:15.361Z"
   },
   {
    "duration": 14,
    "start_time": "2022-08-22T07:06:15.405Z"
   },
   {
    "duration": 16,
    "start_time": "2022-08-22T07:06:15.422Z"
   },
   {
    "duration": 3,
    "start_time": "2022-08-22T07:06:15.440Z"
   },
   {
    "duration": 12,
    "start_time": "2022-08-22T07:06:15.444Z"
   },
   {
    "duration": 41,
    "start_time": "2022-08-22T07:06:15.458Z"
   },
   {
    "duration": 2,
    "start_time": "2022-08-22T07:06:15.501Z"
   },
   {
    "duration": 3,
    "start_time": "2022-08-22T07:06:15.505Z"
   },
   {
    "duration": 5,
    "start_time": "2022-08-22T07:06:15.509Z"
   },
   {
    "duration": 11,
    "start_time": "2022-08-22T07:06:15.516Z"
   },
   {
    "duration": 12,
    "start_time": "2022-08-22T07:09:37.265Z"
   },
   {
    "duration": 7,
    "start_time": "2022-08-22T07:10:42.944Z"
   },
   {
    "duration": 22,
    "start_time": "2022-08-22T07:15:55.971Z"
   },
   {
    "duration": 33,
    "start_time": "2022-08-22T07:16:08.580Z"
   },
   {
    "duration": 5,
    "start_time": "2022-08-22T07:17:36.875Z"
   },
   {
    "duration": 6,
    "start_time": "2022-08-22T07:17:36.881Z"
   },
   {
    "duration": 46,
    "start_time": "2022-08-22T07:17:36.888Z"
   },
   {
    "duration": 22,
    "start_time": "2022-08-22T07:17:36.935Z"
   },
   {
    "duration": 4,
    "start_time": "2022-08-22T07:17:36.959Z"
   },
   {
    "duration": 19,
    "start_time": "2022-08-22T07:17:36.965Z"
   },
   {
    "duration": 14,
    "start_time": "2022-08-22T07:17:36.986Z"
   },
   {
    "duration": 10,
    "start_time": "2022-08-22T07:17:37.002Z"
   },
   {
    "duration": 25,
    "start_time": "2022-08-22T07:17:37.013Z"
   },
   {
    "duration": 9,
    "start_time": "2022-08-22T07:17:37.040Z"
   },
   {
    "duration": 9,
    "start_time": "2022-08-22T07:17:37.051Z"
   },
   {
    "duration": 12,
    "start_time": "2022-08-22T07:17:37.061Z"
   },
   {
    "duration": 24,
    "start_time": "2022-08-22T07:17:37.075Z"
   },
   {
    "duration": 15,
    "start_time": "2022-08-22T07:17:37.102Z"
   },
   {
    "duration": 2,
    "start_time": "2022-08-22T07:17:37.119Z"
   },
   {
    "duration": 10,
    "start_time": "2022-08-22T07:17:37.123Z"
   },
   {
    "duration": 23,
    "start_time": "2022-08-22T07:17:37.135Z"
   },
   {
    "duration": 2,
    "start_time": "2022-08-22T07:17:37.160Z"
   },
   {
    "duration": 37,
    "start_time": "2022-08-22T07:17:37.164Z"
   },
   {
    "duration": 36,
    "start_time": "2022-08-22T07:17:37.202Z"
   },
   {
    "duration": 5,
    "start_time": "2022-08-22T07:17:37.239Z"
   },
   {
    "duration": 10,
    "start_time": "2022-08-22T07:17:37.246Z"
   },
   {
    "duration": 4,
    "start_time": "2022-08-22T07:17:56.094Z"
   },
   {
    "duration": 5,
    "start_time": "2022-08-22T07:17:56.100Z"
   },
   {
    "duration": 41,
    "start_time": "2022-08-22T07:17:56.106Z"
   },
   {
    "duration": 19,
    "start_time": "2022-08-22T07:17:56.149Z"
   },
   {
    "duration": 3,
    "start_time": "2022-08-22T07:17:56.171Z"
   },
   {
    "duration": 10,
    "start_time": "2022-08-22T07:17:56.176Z"
   },
   {
    "duration": 14,
    "start_time": "2022-08-22T07:17:56.188Z"
   },
   {
    "duration": 6,
    "start_time": "2022-08-22T07:17:56.204Z"
   },
   {
    "duration": 17,
    "start_time": "2022-08-22T07:17:56.212Z"
   },
   {
    "duration": 7,
    "start_time": "2022-08-22T07:17:56.231Z"
   },
   {
    "duration": 2,
    "start_time": "2022-08-22T07:17:56.240Z"
   },
   {
    "duration": 7,
    "start_time": "2022-08-22T07:17:56.243Z"
   },
   {
    "duration": 6,
    "start_time": "2022-08-22T07:17:56.251Z"
   },
   {
    "duration": 50,
    "start_time": "2022-08-22T07:17:56.259Z"
   },
   {
    "duration": 2,
    "start_time": "2022-08-22T07:17:56.310Z"
   },
   {
    "duration": 11,
    "start_time": "2022-08-22T07:17:56.313Z"
   },
   {
    "duration": 23,
    "start_time": "2022-08-22T07:17:56.325Z"
   },
   {
    "duration": 2,
    "start_time": "2022-08-22T07:17:56.349Z"
   },
   {
    "duration": 4,
    "start_time": "2022-08-22T07:17:56.352Z"
   },
   {
    "duration": 56,
    "start_time": "2022-08-22T07:17:56.357Z"
   },
   {
    "duration": 32,
    "start_time": "2022-08-22T07:18:23.106Z"
   },
   {
    "duration": 15,
    "start_time": "2022-08-22T07:23:54.707Z"
   },
   {
    "duration": 4,
    "start_time": "2022-08-22T07:24:12.803Z"
   },
   {
    "duration": 8,
    "start_time": "2022-08-22T07:24:12.809Z"
   },
   {
    "duration": 41,
    "start_time": "2022-08-22T07:24:12.818Z"
   },
   {
    "duration": 20,
    "start_time": "2022-08-22T07:24:12.860Z"
   },
   {
    "duration": 3,
    "start_time": "2022-08-22T07:24:12.882Z"
   },
   {
    "duration": 10,
    "start_time": "2022-08-22T07:24:12.887Z"
   },
   {
    "duration": 6,
    "start_time": "2022-08-22T07:24:12.898Z"
   },
   {
    "duration": 6,
    "start_time": "2022-08-22T07:24:12.906Z"
   },
   {
    "duration": 19,
    "start_time": "2022-08-22T07:24:12.914Z"
   },
   {
    "duration": 7,
    "start_time": "2022-08-22T07:24:12.934Z"
   },
   {
    "duration": 2,
    "start_time": "2022-08-22T07:24:12.942Z"
   },
   {
    "duration": 7,
    "start_time": "2022-08-22T07:24:12.945Z"
   },
   {
    "duration": 6,
    "start_time": "2022-08-22T07:24:12.953Z"
   },
   {
    "duration": 17,
    "start_time": "2022-08-22T07:24:12.997Z"
   },
   {
    "duration": 3,
    "start_time": "2022-08-22T07:24:13.016Z"
   },
   {
    "duration": 14,
    "start_time": "2022-08-22T07:24:13.020Z"
   },
   {
    "duration": 21,
    "start_time": "2022-08-22T07:24:13.036Z"
   },
   {
    "duration": 2,
    "start_time": "2022-08-22T07:24:13.059Z"
   },
   {
    "duration": 5,
    "start_time": "2022-08-22T07:24:13.062Z"
   },
   {
    "duration": 58,
    "start_time": "2022-08-22T07:24:13.068Z"
   },
   {
    "duration": 13,
    "start_time": "2022-08-22T07:25:46.585Z"
   },
   {
    "duration": 4,
    "start_time": "2022-08-22T07:25:50.410Z"
   },
   {
    "duration": 5,
    "start_time": "2022-08-22T07:25:50.416Z"
   },
   {
    "duration": 42,
    "start_time": "2022-08-22T07:25:50.422Z"
   },
   {
    "duration": 21,
    "start_time": "2022-08-22T07:25:50.465Z"
   },
   {
    "duration": 3,
    "start_time": "2022-08-22T07:25:50.488Z"
   },
   {
    "duration": 14,
    "start_time": "2022-08-22T07:25:50.493Z"
   },
   {
    "duration": 8,
    "start_time": "2022-08-22T07:25:50.509Z"
   },
   {
    "duration": 8,
    "start_time": "2022-08-22T07:25:50.518Z"
   },
   {
    "duration": 18,
    "start_time": "2022-08-22T07:25:50.527Z"
   },
   {
    "duration": 7,
    "start_time": "2022-08-22T07:25:50.546Z"
   },
   {
    "duration": 2,
    "start_time": "2022-08-22T07:25:50.554Z"
   },
   {
    "duration": 12,
    "start_time": "2022-08-22T07:25:50.558Z"
   },
   {
    "duration": 26,
    "start_time": "2022-08-22T07:25:50.572Z"
   },
   {
    "duration": 16,
    "start_time": "2022-08-22T07:25:50.601Z"
   },
   {
    "duration": 2,
    "start_time": "2022-08-22T07:25:50.618Z"
   },
   {
    "duration": 11,
    "start_time": "2022-08-22T07:25:50.622Z"
   },
   {
    "duration": 21,
    "start_time": "2022-08-22T07:25:50.635Z"
   },
   {
    "duration": 2,
    "start_time": "2022-08-22T07:25:50.658Z"
   },
   {
    "duration": 4,
    "start_time": "2022-08-22T07:25:50.661Z"
   },
   {
    "duration": 59,
    "start_time": "2022-08-22T07:25:50.666Z"
   },
   {
    "duration": 6,
    "start_time": "2022-08-22T07:26:11.417Z"
   },
   {
    "duration": 4,
    "start_time": "2022-08-22T07:26:11.425Z"
   },
   {
    "duration": 40,
    "start_time": "2022-08-22T07:26:11.431Z"
   },
   {
    "duration": 21,
    "start_time": "2022-08-22T07:26:11.473Z"
   },
   {
    "duration": 4,
    "start_time": "2022-08-22T07:26:11.497Z"
   },
   {
    "duration": 10,
    "start_time": "2022-08-22T07:26:11.502Z"
   },
   {
    "duration": 7,
    "start_time": "2022-08-22T07:26:11.514Z"
   },
   {
    "duration": 7,
    "start_time": "2022-08-22T07:26:11.523Z"
   },
   {
    "duration": 18,
    "start_time": "2022-08-22T07:26:11.531Z"
   },
   {
    "duration": 8,
    "start_time": "2022-08-22T07:26:11.551Z"
   },
   {
    "duration": 38,
    "start_time": "2022-08-22T07:26:11.560Z"
   },
   {
    "duration": 5,
    "start_time": "2022-08-22T07:26:11.600Z"
   },
   {
    "duration": 8,
    "start_time": "2022-08-22T07:26:11.606Z"
   },
   {
    "duration": 28,
    "start_time": "2022-08-22T07:26:11.616Z"
   },
   {
    "duration": 2,
    "start_time": "2022-08-22T07:26:11.645Z"
   },
   {
    "duration": 14,
    "start_time": "2022-08-22T07:26:11.648Z"
   },
   {
    "duration": 40,
    "start_time": "2022-08-22T07:26:11.663Z"
   },
   {
    "duration": 2,
    "start_time": "2022-08-22T07:26:11.704Z"
   },
   {
    "duration": 4,
    "start_time": "2022-08-22T07:26:11.708Z"
   },
   {
    "duration": 33,
    "start_time": "2022-08-22T07:26:11.713Z"
   },
   {
    "duration": 31,
    "start_time": "2022-08-22T07:31:11.366Z"
   },
   {
    "duration": 4,
    "start_time": "2022-08-22T07:31:14.031Z"
   },
   {
    "duration": 5,
    "start_time": "2022-08-22T07:31:14.037Z"
   },
   {
    "duration": 41,
    "start_time": "2022-08-22T07:31:14.043Z"
   },
   {
    "duration": 19,
    "start_time": "2022-08-22T07:31:14.086Z"
   },
   {
    "duration": 4,
    "start_time": "2022-08-22T07:31:14.106Z"
   },
   {
    "duration": 12,
    "start_time": "2022-08-22T07:31:14.111Z"
   },
   {
    "duration": 11,
    "start_time": "2022-08-22T07:31:14.125Z"
   },
   {
    "duration": 9,
    "start_time": "2022-08-22T07:31:14.137Z"
   },
   {
    "duration": 19,
    "start_time": "2022-08-22T07:31:14.148Z"
   },
   {
    "duration": 33,
    "start_time": "2022-08-22T07:31:14.169Z"
   },
   {
    "duration": 2,
    "start_time": "2022-08-22T07:31:14.204Z"
   },
   {
    "duration": 6,
    "start_time": "2022-08-22T07:31:14.208Z"
   },
   {
    "duration": 6,
    "start_time": "2022-08-22T07:31:14.216Z"
   },
   {
    "duration": 21,
    "start_time": "2022-08-22T07:31:14.224Z"
   },
   {
    "duration": 10,
    "start_time": "2022-08-22T07:31:14.246Z"
   },
   {
    "duration": 52,
    "start_time": "2022-08-22T07:31:14.257Z"
   },
   {
    "duration": 2,
    "start_time": "2022-08-22T07:31:14.310Z"
   },
   {
    "duration": 5,
    "start_time": "2022-08-22T07:31:14.314Z"
   },
   {
    "duration": 30,
    "start_time": "2022-08-22T07:31:14.321Z"
   },
   {
    "duration": 10,
    "start_time": "2022-08-22T08:11:41.792Z"
   },
   {
    "duration": 14,
    "start_time": "2022-08-22T08:12:17.679Z"
   },
   {
    "duration": 4,
    "start_time": "2022-08-22T08:12:22.575Z"
   },
   {
    "duration": 13,
    "start_time": "2022-08-22T08:12:22.582Z"
   },
   {
    "duration": 42,
    "start_time": "2022-08-22T08:12:22.596Z"
   },
   {
    "duration": 21,
    "start_time": "2022-08-22T08:12:22.639Z"
   },
   {
    "duration": 10,
    "start_time": "2022-08-22T08:12:22.661Z"
   },
   {
    "duration": 14,
    "start_time": "2022-08-22T08:12:22.672Z"
   },
   {
    "duration": 9,
    "start_time": "2022-08-22T08:12:22.687Z"
   },
   {
    "duration": 7,
    "start_time": "2022-08-22T08:12:22.697Z"
   },
   {
    "duration": 19,
    "start_time": "2022-08-22T08:12:22.705Z"
   },
   {
    "duration": 7,
    "start_time": "2022-08-22T08:12:22.725Z"
   },
   {
    "duration": 2,
    "start_time": "2022-08-22T08:12:22.734Z"
   },
   {
    "duration": 9,
    "start_time": "2022-08-22T08:12:22.738Z"
   },
   {
    "duration": 9,
    "start_time": "2022-08-22T08:12:22.748Z"
   },
   {
    "duration": 49,
    "start_time": "2022-08-22T08:12:22.759Z"
   },
   {
    "duration": 9,
    "start_time": "2022-08-22T08:12:22.810Z"
   },
   {
    "duration": 24,
    "start_time": "2022-08-22T08:12:22.820Z"
   },
   {
    "duration": 15,
    "start_time": "2022-08-22T08:12:22.845Z"
   },
   {
    "duration": 2,
    "start_time": "2022-08-22T08:12:22.861Z"
   },
   {
    "duration": 9,
    "start_time": "2022-08-22T08:12:22.865Z"
   },
   {
    "duration": 30,
    "start_time": "2022-08-22T08:12:22.899Z"
   },
   {
    "duration": 4,
    "start_time": "2022-08-22T08:13:03.356Z"
   },
   {
    "duration": 4,
    "start_time": "2022-08-22T08:13:03.362Z"
   },
   {
    "duration": 47,
    "start_time": "2022-08-22T08:13:03.368Z"
   },
   {
    "duration": 19,
    "start_time": "2022-08-22T08:13:03.416Z"
   },
   {
    "duration": 3,
    "start_time": "2022-08-22T08:13:03.437Z"
   },
   {
    "duration": 15,
    "start_time": "2022-08-22T08:13:03.441Z"
   },
   {
    "duration": 21,
    "start_time": "2022-08-22T08:13:03.458Z"
   },
   {
    "duration": 6,
    "start_time": "2022-08-22T08:13:03.480Z"
   },
   {
    "duration": 24,
    "start_time": "2022-08-22T08:13:03.488Z"
   },
   {
    "duration": 8,
    "start_time": "2022-08-22T08:13:03.514Z"
   },
   {
    "duration": 2,
    "start_time": "2022-08-22T08:13:03.523Z"
   },
   {
    "duration": 8,
    "start_time": "2022-08-22T08:13:03.526Z"
   },
   {
    "duration": 8,
    "start_time": "2022-08-22T08:13:03.536Z"
   },
   {
    "duration": 25,
    "start_time": "2022-08-22T08:13:03.546Z"
   },
   {
    "duration": 33,
    "start_time": "2022-08-22T08:13:03.572Z"
   },
   {
    "duration": 21,
    "start_time": "2022-08-22T08:13:03.606Z"
   },
   {
    "duration": 14,
    "start_time": "2022-08-22T08:13:03.628Z"
   },
   {
    "duration": 3,
    "start_time": "2022-08-22T08:13:03.643Z"
   },
   {
    "duration": 5,
    "start_time": "2022-08-22T08:13:03.647Z"
   },
   {
    "duration": 53,
    "start_time": "2022-08-22T08:13:03.654Z"
   },
   {
    "duration": 4,
    "start_time": "2022-08-22T08:13:33.720Z"
   },
   {
    "duration": 5,
    "start_time": "2022-08-22T08:13:33.726Z"
   },
   {
    "duration": 40,
    "start_time": "2022-08-22T08:13:33.733Z"
   },
   {
    "duration": 20,
    "start_time": "2022-08-22T08:13:33.775Z"
   },
   {
    "duration": 5,
    "start_time": "2022-08-22T08:13:33.798Z"
   },
   {
    "duration": 14,
    "start_time": "2022-08-22T08:13:33.804Z"
   },
   {
    "duration": 7,
    "start_time": "2022-08-22T08:13:33.819Z"
   },
   {
    "duration": 10,
    "start_time": "2022-08-22T08:13:33.827Z"
   },
   {
    "duration": 18,
    "start_time": "2022-08-22T08:13:33.838Z"
   },
   {
    "duration": 7,
    "start_time": "2022-08-22T08:13:33.858Z"
   },
   {
    "duration": 1,
    "start_time": "2022-08-22T08:13:33.898Z"
   },
   {
    "duration": 18,
    "start_time": "2022-08-22T08:13:33.901Z"
   },
   {
    "duration": 6,
    "start_time": "2022-08-22T08:13:33.920Z"
   },
   {
    "duration": 29,
    "start_time": "2022-08-22T08:13:33.929Z"
   },
   {
    "duration": 11,
    "start_time": "2022-08-22T08:13:33.959Z"
   },
   {
    "duration": 35,
    "start_time": "2022-08-22T08:13:33.971Z"
   },
   {
    "duration": 15,
    "start_time": "2022-08-22T08:13:34.007Z"
   },
   {
    "duration": 4,
    "start_time": "2022-08-22T08:13:34.023Z"
   },
   {
    "duration": 5,
    "start_time": "2022-08-22T08:13:34.028Z"
   },
   {
    "duration": 8,
    "start_time": "2022-08-22T08:13:34.034Z"
   },
   {
    "duration": 6,
    "start_time": "2022-08-22T08:14:12.691Z"
   },
   {
    "duration": 6,
    "start_time": "2022-08-22T08:14:12.699Z"
   },
   {
    "duration": 42,
    "start_time": "2022-08-22T08:14:12.706Z"
   },
   {
    "duration": 19,
    "start_time": "2022-08-22T08:14:12.750Z"
   },
   {
    "duration": 3,
    "start_time": "2022-08-22T08:14:12.771Z"
   },
   {
    "duration": 10,
    "start_time": "2022-08-22T08:14:12.775Z"
   },
   {
    "duration": 11,
    "start_time": "2022-08-22T08:14:12.786Z"
   },
   {
    "duration": 8,
    "start_time": "2022-08-22T08:14:12.798Z"
   },
   {
    "duration": 20,
    "start_time": "2022-08-22T08:14:12.807Z"
   },
   {
    "duration": 8,
    "start_time": "2022-08-22T08:14:12.828Z"
   },
   {
    "duration": 2,
    "start_time": "2022-08-22T08:14:12.837Z"
   },
   {
    "duration": 9,
    "start_time": "2022-08-22T08:14:12.841Z"
   },
   {
    "duration": 6,
    "start_time": "2022-08-22T08:14:12.851Z"
   },
   {
    "duration": 52,
    "start_time": "2022-08-22T08:14:12.859Z"
   },
   {
    "duration": 10,
    "start_time": "2022-08-22T08:14:12.912Z"
   },
   {
    "duration": 15,
    "start_time": "2022-08-22T08:14:12.923Z"
   },
   {
    "duration": 15,
    "start_time": "2022-08-22T08:14:12.939Z"
   },
   {
    "duration": 2,
    "start_time": "2022-08-22T08:14:12.956Z"
   },
   {
    "duration": 7,
    "start_time": "2022-08-22T08:14:12.959Z"
   },
   {
    "duration": 5,
    "start_time": "2022-08-22T08:14:12.967Z"
   },
   {
    "duration": 9,
    "start_time": "2022-08-22T08:15:07.075Z"
   },
   {
    "duration": 5,
    "start_time": "2022-08-22T08:15:12.309Z"
   },
   {
    "duration": 5,
    "start_time": "2022-08-22T08:15:12.316Z"
   },
   {
    "duration": 41,
    "start_time": "2022-08-22T08:15:12.322Z"
   },
   {
    "duration": 21,
    "start_time": "2022-08-22T08:15:12.364Z"
   },
   {
    "duration": 4,
    "start_time": "2022-08-22T08:15:12.386Z"
   },
   {
    "duration": 10,
    "start_time": "2022-08-22T08:15:12.391Z"
   },
   {
    "duration": 7,
    "start_time": "2022-08-22T08:15:12.403Z"
   },
   {
    "duration": 7,
    "start_time": "2022-08-22T08:15:12.412Z"
   },
   {
    "duration": 19,
    "start_time": "2022-08-22T08:15:12.421Z"
   },
   {
    "duration": 8,
    "start_time": "2022-08-22T08:15:12.442Z"
   },
   {
    "duration": 5,
    "start_time": "2022-08-22T08:15:12.451Z"
   },
   {
    "duration": 15,
    "start_time": "2022-08-22T08:15:12.457Z"
   },
   {
    "duration": 5,
    "start_time": "2022-08-22T08:15:12.499Z"
   },
   {
    "duration": 22,
    "start_time": "2022-08-22T08:15:12.506Z"
   },
   {
    "duration": 9,
    "start_time": "2022-08-22T08:15:12.530Z"
   },
   {
    "duration": 9,
    "start_time": "2022-08-22T08:15:12.540Z"
   },
   {
    "duration": 4,
    "start_time": "2022-08-22T08:15:12.550Z"
   },
   {
    "duration": 5,
    "start_time": "2022-08-22T08:15:12.555Z"
   },
   {
    "duration": 4,
    "start_time": "2022-08-22T08:15:12.561Z"
   },
   {
    "duration": 32,
    "start_time": "2022-08-22T08:15:12.566Z"
   },
   {
    "duration": 4,
    "start_time": "2022-08-22T08:15:52.968Z"
   },
   {
    "duration": 4,
    "start_time": "2022-08-22T08:15:52.974Z"
   },
   {
    "duration": 42,
    "start_time": "2022-08-22T08:15:52.980Z"
   },
   {
    "duration": 20,
    "start_time": "2022-08-22T08:15:53.024Z"
   },
   {
    "duration": 3,
    "start_time": "2022-08-22T08:15:53.045Z"
   },
   {
    "duration": 12,
    "start_time": "2022-08-22T08:15:53.049Z"
   },
   {
    "duration": 8,
    "start_time": "2022-08-22T08:15:53.063Z"
   },
   {
    "duration": 7,
    "start_time": "2022-08-22T08:15:53.072Z"
   },
   {
    "duration": 35,
    "start_time": "2022-08-22T08:15:53.080Z"
   },
   {
    "duration": 7,
    "start_time": "2022-08-22T08:15:53.118Z"
   },
   {
    "duration": 2,
    "start_time": "2022-08-22T08:15:53.126Z"
   },
   {
    "duration": 7,
    "start_time": "2022-08-22T08:15:53.130Z"
   },
   {
    "duration": 8,
    "start_time": "2022-08-22T08:15:53.138Z"
   },
   {
    "duration": 25,
    "start_time": "2022-08-22T08:15:53.147Z"
   },
   {
    "duration": 32,
    "start_time": "2022-08-22T08:15:53.173Z"
   },
   {
    "duration": 14,
    "start_time": "2022-08-22T08:15:53.207Z"
   },
   {
    "duration": 13,
    "start_time": "2022-08-22T08:15:53.223Z"
   },
   {
    "duration": 2,
    "start_time": "2022-08-22T08:15:53.237Z"
   },
   {
    "duration": 5,
    "start_time": "2022-08-22T08:15:53.241Z"
   },
   {
    "duration": 5,
    "start_time": "2022-08-22T08:15:53.247Z"
   },
   {
    "duration": 5,
    "start_time": "2022-08-22T08:16:17.007Z"
   },
   {
    "duration": 5,
    "start_time": "2022-08-22T08:16:17.014Z"
   },
   {
    "duration": 40,
    "start_time": "2022-08-22T08:16:17.020Z"
   },
   {
    "duration": 19,
    "start_time": "2022-08-22T08:16:17.062Z"
   },
   {
    "duration": 5,
    "start_time": "2022-08-22T08:16:17.084Z"
   },
   {
    "duration": 20,
    "start_time": "2022-08-22T08:16:17.091Z"
   },
   {
    "duration": 14,
    "start_time": "2022-08-22T08:16:17.112Z"
   },
   {
    "duration": 7,
    "start_time": "2022-08-22T08:16:17.127Z"
   },
   {
    "duration": 17,
    "start_time": "2022-08-22T08:16:17.135Z"
   },
   {
    "duration": 7,
    "start_time": "2022-08-22T08:16:17.153Z"
   },
   {
    "duration": 2,
    "start_time": "2022-08-22T08:16:17.161Z"
   },
   {
    "duration": 7,
    "start_time": "2022-08-22T08:16:17.164Z"
   },
   {
    "duration": 25,
    "start_time": "2022-08-22T08:16:17.173Z"
   },
   {
    "duration": 26,
    "start_time": "2022-08-22T08:16:17.201Z"
   },
   {
    "duration": 9,
    "start_time": "2022-08-22T08:16:17.228Z"
   },
   {
    "duration": 25,
    "start_time": "2022-08-22T08:16:17.238Z"
   },
   {
    "duration": 1,
    "start_time": "2022-08-22T08:16:17.264Z"
   },
   {
    "duration": 5,
    "start_time": "2022-08-22T08:16:17.267Z"
   },
   {
    "duration": 4,
    "start_time": "2022-08-22T08:16:17.273Z"
   },
   {
    "duration": 5,
    "start_time": "2022-08-22T08:33:44.521Z"
   },
   {
    "duration": 6,
    "start_time": "2022-08-22T08:33:47.225Z"
   },
   {
    "duration": 14,
    "start_time": "2022-08-22T08:35:01.363Z"
   },
   {
    "duration": 7,
    "start_time": "2022-08-22T08:37:32.231Z"
   },
   {
    "duration": 5,
    "start_time": "2022-08-22T08:48:26.740Z"
   },
   {
    "duration": 777,
    "start_time": "2022-08-22T08:49:41.038Z"
   },
   {
    "duration": 4,
    "start_time": "2022-08-22T08:50:22.682Z"
   },
   {
    "duration": 7,
    "start_time": "2022-08-22T08:50:22.688Z"
   },
   {
    "duration": 43,
    "start_time": "2022-08-22T08:50:22.697Z"
   },
   {
    "duration": 20,
    "start_time": "2022-08-22T08:50:22.741Z"
   },
   {
    "duration": 4,
    "start_time": "2022-08-22T08:50:22.763Z"
   },
   {
    "duration": 13,
    "start_time": "2022-08-22T08:50:22.768Z"
   },
   {
    "duration": 9,
    "start_time": "2022-08-22T08:50:22.782Z"
   },
   {
    "duration": 9,
    "start_time": "2022-08-22T08:50:22.792Z"
   },
   {
    "duration": 17,
    "start_time": "2022-08-22T08:50:22.802Z"
   },
   {
    "duration": 7,
    "start_time": "2022-08-22T08:50:22.820Z"
   },
   {
    "duration": 2,
    "start_time": "2022-08-22T08:50:22.828Z"
   },
   {
    "duration": 8,
    "start_time": "2022-08-22T08:50:22.831Z"
   },
   {
    "duration": 6,
    "start_time": "2022-08-22T08:50:22.841Z"
   },
   {
    "duration": 26,
    "start_time": "2022-08-22T08:50:22.848Z"
   },
   {
    "duration": 30,
    "start_time": "2022-08-22T08:50:22.875Z"
   },
   {
    "duration": 33,
    "start_time": "2022-08-22T08:50:22.907Z"
   },
   {
    "duration": 5,
    "start_time": "2022-08-22T08:50:22.941Z"
   },
   {
    "duration": 7,
    "start_time": "2022-08-22T08:50:22.948Z"
   },
   {
    "duration": 6,
    "start_time": "2022-08-22T08:50:22.957Z"
   },
   {
    "duration": 1626,
    "start_time": "2022-08-22T08:50:22.964Z"
   },
   {
    "duration": 5,
    "start_time": "2022-08-22T08:52:55.614Z"
   },
   {
    "duration": 737,
    "start_time": "2022-08-22T08:53:39.902Z"
   },
   {
    "duration": 5,
    "start_time": "2022-08-22T08:54:01.723Z"
   },
   {
    "duration": 5,
    "start_time": "2022-08-22T08:55:02.833Z"
   },
   {
    "duration": 809,
    "start_time": "2022-08-22T09:00:12.232Z"
   },
   {
    "duration": 7,
    "start_time": "2022-08-22T09:02:38.554Z"
   },
   {
    "duration": 3,
    "start_time": "2022-08-22T09:04:40.405Z"
   },
   {
    "duration": 809,
    "start_time": "2022-08-22T09:04:42.696Z"
   },
   {
    "duration": 9,
    "start_time": "2022-08-22T09:04:43.995Z"
   },
   {
    "duration": 7,
    "start_time": "2022-08-22T09:05:02.947Z"
   },
   {
    "duration": 8,
    "start_time": "2022-08-22T09:05:15.504Z"
   },
   {
    "duration": 9,
    "start_time": "2022-08-22T09:09:36.161Z"
   },
   {
    "duration": 3,
    "start_time": "2022-08-22T09:15:14.657Z"
   },
   {
    "duration": 5,
    "start_time": "2022-08-22T09:15:17.041Z"
   },
   {
    "duration": 6,
    "start_time": "2022-08-22T09:15:18.217Z"
   },
   {
    "duration": 11,
    "start_time": "2022-08-22T09:16:20.929Z"
   },
   {
    "duration": 4,
    "start_time": "2022-08-22T09:16:55.258Z"
   },
   {
    "duration": 9,
    "start_time": "2022-08-22T09:16:55.264Z"
   },
   {
    "duration": 46,
    "start_time": "2022-08-22T09:16:55.275Z"
   },
   {
    "duration": 19,
    "start_time": "2022-08-22T09:16:55.322Z"
   },
   {
    "duration": 3,
    "start_time": "2022-08-22T09:16:55.343Z"
   },
   {
    "duration": 11,
    "start_time": "2022-08-22T09:16:55.348Z"
   },
   {
    "duration": 11,
    "start_time": "2022-08-22T09:16:55.360Z"
   },
   {
    "duration": 8,
    "start_time": "2022-08-22T09:16:55.372Z"
   },
   {
    "duration": 31,
    "start_time": "2022-08-22T09:16:55.381Z"
   },
   {
    "duration": 17,
    "start_time": "2022-08-22T09:16:55.413Z"
   },
   {
    "duration": 6,
    "start_time": "2022-08-22T09:16:55.432Z"
   },
   {
    "duration": 19,
    "start_time": "2022-08-22T09:16:55.439Z"
   },
   {
    "duration": 8,
    "start_time": "2022-08-22T09:16:55.460Z"
   },
   {
    "duration": 22,
    "start_time": "2022-08-22T09:16:55.470Z"
   },
   {
    "duration": 11,
    "start_time": "2022-08-22T09:16:55.493Z"
   },
   {
    "duration": 25,
    "start_time": "2022-08-22T09:16:55.505Z"
   },
   {
    "duration": 4,
    "start_time": "2022-08-22T09:16:55.531Z"
   },
   {
    "duration": 9,
    "start_time": "2022-08-22T09:16:55.536Z"
   },
   {
    "duration": 7,
    "start_time": "2022-08-22T09:16:55.546Z"
   },
   {
    "duration": 4,
    "start_time": "2022-08-22T09:16:55.554Z"
   },
   {
    "duration": 7,
    "start_time": "2022-08-22T09:16:55.559Z"
   },
   {
    "duration": 9,
    "start_time": "2022-08-22T09:16:55.567Z"
   },
   {
    "duration": 22,
    "start_time": "2022-08-22T09:16:55.577Z"
   },
   {
    "duration": 810,
    "start_time": "2022-08-22T09:16:55.601Z"
   },
   {
    "duration": 8,
    "start_time": "2022-08-22T09:16:56.412Z"
   },
   {
    "duration": 283,
    "start_time": "2022-08-22T09:22:22.616Z"
   },
   {
    "duration": 183,
    "start_time": "2022-08-22T09:22:38.023Z"
   },
   {
    "duration": 238,
    "start_time": "2022-08-22T09:23:25.561Z"
   },
   {
    "duration": 6,
    "start_time": "2022-08-22T09:23:44.485Z"
   },
   {
    "duration": 14,
    "start_time": "2022-08-22T09:23:44.493Z"
   },
   {
    "duration": 48,
    "start_time": "2022-08-22T09:23:44.508Z"
   },
   {
    "duration": 27,
    "start_time": "2022-08-22T09:23:44.559Z"
   },
   {
    "duration": 4,
    "start_time": "2022-08-22T09:23:44.587Z"
   },
   {
    "duration": 12,
    "start_time": "2022-08-22T09:23:44.592Z"
   },
   {
    "duration": 9,
    "start_time": "2022-08-22T09:23:44.605Z"
   },
   {
    "duration": 9,
    "start_time": "2022-08-22T09:23:44.616Z"
   },
   {
    "duration": 19,
    "start_time": "2022-08-22T09:23:44.626Z"
   },
   {
    "duration": 11,
    "start_time": "2022-08-22T09:23:44.647Z"
   },
   {
    "duration": 2,
    "start_time": "2022-08-22T09:23:44.659Z"
   },
   {
    "duration": 7,
    "start_time": "2022-08-22T09:23:44.662Z"
   },
   {
    "duration": 7,
    "start_time": "2022-08-22T09:23:44.671Z"
   },
   {
    "duration": 23,
    "start_time": "2022-08-22T09:23:44.698Z"
   },
   {
    "duration": 10,
    "start_time": "2022-08-22T09:23:44.722Z"
   },
   {
    "duration": 26,
    "start_time": "2022-08-22T09:23:44.733Z"
   },
   {
    "duration": 4,
    "start_time": "2022-08-22T09:23:44.760Z"
   },
   {
    "duration": 33,
    "start_time": "2022-08-22T09:23:44.765Z"
   },
   {
    "duration": 7,
    "start_time": "2022-08-22T09:23:44.799Z"
   },
   {
    "duration": 4,
    "start_time": "2022-08-22T09:23:44.807Z"
   },
   {
    "duration": 7,
    "start_time": "2022-08-22T09:23:44.812Z"
   },
   {
    "duration": 8,
    "start_time": "2022-08-22T09:23:44.820Z"
   },
   {
    "duration": 6,
    "start_time": "2022-08-22T09:23:44.829Z"
   },
   {
    "duration": 837,
    "start_time": "2022-08-22T09:23:44.836Z"
   },
   {
    "duration": 8,
    "start_time": "2022-08-22T09:23:45.674Z"
   },
   {
    "duration": 225,
    "start_time": "2022-08-22T09:23:45.684Z"
   },
   {
    "duration": 3,
    "start_time": "2022-08-22T09:23:45.999Z"
   },
   {
    "duration": 277,
    "start_time": "2022-08-22T09:24:28.422Z"
   },
   {
    "duration": 9,
    "start_time": "2022-08-22T09:39:19.529Z"
   },
   {
    "duration": 60,
    "start_time": "2022-08-22T09:42:41.234Z"
   },
   {
    "duration": 33262,
    "start_time": "2022-08-22T09:47:22.932Z"
   },
   {
    "duration": 3,
    "start_time": "2022-08-22T09:49:04.678Z"
   },
   {
    "duration": 228,
    "start_time": "2022-08-22T09:52:27.401Z"
   },
   {
    "duration": 25,
    "start_time": "2022-08-22T09:52:36.414Z"
   },
   {
    "duration": 8,
    "start_time": "2022-08-22T09:52:51.311Z"
   },
   {
    "duration": 1849,
    "start_time": "2022-08-23T03:29:07.972Z"
   },
   {
    "duration": 3,
    "start_time": "2022-08-23T03:29:09.824Z"
   },
   {
    "duration": 190,
    "start_time": "2022-08-23T03:29:09.829Z"
   },
   {
    "duration": 34,
    "start_time": "2022-08-23T03:29:10.020Z"
   },
   {
    "duration": 4,
    "start_time": "2022-08-23T03:29:10.057Z"
   },
   {
    "duration": 19,
    "start_time": "2022-08-23T03:29:10.062Z"
   },
   {
    "duration": 18,
    "start_time": "2022-08-23T03:29:10.083Z"
   },
   {
    "duration": 14,
    "start_time": "2022-08-23T03:29:10.103Z"
   },
   {
    "duration": 31,
    "start_time": "2022-08-23T03:29:10.119Z"
   },
   {
    "duration": 9,
    "start_time": "2022-08-23T03:29:10.152Z"
   },
   {
    "duration": 8,
    "start_time": "2022-08-23T03:29:10.162Z"
   },
   {
    "duration": 25,
    "start_time": "2022-08-23T03:29:10.172Z"
   },
   {
    "duration": 18,
    "start_time": "2022-08-23T03:29:10.199Z"
   },
   {
    "duration": 29,
    "start_time": "2022-08-23T03:29:10.221Z"
   },
   {
    "duration": 14,
    "start_time": "2022-08-23T03:29:10.252Z"
   },
   {
    "duration": 44,
    "start_time": "2022-08-23T03:29:10.292Z"
   },
   {
    "duration": 6,
    "start_time": "2022-08-23T03:29:10.338Z"
   },
   {
    "duration": 8,
    "start_time": "2022-08-23T03:29:10.346Z"
   },
   {
    "duration": 43,
    "start_time": "2022-08-23T03:29:10.356Z"
   },
   {
    "duration": 9,
    "start_time": "2022-08-23T03:29:10.400Z"
   },
   {
    "duration": 10,
    "start_time": "2022-08-23T03:29:10.412Z"
   },
   {
    "duration": 12,
    "start_time": "2022-08-23T03:29:10.424Z"
   },
   {
    "duration": 5,
    "start_time": "2022-08-23T03:29:10.438Z"
   },
   {
    "duration": 37110,
    "start_time": "2022-08-23T03:29:10.445Z"
   },
   {
    "duration": 4,
    "start_time": "2022-08-23T03:29:47.557Z"
   },
   {
    "duration": 264,
    "start_time": "2022-08-23T03:29:47.563Z"
   },
   {
    "duration": 30,
    "start_time": "2022-08-23T03:29:47.829Z"
   },
   {
    "duration": 9,
    "start_time": "2022-08-23T03:29:47.861Z"
   },
   {
    "duration": 621,
    "start_time": "2022-08-23T03:29:47.872Z"
   },
   {
    "duration": 97,
    "start_time": "2022-08-23T03:40:52.903Z"
   },
   {
    "duration": 11,
    "start_time": "2022-08-23T03:41:22.603Z"
   },
   {
    "duration": 346,
    "start_time": "2022-08-23T03:49:23.751Z"
   },
   {
    "duration": 47,
    "start_time": "2022-08-23T03:50:15.655Z"
   },
   {
    "duration": 11,
    "start_time": "2022-08-23T03:50:32.777Z"
   },
   {
    "duration": 270,
    "start_time": "2022-08-23T03:51:02.193Z"
   },
   {
    "duration": 441,
    "start_time": "2022-08-23T03:52:29.559Z"
   },
   {
    "duration": 185,
    "start_time": "2022-08-23T03:53:11.206Z"
   },
   {
    "duration": 27,
    "start_time": "2022-08-23T03:54:29.788Z"
   },
   {
    "duration": 117,
    "start_time": "2022-08-23T03:55:19.178Z"
   },
   {
    "duration": 69,
    "start_time": "2022-08-23T03:55:31.124Z"
   },
   {
    "duration": 6,
    "start_time": "2022-08-23T03:55:40.866Z"
   },
   {
    "duration": 10,
    "start_time": "2022-08-23T03:55:40.874Z"
   },
   {
    "duration": 45,
    "start_time": "2022-08-23T03:55:40.885Z"
   },
   {
    "duration": 26,
    "start_time": "2022-08-23T03:55:40.932Z"
   },
   {
    "duration": 4,
    "start_time": "2022-08-23T03:55:40.959Z"
   },
   {
    "duration": 16,
    "start_time": "2022-08-23T03:55:40.965Z"
   },
   {
    "duration": 10,
    "start_time": "2022-08-23T03:55:40.983Z"
   },
   {
    "duration": 11,
    "start_time": "2022-08-23T03:55:40.994Z"
   },
   {
    "duration": 23,
    "start_time": "2022-08-23T03:55:41.007Z"
   },
   {
    "duration": 9,
    "start_time": "2022-08-23T03:55:41.033Z"
   },
   {
    "duration": 2,
    "start_time": "2022-08-23T03:55:41.044Z"
   },
   {
    "duration": 44,
    "start_time": "2022-08-23T03:55:41.049Z"
   },
   {
    "duration": 10,
    "start_time": "2022-08-23T03:55:41.095Z"
   },
   {
    "duration": 28,
    "start_time": "2022-08-23T03:55:41.107Z"
   },
   {
    "duration": 13,
    "start_time": "2022-08-23T03:55:41.136Z"
   },
   {
    "duration": 61,
    "start_time": "2022-08-23T03:55:41.151Z"
   },
   {
    "duration": 6,
    "start_time": "2022-08-23T03:55:41.213Z"
   },
   {
    "duration": 5,
    "start_time": "2022-08-23T03:55:41.221Z"
   },
   {
    "duration": 9,
    "start_time": "2022-08-23T03:55:41.228Z"
   },
   {
    "duration": 3,
    "start_time": "2022-08-23T03:55:41.239Z"
   },
   {
    "duration": 8,
    "start_time": "2022-08-23T03:55:41.243Z"
   },
   {
    "duration": 6,
    "start_time": "2022-08-23T03:55:41.253Z"
   },
   {
    "duration": 31,
    "start_time": "2022-08-23T03:55:41.261Z"
   },
   {
    "duration": 36802,
    "start_time": "2022-08-23T03:55:41.294Z"
   },
   {
    "duration": 4,
    "start_time": "2022-08-23T03:56:18.097Z"
   },
   {
    "duration": 283,
    "start_time": "2022-08-23T03:56:18.103Z"
   },
   {
    "duration": 9,
    "start_time": "2022-08-23T03:56:18.391Z"
   },
   {
    "duration": 91,
    "start_time": "2022-08-23T03:56:18.404Z"
   },
   {
    "duration": 102,
    "start_time": "2022-08-23T03:56:18.497Z"
   },
   {
    "duration": 96,
    "start_time": "2022-08-23T03:56:18.601Z"
   },
   {
    "duration": 80,
    "start_time": "2022-08-23T03:57:15.165Z"
   },
   {
    "duration": 2,
    "start_time": "2022-08-23T03:57:42.551Z"
   },
   {
    "duration": 5,
    "start_time": "2022-08-23T03:58:33.490Z"
   },
   {
    "duration": 13,
    "start_time": "2022-08-23T03:58:33.498Z"
   },
   {
    "duration": 47,
    "start_time": "2022-08-23T03:58:33.512Z"
   },
   {
    "duration": 26,
    "start_time": "2022-08-23T03:58:33.561Z"
   },
   {
    "duration": 4,
    "start_time": "2022-08-23T03:58:33.592Z"
   },
   {
    "duration": 30,
    "start_time": "2022-08-23T03:58:33.598Z"
   },
   {
    "duration": 14,
    "start_time": "2022-08-23T03:58:33.630Z"
   },
   {
    "duration": 22,
    "start_time": "2022-08-23T03:58:33.647Z"
   },
   {
    "duration": 32,
    "start_time": "2022-08-23T03:58:33.672Z"
   },
   {
    "duration": 8,
    "start_time": "2022-08-23T03:58:33.706Z"
   },
   {
    "duration": 5,
    "start_time": "2022-08-23T03:58:33.716Z"
   },
   {
    "duration": 15,
    "start_time": "2022-08-23T03:58:33.723Z"
   },
   {
    "duration": 18,
    "start_time": "2022-08-23T03:58:33.740Z"
   },
   {
    "duration": 54,
    "start_time": "2022-08-23T03:58:33.760Z"
   },
   {
    "duration": 18,
    "start_time": "2022-08-23T03:58:33.816Z"
   },
   {
    "duration": 69,
    "start_time": "2022-08-23T03:58:33.836Z"
   },
   {
    "duration": 8,
    "start_time": "2022-08-23T03:58:33.907Z"
   },
   {
    "duration": 17,
    "start_time": "2022-08-23T03:58:33.916Z"
   },
   {
    "duration": 22,
    "start_time": "2022-08-23T03:58:33.936Z"
   },
   {
    "duration": 12,
    "start_time": "2022-08-23T03:58:33.960Z"
   },
   {
    "duration": 19,
    "start_time": "2022-08-23T03:58:33.974Z"
   },
   {
    "duration": 20,
    "start_time": "2022-08-23T03:58:33.994Z"
   },
   {
    "duration": 11,
    "start_time": "2022-08-23T03:58:34.015Z"
   },
   {
    "duration": 13,
    "start_time": "2022-08-23T03:58:34.029Z"
   },
   {
    "duration": 19,
    "start_time": "2022-08-23T03:58:34.044Z"
   },
   {
    "duration": 286,
    "start_time": "2022-08-23T03:58:34.065Z"
   },
   {
    "duration": 10,
    "start_time": "2022-08-23T03:58:34.353Z"
   },
   {
    "duration": 133,
    "start_time": "2022-08-23T03:58:34.364Z"
   },
   {
    "duration": 98,
    "start_time": "2022-08-23T03:58:34.499Z"
   },
   {
    "duration": 98,
    "start_time": "2022-08-23T03:58:34.599Z"
   },
   {
    "duration": 93,
    "start_time": "2022-08-23T03:58:34.699Z"
   },
   {
    "duration": 157,
    "start_time": "2022-08-23T04:00:50.338Z"
   },
   {
    "duration": 6,
    "start_time": "2022-08-23T04:01:10.156Z"
   },
   {
    "duration": 174,
    "start_time": "2022-08-23T04:02:22.523Z"
   },
   {
    "duration": 5,
    "start_time": "2022-08-23T04:02:37.272Z"
   },
   {
    "duration": 9,
    "start_time": "2022-08-23T04:02:37.279Z"
   },
   {
    "duration": 45,
    "start_time": "2022-08-23T04:02:37.290Z"
   },
   {
    "duration": 26,
    "start_time": "2022-08-23T04:02:37.338Z"
   },
   {
    "duration": 5,
    "start_time": "2022-08-23T04:02:37.365Z"
   },
   {
    "duration": 22,
    "start_time": "2022-08-23T04:02:37.371Z"
   },
   {
    "duration": 12,
    "start_time": "2022-08-23T04:02:37.395Z"
   },
   {
    "duration": 9,
    "start_time": "2022-08-23T04:02:37.409Z"
   },
   {
    "duration": 23,
    "start_time": "2022-08-23T04:02:37.419Z"
   },
   {
    "duration": 10,
    "start_time": "2022-08-23T04:02:37.444Z"
   },
   {
    "duration": 2,
    "start_time": "2022-08-23T04:02:37.456Z"
   },
   {
    "duration": 7,
    "start_time": "2022-08-23T04:02:37.491Z"
   },
   {
    "duration": 13,
    "start_time": "2022-08-23T04:02:37.500Z"
   },
   {
    "duration": 28,
    "start_time": "2022-08-23T04:02:37.515Z"
   },
   {
    "duration": 13,
    "start_time": "2022-08-23T04:02:37.545Z"
   },
   {
    "duration": 59,
    "start_time": "2022-08-23T04:02:37.559Z"
   },
   {
    "duration": 5,
    "start_time": "2022-08-23T04:02:37.620Z"
   },
   {
    "duration": 9,
    "start_time": "2022-08-23T04:02:37.627Z"
   },
   {
    "duration": 13,
    "start_time": "2022-08-23T04:02:37.637Z"
   },
   {
    "duration": 13,
    "start_time": "2022-08-23T04:02:37.651Z"
   },
   {
    "duration": 27,
    "start_time": "2022-08-23T04:02:37.665Z"
   },
   {
    "duration": 17,
    "start_time": "2022-08-23T04:02:37.694Z"
   },
   {
    "duration": 20,
    "start_time": "2022-08-23T04:02:37.712Z"
   },
   {
    "duration": 10,
    "start_time": "2022-08-23T04:02:37.734Z"
   },
   {
    "duration": 18,
    "start_time": "2022-08-23T04:02:37.746Z"
   },
   {
    "duration": 299,
    "start_time": "2022-08-23T04:02:37.766Z"
   },
   {
    "duration": 9,
    "start_time": "2022-08-23T04:02:38.067Z"
   },
   {
    "duration": 121,
    "start_time": "2022-08-23T04:02:38.079Z"
   },
   {
    "duration": 10,
    "start_time": "2022-08-23T04:02:38.293Z"
   },
   {
    "duration": 187,
    "start_time": "2022-08-23T04:02:38.305Z"
   },
   {
    "duration": 187,
    "start_time": "2022-08-23T04:02:52.705Z"
   },
   {
    "duration": 157,
    "start_time": "2022-08-23T04:03:19.642Z"
   },
   {
    "duration": 200,
    "start_time": "2022-08-23T04:03:35.104Z"
   },
   {
    "duration": 284,
    "start_time": "2022-08-23T04:04:47.222Z"
   },
   {
    "duration": 278,
    "start_time": "2022-08-23T04:05:07.563Z"
   },
   {
    "duration": 151,
    "start_time": "2022-08-23T04:05:39.669Z"
   },
   {
    "duration": 282,
    "start_time": "2022-08-23T04:07:06.421Z"
   },
   {
    "duration": 285,
    "start_time": "2022-08-23T04:08:02.840Z"
   },
   {
    "duration": 194,
    "start_time": "2022-08-23T04:29:51.997Z"
   },
   {
    "duration": 263,
    "start_time": "2022-08-23T04:30:57.831Z"
   },
   {
    "duration": 181,
    "start_time": "2022-08-23T04:31:18.117Z"
   },
   {
    "duration": 294,
    "start_time": "2022-08-23T04:32:18.723Z"
   },
   {
    "duration": 582,
    "start_time": "2022-08-23T04:37:11.966Z"
   },
   {
    "duration": 16,
    "start_time": "2022-08-23T04:46:19.361Z"
   },
   {
    "duration": 13,
    "start_time": "2022-08-23T04:47:43.709Z"
   },
   {
    "duration": 5,
    "start_time": "2022-08-23T04:49:16.250Z"
   },
   {
    "duration": 8,
    "start_time": "2022-08-23T04:49:16.257Z"
   },
   {
    "duration": 52,
    "start_time": "2022-08-23T04:49:16.266Z"
   },
   {
    "duration": 26,
    "start_time": "2022-08-23T04:49:16.320Z"
   },
   {
    "duration": 4,
    "start_time": "2022-08-23T04:49:16.347Z"
   },
   {
    "duration": 15,
    "start_time": "2022-08-23T04:49:16.353Z"
   },
   {
    "duration": 35,
    "start_time": "2022-08-23T04:49:16.370Z"
   },
   {
    "duration": 9,
    "start_time": "2022-08-23T04:49:16.407Z"
   },
   {
    "duration": 26,
    "start_time": "2022-08-23T04:49:16.418Z"
   },
   {
    "duration": 8,
    "start_time": "2022-08-23T04:49:16.447Z"
   },
   {
    "duration": 5,
    "start_time": "2022-08-23T04:49:16.457Z"
   },
   {
    "duration": 12,
    "start_time": "2022-08-23T04:49:16.464Z"
   },
   {
    "duration": 25,
    "start_time": "2022-08-23T04:49:16.478Z"
   },
   {
    "duration": 33,
    "start_time": "2022-08-23T04:49:16.505Z"
   },
   {
    "duration": 12,
    "start_time": "2022-08-23T04:49:16.540Z"
   },
   {
    "duration": 54,
    "start_time": "2022-08-23T04:49:16.554Z"
   },
   {
    "duration": 6,
    "start_time": "2022-08-23T04:49:16.610Z"
   },
   {
    "duration": 10,
    "start_time": "2022-08-23T04:49:16.618Z"
   },
   {
    "duration": 9,
    "start_time": "2022-08-23T04:49:16.629Z"
   },
   {
    "duration": 4,
    "start_time": "2022-08-23T04:49:16.639Z"
   },
   {
    "duration": 11,
    "start_time": "2022-08-23T04:49:16.644Z"
   },
   {
    "duration": 8,
    "start_time": "2022-08-23T04:49:16.656Z"
   },
   {
    "duration": 40,
    "start_time": "2022-08-23T04:49:16.665Z"
   },
   {
    "duration": 5,
    "start_time": "2022-08-23T04:49:16.707Z"
   },
   {
    "duration": 7,
    "start_time": "2022-08-23T04:49:16.714Z"
   },
   {
    "duration": 299,
    "start_time": "2022-08-23T04:49:16.722Z"
   },
   {
    "duration": 10,
    "start_time": "2022-08-23T04:49:17.023Z"
   },
   {
    "duration": 170,
    "start_time": "2022-08-23T04:49:17.036Z"
   },
   {
    "duration": 100,
    "start_time": "2022-08-23T04:49:17.210Z"
   },
   {
    "duration": 285,
    "start_time": "2022-08-23T04:49:17.312Z"
   },
   {
    "duration": 14,
    "start_time": "2022-08-23T04:49:17.599Z"
   },
   {
    "duration": 13,
    "start_time": "2022-08-23T04:49:17.615Z"
   },
   {
    "duration": 398,
    "start_time": "2022-08-23T04:49:17.630Z"
   },
   {
    "duration": 172,
    "start_time": "2022-08-23T04:49:18.030Z"
   },
   {
    "duration": 201,
    "start_time": "2022-08-23T04:49:18.293Z"
   },
   {
    "duration": 139,
    "start_time": "2022-08-23T04:50:26.359Z"
   },
   {
    "duration": 5,
    "start_time": "2022-08-23T04:51:26.505Z"
   },
   {
    "duration": 17,
    "start_time": "2022-08-23T04:51:26.512Z"
   },
   {
    "duration": 46,
    "start_time": "2022-08-23T04:51:26.531Z"
   },
   {
    "duration": 27,
    "start_time": "2022-08-23T04:51:26.579Z"
   },
   {
    "duration": 23,
    "start_time": "2022-08-23T04:51:26.608Z"
   },
   {
    "duration": 19,
    "start_time": "2022-08-23T04:51:26.633Z"
   },
   {
    "duration": 17,
    "start_time": "2022-08-23T04:51:26.655Z"
   },
   {
    "duration": 14,
    "start_time": "2022-08-23T04:51:26.674Z"
   },
   {
    "duration": 30,
    "start_time": "2022-08-23T04:51:26.690Z"
   },
   {
    "duration": 10,
    "start_time": "2022-08-23T04:51:26.721Z"
   },
   {
    "duration": 5,
    "start_time": "2022-08-23T04:51:26.732Z"
   },
   {
    "duration": 14,
    "start_time": "2022-08-23T04:51:26.739Z"
   },
   {
    "duration": 22,
    "start_time": "2022-08-23T04:51:26.754Z"
   },
   {
    "duration": 38,
    "start_time": "2022-08-23T04:51:26.779Z"
   },
   {
    "duration": 14,
    "start_time": "2022-08-23T04:51:26.819Z"
   },
   {
    "duration": 46,
    "start_time": "2022-08-23T04:51:26.836Z"
   },
   {
    "duration": 11,
    "start_time": "2022-08-23T04:51:26.895Z"
   },
   {
    "duration": 12,
    "start_time": "2022-08-23T04:51:26.908Z"
   },
   {
    "duration": 22,
    "start_time": "2022-08-23T04:51:26.922Z"
   },
   {
    "duration": 19,
    "start_time": "2022-08-23T04:51:26.945Z"
   },
   {
    "duration": 12,
    "start_time": "2022-08-23T04:51:26.966Z"
   },
   {
    "duration": 34,
    "start_time": "2022-08-23T04:51:26.980Z"
   },
   {
    "duration": 10,
    "start_time": "2022-08-23T04:51:27.016Z"
   },
   {
    "duration": 11,
    "start_time": "2022-08-23T04:51:27.028Z"
   },
   {
    "duration": 10,
    "start_time": "2022-08-23T04:51:27.040Z"
   },
   {
    "duration": 291,
    "start_time": "2022-08-23T04:51:27.052Z"
   },
   {
    "duration": 9,
    "start_time": "2022-08-23T04:51:27.345Z"
   },
   {
    "duration": 145,
    "start_time": "2022-08-23T04:51:27.356Z"
   },
   {
    "duration": 98,
    "start_time": "2022-08-23T04:51:27.504Z"
   },
   {
    "duration": 314,
    "start_time": "2022-08-23T04:51:27.605Z"
   },
   {
    "duration": 188,
    "start_time": "2022-08-23T04:51:27.921Z"
   },
   {
    "duration": 91,
    "start_time": "2022-08-23T04:51:28.111Z"
   },
   {
    "duration": 398,
    "start_time": "2022-08-23T04:51:28.204Z"
   },
   {
    "duration": 204,
    "start_time": "2022-08-23T04:51:28.603Z"
   },
   {
    "duration": 6,
    "start_time": "2022-08-23T04:54:15.953Z"
   },
   {
    "duration": 12,
    "start_time": "2022-08-23T04:54:28.012Z"
   },
   {
    "duration": 6,
    "start_time": "2022-08-23T04:54:29.988Z"
   },
   {
    "duration": 371,
    "start_time": "2022-08-23T04:54:49.875Z"
   },
   {
    "duration": 5,
    "start_time": "2022-08-23T04:57:29.379Z"
   },
   {
    "duration": 11,
    "start_time": "2022-08-23T05:00:42.744Z"
   },
   {
    "duration": 4,
    "start_time": "2022-08-23T05:01:24.709Z"
   },
   {
    "duration": 8,
    "start_time": "2022-08-23T05:01:24.716Z"
   },
   {
    "duration": 45,
    "start_time": "2022-08-23T05:01:24.726Z"
   },
   {
    "duration": 26,
    "start_time": "2022-08-23T05:01:24.773Z"
   },
   {
    "duration": 4,
    "start_time": "2022-08-23T05:01:24.801Z"
   },
   {
    "duration": 12,
    "start_time": "2022-08-23T05:01:24.807Z"
   },
   {
    "duration": 11,
    "start_time": "2022-08-23T05:01:24.821Z"
   },
   {
    "duration": 8,
    "start_time": "2022-08-23T05:01:24.834Z"
   },
   {
    "duration": 49,
    "start_time": "2022-08-23T05:01:24.844Z"
   },
   {
    "duration": 9,
    "start_time": "2022-08-23T05:01:24.895Z"
   },
   {
    "duration": 3,
    "start_time": "2022-08-23T05:01:24.905Z"
   },
   {
    "duration": 8,
    "start_time": "2022-08-23T05:01:24.909Z"
   },
   {
    "duration": 6,
    "start_time": "2022-08-23T05:01:24.919Z"
   },
   {
    "duration": 26,
    "start_time": "2022-08-23T05:01:24.927Z"
   },
   {
    "duration": 46,
    "start_time": "2022-08-23T05:01:24.955Z"
   },
   {
    "duration": 33,
    "start_time": "2022-08-23T05:01:25.003Z"
   },
   {
    "duration": 6,
    "start_time": "2022-08-23T05:01:25.038Z"
   },
   {
    "duration": 7,
    "start_time": "2022-08-23T05:01:25.045Z"
   },
   {
    "duration": 9,
    "start_time": "2022-08-23T05:01:25.054Z"
   },
   {
    "duration": 11,
    "start_time": "2022-08-23T05:01:25.093Z"
   },
   {
    "duration": 3,
    "start_time": "2022-08-23T05:01:25.105Z"
   },
   {
    "duration": 12,
    "start_time": "2022-08-23T05:01:25.109Z"
   },
   {
    "duration": 6,
    "start_time": "2022-08-23T05:01:25.123Z"
   },
   {
    "duration": 5,
    "start_time": "2022-08-23T05:01:25.130Z"
   },
   {
    "duration": 5,
    "start_time": "2022-08-23T05:01:25.137Z"
   },
   {
    "duration": 5,
    "start_time": "2022-08-23T05:01:25.143Z"
   },
   {
    "duration": 309,
    "start_time": "2022-08-23T05:01:25.150Z"
   },
   {
    "duration": 10,
    "start_time": "2022-08-23T05:01:25.461Z"
   },
   {
    "duration": 124,
    "start_time": "2022-08-23T05:01:25.472Z"
   },
   {
    "duration": 101,
    "start_time": "2022-08-23T05:01:25.598Z"
   },
   {
    "duration": 300,
    "start_time": "2022-08-23T05:01:25.701Z"
   },
   {
    "duration": 194,
    "start_time": "2022-08-23T05:01:26.003Z"
   },
   {
    "duration": 11,
    "start_time": "2022-08-23T05:01:26.199Z"
   },
   {
    "duration": 5,
    "start_time": "2022-08-23T05:01:26.212Z"
   },
   {
    "duration": 389,
    "start_time": "2022-08-23T05:01:26.219Z"
   },
   {
    "duration": 285,
    "start_time": "2022-08-23T05:01:26.609Z"
   },
   {
    "duration": 12,
    "start_time": "2022-08-23T05:02:56.965Z"
   },
   {
    "duration": 11,
    "start_time": "2022-08-23T05:04:26.454Z"
   },
   {
    "duration": 1029,
    "start_time": "2022-08-23T05:06:43.916Z"
   },
   {
    "duration": 5,
    "start_time": "2022-08-23T05:07:09.046Z"
   },
   {
    "duration": 8,
    "start_time": "2022-08-23T05:07:09.053Z"
   },
   {
    "duration": 48,
    "start_time": "2022-08-23T05:07:09.063Z"
   },
   {
    "duration": 25,
    "start_time": "2022-08-23T05:07:09.113Z"
   },
   {
    "duration": 6,
    "start_time": "2022-08-23T05:07:09.141Z"
   },
   {
    "duration": 43,
    "start_time": "2022-08-23T05:07:09.149Z"
   },
   {
    "duration": 10,
    "start_time": "2022-08-23T05:07:09.194Z"
   },
   {
    "duration": 14,
    "start_time": "2022-08-23T05:07:09.206Z"
   },
   {
    "duration": 33,
    "start_time": "2022-08-23T05:07:09.222Z"
   },
   {
    "duration": 9,
    "start_time": "2022-08-23T05:07:09.257Z"
   },
   {
    "duration": 4,
    "start_time": "2022-08-23T05:07:09.291Z"
   },
   {
    "duration": 9,
    "start_time": "2022-08-23T05:07:09.297Z"
   },
   {
    "duration": 26,
    "start_time": "2022-08-23T05:07:09.308Z"
   },
   {
    "duration": 35,
    "start_time": "2022-08-23T05:07:09.339Z"
   },
   {
    "duration": 28,
    "start_time": "2022-08-23T05:07:09.376Z"
   },
   {
    "duration": 38,
    "start_time": "2022-08-23T05:07:09.406Z"
   },
   {
    "duration": 6,
    "start_time": "2022-08-23T05:07:09.446Z"
   },
   {
    "duration": 6,
    "start_time": "2022-08-23T05:07:09.454Z"
   },
   {
    "duration": 37,
    "start_time": "2022-08-23T05:07:09.462Z"
   },
   {
    "duration": 20,
    "start_time": "2022-08-23T05:07:09.501Z"
   },
   {
    "duration": 1059,
    "start_time": "2022-08-23T05:07:09.523Z"
   },
   {
    "duration": 0,
    "start_time": "2022-08-23T05:07:10.584Z"
   },
   {
    "duration": 0,
    "start_time": "2022-08-23T05:07:10.586Z"
   },
   {
    "duration": 0,
    "start_time": "2022-08-23T05:07:10.587Z"
   },
   {
    "duration": 0,
    "start_time": "2022-08-23T05:07:10.589Z"
   },
   {
    "duration": 0,
    "start_time": "2022-08-23T05:07:10.591Z"
   },
   {
    "duration": 0,
    "start_time": "2022-08-23T05:07:10.592Z"
   },
   {
    "duration": 0,
    "start_time": "2022-08-23T05:07:10.594Z"
   },
   {
    "duration": 0,
    "start_time": "2022-08-23T05:07:10.595Z"
   },
   {
    "duration": 0,
    "start_time": "2022-08-23T05:07:10.597Z"
   },
   {
    "duration": 0,
    "start_time": "2022-08-23T05:07:10.598Z"
   },
   {
    "duration": 0,
    "start_time": "2022-08-23T05:07:10.600Z"
   },
   {
    "duration": 0,
    "start_time": "2022-08-23T05:07:10.602Z"
   },
   {
    "duration": 0,
    "start_time": "2022-08-23T05:07:10.604Z"
   },
   {
    "duration": 0,
    "start_time": "2022-08-23T05:07:10.606Z"
   },
   {
    "duration": 0,
    "start_time": "2022-08-23T05:07:10.607Z"
   },
   {
    "duration": 0,
    "start_time": "2022-08-23T05:07:10.609Z"
   },
   {
    "duration": 5,
    "start_time": "2022-08-23T05:08:36.240Z"
   },
   {
    "duration": 5,
    "start_time": "2022-08-23T05:09:01.177Z"
   },
   {
    "duration": 6,
    "start_time": "2022-08-23T05:09:04.182Z"
   },
   {
    "duration": 12,
    "start_time": "2022-08-23T05:09:04.191Z"
   },
   {
    "duration": 59,
    "start_time": "2022-08-23T05:09:04.205Z"
   },
   {
    "duration": 27,
    "start_time": "2022-08-23T05:09:04.266Z"
   },
   {
    "duration": 5,
    "start_time": "2022-08-23T05:09:04.295Z"
   },
   {
    "duration": 24,
    "start_time": "2022-08-23T05:09:04.302Z"
   },
   {
    "duration": 20,
    "start_time": "2022-08-23T05:09:04.327Z"
   },
   {
    "duration": 19,
    "start_time": "2022-08-23T05:09:04.349Z"
   },
   {
    "duration": 39,
    "start_time": "2022-08-23T05:09:04.369Z"
   },
   {
    "duration": 9,
    "start_time": "2022-08-23T05:09:04.411Z"
   },
   {
    "duration": 17,
    "start_time": "2022-08-23T05:09:04.422Z"
   },
   {
    "duration": 14,
    "start_time": "2022-08-23T05:09:04.441Z"
   },
   {
    "duration": 18,
    "start_time": "2022-08-23T05:09:04.457Z"
   },
   {
    "duration": 40,
    "start_time": "2022-08-23T05:09:04.477Z"
   },
   {
    "duration": 14,
    "start_time": "2022-08-23T05:09:04.519Z"
   },
   {
    "duration": 36,
    "start_time": "2022-08-23T05:09:04.535Z"
   },
   {
    "duration": 5,
    "start_time": "2022-08-23T05:09:04.573Z"
   },
   {
    "duration": 6,
    "start_time": "2022-08-23T05:09:04.592Z"
   },
   {
    "duration": 9,
    "start_time": "2022-08-23T05:09:04.600Z"
   },
   {
    "duration": 21,
    "start_time": "2022-08-23T05:09:04.611Z"
   },
   {
    "duration": 1138,
    "start_time": "2022-08-23T05:09:04.634Z"
   },
   {
    "duration": 0,
    "start_time": "2022-08-23T05:09:05.774Z"
   },
   {
    "duration": 0,
    "start_time": "2022-08-23T05:09:05.775Z"
   },
   {
    "duration": 0,
    "start_time": "2022-08-23T05:09:05.777Z"
   },
   {
    "duration": 0,
    "start_time": "2022-08-23T05:09:05.777Z"
   },
   {
    "duration": 0,
    "start_time": "2022-08-23T05:09:05.779Z"
   },
   {
    "duration": 0,
    "start_time": "2022-08-23T05:09:05.779Z"
   },
   {
    "duration": 0,
    "start_time": "2022-08-23T05:09:05.780Z"
   },
   {
    "duration": 0,
    "start_time": "2022-08-23T05:09:05.781Z"
   },
   {
    "duration": 0,
    "start_time": "2022-08-23T05:09:05.783Z"
   },
   {
    "duration": 0,
    "start_time": "2022-08-23T05:09:05.783Z"
   },
   {
    "duration": 0,
    "start_time": "2022-08-23T05:09:05.784Z"
   },
   {
    "duration": 0,
    "start_time": "2022-08-23T05:09:05.785Z"
   },
   {
    "duration": 0,
    "start_time": "2022-08-23T05:09:05.786Z"
   },
   {
    "duration": 0,
    "start_time": "2022-08-23T05:09:05.787Z"
   },
   {
    "duration": 0,
    "start_time": "2022-08-23T05:09:05.788Z"
   },
   {
    "duration": 0,
    "start_time": "2022-08-23T05:09:05.789Z"
   },
   {
    "duration": 6,
    "start_time": "2022-08-23T05:14:14.428Z"
   },
   {
    "duration": 7,
    "start_time": "2022-08-23T05:15:24.322Z"
   },
   {
    "duration": 7,
    "start_time": "2022-08-23T05:17:45.282Z"
   },
   {
    "duration": 7,
    "start_time": "2022-08-23T05:18:02.677Z"
   },
   {
    "duration": 8,
    "start_time": "2022-08-23T05:18:21.205Z"
   },
   {
    "duration": 5,
    "start_time": "2022-08-23T05:21:08.688Z"
   },
   {
    "duration": 9,
    "start_time": "2022-08-23T05:21:38.885Z"
   },
   {
    "duration": 10,
    "start_time": "2022-08-23T05:22:28.053Z"
   },
   {
    "duration": 9,
    "start_time": "2022-08-23T05:23:02.159Z"
   },
   {
    "duration": 12,
    "start_time": "2022-08-23T05:23:32.049Z"
   },
   {
    "duration": 271,
    "start_time": "2022-08-23T05:24:26.381Z"
   },
   {
    "duration": 6,
    "start_time": "2022-08-23T05:24:35.009Z"
   },
   {
    "duration": 15,
    "start_time": "2022-08-23T05:24:35.017Z"
   },
   {
    "duration": 54,
    "start_time": "2022-08-23T05:24:35.034Z"
   },
   {
    "duration": 24,
    "start_time": "2022-08-23T05:24:35.090Z"
   },
   {
    "duration": 4,
    "start_time": "2022-08-23T05:24:35.116Z"
   },
   {
    "duration": 15,
    "start_time": "2022-08-23T05:24:35.122Z"
   },
   {
    "duration": 22,
    "start_time": "2022-08-23T05:24:35.139Z"
   },
   {
    "duration": 33,
    "start_time": "2022-08-23T05:24:35.163Z"
   },
   {
    "duration": 24,
    "start_time": "2022-08-23T05:24:35.197Z"
   },
   {
    "duration": 8,
    "start_time": "2022-08-23T05:24:35.223Z"
   },
   {
    "duration": 3,
    "start_time": "2022-08-23T05:24:35.233Z"
   },
   {
    "duration": 22,
    "start_time": "2022-08-23T05:24:35.238Z"
   },
   {
    "duration": 10,
    "start_time": "2022-08-23T05:24:35.262Z"
   },
   {
    "duration": 28,
    "start_time": "2022-08-23T05:24:35.291Z"
   },
   {
    "duration": 12,
    "start_time": "2022-08-23T05:24:35.321Z"
   },
   {
    "duration": 58,
    "start_time": "2022-08-23T05:24:35.335Z"
   },
   {
    "duration": 5,
    "start_time": "2022-08-23T05:24:35.395Z"
   },
   {
    "duration": 6,
    "start_time": "2022-08-23T05:24:35.402Z"
   },
   {
    "duration": 9,
    "start_time": "2022-08-23T05:24:35.410Z"
   },
   {
    "duration": 10,
    "start_time": "2022-08-23T05:24:35.420Z"
   },
   {
    "duration": 3,
    "start_time": "2022-08-23T05:24:35.432Z"
   },
   {
    "duration": 4,
    "start_time": "2022-08-23T05:24:35.438Z"
   },
   {
    "duration": 9,
    "start_time": "2022-08-23T05:24:35.444Z"
   },
   {
    "duration": 312,
    "start_time": "2022-08-23T05:24:35.455Z"
   },
   {
    "duration": 10,
    "start_time": "2022-08-23T05:24:35.770Z"
   },
   {
    "duration": 107,
    "start_time": "2022-08-23T05:24:35.792Z"
   },
   {
    "duration": 102,
    "start_time": "2022-08-23T05:24:35.901Z"
   },
   {
    "duration": 294,
    "start_time": "2022-08-23T05:24:36.005Z"
   },
   {
    "duration": 192,
    "start_time": "2022-08-23T05:24:36.301Z"
   },
   {
    "duration": 12,
    "start_time": "2022-08-23T05:24:36.494Z"
   },
   {
    "duration": 41,
    "start_time": "2022-08-23T05:24:36.507Z"
   },
   {
    "duration": 378,
    "start_time": "2022-08-23T05:24:36.550Z"
   },
   {
    "duration": 268,
    "start_time": "2022-08-23T05:24:36.929Z"
   },
   {
    "duration": 489,
    "start_time": "2022-08-23T05:27:50.762Z"
   },
   {
    "duration": 6,
    "start_time": "2022-08-23T05:29:28.364Z"
   },
   {
    "duration": 5,
    "start_time": "2022-08-23T05:29:39.715Z"
   },
   {
    "duration": 5,
    "start_time": "2022-08-23T05:29:49.708Z"
   },
   {
    "duration": 11,
    "start_time": "2022-08-23T05:29:49.715Z"
   },
   {
    "duration": 45,
    "start_time": "2022-08-23T05:29:49.728Z"
   },
   {
    "duration": 25,
    "start_time": "2022-08-23T05:29:49.775Z"
   },
   {
    "duration": 4,
    "start_time": "2022-08-23T05:29:49.803Z"
   },
   {
    "duration": 14,
    "start_time": "2022-08-23T05:29:49.809Z"
   },
   {
    "duration": 9,
    "start_time": "2022-08-23T05:29:49.825Z"
   },
   {
    "duration": 9,
    "start_time": "2022-08-23T05:29:49.836Z"
   },
   {
    "duration": 61,
    "start_time": "2022-08-23T05:29:49.846Z"
   },
   {
    "duration": 10,
    "start_time": "2022-08-23T05:29:49.909Z"
   },
   {
    "duration": 2,
    "start_time": "2022-08-23T05:29:49.921Z"
   },
   {
    "duration": 9,
    "start_time": "2022-08-23T05:29:49.925Z"
   },
   {
    "duration": 8,
    "start_time": "2022-08-23T05:29:49.936Z"
   },
   {
    "duration": 58,
    "start_time": "2022-08-23T05:29:49.947Z"
   },
   {
    "duration": 13,
    "start_time": "2022-08-23T05:29:50.007Z"
   },
   {
    "duration": 33,
    "start_time": "2022-08-23T05:29:50.022Z"
   },
   {
    "duration": 5,
    "start_time": "2022-08-23T05:29:50.057Z"
   },
   {
    "duration": 28,
    "start_time": "2022-08-23T05:29:50.064Z"
   },
   {
    "duration": 12,
    "start_time": "2022-08-23T05:29:50.094Z"
   },
   {
    "duration": 8,
    "start_time": "2022-08-23T05:29:50.108Z"
   },
   {
    "duration": 3,
    "start_time": "2022-08-23T05:29:50.118Z"
   },
   {
    "duration": 5,
    "start_time": "2022-08-23T05:29:50.123Z"
   },
   {
    "duration": 5,
    "start_time": "2022-08-23T05:29:50.130Z"
   },
   {
    "duration": 307,
    "start_time": "2022-08-23T05:29:50.137Z"
   },
   {
    "duration": 11,
    "start_time": "2022-08-23T05:29:50.446Z"
   },
   {
    "duration": 234,
    "start_time": "2022-08-23T05:29:50.459Z"
   },
   {
    "duration": 9,
    "start_time": "2022-08-23T05:29:50.695Z"
   },
   {
    "duration": 289,
    "start_time": "2022-08-23T05:29:50.706Z"
   },
   {
    "duration": 198,
    "start_time": "2022-08-23T05:29:50.996Z"
   },
   {
    "duration": 13,
    "start_time": "2022-08-23T05:29:51.196Z"
   },
   {
    "duration": 5,
    "start_time": "2022-08-23T05:29:51.211Z"
   },
   {
    "duration": 379,
    "start_time": "2022-08-23T05:29:51.218Z"
   },
   {
    "duration": 206,
    "start_time": "2022-08-23T05:29:51.599Z"
   },
   {
    "duration": 5,
    "start_time": "2022-08-23T05:30:23.581Z"
   },
   {
    "duration": 5,
    "start_time": "2022-08-23T05:30:28.065Z"
   },
   {
    "duration": 13,
    "start_time": "2022-08-23T05:30:28.072Z"
   },
   {
    "duration": 43,
    "start_time": "2022-08-23T05:30:28.087Z"
   },
   {
    "duration": 26,
    "start_time": "2022-08-23T05:30:28.132Z"
   },
   {
    "duration": 4,
    "start_time": "2022-08-23T05:30:28.160Z"
   },
   {
    "duration": 15,
    "start_time": "2022-08-23T05:30:28.165Z"
   },
   {
    "duration": 14,
    "start_time": "2022-08-23T05:30:28.181Z"
   },
   {
    "duration": 9,
    "start_time": "2022-08-23T05:30:28.196Z"
   },
   {
    "duration": 23,
    "start_time": "2022-08-23T05:30:28.207Z"
   },
   {
    "duration": 9,
    "start_time": "2022-08-23T05:30:28.232Z"
   },
   {
    "duration": 2,
    "start_time": "2022-08-23T05:30:28.242Z"
   },
   {
    "duration": 9,
    "start_time": "2022-08-23T05:30:28.246Z"
   },
   {
    "duration": 40,
    "start_time": "2022-08-23T05:30:28.256Z"
   },
   {
    "duration": 108,
    "start_time": "2022-08-23T05:30:28.299Z"
   },
   {
    "duration": 11,
    "start_time": "2022-08-23T05:30:28.409Z"
   },
   {
    "duration": 31,
    "start_time": "2022-08-23T05:30:28.422Z"
   },
   {
    "duration": 6,
    "start_time": "2022-08-23T05:30:28.455Z"
   },
   {
    "duration": 30,
    "start_time": "2022-08-23T05:30:28.462Z"
   },
   {
    "duration": 9,
    "start_time": "2022-08-23T05:30:28.494Z"
   },
   {
    "duration": 9,
    "start_time": "2022-08-23T05:30:28.505Z"
   },
   {
    "duration": 4,
    "start_time": "2022-08-23T05:30:28.515Z"
   },
   {
    "duration": 6,
    "start_time": "2022-08-23T05:30:28.521Z"
   },
   {
    "duration": 11,
    "start_time": "2022-08-23T05:30:28.529Z"
   },
   {
    "duration": 310,
    "start_time": "2022-08-23T05:30:28.542Z"
   },
   {
    "duration": 11,
    "start_time": "2022-08-23T05:30:28.853Z"
   },
   {
    "duration": 130,
    "start_time": "2022-08-23T05:30:28.866Z"
   },
   {
    "duration": 97,
    "start_time": "2022-08-23T05:30:28.999Z"
   },
   {
    "duration": 298,
    "start_time": "2022-08-23T05:30:29.098Z"
   },
   {
    "duration": 198,
    "start_time": "2022-08-23T05:30:29.398Z"
   },
   {
    "duration": 11,
    "start_time": "2022-08-23T05:30:29.598Z"
   },
   {
    "duration": 9,
    "start_time": "2022-08-23T05:30:29.611Z"
   },
   {
    "duration": 384,
    "start_time": "2022-08-23T05:30:29.621Z"
   },
   {
    "duration": 292,
    "start_time": "2022-08-23T05:30:30.007Z"
   },
   {
    "duration": 279,
    "start_time": "2022-08-23T05:37:40.643Z"
   },
   {
    "duration": 51,
    "start_time": "2022-08-23T05:37:53.648Z"
   },
   {
    "duration": 61,
    "start_time": "2022-08-23T05:39:16.544Z"
   },
   {
    "duration": 5,
    "start_time": "2022-08-23T05:39:33.123Z"
   },
   {
    "duration": 5,
    "start_time": "2022-08-23T05:39:33.131Z"
   },
   {
    "duration": 45,
    "start_time": "2022-08-23T05:39:33.138Z"
   },
   {
    "duration": 25,
    "start_time": "2022-08-23T05:39:33.184Z"
   },
   {
    "duration": 4,
    "start_time": "2022-08-23T05:39:33.211Z"
   },
   {
    "duration": 16,
    "start_time": "2022-08-23T05:39:33.217Z"
   },
   {
    "duration": 13,
    "start_time": "2022-08-23T05:39:33.235Z"
   },
   {
    "duration": 10,
    "start_time": "2022-08-23T05:39:33.249Z"
   },
   {
    "duration": 48,
    "start_time": "2022-08-23T05:39:33.261Z"
   },
   {
    "duration": 12,
    "start_time": "2022-08-23T05:39:33.311Z"
   },
   {
    "duration": 3,
    "start_time": "2022-08-23T05:39:33.324Z"
   },
   {
    "duration": 8,
    "start_time": "2022-08-23T05:39:33.329Z"
   },
   {
    "duration": 11,
    "start_time": "2022-08-23T05:39:33.339Z"
   },
   {
    "duration": 61,
    "start_time": "2022-08-23T05:39:33.353Z"
   },
   {
    "duration": 13,
    "start_time": "2022-08-23T05:39:33.416Z"
   },
   {
    "duration": 33,
    "start_time": "2022-08-23T05:39:33.431Z"
   },
   {
    "duration": 30,
    "start_time": "2022-08-23T05:39:33.466Z"
   },
   {
    "duration": 6,
    "start_time": "2022-08-23T05:39:33.498Z"
   },
   {
    "duration": 9,
    "start_time": "2022-08-23T05:39:33.505Z"
   },
   {
    "duration": 8,
    "start_time": "2022-08-23T05:39:33.516Z"
   },
   {
    "duration": 3,
    "start_time": "2022-08-23T05:39:33.526Z"
   },
   {
    "duration": 5,
    "start_time": "2022-08-23T05:39:33.530Z"
   },
   {
    "duration": 4,
    "start_time": "2022-08-23T05:39:33.537Z"
   },
   {
    "duration": 323,
    "start_time": "2022-08-23T05:39:33.543Z"
   },
   {
    "duration": 12,
    "start_time": "2022-08-23T05:39:33.868Z"
   },
   {
    "duration": 107,
    "start_time": "2022-08-23T05:39:33.891Z"
   },
   {
    "duration": 100,
    "start_time": "2022-08-23T05:39:34.001Z"
   },
   {
    "duration": 297,
    "start_time": "2022-08-23T05:39:34.103Z"
   },
   {
    "duration": 97,
    "start_time": "2022-08-23T05:39:34.402Z"
   },
   {
    "duration": 12,
    "start_time": "2022-08-23T05:39:34.592Z"
   },
   {
    "duration": 5,
    "start_time": "2022-08-23T05:39:34.606Z"
   },
   {
    "duration": 385,
    "start_time": "2022-08-23T05:39:34.613Z"
   },
   {
    "duration": 88,
    "start_time": "2022-08-23T05:39:34.999Z"
   },
   {
    "duration": 0,
    "start_time": "2022-08-23T05:39:35.088Z"
   },
   {
    "duration": 5,
    "start_time": "2022-08-23T05:39:50.045Z"
   },
   {
    "duration": 7,
    "start_time": "2022-08-23T05:39:50.053Z"
   },
   {
    "duration": 44,
    "start_time": "2022-08-23T05:39:50.061Z"
   },
   {
    "duration": 24,
    "start_time": "2022-08-23T05:39:50.107Z"
   },
   {
    "duration": 3,
    "start_time": "2022-08-23T05:39:50.134Z"
   },
   {
    "duration": 15,
    "start_time": "2022-08-23T05:39:50.139Z"
   },
   {
    "duration": 15,
    "start_time": "2022-08-23T05:39:50.156Z"
   },
   {
    "duration": 26,
    "start_time": "2022-08-23T05:39:50.173Z"
   },
   {
    "duration": 26,
    "start_time": "2022-08-23T05:39:50.201Z"
   },
   {
    "duration": 9,
    "start_time": "2022-08-23T05:39:50.228Z"
   },
   {
    "duration": 17,
    "start_time": "2022-08-23T05:39:50.239Z"
   },
   {
    "duration": 38,
    "start_time": "2022-08-23T05:39:50.258Z"
   },
   {
    "duration": 15,
    "start_time": "2022-08-23T05:39:50.298Z"
   },
   {
    "duration": 29,
    "start_time": "2022-08-23T05:39:50.317Z"
   },
   {
    "duration": 13,
    "start_time": "2022-08-23T05:39:50.348Z"
   },
   {
    "duration": 65,
    "start_time": "2022-08-23T05:39:50.364Z"
   },
   {
    "duration": 6,
    "start_time": "2022-08-23T05:39:50.430Z"
   },
   {
    "duration": 10,
    "start_time": "2022-08-23T05:39:50.438Z"
   },
   {
    "duration": 11,
    "start_time": "2022-08-23T05:39:50.450Z"
   },
   {
    "duration": 34,
    "start_time": "2022-08-23T05:39:50.463Z"
   },
   {
    "duration": 7,
    "start_time": "2022-08-23T05:39:50.499Z"
   },
   {
    "duration": 17,
    "start_time": "2022-08-23T05:39:50.508Z"
   },
   {
    "duration": 9,
    "start_time": "2022-08-23T05:39:50.528Z"
   },
   {
    "duration": 274,
    "start_time": "2022-08-23T05:39:50.539Z"
   },
   {
    "duration": 9,
    "start_time": "2022-08-23T05:39:50.815Z"
   },
   {
    "duration": 166,
    "start_time": "2022-08-23T05:39:50.826Z"
   },
   {
    "duration": 11,
    "start_time": "2022-08-23T05:39:50.994Z"
   },
   {
    "duration": 326,
    "start_time": "2022-08-23T05:39:51.007Z"
   },
   {
    "duration": 166,
    "start_time": "2022-08-23T05:39:51.334Z"
   },
   {
    "duration": 103,
    "start_time": "2022-08-23T05:39:51.501Z"
   },
   {
    "duration": 6,
    "start_time": "2022-08-23T05:39:51.606Z"
   },
   {
    "duration": 439,
    "start_time": "2022-08-23T05:39:51.613Z"
   },
   {
    "duration": 142,
    "start_time": "2022-08-23T05:39:52.054Z"
   },
   {
    "duration": 6,
    "start_time": "2022-08-23T05:44:34.028Z"
   },
   {
    "duration": 10,
    "start_time": "2022-08-23T05:46:23.367Z"
   },
   {
    "duration": 18,
    "start_time": "2022-08-23T05:47:48.514Z"
   },
   {
    "duration": 5,
    "start_time": "2022-08-23T05:48:07.404Z"
   },
   {
    "duration": 23,
    "start_time": "2022-08-23T05:48:07.410Z"
   },
   {
    "duration": 70,
    "start_time": "2022-08-23T05:48:07.435Z"
   },
   {
    "duration": 26,
    "start_time": "2022-08-23T05:48:07.508Z"
   },
   {
    "duration": 33,
    "start_time": "2022-08-23T05:48:07.536Z"
   },
   {
    "duration": 34,
    "start_time": "2022-08-23T05:48:07.572Z"
   },
   {
    "duration": 25,
    "start_time": "2022-08-23T05:48:07.608Z"
   },
   {
    "duration": 39,
    "start_time": "2022-08-23T05:48:07.635Z"
   },
   {
    "duration": 37,
    "start_time": "2022-08-23T05:48:07.676Z"
   },
   {
    "duration": 13,
    "start_time": "2022-08-23T05:48:07.714Z"
   },
   {
    "duration": 30,
    "start_time": "2022-08-23T05:48:07.730Z"
   },
   {
    "duration": 22,
    "start_time": "2022-08-23T05:48:07.762Z"
   },
   {
    "duration": 27,
    "start_time": "2022-08-23T05:48:07.787Z"
   },
   {
    "duration": 47,
    "start_time": "2022-08-23T05:48:07.816Z"
   },
   {
    "duration": 13,
    "start_time": "2022-08-23T05:48:07.865Z"
   },
   {
    "duration": 47,
    "start_time": "2022-08-23T05:48:07.880Z"
   },
   {
    "duration": 5,
    "start_time": "2022-08-23T05:48:07.929Z"
   },
   {
    "duration": 29,
    "start_time": "2022-08-23T05:48:07.936Z"
   },
   {
    "duration": 25,
    "start_time": "2022-08-23T05:48:07.967Z"
   },
   {
    "duration": 27,
    "start_time": "2022-08-23T05:48:07.994Z"
   },
   {
    "duration": 20,
    "start_time": "2022-08-23T05:48:08.023Z"
   },
   {
    "duration": 25,
    "start_time": "2022-08-23T05:48:08.045Z"
   },
   {
    "duration": 36,
    "start_time": "2022-08-23T05:48:08.072Z"
   },
   {
    "duration": 300,
    "start_time": "2022-08-23T05:48:08.111Z"
   },
   {
    "duration": 10,
    "start_time": "2022-08-23T05:48:08.413Z"
   },
   {
    "duration": 169,
    "start_time": "2022-08-23T05:48:08.425Z"
   },
   {
    "duration": 10,
    "start_time": "2022-08-23T05:48:08.596Z"
   },
   {
    "duration": 310,
    "start_time": "2022-08-23T05:48:08.607Z"
   },
   {
    "duration": 175,
    "start_time": "2022-08-23T05:48:08.919Z"
   },
   {
    "duration": 13,
    "start_time": "2022-08-23T05:48:09.096Z"
   },
   {
    "duration": 22,
    "start_time": "2022-08-23T05:48:09.111Z"
   },
   {
    "duration": 372,
    "start_time": "2022-08-23T05:48:09.135Z"
   },
   {
    "duration": 92,
    "start_time": "2022-08-23T05:48:09.509Z"
   },
   {
    "duration": 33,
    "start_time": "2022-08-23T05:49:43.084Z"
   },
   {
    "duration": 15,
    "start_time": "2022-08-23T05:50:02.739Z"
   },
   {
    "duration": 5,
    "start_time": "2022-08-23T05:50:05.831Z"
   },
   {
    "duration": 19,
    "start_time": "2022-08-23T05:50:05.838Z"
   },
   {
    "duration": 44,
    "start_time": "2022-08-23T05:50:05.859Z"
   },
   {
    "duration": 26,
    "start_time": "2022-08-23T05:50:05.905Z"
   },
   {
    "duration": 4,
    "start_time": "2022-08-23T05:50:05.933Z"
   },
   {
    "duration": 14,
    "start_time": "2022-08-23T05:50:05.938Z"
   },
   {
    "duration": 11,
    "start_time": "2022-08-23T05:50:05.954Z"
   },
   {
    "duration": 33,
    "start_time": "2022-08-23T05:50:05.967Z"
   },
   {
    "duration": 25,
    "start_time": "2022-08-23T05:50:06.001Z"
   },
   {
    "duration": 9,
    "start_time": "2022-08-23T05:50:06.027Z"
   },
   {
    "duration": 3,
    "start_time": "2022-08-23T05:50:06.038Z"
   },
   {
    "duration": 8,
    "start_time": "2022-08-23T05:50:06.043Z"
   },
   {
    "duration": 43,
    "start_time": "2022-08-23T05:50:06.052Z"
   },
   {
    "duration": 28,
    "start_time": "2022-08-23T05:50:06.098Z"
   },
   {
    "duration": 12,
    "start_time": "2022-08-23T05:50:06.128Z"
   },
   {
    "duration": 59,
    "start_time": "2022-08-23T05:50:06.142Z"
   },
   {
    "duration": 5,
    "start_time": "2022-08-23T05:50:06.203Z"
   },
   {
    "duration": 6,
    "start_time": "2022-08-23T05:50:06.210Z"
   },
   {
    "duration": 15,
    "start_time": "2022-08-23T05:50:06.217Z"
   },
   {
    "duration": 9,
    "start_time": "2022-08-23T05:50:06.234Z"
   },
   {
    "duration": 3,
    "start_time": "2022-08-23T05:50:06.244Z"
   },
   {
    "duration": 8,
    "start_time": "2022-08-23T05:50:06.249Z"
   },
   {
    "duration": 33,
    "start_time": "2022-08-23T05:50:06.259Z"
   },
   {
    "duration": 284,
    "start_time": "2022-08-23T05:50:06.294Z"
   },
   {
    "duration": 16,
    "start_time": "2022-08-23T05:50:06.579Z"
   },
   {
    "duration": 104,
    "start_time": "2022-08-23T05:50:06.597Z"
   },
   {
    "duration": 15,
    "start_time": "2022-08-23T05:50:06.792Z"
   },
   {
    "duration": 296,
    "start_time": "2022-08-23T05:50:06.809Z"
   },
   {
    "duration": 88,
    "start_time": "2022-08-23T05:50:07.107Z"
   },
   {
    "duration": 103,
    "start_time": "2022-08-23T05:50:07.199Z"
   },
   {
    "duration": 6,
    "start_time": "2022-08-23T05:50:07.305Z"
   },
   {
    "duration": 381,
    "start_time": "2022-08-23T05:50:07.313Z"
   },
   {
    "duration": 103,
    "start_time": "2022-08-23T05:50:07.696Z"
   },
   {
    "duration": 41,
    "start_time": "2022-08-23T05:52:00.266Z"
   },
   {
    "duration": 51,
    "start_time": "2022-08-23T05:52:28.516Z"
   },
   {
    "duration": 4,
    "start_time": "2022-08-23T05:52:47.531Z"
   },
   {
    "duration": 15,
    "start_time": "2022-08-23T05:52:47.537Z"
   },
   {
    "duration": 48,
    "start_time": "2022-08-23T05:52:47.554Z"
   },
   {
    "duration": 24,
    "start_time": "2022-08-23T05:52:47.604Z"
   },
   {
    "duration": 4,
    "start_time": "2022-08-23T05:52:47.630Z"
   },
   {
    "duration": 23,
    "start_time": "2022-08-23T05:52:47.636Z"
   },
   {
    "duration": 19,
    "start_time": "2022-08-23T05:52:47.661Z"
   },
   {
    "duration": 8,
    "start_time": "2022-08-23T05:52:47.691Z"
   },
   {
    "duration": 30,
    "start_time": "2022-08-23T05:52:47.701Z"
   },
   {
    "duration": 9,
    "start_time": "2022-08-23T05:52:47.732Z"
   },
   {
    "duration": 6,
    "start_time": "2022-08-23T05:52:47.743Z"
   },
   {
    "duration": 12,
    "start_time": "2022-08-23T05:52:47.751Z"
   },
   {
    "duration": 31,
    "start_time": "2022-08-23T05:52:47.765Z"
   },
   {
    "duration": 29,
    "start_time": "2022-08-23T05:52:47.799Z"
   },
   {
    "duration": 11,
    "start_time": "2022-08-23T05:52:47.830Z"
   },
   {
    "duration": 70,
    "start_time": "2022-08-23T05:52:47.842Z"
   },
   {
    "duration": 5,
    "start_time": "2022-08-23T05:52:47.914Z"
   },
   {
    "duration": 8,
    "start_time": "2022-08-23T05:52:47.920Z"
   },
   {
    "duration": 8,
    "start_time": "2022-08-23T05:52:47.930Z"
   },
   {
    "duration": 9,
    "start_time": "2022-08-23T05:52:47.940Z"
   },
   {
    "duration": 3,
    "start_time": "2022-08-23T05:52:47.951Z"
   },
   {
    "duration": 42,
    "start_time": "2022-08-23T05:52:47.956Z"
   },
   {
    "duration": 5,
    "start_time": "2022-08-23T05:52:48.000Z"
   },
   {
    "duration": 330,
    "start_time": "2022-08-23T05:52:48.007Z"
   },
   {
    "duration": 10,
    "start_time": "2022-08-23T05:52:48.339Z"
   },
   {
    "duration": 142,
    "start_time": "2022-08-23T05:52:48.351Z"
   },
   {
    "duration": 100,
    "start_time": "2022-08-23T05:52:48.495Z"
   },
   {
    "duration": 281,
    "start_time": "2022-08-23T05:52:48.597Z"
   },
   {
    "duration": 113,
    "start_time": "2022-08-23T05:52:48.880Z"
   },
   {
    "duration": 107,
    "start_time": "2022-08-23T05:52:48.995Z"
   },
   {
    "duration": 8,
    "start_time": "2022-08-23T05:52:49.103Z"
   },
   {
    "duration": 387,
    "start_time": "2022-08-23T05:52:49.112Z"
   },
   {
    "duration": 99,
    "start_time": "2022-08-23T05:52:49.501Z"
   },
   {
    "duration": 13,
    "start_time": "2022-08-23T06:01:37.253Z"
   },
   {
    "duration": 13,
    "start_time": "2022-08-23T06:04:54.100Z"
   },
   {
    "duration": 152,
    "start_time": "2022-08-23T06:04:58.030Z"
   },
   {
    "duration": 7,
    "start_time": "2022-08-23T06:07:05.030Z"
   },
   {
    "duration": 4,
    "start_time": "2022-08-23T06:07:48.053Z"
   },
   {
    "duration": 9,
    "start_time": "2022-08-23T06:07:48.060Z"
   },
   {
    "duration": 52,
    "start_time": "2022-08-23T06:07:48.070Z"
   },
   {
    "duration": 26,
    "start_time": "2022-08-23T06:07:48.124Z"
   },
   {
    "duration": 5,
    "start_time": "2022-08-23T06:07:48.153Z"
   },
   {
    "duration": 22,
    "start_time": "2022-08-23T06:07:48.160Z"
   },
   {
    "duration": 16,
    "start_time": "2022-08-23T06:07:48.191Z"
   },
   {
    "duration": 16,
    "start_time": "2022-08-23T06:07:48.209Z"
   },
   {
    "duration": 27,
    "start_time": "2022-08-23T06:07:48.227Z"
   },
   {
    "duration": 9,
    "start_time": "2022-08-23T06:07:48.256Z"
   },
   {
    "duration": 16,
    "start_time": "2022-08-23T06:07:48.267Z"
   },
   {
    "duration": 11,
    "start_time": "2022-08-23T06:07:48.285Z"
   },
   {
    "duration": 25,
    "start_time": "2022-08-23T06:07:48.298Z"
   },
   {
    "duration": 45,
    "start_time": "2022-08-23T06:07:48.326Z"
   },
   {
    "duration": 11,
    "start_time": "2022-08-23T06:07:48.372Z"
   },
   {
    "duration": 53,
    "start_time": "2022-08-23T06:07:48.385Z"
   },
   {
    "duration": 5,
    "start_time": "2022-08-23T06:07:48.440Z"
   },
   {
    "duration": 19,
    "start_time": "2022-08-23T06:07:48.446Z"
   },
   {
    "duration": 23,
    "start_time": "2022-08-23T06:07:48.467Z"
   },
   {
    "duration": 16,
    "start_time": "2022-08-23T06:07:48.492Z"
   },
   {
    "duration": 34,
    "start_time": "2022-08-23T06:07:48.510Z"
   },
   {
    "duration": 14,
    "start_time": "2022-08-23T06:07:48.546Z"
   },
   {
    "duration": 8,
    "start_time": "2022-08-23T06:07:48.562Z"
   },
   {
    "duration": 286,
    "start_time": "2022-08-23T06:07:48.572Z"
   },
   {
    "duration": 9,
    "start_time": "2022-08-23T06:07:48.860Z"
   },
   {
    "duration": 122,
    "start_time": "2022-08-23T06:07:48.871Z"
   },
   {
    "duration": 101,
    "start_time": "2022-08-23T06:07:48.996Z"
   },
   {
    "duration": 284,
    "start_time": "2022-08-23T06:07:49.099Z"
   },
   {
    "duration": 109,
    "start_time": "2022-08-23T06:07:49.384Z"
   },
   {
    "duration": 104,
    "start_time": "2022-08-23T06:07:49.496Z"
   },
   {
    "duration": 6,
    "start_time": "2022-08-23T06:07:49.602Z"
   },
   {
    "duration": 377,
    "start_time": "2022-08-23T06:07:49.609Z"
   },
   {
    "duration": 106,
    "start_time": "2022-08-23T06:07:49.991Z"
   },
   {
    "duration": 103,
    "start_time": "2022-08-23T06:07:50.101Z"
   },
   {
    "duration": 7,
    "start_time": "2022-08-23T06:07:50.205Z"
   },
   {
    "duration": 170,
    "start_time": "2022-08-23T06:07:50.214Z"
   },
   {
    "duration": 13,
    "start_time": "2022-08-23T06:08:28.926Z"
   },
   {
    "duration": 7,
    "start_time": "2022-08-23T06:08:30.727Z"
   },
   {
    "duration": 13,
    "start_time": "2022-08-23T06:08:42.562Z"
   },
   {
    "duration": 7,
    "start_time": "2022-08-23T06:08:44.039Z"
   },
   {
    "duration": 12,
    "start_time": "2022-08-23T06:08:54.264Z"
   },
   {
    "duration": 7,
    "start_time": "2022-08-23T06:08:55.907Z"
   },
   {
    "duration": 182,
    "start_time": "2022-08-23T06:09:06.787Z"
   },
   {
    "duration": 6,
    "start_time": "2022-08-23T06:09:40.361Z"
   },
   {
    "duration": 14,
    "start_time": "2022-08-23T06:09:40.369Z"
   },
   {
    "duration": 50,
    "start_time": "2022-08-23T06:09:40.385Z"
   },
   {
    "duration": 27,
    "start_time": "2022-08-23T06:09:40.437Z"
   },
   {
    "duration": 4,
    "start_time": "2022-08-23T06:09:40.467Z"
   },
   {
    "duration": 19,
    "start_time": "2022-08-23T06:09:40.473Z"
   },
   {
    "duration": 16,
    "start_time": "2022-08-23T06:09:40.494Z"
   },
   {
    "duration": 9,
    "start_time": "2022-08-23T06:09:40.512Z"
   },
   {
    "duration": 24,
    "start_time": "2022-08-23T06:09:40.523Z"
   },
   {
    "duration": 13,
    "start_time": "2022-08-23T06:09:40.548Z"
   },
   {
    "duration": 33,
    "start_time": "2022-08-23T06:09:40.562Z"
   },
   {
    "duration": 10,
    "start_time": "2022-08-23T06:09:40.596Z"
   },
   {
    "duration": 8,
    "start_time": "2022-08-23T06:09:40.608Z"
   },
   {
    "duration": 25,
    "start_time": "2022-08-23T06:09:40.619Z"
   },
   {
    "duration": 13,
    "start_time": "2022-08-23T06:09:40.646Z"
   },
   {
    "duration": 68,
    "start_time": "2022-08-23T06:09:40.661Z"
   },
   {
    "duration": 6,
    "start_time": "2022-08-23T06:09:40.731Z"
   },
   {
    "duration": 6,
    "start_time": "2022-08-23T06:09:40.739Z"
   },
   {
    "duration": 8,
    "start_time": "2022-08-23T06:09:40.747Z"
   },
   {
    "duration": 42,
    "start_time": "2022-08-23T06:09:40.757Z"
   },
   {
    "duration": 3,
    "start_time": "2022-08-23T06:09:40.801Z"
   },
   {
    "duration": 6,
    "start_time": "2022-08-23T06:09:40.806Z"
   },
   {
    "duration": 16,
    "start_time": "2022-08-23T06:09:40.814Z"
   },
   {
    "duration": 282,
    "start_time": "2022-08-23T06:09:40.832Z"
   },
   {
    "duration": 10,
    "start_time": "2022-08-23T06:09:41.115Z"
   },
   {
    "duration": 166,
    "start_time": "2022-08-23T06:09:41.127Z"
   },
   {
    "duration": 15,
    "start_time": "2022-08-23T06:09:41.295Z"
   },
   {
    "duration": 280,
    "start_time": "2022-08-23T06:09:41.392Z"
   },
   {
    "duration": 123,
    "start_time": "2022-08-23T06:09:41.673Z"
   },
   {
    "duration": 104,
    "start_time": "2022-08-23T06:09:41.798Z"
   },
   {
    "duration": 11,
    "start_time": "2022-08-23T06:09:41.905Z"
   },
   {
    "duration": 404,
    "start_time": "2022-08-23T06:09:41.918Z"
   },
   {
    "duration": 77,
    "start_time": "2022-08-23T06:09:42.324Z"
   },
   {
    "duration": 14,
    "start_time": "2022-08-23T06:09:42.492Z"
   },
   {
    "duration": 8,
    "start_time": "2022-08-23T06:09:42.508Z"
   },
   {
    "duration": 221,
    "start_time": "2022-08-23T06:09:42.518Z"
   },
   {
    "duration": 87,
    "start_time": "2022-08-23T06:11:20.340Z"
   },
   {
    "duration": 79,
    "start_time": "2022-08-23T06:12:46.093Z"
   },
   {
    "duration": 46,
    "start_time": "2022-08-23T06:13:35.051Z"
   },
   {
    "duration": 5,
    "start_time": "2022-08-23T06:15:03.458Z"
   },
   {
    "duration": 22,
    "start_time": "2022-08-23T06:15:03.465Z"
   },
   {
    "duration": 47,
    "start_time": "2022-08-23T06:15:03.489Z"
   },
   {
    "duration": 25,
    "start_time": "2022-08-23T06:15:03.539Z"
   },
   {
    "duration": 4,
    "start_time": "2022-08-23T06:15:03.566Z"
   },
   {
    "duration": 19,
    "start_time": "2022-08-23T06:15:03.571Z"
   },
   {
    "duration": 11,
    "start_time": "2022-08-23T06:15:03.591Z"
   },
   {
    "duration": 10,
    "start_time": "2022-08-23T06:15:03.604Z"
   },
   {
    "duration": 31,
    "start_time": "2022-08-23T06:15:03.616Z"
   },
   {
    "duration": 9,
    "start_time": "2022-08-23T06:15:03.648Z"
   },
   {
    "duration": 2,
    "start_time": "2022-08-23T06:15:03.659Z"
   },
   {
    "duration": 30,
    "start_time": "2022-08-23T06:15:03.663Z"
   },
   {
    "duration": 7,
    "start_time": "2022-08-23T06:15:03.695Z"
   },
   {
    "duration": 26,
    "start_time": "2022-08-23T06:15:03.705Z"
   },
   {
    "duration": 12,
    "start_time": "2022-08-23T06:15:03.732Z"
   },
   {
    "duration": 70,
    "start_time": "2022-08-23T06:15:03.747Z"
   },
   {
    "duration": 6,
    "start_time": "2022-08-23T06:15:03.818Z"
   },
   {
    "duration": 7,
    "start_time": "2022-08-23T06:15:03.826Z"
   },
   {
    "duration": 10,
    "start_time": "2022-08-23T06:15:03.834Z"
   },
   {
    "duration": 20,
    "start_time": "2022-08-23T06:15:03.846Z"
   },
   {
    "duration": 25,
    "start_time": "2022-08-23T06:15:03.869Z"
   },
   {
    "duration": 4,
    "start_time": "2022-08-23T06:15:03.896Z"
   },
   {
    "duration": 10,
    "start_time": "2022-08-23T06:15:03.902Z"
   },
   {
    "duration": 298,
    "start_time": "2022-08-23T06:15:03.914Z"
   },
   {
    "duration": 11,
    "start_time": "2022-08-23T06:15:04.214Z"
   },
   {
    "duration": 165,
    "start_time": "2022-08-23T06:15:04.227Z"
   },
   {
    "duration": 14,
    "start_time": "2022-08-23T06:15:04.394Z"
   },
   {
    "duration": 321,
    "start_time": "2022-08-23T06:15:04.410Z"
   },
   {
    "duration": 160,
    "start_time": "2022-08-23T06:15:04.733Z"
   },
   {
    "duration": 98,
    "start_time": "2022-08-23T06:15:04.896Z"
   },
   {
    "duration": 8,
    "start_time": "2022-08-23T06:15:04.996Z"
   },
   {
    "duration": 389,
    "start_time": "2022-08-23T06:15:05.006Z"
   },
   {
    "duration": 199,
    "start_time": "2022-08-23T06:15:05.396Z"
   },
   {
    "duration": 94,
    "start_time": "2022-08-23T06:15:05.598Z"
   },
   {
    "duration": 8,
    "start_time": "2022-08-23T06:15:05.694Z"
   },
   {
    "duration": 201,
    "start_time": "2022-08-23T06:15:05.704Z"
   },
   {
    "duration": 95,
    "start_time": "2022-08-23T06:15:05.906Z"
   },
   {
    "duration": 5,
    "start_time": "2022-08-23T06:16:56.150Z"
   },
   {
    "duration": 8,
    "start_time": "2022-08-23T06:16:56.158Z"
   },
   {
    "duration": 45,
    "start_time": "2022-08-23T06:16:56.168Z"
   },
   {
    "duration": 26,
    "start_time": "2022-08-23T06:16:56.216Z"
   },
   {
    "duration": 4,
    "start_time": "2022-08-23T06:16:56.244Z"
   },
   {
    "duration": 16,
    "start_time": "2022-08-23T06:16:56.250Z"
   },
   {
    "duration": 31,
    "start_time": "2022-08-23T06:16:56.267Z"
   },
   {
    "duration": 8,
    "start_time": "2022-08-23T06:16:56.299Z"
   },
   {
    "duration": 41,
    "start_time": "2022-08-23T06:16:56.309Z"
   },
   {
    "duration": 9,
    "start_time": "2022-08-23T06:16:56.353Z"
   },
   {
    "duration": 6,
    "start_time": "2022-08-23T06:16:56.363Z"
   },
   {
    "duration": 21,
    "start_time": "2022-08-23T06:16:56.370Z"
   },
   {
    "duration": 7,
    "start_time": "2022-08-23T06:16:56.393Z"
   },
   {
    "duration": 30,
    "start_time": "2022-08-23T06:16:56.402Z"
   },
   {
    "duration": 15,
    "start_time": "2022-08-23T06:16:56.435Z"
   },
   {
    "duration": 66,
    "start_time": "2022-08-23T06:16:56.452Z"
   },
   {
    "duration": 5,
    "start_time": "2022-08-23T06:16:56.520Z"
   },
   {
    "duration": 7,
    "start_time": "2022-08-23T06:16:56.527Z"
   },
   {
    "duration": 8,
    "start_time": "2022-08-23T06:16:56.536Z"
   },
   {
    "duration": 10,
    "start_time": "2022-08-23T06:16:56.546Z"
   },
   {
    "duration": 34,
    "start_time": "2022-08-23T06:16:56.557Z"
   },
   {
    "duration": 3,
    "start_time": "2022-08-23T06:16:56.593Z"
   },
   {
    "duration": 8,
    "start_time": "2022-08-23T06:16:56.597Z"
   },
   {
    "duration": 303,
    "start_time": "2022-08-23T06:16:56.606Z"
   },
   {
    "duration": 12,
    "start_time": "2022-08-23T06:16:56.911Z"
   },
   {
    "duration": 75,
    "start_time": "2022-08-23T06:16:56.925Z"
   },
   {
    "duration": 14,
    "start_time": "2022-08-23T06:16:57.093Z"
   },
   {
    "duration": 302,
    "start_time": "2022-08-23T06:16:57.111Z"
   },
   {
    "duration": 178,
    "start_time": "2022-08-23T06:16:57.415Z"
   },
   {
    "duration": 104,
    "start_time": "2022-08-23T06:16:57.596Z"
   },
   {
    "duration": 8,
    "start_time": "2022-08-23T06:16:57.702Z"
   },
   {
    "duration": 402,
    "start_time": "2022-08-23T06:16:57.713Z"
   },
   {
    "duration": 84,
    "start_time": "2022-08-23T06:16:58.116Z"
   },
   {
    "duration": 90,
    "start_time": "2022-08-23T06:16:58.203Z"
   },
   {
    "duration": 11,
    "start_time": "2022-08-23T06:16:58.295Z"
   },
   {
    "duration": 198,
    "start_time": "2022-08-23T06:16:58.308Z"
   },
   {
    "duration": 88,
    "start_time": "2022-08-23T06:16:58.513Z"
   },
   {
    "duration": 5,
    "start_time": "2022-08-23T06:18:09.497Z"
   },
   {
    "duration": 6,
    "start_time": "2022-08-23T06:18:09.504Z"
   },
   {
    "duration": 46,
    "start_time": "2022-08-23T06:18:09.512Z"
   },
   {
    "duration": 24,
    "start_time": "2022-08-23T06:18:09.559Z"
   },
   {
    "duration": 4,
    "start_time": "2022-08-23T06:18:09.591Z"
   },
   {
    "duration": 15,
    "start_time": "2022-08-23T06:18:09.597Z"
   },
   {
    "duration": 14,
    "start_time": "2022-08-23T06:18:09.613Z"
   },
   {
    "duration": 9,
    "start_time": "2022-08-23T06:18:09.629Z"
   },
   {
    "duration": 24,
    "start_time": "2022-08-23T06:18:09.639Z"
   },
   {
    "duration": 35,
    "start_time": "2022-08-23T06:18:09.664Z"
   },
   {
    "duration": 3,
    "start_time": "2022-08-23T06:18:09.701Z"
   },
   {
    "duration": 16,
    "start_time": "2022-08-23T06:18:09.705Z"
   },
   {
    "duration": 10,
    "start_time": "2022-08-23T06:18:09.723Z"
   },
   {
    "duration": 28,
    "start_time": "2022-08-23T06:18:09.736Z"
   },
   {
    "duration": 35,
    "start_time": "2022-08-23T06:18:09.765Z"
   },
   {
    "duration": 40,
    "start_time": "2022-08-23T06:18:09.802Z"
   },
   {
    "duration": 6,
    "start_time": "2022-08-23T06:18:09.844Z"
   },
   {
    "duration": 5,
    "start_time": "2022-08-23T06:18:09.852Z"
   },
   {
    "duration": 37,
    "start_time": "2022-08-23T06:18:09.859Z"
   },
   {
    "duration": 9,
    "start_time": "2022-08-23T06:18:09.898Z"
   },
   {
    "duration": 6,
    "start_time": "2022-08-23T06:18:09.908Z"
   },
   {
    "duration": 5,
    "start_time": "2022-08-23T06:18:09.915Z"
   },
   {
    "duration": 4,
    "start_time": "2022-08-23T06:18:09.922Z"
   },
   {
    "duration": 307,
    "start_time": "2022-08-23T06:18:09.928Z"
   },
   {
    "duration": 11,
    "start_time": "2022-08-23T06:18:10.237Z"
   },
   {
    "duration": 147,
    "start_time": "2022-08-23T06:18:10.250Z"
   },
   {
    "duration": 101,
    "start_time": "2022-08-23T06:18:10.399Z"
   },
   {
    "duration": 296,
    "start_time": "2022-08-23T06:18:10.502Z"
   },
   {
    "duration": 95,
    "start_time": "2022-08-23T06:18:10.800Z"
   },
   {
    "duration": 93,
    "start_time": "2022-08-23T06:18:10.898Z"
   },
   {
    "duration": 8,
    "start_time": "2022-08-23T06:18:10.993Z"
   },
   {
    "duration": 395,
    "start_time": "2022-08-23T06:18:11.002Z"
   },
   {
    "duration": 103,
    "start_time": "2022-08-23T06:18:11.398Z"
   },
   {
    "duration": 14,
    "start_time": "2022-08-23T06:18:11.592Z"
   },
   {
    "duration": 7,
    "start_time": "2022-08-23T06:18:11.608Z"
   },
   {
    "duration": 201,
    "start_time": "2022-08-23T06:18:11.617Z"
   },
   {
    "duration": 79,
    "start_time": "2022-08-23T06:18:11.820Z"
   },
   {
    "duration": 130,
    "start_time": "2022-08-23T06:19:28.244Z"
   },
   {
    "duration": 6,
    "start_time": "2022-08-23T09:51:27.188Z"
   },
   {
    "duration": 21,
    "start_time": "2022-08-23T09:51:27.196Z"
   },
   {
    "duration": 64,
    "start_time": "2022-08-23T09:51:27.219Z"
   },
   {
    "duration": 30,
    "start_time": "2022-08-23T09:51:27.286Z"
   },
   {
    "duration": 11,
    "start_time": "2022-08-23T09:51:27.318Z"
   },
   {
    "duration": 32,
    "start_time": "2022-08-23T09:51:27.331Z"
   },
   {
    "duration": 34,
    "start_time": "2022-08-23T09:51:27.365Z"
   },
   {
    "duration": 15,
    "start_time": "2022-08-23T09:51:27.401Z"
   },
   {
    "duration": 32,
    "start_time": "2022-08-23T09:51:27.419Z"
   },
   {
    "duration": 11,
    "start_time": "2022-08-23T09:51:27.453Z"
   },
   {
    "duration": 11,
    "start_time": "2022-08-23T09:51:27.465Z"
   },
   {
    "duration": 15,
    "start_time": "2022-08-23T09:51:27.492Z"
   },
   {
    "duration": 19,
    "start_time": "2022-08-23T09:51:27.509Z"
   },
   {
    "duration": 54,
    "start_time": "2022-08-23T09:51:27.529Z"
   },
   {
    "duration": 16,
    "start_time": "2022-08-23T09:51:27.585Z"
   },
   {
    "duration": 47,
    "start_time": "2022-08-23T09:51:27.603Z"
   },
   {
    "duration": 5,
    "start_time": "2022-08-23T09:51:27.652Z"
   },
   {
    "duration": 19,
    "start_time": "2022-08-23T09:51:27.659Z"
   },
   {
    "duration": 11,
    "start_time": "2022-08-23T09:51:27.693Z"
   },
   {
    "duration": 19,
    "start_time": "2022-08-23T09:51:27.706Z"
   },
   {
    "duration": 6,
    "start_time": "2022-08-23T09:51:27.727Z"
   },
   {
    "duration": 22,
    "start_time": "2022-08-23T09:51:27.735Z"
   },
   {
    "duration": 11,
    "start_time": "2022-08-23T09:51:27.759Z"
   },
   {
    "duration": 371,
    "start_time": "2022-08-23T09:51:27.774Z"
   },
   {
    "duration": 10,
    "start_time": "2022-08-23T09:51:28.147Z"
   },
   {
    "duration": 133,
    "start_time": "2022-08-23T09:51:28.159Z"
   },
   {
    "duration": 98,
    "start_time": "2022-08-23T09:51:28.294Z"
   },
   {
    "duration": 300,
    "start_time": "2022-08-23T09:51:28.395Z"
   },
   {
    "duration": 98,
    "start_time": "2022-08-23T09:51:28.697Z"
   },
   {
    "duration": 105,
    "start_time": "2022-08-23T09:51:28.798Z"
   },
   {
    "duration": 19,
    "start_time": "2022-08-23T09:51:28.906Z"
   },
   {
    "duration": 404,
    "start_time": "2022-08-23T09:51:28.927Z"
   },
   {
    "duration": 166,
    "start_time": "2022-08-23T09:51:29.333Z"
   },
   {
    "duration": 101,
    "start_time": "2022-08-23T09:51:29.501Z"
   },
   {
    "duration": 15,
    "start_time": "2022-08-23T09:51:29.605Z"
   },
   {
    "duration": 236,
    "start_time": "2022-08-23T09:51:29.622Z"
   },
   {
    "duration": 132,
    "start_time": "2022-08-23T09:51:29.860Z"
   },
   {
    "duration": 3,
    "start_time": "2022-08-23T09:59:22.874Z"
   },
   {
    "duration": 4,
    "start_time": "2022-08-23T10:22:37.062Z"
   },
   {
    "duration": 76,
    "start_time": "2022-08-23T10:26:46.438Z"
   },
   {
    "duration": 14,
    "start_time": "2022-08-23T10:28:24.622Z"
   },
   {
    "duration": 11,
    "start_time": "2022-08-23T10:43:00.136Z"
   },
   {
    "duration": 94415,
    "start_time": "2022-08-23T10:43:02.178Z"
   },
   {
    "duration": 84461,
    "start_time": "2022-08-23T10:55:51.008Z"
   },
   {
    "duration": 237,
    "start_time": "2022-08-23T10:59:56.060Z"
   },
   {
    "duration": 32,
    "start_time": "2022-08-23T11:02:52.121Z"
   },
   {
    "duration": 184,
    "start_time": "2022-08-23T11:03:45.453Z"
   },
   {
    "duration": 32,
    "start_time": "2022-08-23T11:12:36.108Z"
   },
   {
    "duration": 26,
    "start_time": "2022-08-23T11:12:49.738Z"
   },
   {
    "duration": 5,
    "start_time": "2022-08-23T11:12:52.775Z"
   },
   {
    "duration": 17,
    "start_time": "2022-08-23T11:12:52.782Z"
   },
   {
    "duration": 50,
    "start_time": "2022-08-23T11:12:52.800Z"
   },
   {
    "duration": 29,
    "start_time": "2022-08-23T11:12:52.852Z"
   },
   {
    "duration": 5,
    "start_time": "2022-08-23T11:12:52.891Z"
   },
   {
    "duration": 25,
    "start_time": "2022-08-23T11:12:52.898Z"
   },
   {
    "duration": 17,
    "start_time": "2022-08-23T11:12:52.925Z"
   },
   {
    "duration": 10,
    "start_time": "2022-08-23T11:12:52.946Z"
   },
   {
    "duration": 44,
    "start_time": "2022-08-23T11:12:52.958Z"
   },
   {
    "duration": 10,
    "start_time": "2022-08-23T11:12:53.004Z"
   },
   {
    "duration": 4,
    "start_time": "2022-08-23T11:12:53.017Z"
   },
   {
    "duration": 10,
    "start_time": "2022-08-23T11:12:53.023Z"
   },
   {
    "duration": 9,
    "start_time": "2022-08-23T11:12:53.036Z"
   },
   {
    "duration": 64,
    "start_time": "2022-08-23T11:12:53.048Z"
   },
   {
    "duration": 15,
    "start_time": "2022-08-23T11:12:53.115Z"
   },
   {
    "duration": 74,
    "start_time": "2022-08-23T11:12:53.132Z"
   },
   {
    "duration": 8,
    "start_time": "2022-08-23T11:12:53.210Z"
   },
   {
    "duration": 27,
    "start_time": "2022-08-23T11:12:53.220Z"
   },
   {
    "duration": 14,
    "start_time": "2022-08-23T11:12:53.252Z"
   },
   {
    "duration": 29,
    "start_time": "2022-08-23T11:12:53.269Z"
   },
   {
    "duration": 17,
    "start_time": "2022-08-23T11:12:53.301Z"
   },
   {
    "duration": 15,
    "start_time": "2022-08-23T11:12:53.320Z"
   },
   {
    "duration": 23,
    "start_time": "2022-08-23T11:12:53.337Z"
   },
   {
    "duration": 12,
    "start_time": "2022-08-23T11:12:53.362Z"
   },
   {
    "duration": 39,
    "start_time": "2022-08-23T11:12:53.377Z"
   },
   {
    "duration": 0,
    "start_time": "2022-08-23T11:12:53.418Z"
   },
   {
    "duration": 0,
    "start_time": "2022-08-23T11:12:53.420Z"
   },
   {
    "duration": 0,
    "start_time": "2022-08-23T11:12:53.421Z"
   },
   {
    "duration": 0,
    "start_time": "2022-08-23T11:12:53.423Z"
   },
   {
    "duration": 0,
    "start_time": "2022-08-23T11:12:53.425Z"
   },
   {
    "duration": 0,
    "start_time": "2022-08-23T11:12:53.427Z"
   },
   {
    "duration": 0,
    "start_time": "2022-08-23T11:12:53.428Z"
   },
   {
    "duration": 0,
    "start_time": "2022-08-23T11:12:53.430Z"
   },
   {
    "duration": 0,
    "start_time": "2022-08-23T11:12:53.432Z"
   },
   {
    "duration": 0,
    "start_time": "2022-08-23T11:12:53.434Z"
   },
   {
    "duration": 0,
    "start_time": "2022-08-23T11:12:53.436Z"
   },
   {
    "duration": 0,
    "start_time": "2022-08-23T11:12:53.437Z"
   },
   {
    "duration": 0,
    "start_time": "2022-08-23T11:12:53.439Z"
   },
   {
    "duration": 0,
    "start_time": "2022-08-23T11:12:53.441Z"
   },
   {
    "duration": 0,
    "start_time": "2022-08-23T11:12:53.443Z"
   },
   {
    "duration": 25,
    "start_time": "2022-08-23T11:14:40.879Z"
   },
   {
    "duration": 3,
    "start_time": "2022-08-23T11:17:23.890Z"
   },
   {
    "duration": 1512,
    "start_time": "2022-08-23T14:09:27.038Z"
   },
   {
    "duration": 4,
    "start_time": "2022-08-23T14:09:28.552Z"
   },
   {
    "duration": 94,
    "start_time": "2022-08-23T14:09:28.558Z"
   },
   {
    "duration": 28,
    "start_time": "2022-08-23T14:09:28.654Z"
   },
   {
    "duration": 4,
    "start_time": "2022-08-23T14:09:28.685Z"
   },
   {
    "duration": 25,
    "start_time": "2022-08-23T14:09:28.691Z"
   },
   {
    "duration": 9,
    "start_time": "2022-08-23T14:09:28.717Z"
   },
   {
    "duration": 7,
    "start_time": "2022-08-23T14:09:28.728Z"
   },
   {
    "duration": 20,
    "start_time": "2022-08-23T14:09:28.737Z"
   },
   {
    "duration": 10,
    "start_time": "2022-08-23T14:09:28.758Z"
   },
   {
    "duration": 32,
    "start_time": "2022-08-23T14:09:28.770Z"
   },
   {
    "duration": 7,
    "start_time": "2022-08-23T14:09:28.804Z"
   },
   {
    "duration": 12,
    "start_time": "2022-08-23T14:09:28.813Z"
   },
   {
    "duration": 24,
    "start_time": "2022-08-23T14:09:28.828Z"
   },
   {
    "duration": 13,
    "start_time": "2022-08-23T14:09:28.854Z"
   },
   {
    "duration": 61,
    "start_time": "2022-08-23T14:09:28.869Z"
   },
   {
    "duration": 5,
    "start_time": "2022-08-23T14:09:28.932Z"
   },
   {
    "duration": 7,
    "start_time": "2022-08-23T14:09:28.939Z"
   },
   {
    "duration": 10,
    "start_time": "2022-08-23T14:09:28.948Z"
   },
   {
    "duration": 17,
    "start_time": "2022-08-23T14:09:28.959Z"
   },
   {
    "duration": 25,
    "start_time": "2022-08-23T14:09:28.977Z"
   },
   {
    "duration": 31855,
    "start_time": "2022-08-23T14:09:29.004Z"
   },
   {
    "duration": 3,
    "start_time": "2022-08-23T14:10:00.861Z"
   },
   {
    "duration": 28,
    "start_time": "2022-08-23T14:10:00.866Z"
   },
   {
    "duration": 17,
    "start_time": "2022-08-23T14:10:00.897Z"
   },
   {
    "duration": 56,
    "start_time": "2022-08-23T14:10:00.917Z"
   },
   {
    "duration": 175,
    "start_time": "2022-08-23T14:10:00.975Z"
   },
   {
    "duration": 9,
    "start_time": "2022-08-23T14:10:01.152Z"
   },
   {
    "duration": 146,
    "start_time": "2022-08-23T14:10:01.162Z"
   },
   {
    "duration": 123,
    "start_time": "2022-08-23T14:10:01.310Z"
   },
   {
    "duration": 331,
    "start_time": "2022-08-23T14:10:01.435Z"
   },
   {
    "duration": 43,
    "start_time": "2022-08-23T14:10:01.768Z"
   },
   {
    "duration": 198,
    "start_time": "2022-08-23T14:10:01.813Z"
   },
   {
    "duration": 67,
    "start_time": "2022-08-23T14:10:02.013Z"
   },
   {
    "duration": 345,
    "start_time": "2022-08-23T14:10:02.082Z"
   },
   {
    "duration": 76,
    "start_time": "2022-08-23T14:10:02.428Z"
   },
   {
    "duration": 96,
    "start_time": "2022-08-23T14:10:02.506Z"
   },
   {
    "duration": 28,
    "start_time": "2022-08-23T14:10:02.604Z"
   },
   {
    "duration": 166,
    "start_time": "2022-08-23T14:10:02.634Z"
   },
   {
    "duration": 98,
    "start_time": "2022-08-23T14:10:02.802Z"
   },
   {
    "duration": 143,
    "start_time": "2022-08-23T14:15:33.812Z"
   },
   {
    "duration": 32,
    "start_time": "2022-08-23T14:16:39.993Z"
   },
   {
    "duration": 83775,
    "start_time": "2022-08-23T14:21:28.252Z"
   },
   {
    "duration": 4,
    "start_time": "2022-08-23T14:22:52.030Z"
   },
   {
    "duration": 6,
    "start_time": "2022-08-23T14:26:21.556Z"
   },
   {
    "duration": 133,
    "start_time": "2022-08-23T14:27:43.229Z"
   },
   {
    "duration": 60,
    "start_time": "2022-08-23T14:29:21.779Z"
   },
   {
    "duration": 52,
    "start_time": "2022-08-23T14:30:19.430Z"
   },
   {
    "duration": 363668,
    "start_time": "2022-08-23T14:32:03.117Z"
   },
   {
    "duration": 14,
    "start_time": "2022-08-23T14:38:06.788Z"
   },
   {
    "duration": 41,
    "start_time": "2022-08-23T14:38:06.808Z"
   },
   {
    "duration": 4,
    "start_time": "2022-08-23T14:39:53.911Z"
   },
   {
    "duration": 118,
    "start_time": "2022-08-23T14:41:13.196Z"
   },
   {
    "duration": 168,
    "start_time": "2022-08-23T14:41:40.748Z"
   },
   {
    "duration": 174,
    "start_time": "2022-08-23T14:41:50.303Z"
   },
   {
    "duration": 193,
    "start_time": "2022-08-23T14:43:10.219Z"
   },
   {
    "duration": 201,
    "start_time": "2022-08-23T14:43:21.371Z"
   },
   {
    "duration": 9,
    "start_time": "2022-08-23T14:44:49.137Z"
   },
   {
    "duration": 15,
    "start_time": "2022-08-23T14:45:10.420Z"
   },
   {
    "duration": 5,
    "start_time": "2022-08-23T14:45:52.625Z"
   },
   {
    "duration": 15,
    "start_time": "2022-08-23T14:45:52.632Z"
   },
   {
    "duration": 72,
    "start_time": "2022-08-23T14:45:52.648Z"
   },
   {
    "duration": 21,
    "start_time": "2022-08-23T14:45:52.721Z"
   },
   {
    "duration": 4,
    "start_time": "2022-08-23T14:45:52.744Z"
   },
   {
    "duration": 18,
    "start_time": "2022-08-23T14:45:52.749Z"
   },
   {
    "duration": 33,
    "start_time": "2022-08-23T14:45:52.768Z"
   },
   {
    "duration": 15,
    "start_time": "2022-08-23T14:45:52.803Z"
   },
   {
    "duration": 35,
    "start_time": "2022-08-23T14:45:52.822Z"
   },
   {
    "duration": 9,
    "start_time": "2022-08-23T14:45:52.858Z"
   },
   {
    "duration": 4,
    "start_time": "2022-08-23T14:45:52.868Z"
   },
   {
    "duration": 9,
    "start_time": "2022-08-23T14:45:52.873Z"
   },
   {
    "duration": 28,
    "start_time": "2022-08-23T14:45:52.901Z"
   },
   {
    "duration": 29,
    "start_time": "2022-08-23T14:45:52.931Z"
   },
   {
    "duration": 12,
    "start_time": "2022-08-23T14:45:52.962Z"
   },
   {
    "duration": 55,
    "start_time": "2022-08-23T14:45:52.976Z"
   },
   {
    "duration": 7,
    "start_time": "2022-08-23T14:45:53.033Z"
   },
   {
    "duration": 9,
    "start_time": "2022-08-23T14:45:53.041Z"
   },
   {
    "duration": 15,
    "start_time": "2022-08-23T14:45:53.052Z"
   },
   {
    "duration": 10,
    "start_time": "2022-08-23T14:45:53.068Z"
   },
   {
    "duration": 6,
    "start_time": "2022-08-23T14:45:53.079Z"
   },
   {
    "duration": 361971,
    "start_time": "2022-08-23T14:45:53.087Z"
   },
   {
    "duration": 6,
    "start_time": "2022-08-23T14:51:55.060Z"
   },
   {
    "duration": 33138,
    "start_time": "2022-08-23T14:51:55.069Z"
   },
   {
    "duration": 3,
    "start_time": "2022-08-23T14:52:28.209Z"
   },
   {
    "duration": 11,
    "start_time": "2022-08-23T14:52:28.214Z"
   },
   {
    "duration": 166,
    "start_time": "2022-08-23T14:52:28.227Z"
   },
   {
    "duration": 10,
    "start_time": "2022-08-23T14:52:28.399Z"
   },
   {
    "duration": 90,
    "start_time": "2022-08-23T14:52:28.411Z"
   },
   {
    "duration": 97,
    "start_time": "2022-08-23T14:52:28.503Z"
   },
   {
    "duration": 235,
    "start_time": "2022-08-23T14:52:28.602Z"
   },
   {
    "duration": 70,
    "start_time": "2022-08-23T14:52:28.839Z"
   },
   {
    "duration": 106,
    "start_time": "2022-08-23T14:52:28.912Z"
   },
   {
    "duration": 86,
    "start_time": "2022-08-23T14:52:29.022Z"
   },
   {
    "duration": 321,
    "start_time": "2022-08-23T14:52:29.110Z"
   },
   {
    "duration": 76,
    "start_time": "2022-08-23T14:52:29.433Z"
   },
   {
    "duration": 94,
    "start_time": "2022-08-23T14:52:29.514Z"
   },
   {
    "duration": 7,
    "start_time": "2022-08-23T14:52:29.610Z"
   },
   {
    "duration": 180,
    "start_time": "2022-08-23T14:52:29.621Z"
   },
   {
    "duration": 105,
    "start_time": "2022-08-23T14:52:29.804Z"
   },
   {
    "duration": 113,
    "start_time": "2022-08-23T14:54:36.207Z"
   },
   {
    "duration": 255,
    "start_time": "2022-08-23T14:55:50.603Z"
   },
   {
    "duration": 119,
    "start_time": "2022-08-23T14:56:19.726Z"
   },
   {
    "duration": 3,
    "start_time": "2022-08-23T14:57:23.726Z"
   },
   {
    "duration": 3,
    "start_time": "2022-08-23T14:57:31.843Z"
   },
   {
    "duration": 109,
    "start_time": "2022-08-23T14:59:37.273Z"
   },
   {
    "duration": 10,
    "start_time": "2022-08-23T15:00:01.728Z"
   },
   {
    "duration": 3,
    "start_time": "2022-08-23T15:00:14.603Z"
   },
   {
    "duration": 74,
    "start_time": "2022-08-23T15:00:45.025Z"
   },
   {
    "duration": 115,
    "start_time": "2022-08-23T15:01:35.664Z"
   },
   {
    "duration": 168,
    "start_time": "2022-08-23T15:03:08.526Z"
   },
   {
    "duration": 77,
    "start_time": "2022-08-23T15:04:12.756Z"
   },
   {
    "duration": 222,
    "start_time": "2022-08-23T15:04:31.232Z"
   },
   {
    "duration": 220,
    "start_time": "2022-08-23T15:04:47.469Z"
   },
   {
    "duration": 187,
    "start_time": "2022-08-23T15:05:00.529Z"
   },
   {
    "duration": 214,
    "start_time": "2022-08-23T15:05:09.723Z"
   },
   {
    "duration": 181,
    "start_time": "2022-08-23T15:07:18.151Z"
   },
   {
    "duration": 258,
    "start_time": "2022-08-23T15:07:50.802Z"
   },
   {
    "duration": 242,
    "start_time": "2022-08-23T15:08:00.264Z"
   },
   {
    "duration": 226,
    "start_time": "2022-08-23T15:08:06.868Z"
   },
   {
    "duration": 186,
    "start_time": "2022-08-23T15:08:14.358Z"
   },
   {
    "duration": 188,
    "start_time": "2022-08-23T15:08:20.957Z"
   },
   {
    "duration": 205,
    "start_time": "2022-08-23T15:08:31.303Z"
   },
   {
    "duration": 177,
    "start_time": "2022-08-23T15:08:38.060Z"
   },
   {
    "duration": 423,
    "start_time": "2022-08-23T15:10:00.430Z"
   },
   {
    "duration": 334,
    "start_time": "2022-08-23T15:10:38.249Z"
   },
   {
    "duration": 334,
    "start_time": "2022-08-23T15:11:18.033Z"
   },
   {
    "duration": 70198,
    "start_time": "2022-08-23T15:14:29.162Z"
   },
   {
    "duration": 4,
    "start_time": "2022-08-23T15:15:57.006Z"
   },
   {
    "duration": 330,
    "start_time": "2022-08-23T15:16:46.063Z"
   },
   {
    "duration": 337,
    "start_time": "2022-08-23T15:17:11.922Z"
   },
   {
    "duration": 428,
    "start_time": "2022-08-23T15:17:56.219Z"
   },
   {
    "duration": 202,
    "start_time": "2022-08-23T15:18:51.358Z"
   },
   {
    "duration": 180,
    "start_time": "2022-08-23T15:19:01.275Z"
   },
   {
    "duration": 228,
    "start_time": "2022-08-23T15:19:11.239Z"
   },
   {
    "duration": 257772,
    "start_time": "2022-08-23T15:28:20.584Z"
   },
   {
    "duration": 4,
    "start_time": "2022-08-23T15:32:38.358Z"
   },
   {
    "duration": 264,
    "start_time": "2022-08-23T15:39:26.598Z"
   },
   {
    "duration": 351,
    "start_time": "2022-08-23T15:40:01.940Z"
   },
   {
    "duration": 185,
    "start_time": "2022-08-23T15:40:55.750Z"
   },
   {
    "duration": 300,
    "start_time": "2022-08-23T15:41:56.614Z"
   },
   {
    "duration": 288,
    "start_time": "2022-08-23T15:43:40.783Z"
   },
   {
    "duration": 380,
    "start_time": "2022-08-23T15:43:47.808Z"
   },
   {
    "duration": 64934,
    "start_time": "2022-08-23T15:46:19.657Z"
   },
   {
    "duration": 10,
    "start_time": "2022-08-23T15:47:24.592Z"
   },
   {
    "duration": 285,
    "start_time": "2022-08-23T15:48:08.568Z"
   },
   {
    "duration": 275,
    "start_time": "2022-08-23T15:48:38.967Z"
   },
   {
    "duration": 271,
    "start_time": "2022-08-23T15:48:51.332Z"
   },
   {
    "duration": 270,
    "start_time": "2022-08-23T15:48:57.199Z"
   },
   {
    "duration": 346,
    "start_time": "2022-08-23T15:49:24.507Z"
   },
   {
    "duration": 268,
    "start_time": "2022-08-23T15:50:11.192Z"
   },
   {
    "duration": 190,
    "start_time": "2022-08-23T15:50:41.037Z"
   },
   {
    "duration": 190,
    "start_time": "2022-08-23T15:50:52.800Z"
   },
   {
    "duration": 12,
    "start_time": "2022-08-23T15:53:37.580Z"
   },
   {
    "duration": 51,
    "start_time": "2022-08-24T08:41:30.095Z"
   },
   {
    "duration": 1464,
    "start_time": "2022-08-24T08:41:37.654Z"
   },
   {
    "duration": 3,
    "start_time": "2022-08-24T08:41:39.120Z"
   },
   {
    "duration": 97,
    "start_time": "2022-08-24T08:41:39.124Z"
   },
   {
    "duration": 37,
    "start_time": "2022-08-24T08:41:39.223Z"
   },
   {
    "duration": 3,
    "start_time": "2022-08-24T08:41:39.261Z"
   },
   {
    "duration": 20,
    "start_time": "2022-08-24T08:41:39.266Z"
   },
   {
    "duration": 8,
    "start_time": "2022-08-24T08:41:39.287Z"
   },
   {
    "duration": 8,
    "start_time": "2022-08-24T08:41:39.297Z"
   },
   {
    "duration": 22,
    "start_time": "2022-08-24T08:41:39.306Z"
   },
   {
    "duration": 9,
    "start_time": "2022-08-24T08:41:39.331Z"
   },
   {
    "duration": 5,
    "start_time": "2022-08-24T08:41:39.341Z"
   },
   {
    "duration": 39,
    "start_time": "2022-08-24T08:41:39.347Z"
   },
   {
    "duration": 6,
    "start_time": "2022-08-24T08:41:39.388Z"
   },
   {
    "duration": 24,
    "start_time": "2022-08-24T08:41:39.395Z"
   },
   {
    "duration": 10,
    "start_time": "2022-08-24T08:41:39.420Z"
   },
   {
    "duration": 59,
    "start_time": "2022-08-24T08:41:39.432Z"
   },
   {
    "duration": 5,
    "start_time": "2022-08-24T08:41:39.493Z"
   },
   {
    "duration": 7,
    "start_time": "2022-08-24T08:41:39.500Z"
   },
   {
    "duration": 11,
    "start_time": "2022-08-24T08:41:39.508Z"
   },
   {
    "duration": 10,
    "start_time": "2022-08-24T08:41:39.521Z"
   },
   {
    "duration": 2,
    "start_time": "2022-08-24T08:41:39.533Z"
   },
   {
    "duration": 63060,
    "start_time": "2022-08-24T08:41:39.536Z"
   },
   {
    "duration": 4,
    "start_time": "2022-08-24T08:42:42.597Z"
   },
   {
    "duration": 12,
    "start_time": "2022-08-24T08:42:42.602Z"
   },
   {
    "duration": 2,
    "start_time": "2022-08-24T08:42:42.615Z"
   },
   {
    "duration": 7,
    "start_time": "2022-08-24T08:42:42.619Z"
   },
   {
    "duration": 292,
    "start_time": "2022-08-24T08:42:42.627Z"
   },
   {
    "duration": 71,
    "start_time": "2022-08-24T08:42:42.922Z"
   },
   {
    "duration": 284,
    "start_time": "2022-08-24T08:42:43.085Z"
   },
   {
    "duration": 116,
    "start_time": "2022-08-24T08:42:43.371Z"
   },
   {
    "duration": 102,
    "start_time": "2022-08-24T08:42:43.488Z"
   },
   {
    "duration": 10,
    "start_time": "2022-08-24T08:42:43.592Z"
   },
   {
    "duration": 8,
    "start_time": "2022-08-24T08:42:43.604Z"
   },
   {
    "duration": 384,
    "start_time": "2022-08-24T08:42:43.614Z"
   },
   {
    "duration": 91,
    "start_time": "2022-08-24T08:42:43.999Z"
   },
   {
    "duration": 101,
    "start_time": "2022-08-24T08:42:44.092Z"
   },
   {
    "duration": 13,
    "start_time": "2022-08-24T08:42:44.194Z"
   },
   {
    "duration": 4,
    "start_time": "2022-08-24T08:42:44.208Z"
   },
   {
    "duration": 171,
    "start_time": "2022-08-24T08:42:44.213Z"
   },
   {
    "duration": 98,
    "start_time": "2022-08-24T08:42:44.386Z"
   },
   {
    "duration": 72,
    "start_time": "2022-08-24T08:43:41.864Z"
   },
   {
    "duration": 62806,
    "start_time": "2022-08-24T08:44:25.467Z"
   },
   {
    "duration": 4,
    "start_time": "2022-08-24T08:45:50.904Z"
   },
   {
    "duration": 302,
    "start_time": "2022-08-24T08:46:45.968Z"
   },
   {
    "duration": 4,
    "start_time": "2022-08-24T09:03:41.932Z"
   },
   {
    "duration": 10,
    "start_time": "2022-08-24T09:03:41.937Z"
   },
   {
    "duration": 42,
    "start_time": "2022-08-24T09:03:41.948Z"
   },
   {
    "duration": 22,
    "start_time": "2022-08-24T09:03:41.991Z"
   },
   {
    "duration": 4,
    "start_time": "2022-08-24T09:03:42.014Z"
   },
   {
    "duration": 13,
    "start_time": "2022-08-24T09:03:42.019Z"
   },
   {
    "duration": 10,
    "start_time": "2022-08-24T09:03:42.034Z"
   },
   {
    "duration": 6,
    "start_time": "2022-08-24T09:03:42.046Z"
   },
   {
    "duration": 41,
    "start_time": "2022-08-24T09:03:42.053Z"
   },
   {
    "duration": 7,
    "start_time": "2022-08-24T09:03:42.096Z"
   },
   {
    "duration": 2,
    "start_time": "2022-08-24T09:03:42.105Z"
   },
   {
    "duration": 9,
    "start_time": "2022-08-24T09:03:42.108Z"
   },
   {
    "duration": 8,
    "start_time": "2022-08-24T09:03:42.118Z"
   },
   {
    "duration": 57,
    "start_time": "2022-08-24T09:03:42.128Z"
   },
   {
    "duration": 11,
    "start_time": "2022-08-24T09:03:42.187Z"
   },
   {
    "duration": 40,
    "start_time": "2022-08-24T09:03:42.200Z"
   },
   {
    "duration": 5,
    "start_time": "2022-08-24T09:03:42.242Z"
   },
   {
    "duration": 6,
    "start_time": "2022-08-24T09:03:42.248Z"
   },
   {
    "duration": 35,
    "start_time": "2022-08-24T09:03:42.255Z"
   },
   {
    "duration": 7,
    "start_time": "2022-08-24T09:03:42.292Z"
   },
   {
    "duration": 3,
    "start_time": "2022-08-24T09:03:42.300Z"
   },
   {
    "duration": 0,
    "start_time": "2022-08-24T09:15:53.899Z"
   },
   {
    "duration": 0,
    "start_time": "2022-08-24T09:15:53.900Z"
   },
   {
    "duration": 0,
    "start_time": "2022-08-24T09:15:53.900Z"
   },
   {
    "duration": 0,
    "start_time": "2022-08-24T09:15:53.901Z"
   },
   {
    "duration": 0,
    "start_time": "2022-08-24T09:15:53.902Z"
   },
   {
    "duration": 0,
    "start_time": "2022-08-24T09:15:53.903Z"
   },
   {
    "duration": 0,
    "start_time": "2022-08-24T09:15:53.904Z"
   },
   {
    "duration": 0,
    "start_time": "2022-08-24T09:15:53.905Z"
   },
   {
    "duration": 0,
    "start_time": "2022-08-24T09:15:53.906Z"
   },
   {
    "duration": 0,
    "start_time": "2022-08-24T09:15:53.907Z"
   },
   {
    "duration": 0,
    "start_time": "2022-08-24T09:15:53.908Z"
   },
   {
    "duration": 0,
    "start_time": "2022-08-24T09:15:53.909Z"
   },
   {
    "duration": 0,
    "start_time": "2022-08-24T09:15:53.909Z"
   },
   {
    "duration": 0,
    "start_time": "2022-08-24T09:15:53.910Z"
   },
   {
    "duration": 0,
    "start_time": "2022-08-24T09:15:53.911Z"
   },
   {
    "duration": 0,
    "start_time": "2022-08-24T09:15:53.912Z"
   },
   {
    "duration": 0,
    "start_time": "2022-08-24T09:15:53.913Z"
   },
   {
    "duration": 0,
    "start_time": "2022-08-24T09:15:53.914Z"
   },
   {
    "duration": 0,
    "start_time": "2022-08-24T09:15:53.915Z"
   },
   {
    "duration": 0,
    "start_time": "2022-08-24T09:15:53.916Z"
   },
   {
    "duration": 0,
    "start_time": "2022-08-24T09:15:53.917Z"
   },
   {
    "duration": 0,
    "start_time": "2022-08-24T09:15:53.918Z"
   },
   {
    "duration": 0,
    "start_time": "2022-08-24T09:15:53.919Z"
   },
   {
    "duration": 0,
    "start_time": "2022-08-24T09:15:53.920Z"
   },
   {
    "duration": 0,
    "start_time": "2022-08-24T09:15:53.921Z"
   },
   {
    "duration": 0,
    "start_time": "2022-08-24T09:15:53.984Z"
   },
   {
    "duration": 0,
    "start_time": "2022-08-24T09:15:53.986Z"
   },
   {
    "duration": 0,
    "start_time": "2022-08-24T09:15:53.987Z"
   },
   {
    "duration": 0,
    "start_time": "2022-08-24T09:15:53.988Z"
   },
   {
    "duration": 0,
    "start_time": "2022-08-24T09:15:53.989Z"
   },
   {
    "duration": 0,
    "start_time": "2022-08-24T09:15:53.990Z"
   },
   {
    "duration": 0,
    "start_time": "2022-08-24T09:15:53.991Z"
   },
   {
    "duration": 0,
    "start_time": "2022-08-24T09:15:53.992Z"
   },
   {
    "duration": 0,
    "start_time": "2022-08-24T09:15:53.993Z"
   },
   {
    "duration": 0,
    "start_time": "2022-08-24T09:15:53.994Z"
   },
   {
    "duration": 0,
    "start_time": "2022-08-24T09:15:53.995Z"
   },
   {
    "duration": 0,
    "start_time": "2022-08-24T09:15:53.996Z"
   },
   {
    "duration": 0,
    "start_time": "2022-08-24T09:15:53.997Z"
   },
   {
    "duration": 0,
    "start_time": "2022-08-24T09:15:53.998Z"
   },
   {
    "duration": 0,
    "start_time": "2022-08-24T09:15:53.999Z"
   },
   {
    "duration": 0,
    "start_time": "2022-08-24T09:15:54.002Z"
   },
   {
    "duration": 4,
    "start_time": "2022-08-24T09:16:41.760Z"
   },
   {
    "duration": 10,
    "start_time": "2022-08-24T09:16:41.766Z"
   },
   {
    "duration": 41,
    "start_time": "2022-08-24T09:16:41.778Z"
   },
   {
    "duration": 22,
    "start_time": "2022-08-24T09:16:41.821Z"
   },
   {
    "duration": 3,
    "start_time": "2022-08-24T09:16:41.845Z"
   },
   {
    "duration": 13,
    "start_time": "2022-08-24T09:16:41.850Z"
   },
   {
    "duration": 19,
    "start_time": "2022-08-24T09:16:41.865Z"
   },
   {
    "duration": 8,
    "start_time": "2022-08-24T09:16:41.886Z"
   },
   {
    "duration": 21,
    "start_time": "2022-08-24T09:16:41.895Z"
   },
   {
    "duration": 7,
    "start_time": "2022-08-24T09:16:41.918Z"
   },
   {
    "duration": 4,
    "start_time": "2022-08-24T09:16:41.928Z"
   },
   {
    "duration": 8,
    "start_time": "2022-08-24T09:16:41.933Z"
   },
   {
    "duration": 7,
    "start_time": "2022-08-24T09:16:41.943Z"
   },
   {
    "duration": 52,
    "start_time": "2022-08-24T09:16:41.952Z"
   },
   {
    "duration": 9,
    "start_time": "2022-08-24T09:16:42.006Z"
   },
   {
    "duration": 33,
    "start_time": "2022-08-24T09:16:42.017Z"
   },
   {
    "duration": 5,
    "start_time": "2022-08-24T09:16:42.052Z"
   },
   {
    "duration": 28,
    "start_time": "2022-08-24T09:16:42.059Z"
   },
   {
    "duration": 9,
    "start_time": "2022-08-24T09:16:42.089Z"
   },
   {
    "duration": 14,
    "start_time": "2022-08-24T09:16:42.099Z"
   },
   {
    "duration": 3,
    "start_time": "2022-08-24T09:16:42.114Z"
   },
   {
    "duration": 4,
    "start_time": "2022-08-24T09:16:42.119Z"
   },
   {
    "duration": 62379,
    "start_time": "2022-08-24T09:16:42.125Z"
   },
   {
    "duration": 4,
    "start_time": "2022-08-24T09:17:44.506Z"
   },
   {
    "duration": 9,
    "start_time": "2022-08-24T09:17:44.511Z"
   },
   {
    "duration": 14,
    "start_time": "2022-08-24T09:17:44.521Z"
   },
   {
    "duration": 11,
    "start_time": "2022-08-24T09:17:44.536Z"
   },
   {
    "duration": 264,
    "start_time": "2022-08-24T09:17:44.549Z"
   },
   {
    "duration": 72,
    "start_time": "2022-08-24T09:17:44.816Z"
   },
   {
    "duration": 369,
    "start_time": "2022-08-24T09:17:44.890Z"
   },
   {
    "duration": 125,
    "start_time": "2022-08-24T09:17:45.260Z"
   },
   {
    "duration": 99,
    "start_time": "2022-08-24T09:17:45.387Z"
   },
   {
    "duration": 7,
    "start_time": "2022-08-24T09:17:45.487Z"
   },
   {
    "duration": 4,
    "start_time": "2022-08-24T09:17:45.496Z"
   },
   {
    "duration": 360,
    "start_time": "2022-08-24T09:17:45.501Z"
   },
   {
    "duration": 122,
    "start_time": "2022-08-24T09:17:45.862Z"
   },
   {
    "duration": 101,
    "start_time": "2022-08-24T09:17:45.987Z"
   },
   {
    "duration": 6,
    "start_time": "2022-08-24T09:17:46.089Z"
   },
   {
    "duration": 3,
    "start_time": "2022-08-24T09:17:46.096Z"
   },
   {
    "duration": 198,
    "start_time": "2022-08-24T09:17:46.100Z"
   },
   {
    "duration": 90,
    "start_time": "2022-08-24T09:17:46.299Z"
   },
   {
    "duration": 62275,
    "start_time": "2022-08-24T09:18:08.035Z"
   },
   {
    "duration": 63086,
    "start_time": "2022-08-24T09:24:25.706Z"
   },
   {
    "duration": 3,
    "start_time": "2022-08-24T09:26:41.354Z"
   },
   {
    "duration": 466748,
    "start_time": "2022-08-24T09:29:44.370Z"
   },
   {
    "duration": 3,
    "start_time": "2022-08-24T09:37:31.120Z"
   },
   {
    "duration": 437,
    "start_time": "2022-08-24T09:40:04.139Z"
   },
   {
    "duration": 333,
    "start_time": "2022-08-24T09:40:29.264Z"
   },
   {
    "duration": 338,
    "start_time": "2022-08-24T09:41:25.292Z"
   },
   {
    "duration": 459,
    "start_time": "2022-08-24T09:42:54.738Z"
   },
   {
    "duration": 3,
    "start_time": "2022-08-24T09:44:06.452Z"
   },
   {
    "duration": 220,
    "start_time": "2022-08-24T09:44:09.279Z"
   },
   {
    "duration": 171,
    "start_time": "2022-08-24T09:44:23.405Z"
   },
   {
    "duration": 208,
    "start_time": "2022-08-24T09:44:31.637Z"
   },
   {
    "duration": 435,
    "start_time": "2022-08-24T09:45:32.752Z"
   },
   {
    "duration": 451,
    "start_time": "2022-08-24T09:45:41.357Z"
   },
   {
    "duration": 287,
    "start_time": "2022-08-24T09:46:12.100Z"
   },
   {
    "duration": 303,
    "start_time": "2022-08-24T09:46:53.925Z"
   },
   {
    "duration": 357,
    "start_time": "2022-08-24T09:47:02.508Z"
   },
   {
    "duration": 308,
    "start_time": "2022-08-24T09:47:09.460Z"
   },
   {
    "duration": 304,
    "start_time": "2022-08-24T09:47:23.880Z"
   },
   {
    "duration": 316,
    "start_time": "2022-08-24T09:47:30.784Z"
   },
   {
    "duration": 473923,
    "start_time": "2022-08-24T09:48:49.105Z"
   },
   {
    "duration": 371,
    "start_time": "2022-08-24T10:03:39.982Z"
   },
   {
    "duration": 324,
    "start_time": "2022-08-24T10:04:08.663Z"
   },
   {
    "duration": 341,
    "start_time": "2022-08-24T10:04:27.277Z"
   },
   {
    "duration": 11,
    "start_time": "2022-08-24T10:19:25.958Z"
   },
   {
    "duration": 6,
    "start_time": "2022-08-24T10:19:42.421Z"
   },
   {
    "duration": 12,
    "start_time": "2022-08-24T10:22:36.856Z"
   },
   {
    "duration": 7,
    "start_time": "2022-08-24T10:23:28.155Z"
   },
   {
    "duration": 2,
    "start_time": "2022-08-24T10:24:28.032Z"
   },
   {
    "duration": 2,
    "start_time": "2022-08-24T10:24:34.105Z"
   },
   {
    "duration": 4,
    "start_time": "2022-08-24T10:24:37.446Z"
   },
   {
    "duration": 10,
    "start_time": "2022-08-24T10:24:37.452Z"
   },
   {
    "duration": 42,
    "start_time": "2022-08-24T10:24:37.463Z"
   },
   {
    "duration": 21,
    "start_time": "2022-08-24T10:24:37.507Z"
   },
   {
    "duration": 3,
    "start_time": "2022-08-24T10:24:37.529Z"
   },
   {
    "duration": 12,
    "start_time": "2022-08-24T10:24:37.534Z"
   },
   {
    "duration": 10,
    "start_time": "2022-08-24T10:24:37.547Z"
   },
   {
    "duration": 30,
    "start_time": "2022-08-24T10:24:37.558Z"
   },
   {
    "duration": 23,
    "start_time": "2022-08-24T10:24:37.589Z"
   },
   {
    "duration": 8,
    "start_time": "2022-08-24T10:24:37.615Z"
   },
   {
    "duration": 2,
    "start_time": "2022-08-24T10:24:37.625Z"
   },
   {
    "duration": 10,
    "start_time": "2022-08-24T10:24:37.628Z"
   },
   {
    "duration": 9,
    "start_time": "2022-08-24T10:24:37.639Z"
   },
   {
    "duration": 48,
    "start_time": "2022-08-24T10:24:37.649Z"
   },
   {
    "duration": 10,
    "start_time": "2022-08-24T10:24:37.699Z"
   },
   {
    "duration": 36,
    "start_time": "2022-08-24T10:24:37.710Z"
   },
   {
    "duration": 4,
    "start_time": "2022-08-24T10:24:37.747Z"
   },
   {
    "duration": 6,
    "start_time": "2022-08-24T10:24:37.752Z"
   },
   {
    "duration": 30,
    "start_time": "2022-08-24T10:24:37.759Z"
   },
   {
    "duration": 7,
    "start_time": "2022-08-24T10:24:37.791Z"
   },
   {
    "duration": 2,
    "start_time": "2022-08-24T10:24:37.799Z"
   },
   {
    "duration": 6,
    "start_time": "2022-08-24T10:24:37.803Z"
   },
   {
    "duration": 4,
    "start_time": "2022-08-24T10:24:37.810Z"
   },
   {
    "duration": 6,
    "start_time": "2022-08-24T10:24:37.815Z"
   },
   {
    "duration": 6,
    "start_time": "2022-08-24T10:24:37.822Z"
   },
   {
    "duration": 4,
    "start_time": "2022-08-24T10:24:37.830Z"
   },
   {
    "duration": 6,
    "start_time": "2022-08-24T10:24:37.835Z"
   },
   {
    "duration": 367,
    "start_time": "2022-08-24T10:24:37.844Z"
   },
   {
    "duration": 78,
    "start_time": "2022-08-24T10:24:38.213Z"
   },
   {
    "duration": 455,
    "start_time": "2022-08-24T10:24:38.292Z"
   },
   {
    "duration": 136,
    "start_time": "2022-08-24T10:24:38.749Z"
   },
   {
    "duration": 98,
    "start_time": "2022-08-24T10:24:38.888Z"
   },
   {
    "duration": 6,
    "start_time": "2022-08-24T10:24:38.988Z"
   },
   {
    "duration": 4,
    "start_time": "2022-08-24T10:24:38.996Z"
   },
   {
    "duration": 501,
    "start_time": "2022-08-24T10:24:39.001Z"
   },
   {
    "duration": 83,
    "start_time": "2022-08-24T10:24:39.504Z"
   },
   {
    "duration": 103,
    "start_time": "2022-08-24T10:24:39.589Z"
   },
   {
    "duration": 6,
    "start_time": "2022-08-24T10:24:39.693Z"
   },
   {
    "duration": 3,
    "start_time": "2022-08-24T10:24:39.701Z"
   },
   {
    "duration": 235,
    "start_time": "2022-08-24T10:24:39.706Z"
   },
   {
    "duration": 51,
    "start_time": "2022-08-24T10:24:39.943Z"
   },
   {
    "duration": 10,
    "start_time": "2022-08-24T10:24:40.086Z"
   },
   {
    "duration": 89,
    "start_time": "2022-08-24T10:24:40.098Z"
   },
   {
    "duration": 487,
    "start_time": "2022-08-24T10:24:40.189Z"
   },
   {
    "duration": 15,
    "start_time": "2022-08-24T10:41:25.437Z"
   },
   {
    "duration": 18,
    "start_time": "2022-08-24T10:42:14.063Z"
   },
   {
    "duration": 28,
    "start_time": "2022-08-24T10:42:49.270Z"
   },
   {
    "duration": 6,
    "start_time": "2022-08-24T10:53:57.692Z"
   },
   {
    "duration": 5,
    "start_time": "2022-08-24T10:54:16.978Z"
   },
   {
    "duration": 5,
    "start_time": "2022-08-24T10:57:36.114Z"
   },
   {
    "duration": 4,
    "start_time": "2022-08-24T10:58:36.605Z"
   },
   {
    "duration": 5,
    "start_time": "2022-08-24T11:00:30.167Z"
   },
   {
    "duration": 2,
    "start_time": "2022-08-24T11:00:55.447Z"
   },
   {
    "duration": 26,
    "start_time": "2022-08-24T11:01:22.236Z"
   },
   {
    "duration": 5,
    "start_time": "2022-08-24T11:01:30.391Z"
   },
   {
    "duration": 32,
    "start_time": "2022-08-24T11:01:30.397Z"
   },
   {
    "duration": 64,
    "start_time": "2022-08-24T11:01:30.431Z"
   },
   {
    "duration": 21,
    "start_time": "2022-08-24T11:01:30.497Z"
   },
   {
    "duration": 9,
    "start_time": "2022-08-24T11:01:30.520Z"
   },
   {
    "duration": 25,
    "start_time": "2022-08-24T11:01:30.531Z"
   },
   {
    "duration": 23,
    "start_time": "2022-08-24T11:01:30.557Z"
   },
   {
    "duration": 12,
    "start_time": "2022-08-24T11:01:30.582Z"
   },
   {
    "duration": 32,
    "start_time": "2022-08-24T11:01:30.595Z"
   },
   {
    "duration": 27,
    "start_time": "2022-08-24T11:01:30.628Z"
   },
   {
    "duration": 22,
    "start_time": "2022-08-24T11:01:30.657Z"
   },
   {
    "duration": 12,
    "start_time": "2022-08-24T11:01:30.680Z"
   },
   {
    "duration": 22,
    "start_time": "2022-08-24T11:01:30.695Z"
   },
   {
    "duration": 61,
    "start_time": "2022-08-24T11:01:30.719Z"
   },
   {
    "duration": 20,
    "start_time": "2022-08-24T11:01:30.782Z"
   },
   {
    "duration": 53,
    "start_time": "2022-08-24T11:01:30.803Z"
   },
   {
    "duration": 7,
    "start_time": "2022-08-24T11:01:30.858Z"
   },
   {
    "duration": 14,
    "start_time": "2022-08-24T11:01:30.867Z"
   },
   {
    "duration": 23,
    "start_time": "2022-08-24T11:01:30.882Z"
   },
   {
    "duration": 13,
    "start_time": "2022-08-24T11:01:30.907Z"
   },
   {
    "duration": 24,
    "start_time": "2022-08-24T11:01:30.921Z"
   },
   {
    "duration": 22,
    "start_time": "2022-08-24T11:01:30.947Z"
   },
   {
    "duration": 22,
    "start_time": "2022-08-24T11:01:30.971Z"
   },
   {
    "duration": 26,
    "start_time": "2022-08-24T11:01:30.995Z"
   },
   {
    "duration": 27,
    "start_time": "2022-08-24T11:01:31.023Z"
   },
   {
    "duration": 28,
    "start_time": "2022-08-24T11:01:31.052Z"
   },
   {
    "duration": 23,
    "start_time": "2022-08-24T11:01:31.081Z"
   },
   {
    "duration": 355,
    "start_time": "2022-08-24T11:01:31.105Z"
   },
   {
    "duration": 37,
    "start_time": "2022-08-24T11:01:31.462Z"
   },
   {
    "duration": 437,
    "start_time": "2022-08-24T11:01:31.585Z"
   },
   {
    "duration": 63,
    "start_time": "2022-08-24T11:01:32.023Z"
   },
   {
    "duration": 104,
    "start_time": "2022-08-24T11:01:32.088Z"
   },
   {
    "duration": 7,
    "start_time": "2022-08-24T11:01:32.193Z"
   },
   {
    "duration": 4,
    "start_time": "2022-08-24T11:01:32.201Z"
   },
   {
    "duration": 516,
    "start_time": "2022-08-24T11:01:32.206Z"
   },
   {
    "duration": 71,
    "start_time": "2022-08-24T11:01:32.723Z"
   },
   {
    "duration": 103,
    "start_time": "2022-08-24T11:01:32.799Z"
   },
   {
    "duration": 15,
    "start_time": "2022-08-24T11:01:32.904Z"
   },
   {
    "duration": 2,
    "start_time": "2022-08-24T11:01:32.985Z"
   },
   {
    "duration": 219,
    "start_time": "2022-08-24T11:01:32.989Z"
   },
   {
    "duration": 82,
    "start_time": "2022-08-24T11:01:33.209Z"
   },
   {
    "duration": 97,
    "start_time": "2022-08-24T11:01:33.293Z"
   },
   {
    "duration": 5,
    "start_time": "2022-08-24T11:01:33.391Z"
   },
   {
    "duration": 8,
    "start_time": "2022-08-24T11:01:33.397Z"
   },
   {
    "duration": 3,
    "start_time": "2022-08-24T11:01:33.406Z"
   },
   {
    "duration": 31,
    "start_time": "2022-08-24T11:01:33.410Z"
   },
   {
    "duration": 13,
    "start_time": "2022-08-24T11:01:33.443Z"
   },
   {
    "duration": 0,
    "start_time": "2022-08-24T11:01:33.457Z"
   },
   {
    "duration": 0,
    "start_time": "2022-08-24T11:01:33.485Z"
   },
   {
    "duration": 8,
    "start_time": "2022-08-24T11:05:10.259Z"
   },
   {
    "duration": 5,
    "start_time": "2022-08-24T11:06:20.805Z"
   },
   {
    "duration": 8,
    "start_time": "2022-08-24T11:08:16.225Z"
   },
   {
    "duration": 8,
    "start_time": "2022-08-24T11:08:41.042Z"
   },
   {
    "duration": 7,
    "start_time": "2022-08-24T11:09:08.565Z"
   },
   {
    "duration": 11,
    "start_time": "2022-08-24T11:16:08.234Z"
   },
   {
    "duration": 372,
    "start_time": "2022-08-24T11:17:57.478Z"
   },
   {
    "duration": 321,
    "start_time": "2022-08-24T11:18:15.596Z"
   },
   {
    "duration": 379,
    "start_time": "2022-08-24T11:18:23.964Z"
   },
   {
    "duration": 5,
    "start_time": "2022-08-24T11:18:31.443Z"
   },
   {
    "duration": 28,
    "start_time": "2022-08-24T11:18:31.450Z"
   },
   {
    "duration": 60,
    "start_time": "2022-08-24T11:18:31.479Z"
   },
   {
    "duration": 21,
    "start_time": "2022-08-24T11:18:31.542Z"
   },
   {
    "duration": 4,
    "start_time": "2022-08-24T11:18:31.564Z"
   },
   {
    "duration": 12,
    "start_time": "2022-08-24T11:18:31.570Z"
   },
   {
    "duration": 9,
    "start_time": "2022-08-24T11:18:31.583Z"
   },
   {
    "duration": 23,
    "start_time": "2022-08-24T11:18:31.593Z"
   },
   {
    "duration": 20,
    "start_time": "2022-08-24T11:18:31.617Z"
   },
   {
    "duration": 9,
    "start_time": "2022-08-24T11:18:31.640Z"
   },
   {
    "duration": 5,
    "start_time": "2022-08-24T11:18:31.650Z"
   },
   {
    "duration": 16,
    "start_time": "2022-08-24T11:18:31.656Z"
   },
   {
    "duration": 12,
    "start_time": "2022-08-24T11:18:31.673Z"
   },
   {
    "duration": 27,
    "start_time": "2022-08-24T11:18:31.687Z"
   },
   {
    "duration": 12,
    "start_time": "2022-08-24T11:18:31.715Z"
   },
   {
    "duration": 65,
    "start_time": "2022-08-24T11:18:31.729Z"
   },
   {
    "duration": 5,
    "start_time": "2022-08-24T11:18:31.796Z"
   },
   {
    "duration": 5,
    "start_time": "2022-08-24T11:18:31.805Z"
   },
   {
    "duration": 10,
    "start_time": "2022-08-24T11:18:31.811Z"
   },
   {
    "duration": 10,
    "start_time": "2022-08-24T11:18:31.823Z"
   },
   {
    "duration": 7,
    "start_time": "2022-08-24T11:18:31.835Z"
   },
   {
    "duration": 8,
    "start_time": "2022-08-24T11:18:31.843Z"
   },
   {
    "duration": 7,
    "start_time": "2022-08-24T11:18:31.853Z"
   },
   {
    "duration": 24,
    "start_time": "2022-08-24T11:18:31.861Z"
   },
   {
    "duration": 5,
    "start_time": "2022-08-24T11:18:31.887Z"
   },
   {
    "duration": 11,
    "start_time": "2022-08-24T11:18:31.894Z"
   },
   {
    "duration": 9,
    "start_time": "2022-08-24T11:18:31.907Z"
   },
   {
    "duration": 445,
    "start_time": "2022-08-24T11:18:31.919Z"
   },
   {
    "duration": 123,
    "start_time": "2022-08-24T11:18:32.365Z"
   },
   {
    "duration": 483,
    "start_time": "2022-08-24T11:18:32.489Z"
   },
   {
    "duration": 113,
    "start_time": "2022-08-24T11:18:32.973Z"
   },
   {
    "duration": 101,
    "start_time": "2022-08-24T11:18:33.088Z"
   },
   {
    "duration": 7,
    "start_time": "2022-08-24T11:18:33.191Z"
   },
   {
    "duration": 6,
    "start_time": "2022-08-24T11:18:33.200Z"
   },
   {
    "duration": 495,
    "start_time": "2022-08-24T11:18:33.209Z"
   },
   {
    "duration": 278,
    "start_time": "2022-08-24T11:18:33.707Z"
   },
   {
    "duration": 12,
    "start_time": "2022-08-24T11:18:33.986Z"
   },
   {
    "duration": 11,
    "start_time": "2022-08-24T11:18:34.000Z"
   },
   {
    "duration": 6,
    "start_time": "2022-08-24T11:18:34.012Z"
   },
   {
    "duration": 239,
    "start_time": "2022-08-24T11:18:34.019Z"
   },
   {
    "duration": 34,
    "start_time": "2022-08-24T11:18:34.260Z"
   },
   {
    "duration": 107,
    "start_time": "2022-08-24T11:18:34.295Z"
   },
   {
    "duration": 9,
    "start_time": "2022-08-24T11:18:34.486Z"
   },
   {
    "duration": 7,
    "start_time": "2022-08-24T11:18:34.497Z"
   },
   {
    "duration": 47,
    "start_time": "2022-08-24T11:18:34.507Z"
   },
   {
    "duration": 10,
    "start_time": "2022-08-24T11:18:34.556Z"
   },
   {
    "duration": 13,
    "start_time": "2022-08-24T11:18:34.585Z"
   },
   {
    "duration": 434,
    "start_time": "2022-08-24T11:18:34.600Z"
   },
   {
    "duration": 5,
    "start_time": "2022-08-24T11:20:45.253Z"
   },
   {
    "duration": 60,
    "start_time": "2022-08-24T11:25:54.247Z"
   },
   {
    "duration": 5,
    "start_time": "2022-08-24T11:26:21.161Z"
   },
   {
    "duration": 10,
    "start_time": "2022-08-24T11:26:21.167Z"
   },
   {
    "duration": 43,
    "start_time": "2022-08-24T11:26:21.179Z"
   },
   {
    "duration": 23,
    "start_time": "2022-08-24T11:26:21.224Z"
   },
   {
    "duration": 3,
    "start_time": "2022-08-24T11:26:21.249Z"
   },
   {
    "duration": 13,
    "start_time": "2022-08-24T11:26:21.254Z"
   },
   {
    "duration": 10,
    "start_time": "2022-08-24T11:26:21.284Z"
   },
   {
    "duration": 9,
    "start_time": "2022-08-24T11:26:21.296Z"
   },
   {
    "duration": 25,
    "start_time": "2022-08-24T11:26:21.306Z"
   },
   {
    "duration": 10,
    "start_time": "2022-08-24T11:26:21.333Z"
   },
   {
    "duration": 41,
    "start_time": "2022-08-24T11:26:21.344Z"
   },
   {
    "duration": 6,
    "start_time": "2022-08-24T11:26:21.387Z"
   },
   {
    "duration": 11,
    "start_time": "2022-08-24T11:26:21.395Z"
   },
   {
    "duration": 28,
    "start_time": "2022-08-24T11:26:21.407Z"
   },
   {
    "duration": 11,
    "start_time": "2022-08-24T11:26:21.436Z"
   },
   {
    "duration": 61,
    "start_time": "2022-08-24T11:26:21.449Z"
   },
   {
    "duration": 4,
    "start_time": "2022-08-24T11:26:21.512Z"
   },
   {
    "duration": 9,
    "start_time": "2022-08-24T11:26:21.517Z"
   },
   {
    "duration": 7,
    "start_time": "2022-08-24T11:26:21.528Z"
   },
   {
    "duration": 10,
    "start_time": "2022-08-24T11:26:21.537Z"
   },
   {
    "duration": 3,
    "start_time": "2022-08-24T11:26:21.549Z"
   },
   {
    "duration": 5,
    "start_time": "2022-08-24T11:26:21.553Z"
   },
   {
    "duration": 26,
    "start_time": "2022-08-24T11:26:21.560Z"
   },
   {
    "duration": 4,
    "start_time": "2022-08-24T11:26:21.588Z"
   },
   {
    "duration": 5,
    "start_time": "2022-08-24T11:26:21.594Z"
   },
   {
    "duration": 9,
    "start_time": "2022-08-24T11:26:21.601Z"
   },
   {
    "duration": 7,
    "start_time": "2022-08-24T11:26:21.612Z"
   },
   {
    "duration": 417,
    "start_time": "2022-08-24T11:26:21.622Z"
   },
   {
    "duration": 56,
    "start_time": "2022-08-24T11:26:22.041Z"
   },
   {
    "duration": 493,
    "start_time": "2022-08-24T11:26:22.186Z"
   },
   {
    "duration": 108,
    "start_time": "2022-08-24T11:26:22.681Z"
   },
   {
    "duration": 100,
    "start_time": "2022-08-24T11:26:22.794Z"
   },
   {
    "duration": 7,
    "start_time": "2022-08-24T11:26:22.896Z"
   },
   {
    "duration": 17,
    "start_time": "2022-08-24T11:26:22.905Z"
   },
   {
    "duration": 534,
    "start_time": "2022-08-24T11:26:22.925Z"
   },
   {
    "duration": 126,
    "start_time": "2022-08-24T11:26:23.461Z"
   },
   {
    "duration": 104,
    "start_time": "2022-08-24T11:26:23.590Z"
   },
   {
    "duration": 8,
    "start_time": "2022-08-24T11:26:23.696Z"
   },
   {
    "duration": 4,
    "start_time": "2022-08-24T11:26:23.706Z"
   },
   {
    "duration": 247,
    "start_time": "2022-08-24T11:26:23.711Z"
   },
   {
    "duration": 129,
    "start_time": "2022-08-24T11:26:23.960Z"
   },
   {
    "duration": 95,
    "start_time": "2022-08-24T11:26:24.094Z"
   },
   {
    "duration": 9,
    "start_time": "2022-08-24T11:26:24.190Z"
   },
   {
    "duration": 5,
    "start_time": "2022-08-24T11:26:24.201Z"
   },
   {
    "duration": 31,
    "start_time": "2022-08-24T11:26:24.208Z"
   },
   {
    "duration": 8,
    "start_time": "2022-08-24T11:26:24.241Z"
   },
   {
    "duration": 44,
    "start_time": "2022-08-24T11:26:24.251Z"
   },
   {
    "duration": 7,
    "start_time": "2022-08-24T11:26:24.296Z"
   },
   {
    "duration": 495,
    "start_time": "2022-08-24T11:26:24.305Z"
   },
   {
    "duration": 64,
    "start_time": "2022-08-24T11:26:24.802Z"
   },
   {
    "duration": 10,
    "start_time": "2022-08-24T11:28:32.508Z"
   },
   {
    "duration": 29,
    "start_time": "2022-08-24T11:29:05.362Z"
   },
   {
    "duration": 29,
    "start_time": "2022-08-24T11:29:27.992Z"
   },
   {
    "duration": 8,
    "start_time": "2022-08-24T11:47:49.065Z"
   },
   {
    "duration": 17,
    "start_time": "2022-08-24T11:55:14.341Z"
   },
   {
    "duration": 10,
    "start_time": "2022-08-24T11:55:25.430Z"
   },
   {
    "duration": 5,
    "start_time": "2022-08-24T11:55:29.613Z"
   },
   {
    "duration": 8,
    "start_time": "2022-08-24T11:55:29.620Z"
   },
   {
    "duration": 43,
    "start_time": "2022-08-24T11:55:29.630Z"
   },
   {
    "duration": 20,
    "start_time": "2022-08-24T11:55:29.675Z"
   },
   {
    "duration": 4,
    "start_time": "2022-08-24T11:55:29.697Z"
   },
   {
    "duration": 14,
    "start_time": "2022-08-24T11:55:29.703Z"
   },
   {
    "duration": 9,
    "start_time": "2022-08-24T11:55:29.718Z"
   },
   {
    "duration": 7,
    "start_time": "2022-08-24T11:55:29.728Z"
   },
   {
    "duration": 53,
    "start_time": "2022-08-24T11:55:29.737Z"
   },
   {
    "duration": 7,
    "start_time": "2022-08-24T11:55:29.792Z"
   },
   {
    "duration": 2,
    "start_time": "2022-08-24T11:55:29.801Z"
   },
   {
    "duration": 7,
    "start_time": "2022-08-24T11:55:29.805Z"
   },
   {
    "duration": 6,
    "start_time": "2022-08-24T11:55:29.815Z"
   },
   {
    "duration": 34,
    "start_time": "2022-08-24T11:55:29.822Z"
   },
   {
    "duration": 35,
    "start_time": "2022-08-24T11:55:29.857Z"
   },
   {
    "duration": 38,
    "start_time": "2022-08-24T11:55:29.894Z"
   },
   {
    "duration": 5,
    "start_time": "2022-08-24T11:55:29.933Z"
   },
   {
    "duration": 7,
    "start_time": "2022-08-24T11:55:29.939Z"
   },
   {
    "duration": 8,
    "start_time": "2022-08-24T11:55:29.948Z"
   },
   {
    "duration": 9,
    "start_time": "2022-08-24T11:55:29.985Z"
   },
   {
    "duration": 3,
    "start_time": "2022-08-24T11:55:29.996Z"
   },
   {
    "duration": 6,
    "start_time": "2022-08-24T11:55:30.000Z"
   },
   {
    "duration": 15,
    "start_time": "2022-08-24T11:55:30.008Z"
   },
   {
    "duration": 8,
    "start_time": "2022-08-24T11:55:30.024Z"
   },
   {
    "duration": 9,
    "start_time": "2022-08-24T11:55:30.034Z"
   },
   {
    "duration": 19,
    "start_time": "2022-08-24T11:55:30.045Z"
   },
   {
    "duration": 7,
    "start_time": "2022-08-24T11:55:30.066Z"
   },
   {
    "duration": 388,
    "start_time": "2022-08-24T11:55:30.075Z"
   },
   {
    "duration": 126,
    "start_time": "2022-08-24T11:55:30.465Z"
   },
   {
    "duration": 475,
    "start_time": "2022-08-24T11:55:30.593Z"
   },
   {
    "duration": 123,
    "start_time": "2022-08-24T11:55:31.070Z"
   },
   {
    "duration": 115,
    "start_time": "2022-08-24T11:55:31.195Z"
   },
   {
    "duration": 24,
    "start_time": "2022-08-24T11:55:31.312Z"
   },
   {
    "duration": 9,
    "start_time": "2022-08-24T11:55:31.338Z"
   },
   {
    "duration": 480,
    "start_time": "2022-08-24T11:55:31.348Z"
   },
   {
    "duration": 65,
    "start_time": "2022-08-24T11:55:31.829Z"
   },
   {
    "duration": 13,
    "start_time": "2022-08-24T11:55:31.984Z"
   },
   {
    "duration": 92,
    "start_time": "2022-08-24T11:55:31.999Z"
   },
   {
    "duration": 3,
    "start_time": "2022-08-24T11:55:32.093Z"
   },
   {
    "duration": 248,
    "start_time": "2022-08-24T11:55:32.098Z"
   },
   {
    "duration": 48,
    "start_time": "2022-08-24T11:55:32.348Z"
   },
   {
    "duration": 189,
    "start_time": "2022-08-24T11:55:32.397Z"
   },
   {
    "duration": 27,
    "start_time": "2022-08-24T11:55:32.588Z"
   },
   {
    "duration": 8,
    "start_time": "2022-08-24T11:55:32.616Z"
   },
   {
    "duration": 10,
    "start_time": "2022-08-24T11:55:32.625Z"
   },
   {
    "duration": 7,
    "start_time": "2022-08-24T11:55:32.637Z"
   },
   {
    "duration": 405,
    "start_time": "2022-08-24T11:55:32.645Z"
   },
   {
    "duration": 63,
    "start_time": "2022-08-24T11:55:33.052Z"
   },
   {
    "duration": 7,
    "start_time": "2022-08-24T11:56:20.101Z"
   },
   {
    "duration": 6,
    "start_time": "2022-08-24T11:56:26.881Z"
   },
   {
    "duration": 7,
    "start_time": "2022-08-24T11:56:26.888Z"
   },
   {
    "duration": 46,
    "start_time": "2022-08-24T11:56:26.896Z"
   },
   {
    "duration": 22,
    "start_time": "2022-08-24T11:56:26.944Z"
   },
   {
    "duration": 4,
    "start_time": "2022-08-24T11:56:26.967Z"
   },
   {
    "duration": 21,
    "start_time": "2022-08-24T11:56:26.972Z"
   },
   {
    "duration": 7,
    "start_time": "2022-08-24T11:56:26.995Z"
   },
   {
    "duration": 8,
    "start_time": "2022-08-24T11:56:27.003Z"
   },
   {
    "duration": 18,
    "start_time": "2022-08-24T11:56:27.012Z"
   },
   {
    "duration": 7,
    "start_time": "2022-08-24T11:56:27.032Z"
   },
   {
    "duration": 2,
    "start_time": "2022-08-24T11:56:27.041Z"
   },
   {
    "duration": 9,
    "start_time": "2022-08-24T11:56:27.044Z"
   },
   {
    "duration": 37,
    "start_time": "2022-08-24T11:56:27.055Z"
   },
   {
    "duration": 25,
    "start_time": "2022-08-24T11:56:27.093Z"
   },
   {
    "duration": 10,
    "start_time": "2022-08-24T11:56:27.119Z"
   },
   {
    "duration": 54,
    "start_time": "2022-08-24T11:56:27.131Z"
   },
   {
    "duration": 5,
    "start_time": "2022-08-24T11:56:27.186Z"
   },
   {
    "duration": 12,
    "start_time": "2022-08-24T11:56:27.192Z"
   },
   {
    "duration": 16,
    "start_time": "2022-08-24T11:56:27.206Z"
   },
   {
    "duration": 9,
    "start_time": "2022-08-24T11:56:27.223Z"
   },
   {
    "duration": 3,
    "start_time": "2022-08-24T11:56:27.234Z"
   },
   {
    "duration": 6,
    "start_time": "2022-08-24T11:56:27.238Z"
   },
   {
    "duration": 5,
    "start_time": "2022-08-24T11:56:27.245Z"
   },
   {
    "duration": 8,
    "start_time": "2022-08-24T11:56:27.251Z"
   },
   {
    "duration": 4,
    "start_time": "2022-08-24T11:56:27.261Z"
   },
   {
    "duration": 5,
    "start_time": "2022-08-24T11:56:27.266Z"
   },
   {
    "duration": 13,
    "start_time": "2022-08-24T11:56:27.272Z"
   },
   {
    "duration": 348,
    "start_time": "2022-08-24T11:56:27.289Z"
   },
   {
    "duration": 55,
    "start_time": "2022-08-24T11:56:27.639Z"
   },
   {
    "duration": 538,
    "start_time": "2022-08-24T11:56:27.696Z"
   },
   {
    "duration": 56,
    "start_time": "2022-08-24T11:56:28.237Z"
   },
   {
    "duration": 13,
    "start_time": "2022-08-24T11:56:28.386Z"
   },
   {
    "duration": 85,
    "start_time": "2022-08-24T11:56:28.400Z"
   },
   {
    "duration": 2,
    "start_time": "2022-08-24T11:56:28.487Z"
   },
   {
    "duration": 526,
    "start_time": "2022-08-24T11:56:28.491Z"
   },
   {
    "duration": 167,
    "start_time": "2022-08-24T11:56:29.018Z"
   },
   {
    "duration": 11,
    "start_time": "2022-08-24T11:56:29.186Z"
   },
   {
    "duration": 7,
    "start_time": "2022-08-24T11:56:29.198Z"
   },
   {
    "duration": 3,
    "start_time": "2022-08-24T11:56:29.207Z"
   },
   {
    "duration": 318,
    "start_time": "2022-08-24T11:56:29.211Z"
   },
   {
    "duration": 153,
    "start_time": "2022-08-24T11:56:29.531Z"
   },
   {
    "duration": 12,
    "start_time": "2022-08-24T11:56:29.686Z"
   },
   {
    "duration": 30,
    "start_time": "2022-08-24T11:56:29.699Z"
   },
   {
    "duration": 60,
    "start_time": "2022-08-24T11:56:29.730Z"
   },
   {
    "duration": 9,
    "start_time": "2022-08-24T11:56:29.791Z"
   },
   {
    "duration": 6,
    "start_time": "2022-08-24T11:56:29.801Z"
   },
   {
    "duration": 406,
    "start_time": "2022-08-24T11:56:29.808Z"
   },
   {
    "duration": 55,
    "start_time": "2022-08-24T11:56:30.217Z"
   },
   {
    "duration": 4,
    "start_time": "2022-08-24T11:56:51.155Z"
   },
   {
    "duration": 8,
    "start_time": "2022-08-24T11:56:51.162Z"
   },
   {
    "duration": 42,
    "start_time": "2022-08-24T11:56:51.171Z"
   },
   {
    "duration": 23,
    "start_time": "2022-08-24T11:56:51.214Z"
   },
   {
    "duration": 3,
    "start_time": "2022-08-24T11:56:51.240Z"
   },
   {
    "duration": 13,
    "start_time": "2022-08-24T11:56:51.245Z"
   },
   {
    "duration": 27,
    "start_time": "2022-08-24T11:56:51.259Z"
   },
   {
    "duration": 10,
    "start_time": "2022-08-24T11:56:51.288Z"
   },
   {
    "duration": 20,
    "start_time": "2022-08-24T11:56:51.300Z"
   },
   {
    "duration": 9,
    "start_time": "2022-08-24T11:56:51.322Z"
   },
   {
    "duration": 4,
    "start_time": "2022-08-24T11:56:51.333Z"
   },
   {
    "duration": 47,
    "start_time": "2022-08-24T11:56:51.338Z"
   },
   {
    "duration": 8,
    "start_time": "2022-08-24T11:56:51.387Z"
   },
   {
    "duration": 23,
    "start_time": "2022-08-24T11:56:51.398Z"
   },
   {
    "duration": 9,
    "start_time": "2022-08-24T11:56:51.423Z"
   },
   {
    "duration": 59,
    "start_time": "2022-08-24T11:56:51.434Z"
   },
   {
    "duration": 5,
    "start_time": "2022-08-24T11:56:51.494Z"
   },
   {
    "duration": 11,
    "start_time": "2022-08-24T11:56:51.500Z"
   },
   {
    "duration": 9,
    "start_time": "2022-08-24T11:56:51.513Z"
   },
   {
    "duration": 8,
    "start_time": "2022-08-24T11:56:51.523Z"
   },
   {
    "duration": 3,
    "start_time": "2022-08-24T11:56:51.532Z"
   },
   {
    "duration": 4,
    "start_time": "2022-08-24T11:56:51.536Z"
   },
   {
    "duration": 4,
    "start_time": "2022-08-24T11:56:51.542Z"
   },
   {
    "duration": 5,
    "start_time": "2022-08-24T11:56:51.547Z"
   },
   {
    "duration": 32,
    "start_time": "2022-08-24T11:56:51.553Z"
   },
   {
    "duration": 7,
    "start_time": "2022-08-24T11:56:51.587Z"
   },
   {
    "duration": 5,
    "start_time": "2022-08-24T11:56:51.596Z"
   },
   {
    "duration": 349,
    "start_time": "2022-08-24T11:56:51.602Z"
   },
   {
    "duration": 41,
    "start_time": "2022-08-24T11:56:51.953Z"
   },
   {
    "duration": 456,
    "start_time": "2022-08-24T11:56:52.086Z"
   },
   {
    "duration": 51,
    "start_time": "2022-08-24T11:56:52.544Z"
   },
   {
    "duration": 100,
    "start_time": "2022-08-24T11:56:52.685Z"
   },
   {
    "duration": 11,
    "start_time": "2022-08-24T11:56:52.787Z"
   },
   {
    "duration": 8,
    "start_time": "2022-08-24T11:56:52.799Z"
   },
   {
    "duration": 515,
    "start_time": "2022-08-24T11:56:52.808Z"
   },
   {
    "duration": 162,
    "start_time": "2022-08-24T11:56:53.324Z"
   },
   {
    "duration": 103,
    "start_time": "2022-08-24T11:56:53.488Z"
   },
   {
    "duration": 6,
    "start_time": "2022-08-24T11:56:53.592Z"
   },
   {
    "duration": 5,
    "start_time": "2022-08-24T11:56:53.599Z"
   },
   {
    "duration": 227,
    "start_time": "2022-08-24T11:56:53.606Z"
   },
   {
    "duration": 56,
    "start_time": "2022-08-24T11:56:53.837Z"
   },
   {
    "duration": 10,
    "start_time": "2022-08-24T11:56:53.985Z"
   },
   {
    "duration": 101,
    "start_time": "2022-08-24T11:56:53.997Z"
   },
   {
    "duration": 8,
    "start_time": "2022-08-24T11:56:54.099Z"
   },
   {
    "duration": 13,
    "start_time": "2022-08-24T11:56:54.109Z"
   },
   {
    "duration": 4,
    "start_time": "2022-08-24T11:56:54.124Z"
   },
   {
    "duration": 408,
    "start_time": "2022-08-24T11:56:54.130Z"
   },
   {
    "duration": 71,
    "start_time": "2022-08-24T11:56:54.541Z"
   },
   {
    "duration": 5,
    "start_time": "2022-08-24T11:57:27.664Z"
   },
   {
    "duration": 12,
    "start_time": "2022-08-24T11:57:27.671Z"
   },
   {
    "duration": 47,
    "start_time": "2022-08-24T11:57:27.685Z"
   },
   {
    "duration": 22,
    "start_time": "2022-08-24T11:57:27.734Z"
   },
   {
    "duration": 4,
    "start_time": "2022-08-24T11:57:27.759Z"
   },
   {
    "duration": 26,
    "start_time": "2022-08-24T11:57:27.764Z"
   },
   {
    "duration": 7,
    "start_time": "2022-08-24T11:57:27.792Z"
   },
   {
    "duration": 8,
    "start_time": "2022-08-24T11:57:27.800Z"
   },
   {
    "duration": 20,
    "start_time": "2022-08-24T11:57:27.810Z"
   },
   {
    "duration": 9,
    "start_time": "2022-08-24T11:57:27.832Z"
   },
   {
    "duration": 2,
    "start_time": "2022-08-24T11:57:27.843Z"
   },
   {
    "duration": 7,
    "start_time": "2022-08-24T11:57:27.884Z"
   },
   {
    "duration": 7,
    "start_time": "2022-08-24T11:57:27.893Z"
   },
   {
    "duration": 23,
    "start_time": "2022-08-24T11:57:27.902Z"
   },
   {
    "duration": 11,
    "start_time": "2022-08-24T11:57:27.926Z"
   },
   {
    "duration": 62,
    "start_time": "2022-08-24T11:57:27.938Z"
   },
   {
    "duration": 5,
    "start_time": "2022-08-24T11:57:28.001Z"
   },
   {
    "duration": 6,
    "start_time": "2022-08-24T11:57:28.008Z"
   },
   {
    "duration": 9,
    "start_time": "2022-08-24T11:57:28.015Z"
   },
   {
    "duration": 8,
    "start_time": "2022-08-24T11:57:28.026Z"
   },
   {
    "duration": 12,
    "start_time": "2022-08-24T11:57:28.035Z"
   },
   {
    "duration": 5,
    "start_time": "2022-08-24T11:57:28.048Z"
   },
   {
    "duration": 30,
    "start_time": "2022-08-24T11:57:28.055Z"
   },
   {
    "duration": 3,
    "start_time": "2022-08-24T11:57:28.086Z"
   },
   {
    "duration": 5,
    "start_time": "2022-08-24T11:57:28.090Z"
   },
   {
    "duration": 6,
    "start_time": "2022-08-24T11:57:28.097Z"
   },
   {
    "duration": 6,
    "start_time": "2022-08-24T11:57:28.104Z"
   },
   {
    "duration": 370,
    "start_time": "2022-08-24T11:57:28.111Z"
   },
   {
    "duration": 107,
    "start_time": "2022-08-24T11:57:28.484Z"
   },
   {
    "duration": 431,
    "start_time": "2022-08-24T11:57:28.592Z"
   },
   {
    "duration": 62,
    "start_time": "2022-08-24T11:57:29.025Z"
   },
   {
    "duration": 11,
    "start_time": "2022-08-24T11:57:29.089Z"
   },
   {
    "duration": 7,
    "start_time": "2022-08-24T11:57:29.185Z"
   },
   {
    "duration": 7,
    "start_time": "2022-08-24T11:57:29.193Z"
   },
   {
    "duration": 451,
    "start_time": "2022-08-24T11:57:29.201Z"
   },
   {
    "duration": 42,
    "start_time": "2022-08-24T11:57:29.653Z"
   },
   {
    "duration": 188,
    "start_time": "2022-08-24T11:57:29.697Z"
   },
   {
    "duration": 7,
    "start_time": "2022-08-24T11:57:29.887Z"
   },
   {
    "duration": 5,
    "start_time": "2022-08-24T11:57:29.895Z"
   },
   {
    "duration": 250,
    "start_time": "2022-08-24T11:57:29.901Z"
   },
   {
    "duration": 128,
    "start_time": "2022-08-24T11:57:30.156Z"
   },
   {
    "duration": 99,
    "start_time": "2022-08-24T11:57:30.287Z"
   },
   {
    "duration": 45,
    "start_time": "2022-08-24T11:57:30.388Z"
   },
   {
    "duration": 60,
    "start_time": "2022-08-24T11:57:30.435Z"
   },
   {
    "duration": 43,
    "start_time": "2022-08-24T11:57:30.497Z"
   },
   {
    "duration": 7,
    "start_time": "2022-08-24T11:57:30.542Z"
   },
   {
    "duration": 390,
    "start_time": "2022-08-24T11:57:30.551Z"
   },
   {
    "duration": 59,
    "start_time": "2022-08-24T11:57:30.942Z"
   },
   {
    "duration": 341,
    "start_time": "2022-08-24T12:00:55.076Z"
   },
   {
    "duration": 6,
    "start_time": "2022-08-24T12:01:07.501Z"
   },
   {
    "duration": 6,
    "start_time": "2022-08-24T12:01:17.941Z"
   },
   {
    "duration": 56,
    "start_time": "2022-08-24T12:02:28.563Z"
   },
   {
    "duration": 10,
    "start_time": "2022-08-24T12:06:46.493Z"
   },
   {
    "duration": 5,
    "start_time": "2022-08-24T12:07:28.744Z"
   },
   {
    "duration": 10,
    "start_time": "2022-08-24T12:07:28.751Z"
   },
   {
    "duration": 51,
    "start_time": "2022-08-24T12:07:28.762Z"
   },
   {
    "duration": 21,
    "start_time": "2022-08-24T12:07:28.814Z"
   },
   {
    "duration": 4,
    "start_time": "2022-08-24T12:07:28.836Z"
   },
   {
    "duration": 32,
    "start_time": "2022-08-24T12:07:28.841Z"
   },
   {
    "duration": 8,
    "start_time": "2022-08-24T12:07:28.875Z"
   },
   {
    "duration": 31,
    "start_time": "2022-08-24T12:07:28.884Z"
   },
   {
    "duration": 34,
    "start_time": "2022-08-24T12:07:28.916Z"
   },
   {
    "duration": 8,
    "start_time": "2022-08-24T12:07:28.952Z"
   },
   {
    "duration": 8,
    "start_time": "2022-08-24T12:07:28.961Z"
   },
   {
    "duration": 11,
    "start_time": "2022-08-24T12:07:28.971Z"
   },
   {
    "duration": 11,
    "start_time": "2022-08-24T12:07:28.984Z"
   },
   {
    "duration": 42,
    "start_time": "2022-08-24T12:07:28.998Z"
   },
   {
    "duration": 11,
    "start_time": "2022-08-24T12:07:29.041Z"
   },
   {
    "duration": 50,
    "start_time": "2022-08-24T12:07:29.053Z"
   },
   {
    "duration": 4,
    "start_time": "2022-08-24T12:07:29.105Z"
   },
   {
    "duration": 20,
    "start_time": "2022-08-24T12:07:29.111Z"
   },
   {
    "duration": 10,
    "start_time": "2022-08-24T12:07:29.133Z"
   },
   {
    "duration": 9,
    "start_time": "2022-08-24T12:07:29.145Z"
   },
   {
    "duration": 24,
    "start_time": "2022-08-24T12:07:29.155Z"
   },
   {
    "duration": 11,
    "start_time": "2022-08-24T12:07:29.180Z"
   },
   {
    "duration": 19,
    "start_time": "2022-08-24T12:07:29.192Z"
   },
   {
    "duration": 28,
    "start_time": "2022-08-24T12:07:29.212Z"
   },
   {
    "duration": 14,
    "start_time": "2022-08-24T12:07:29.242Z"
   },
   {
    "duration": 44,
    "start_time": "2022-08-24T12:07:29.257Z"
   },
   {
    "duration": 13,
    "start_time": "2022-08-24T12:07:29.302Z"
   },
   {
    "duration": 358,
    "start_time": "2022-08-24T12:07:29.316Z"
   },
   {
    "duration": 111,
    "start_time": "2022-08-24T12:07:29.675Z"
   },
   {
    "duration": 476,
    "start_time": "2022-08-24T12:07:29.788Z"
   },
   {
    "duration": 118,
    "start_time": "2022-08-24T12:07:30.266Z"
   },
   {
    "duration": 102,
    "start_time": "2022-08-24T12:07:30.387Z"
   },
   {
    "duration": 31,
    "start_time": "2022-08-24T12:07:30.491Z"
   },
   {
    "duration": 39,
    "start_time": "2022-08-24T12:07:30.524Z"
   },
   {
    "duration": 532,
    "start_time": "2022-08-24T12:07:30.564Z"
   },
   {
    "duration": 90,
    "start_time": "2022-08-24T12:07:31.098Z"
   },
   {
    "duration": 95,
    "start_time": "2022-08-24T12:07:31.190Z"
   },
   {
    "duration": 47,
    "start_time": "2022-08-24T12:07:31.287Z"
   },
   {
    "duration": 24,
    "start_time": "2022-08-24T12:07:31.336Z"
   },
   {
    "duration": 235,
    "start_time": "2022-08-24T12:07:31.362Z"
   },
   {
    "duration": 183,
    "start_time": "2022-08-24T12:07:31.601Z"
   },
   {
    "duration": 11,
    "start_time": "2022-08-24T12:07:31.786Z"
   },
   {
    "duration": 46,
    "start_time": "2022-08-24T12:07:31.800Z"
   },
   {
    "duration": 42,
    "start_time": "2022-08-24T12:07:31.847Z"
   },
   {
    "duration": 21,
    "start_time": "2022-08-24T12:07:31.890Z"
   },
   {
    "duration": 20,
    "start_time": "2022-08-24T12:07:31.912Z"
   },
   {
    "duration": 404,
    "start_time": "2022-08-24T12:07:31.933Z"
   },
   {
    "duration": 65,
    "start_time": "2022-08-24T12:07:32.338Z"
   },
   {
    "duration": 11,
    "start_time": "2022-08-24T12:16:20.606Z"
   },
   {
    "duration": 329,
    "start_time": "2022-08-24T12:20:18.306Z"
   },
   {
    "duration": 57,
    "start_time": "2022-08-24T12:22:22.971Z"
   },
   {
    "duration": 5,
    "start_time": "2022-08-24T12:22:37.997Z"
   },
   {
    "duration": 12,
    "start_time": "2022-08-24T12:22:38.004Z"
   },
   {
    "duration": 50,
    "start_time": "2022-08-24T12:22:38.018Z"
   },
   {
    "duration": 24,
    "start_time": "2022-08-24T12:22:38.069Z"
   },
   {
    "duration": 4,
    "start_time": "2022-08-24T12:22:38.095Z"
   },
   {
    "duration": 16,
    "start_time": "2022-08-24T12:22:38.101Z"
   },
   {
    "duration": 9,
    "start_time": "2022-08-24T12:22:38.119Z"
   },
   {
    "duration": 9,
    "start_time": "2022-08-24T12:22:38.130Z"
   },
   {
    "duration": 54,
    "start_time": "2022-08-24T12:22:38.141Z"
   },
   {
    "duration": 10,
    "start_time": "2022-08-24T12:22:38.197Z"
   },
   {
    "duration": 2,
    "start_time": "2022-08-24T12:22:38.209Z"
   },
   {
    "duration": 9,
    "start_time": "2022-08-24T12:22:38.213Z"
   },
   {
    "duration": 11,
    "start_time": "2022-08-24T12:22:38.226Z"
   },
   {
    "duration": 56,
    "start_time": "2022-08-24T12:22:38.240Z"
   },
   {
    "duration": 13,
    "start_time": "2022-08-24T12:22:38.298Z"
   },
   {
    "duration": 41,
    "start_time": "2022-08-24T12:22:38.312Z"
   },
   {
    "duration": 32,
    "start_time": "2022-08-24T12:22:38.355Z"
   },
   {
    "duration": 8,
    "start_time": "2022-08-24T12:22:38.389Z"
   },
   {
    "duration": 8,
    "start_time": "2022-08-24T12:22:38.398Z"
   },
   {
    "duration": 8,
    "start_time": "2022-08-24T12:22:38.408Z"
   },
   {
    "duration": 5,
    "start_time": "2022-08-24T12:22:38.418Z"
   },
   {
    "duration": 4,
    "start_time": "2022-08-24T12:22:38.425Z"
   },
   {
    "duration": 5,
    "start_time": "2022-08-24T12:22:38.431Z"
   },
   {
    "duration": 8,
    "start_time": "2022-08-24T12:22:38.437Z"
   },
   {
    "duration": 6,
    "start_time": "2022-08-24T12:22:38.447Z"
   },
   {
    "duration": 31,
    "start_time": "2022-08-24T12:22:38.455Z"
   },
   {
    "duration": 5,
    "start_time": "2022-08-24T12:22:38.488Z"
   },
   {
    "duration": 383,
    "start_time": "2022-08-24T12:22:38.496Z"
   },
   {
    "duration": 106,
    "start_time": "2022-08-24T12:22:38.881Z"
   },
   {
    "duration": 458,
    "start_time": "2022-08-24T12:22:38.988Z"
   },
   {
    "duration": 48,
    "start_time": "2022-08-24T12:22:39.447Z"
   },
   {
    "duration": 13,
    "start_time": "2022-08-24T12:22:39.589Z"
   },
   {
    "duration": 7,
    "start_time": "2022-08-24T12:22:39.685Z"
   },
   {
    "duration": 5,
    "start_time": "2022-08-24T12:22:39.694Z"
   },
   {
    "duration": 507,
    "start_time": "2022-08-24T12:22:39.700Z"
   },
   {
    "duration": 82,
    "start_time": "2022-08-24T12:22:40.208Z"
   },
   {
    "duration": 98,
    "start_time": "2022-08-24T12:22:40.295Z"
   },
   {
    "duration": 7,
    "start_time": "2022-08-24T12:22:40.395Z"
   },
   {
    "duration": 7,
    "start_time": "2022-08-24T12:22:40.404Z"
   },
   {
    "duration": 242,
    "start_time": "2022-08-24T12:22:40.412Z"
   },
   {
    "duration": 39,
    "start_time": "2022-08-24T12:22:40.656Z"
   },
   {
    "duration": 101,
    "start_time": "2022-08-24T12:22:40.786Z"
   },
   {
    "duration": 28,
    "start_time": "2022-08-24T12:22:40.888Z"
   },
   {
    "duration": 16,
    "start_time": "2022-08-24T12:22:40.917Z"
   },
   {
    "duration": 298,
    "start_time": "2022-08-24T12:22:40.934Z"
   },
   {
    "duration": 60,
    "start_time": "2022-08-24T12:22:41.234Z"
   },
   {
    "duration": 10,
    "start_time": "2022-08-24T12:22:41.296Z"
   },
   {
    "duration": 6,
    "start_time": "2022-08-24T12:22:41.307Z"
   },
   {
    "duration": 376,
    "start_time": "2022-08-24T12:22:41.314Z"
   },
   {
    "duration": 52,
    "start_time": "2022-08-24T12:22:41.692Z"
   },
   {
    "duration": 1568,
    "start_time": "2022-08-24T14:21:17.965Z"
   },
   {
    "duration": 3,
    "start_time": "2022-08-24T14:21:19.535Z"
   },
   {
    "duration": 81,
    "start_time": "2022-08-24T14:21:19.539Z"
   },
   {
    "duration": 29,
    "start_time": "2022-08-24T14:21:19.622Z"
   },
   {
    "duration": 4,
    "start_time": "2022-08-24T14:21:19.653Z"
   },
   {
    "duration": 12,
    "start_time": "2022-08-24T14:21:19.658Z"
   },
   {
    "duration": 7,
    "start_time": "2022-08-24T14:21:19.672Z"
   },
   {
    "duration": 8,
    "start_time": "2022-08-24T14:21:19.681Z"
   },
   {
    "duration": 21,
    "start_time": "2022-08-24T14:21:19.690Z"
   },
   {
    "duration": 8,
    "start_time": "2022-08-24T14:21:19.714Z"
   },
   {
    "duration": 33,
    "start_time": "2022-08-24T14:21:19.724Z"
   },
   {
    "duration": 6,
    "start_time": "2022-08-24T14:21:19.759Z"
   },
   {
    "duration": 10,
    "start_time": "2022-08-24T14:21:19.766Z"
   },
   {
    "duration": 25,
    "start_time": "2022-08-24T14:21:19.778Z"
   },
   {
    "duration": 11,
    "start_time": "2022-08-24T14:21:19.804Z"
   },
   {
    "duration": 62,
    "start_time": "2022-08-24T14:21:19.816Z"
   },
   {
    "duration": 5,
    "start_time": "2022-08-24T14:21:19.879Z"
   },
   {
    "duration": 8,
    "start_time": "2022-08-24T14:21:19.885Z"
   },
   {
    "duration": 9,
    "start_time": "2022-08-24T14:21:19.895Z"
   },
   {
    "duration": 11,
    "start_time": "2022-08-24T14:21:19.905Z"
   },
   {
    "duration": 2,
    "start_time": "2022-08-24T14:21:19.917Z"
   },
   {
    "duration": 4,
    "start_time": "2022-08-24T14:21:19.920Z"
   },
   {
    "duration": 5,
    "start_time": "2022-08-24T14:21:19.926Z"
   },
   {
    "duration": 25,
    "start_time": "2022-08-24T14:21:19.932Z"
   },
   {
    "duration": 5,
    "start_time": "2022-08-24T14:21:19.959Z"
   },
   {
    "duration": 8,
    "start_time": "2022-08-24T14:21:19.965Z"
   },
   {
    "duration": 5,
    "start_time": "2022-08-24T14:21:19.974Z"
   },
   {
    "duration": 361,
    "start_time": "2022-08-24T14:21:19.982Z"
   },
   {
    "duration": 114,
    "start_time": "2022-08-24T14:21:20.344Z"
   },
   {
    "duration": 440,
    "start_time": "2022-08-24T14:21:20.460Z"
   },
   {
    "duration": 65,
    "start_time": "2022-08-24T14:21:20.901Z"
   },
   {
    "duration": 15,
    "start_time": "2022-08-24T14:21:21.058Z"
   },
   {
    "duration": 15,
    "start_time": "2022-08-24T14:21:21.075Z"
   },
   {
    "duration": 14,
    "start_time": "2022-08-24T14:21:21.157Z"
   },
   {
    "duration": 451,
    "start_time": "2022-08-24T14:21:21.172Z"
   },
   {
    "duration": 46,
    "start_time": "2022-08-24T14:21:21.625Z"
   },
   {
    "duration": 102,
    "start_time": "2022-08-24T14:21:21.759Z"
   },
   {
    "duration": 6,
    "start_time": "2022-08-24T14:21:21.862Z"
   },
   {
    "duration": 4,
    "start_time": "2022-08-24T14:21:21.870Z"
   },
   {
    "duration": 232,
    "start_time": "2022-08-24T14:21:21.875Z"
   },
   {
    "duration": 149,
    "start_time": "2022-08-24T14:21:22.108Z"
   },
   {
    "duration": 11,
    "start_time": "2022-08-24T14:21:22.259Z"
   },
   {
    "duration": 27,
    "start_time": "2022-08-24T14:21:22.271Z"
   },
   {
    "duration": 63,
    "start_time": "2022-08-24T14:21:22.300Z"
   },
   {
    "duration": 305,
    "start_time": "2022-08-24T14:21:22.364Z"
   },
   {
    "duration": 54,
    "start_time": "2022-08-24T14:21:22.671Z"
   },
   {
    "duration": 9,
    "start_time": "2022-08-24T14:21:22.727Z"
   },
   {
    "duration": 22,
    "start_time": "2022-08-24T14:21:22.738Z"
   },
   {
    "duration": 362,
    "start_time": "2022-08-24T14:21:22.762Z"
   },
   {
    "duration": 62,
    "start_time": "2022-08-24T14:21:23.125Z"
   },
   {
    "duration": 12,
    "start_time": "2022-08-24T14:26:07.874Z"
   },
   {
    "duration": 15,
    "start_time": "2022-08-24T14:26:13.467Z"
   },
   {
    "duration": 6,
    "start_time": "2022-08-24T14:26:14.932Z"
   },
   {
    "duration": 4,
    "start_time": "2022-08-24T14:26:23.707Z"
   },
   {
    "duration": 6,
    "start_time": "2022-08-24T14:26:23.713Z"
   },
   {
    "duration": 43,
    "start_time": "2022-08-24T14:26:23.720Z"
   },
   {
    "duration": 21,
    "start_time": "2022-08-24T14:26:23.765Z"
   },
   {
    "duration": 3,
    "start_time": "2022-08-24T14:26:23.787Z"
   },
   {
    "duration": 11,
    "start_time": "2022-08-24T14:26:23.792Z"
   },
   {
    "duration": 9,
    "start_time": "2022-08-24T14:26:23.804Z"
   },
   {
    "duration": 12,
    "start_time": "2022-08-24T14:26:23.815Z"
   },
   {
    "duration": 19,
    "start_time": "2022-08-24T14:26:23.858Z"
   },
   {
    "duration": 7,
    "start_time": "2022-08-24T14:26:23.878Z"
   },
   {
    "duration": 1,
    "start_time": "2022-08-24T14:26:23.887Z"
   },
   {
    "duration": 9,
    "start_time": "2022-08-24T14:26:23.889Z"
   },
   {
    "duration": 8,
    "start_time": "2022-08-24T14:26:23.900Z"
   },
   {
    "duration": 51,
    "start_time": "2022-08-24T14:26:23.909Z"
   },
   {
    "duration": 10,
    "start_time": "2022-08-24T14:26:23.961Z"
   },
   {
    "duration": 35,
    "start_time": "2022-08-24T14:26:23.972Z"
   },
   {
    "duration": 5,
    "start_time": "2022-08-24T14:26:24.008Z"
   },
   {
    "duration": 12,
    "start_time": "2022-08-24T14:26:24.014Z"
   },
   {
    "duration": 11,
    "start_time": "2022-08-24T14:26:24.027Z"
   },
   {
    "duration": 7,
    "start_time": "2022-08-24T14:26:24.057Z"
   },
   {
    "duration": 7,
    "start_time": "2022-08-24T14:26:24.066Z"
   },
   {
    "duration": 10,
    "start_time": "2022-08-24T14:26:24.074Z"
   },
   {
    "duration": 14,
    "start_time": "2022-08-24T14:26:24.085Z"
   },
   {
    "duration": 10,
    "start_time": "2022-08-24T14:26:24.102Z"
   },
   {
    "duration": 25,
    "start_time": "2022-08-24T14:26:24.114Z"
   },
   {
    "duration": 6,
    "start_time": "2022-08-24T14:26:24.140Z"
   },
   {
    "duration": 11,
    "start_time": "2022-08-24T14:26:24.147Z"
   },
   {
    "duration": 374,
    "start_time": "2022-08-24T14:26:24.159Z"
   },
   {
    "duration": 40,
    "start_time": "2022-08-24T14:26:24.535Z"
   },
   {
    "duration": 448,
    "start_time": "2022-08-24T14:26:24.659Z"
   },
   {
    "duration": 62,
    "start_time": "2022-08-24T14:26:25.109Z"
   },
   {
    "duration": 13,
    "start_time": "2022-08-24T14:26:25.259Z"
   },
   {
    "duration": 89,
    "start_time": "2022-08-24T14:26:25.274Z"
   },
   {
    "duration": 10,
    "start_time": "2022-08-24T14:26:25.365Z"
   },
   {
    "duration": 497,
    "start_time": "2022-08-24T14:26:25.377Z"
   },
   {
    "duration": 87,
    "start_time": "2022-08-24T14:26:25.875Z"
   },
   {
    "duration": 97,
    "start_time": "2022-08-24T14:26:25.964Z"
   },
   {
    "duration": 11,
    "start_time": "2022-08-24T14:26:26.063Z"
   },
   {
    "duration": 5,
    "start_time": "2022-08-24T14:26:26.075Z"
   },
   {
    "duration": 217,
    "start_time": "2022-08-24T14:26:26.081Z"
   },
   {
    "duration": 67,
    "start_time": "2022-08-24T14:26:26.300Z"
   },
   {
    "duration": 11,
    "start_time": "2022-08-24T14:26:26.458Z"
   },
   {
    "duration": 28,
    "start_time": "2022-08-24T14:26:26.471Z"
   },
   {
    "duration": 7,
    "start_time": "2022-08-24T14:26:26.501Z"
   },
   {
    "duration": 320,
    "start_time": "2022-08-24T14:26:26.509Z"
   },
   {
    "duration": 63,
    "start_time": "2022-08-24T14:26:26.831Z"
   },
   {
    "duration": 9,
    "start_time": "2022-08-24T14:26:26.896Z"
   },
   {
    "duration": 13,
    "start_time": "2022-08-24T14:26:26.907Z"
   },
   {
    "duration": 396,
    "start_time": "2022-08-24T14:26:26.921Z"
   },
   {
    "duration": 61,
    "start_time": "2022-08-24T14:26:27.318Z"
   },
   {
    "duration": 6,
    "start_time": "2022-08-24T14:26:44.324Z"
   },
   {
    "duration": 6,
    "start_time": "2022-08-24T14:26:52.163Z"
   },
   {
    "duration": 7,
    "start_time": "2022-08-24T14:29:51.194Z"
   },
   {
    "duration": 9,
    "start_time": "2022-08-24T14:29:51.203Z"
   },
   {
    "duration": 60,
    "start_time": "2022-08-24T14:29:51.213Z"
   },
   {
    "duration": 22,
    "start_time": "2022-08-24T14:29:51.275Z"
   },
   {
    "duration": 4,
    "start_time": "2022-08-24T14:29:51.298Z"
   },
   {
    "duration": 12,
    "start_time": "2022-08-24T14:29:51.304Z"
   },
   {
    "duration": 13,
    "start_time": "2022-08-24T14:29:51.318Z"
   },
   {
    "duration": 10,
    "start_time": "2022-08-24T14:29:51.358Z"
   },
   {
    "duration": 21,
    "start_time": "2022-08-24T14:29:51.370Z"
   },
   {
    "duration": 9,
    "start_time": "2022-08-24T14:29:51.395Z"
   },
   {
    "duration": 3,
    "start_time": "2022-08-24T14:29:51.405Z"
   },
   {
    "duration": 16,
    "start_time": "2022-08-24T14:29:51.410Z"
   },
   {
    "duration": 6,
    "start_time": "2022-08-24T14:29:51.457Z"
   },
   {
    "duration": 29,
    "start_time": "2022-08-24T14:29:51.464Z"
   },
   {
    "duration": 12,
    "start_time": "2022-08-24T14:29:51.494Z"
   },
   {
    "duration": 80,
    "start_time": "2022-08-24T14:29:51.508Z"
   },
   {
    "duration": 6,
    "start_time": "2022-08-24T14:29:51.590Z"
   },
   {
    "duration": 11,
    "start_time": "2022-08-24T14:29:51.598Z"
   },
   {
    "duration": 10,
    "start_time": "2022-08-24T14:29:51.611Z"
   },
   {
    "duration": 9,
    "start_time": "2022-08-24T14:29:51.623Z"
   },
   {
    "duration": 3,
    "start_time": "2022-08-24T14:29:51.657Z"
   },
   {
    "duration": 18001,
    "start_time": "2022-08-24T14:29:51.662Z"
   },
   {
    "duration": 3,
    "start_time": "2022-08-24T14:30:09.664Z"
   },
   {
    "duration": 11,
    "start_time": "2022-08-24T14:30:09.669Z"
   },
   {
    "duration": 6,
    "start_time": "2022-08-24T14:30:09.682Z"
   },
   {
    "duration": 6,
    "start_time": "2022-08-24T14:30:09.689Z"
   },
   {
    "duration": 6,
    "start_time": "2022-08-24T14:30:09.697Z"
   },
   {
    "duration": 360,
    "start_time": "2022-08-24T14:30:09.707Z"
   },
   {
    "duration": 91,
    "start_time": "2022-08-24T14:30:10.069Z"
   },
   {
    "duration": 462,
    "start_time": "2022-08-24T14:30:10.161Z"
   },
   {
    "duration": 42,
    "start_time": "2022-08-24T14:30:10.624Z"
   },
   {
    "duration": 100,
    "start_time": "2022-08-24T14:30:10.758Z"
   },
   {
    "duration": 8,
    "start_time": "2022-08-24T14:30:10.859Z"
   },
   {
    "duration": 5,
    "start_time": "2022-08-24T14:30:10.868Z"
   },
   {
    "duration": 477,
    "start_time": "2022-08-24T14:30:10.875Z"
   },
   {
    "duration": 107,
    "start_time": "2022-08-24T14:30:11.354Z"
   },
   {
    "duration": 96,
    "start_time": "2022-08-24T14:30:11.465Z"
   },
   {
    "duration": 7,
    "start_time": "2022-08-24T14:30:11.563Z"
   },
   {
    "duration": 7,
    "start_time": "2022-08-24T14:30:11.572Z"
   },
   {
    "duration": 226,
    "start_time": "2022-08-24T14:30:11.581Z"
   },
   {
    "duration": 56,
    "start_time": "2022-08-24T14:30:11.809Z"
   },
   {
    "duration": 12,
    "start_time": "2022-08-24T14:30:11.956Z"
   },
   {
    "duration": 100,
    "start_time": "2022-08-24T14:30:11.970Z"
   },
   {
    "duration": 8,
    "start_time": "2022-08-24T14:30:12.072Z"
   },
   {
    "duration": 325,
    "start_time": "2022-08-24T14:30:12.082Z"
   },
   {
    "duration": 59,
    "start_time": "2022-08-24T14:30:12.409Z"
   },
   {
    "duration": 10,
    "start_time": "2022-08-24T14:30:12.470Z"
   },
   {
    "duration": 6,
    "start_time": "2022-08-24T14:30:12.482Z"
   },
   {
    "duration": 408,
    "start_time": "2022-08-24T14:30:12.489Z"
   },
   {
    "duration": 64,
    "start_time": "2022-08-24T14:30:12.898Z"
   },
   {
    "duration": 309,
    "start_time": "2022-08-24T14:32:31.023Z"
   },
   {
    "duration": 295,
    "start_time": "2022-08-24T14:34:12.720Z"
   },
   {
    "duration": 395,
    "start_time": "2022-08-24T14:35:30.869Z"
   },
   {
    "duration": 175,
    "start_time": "2022-08-24T14:39:09.674Z"
   },
   {
    "duration": 258,
    "start_time": "2022-08-24T14:43:19.965Z"
   },
   {
    "duration": 46,
    "start_time": "2022-08-24T14:43:46.013Z"
   },
   {
    "duration": 303,
    "start_time": "2022-08-24T14:44:42.188Z"
   },
   {
    "duration": 48,
    "start_time": "2022-08-24T14:44:55.070Z"
   },
   {
    "duration": 6,
    "start_time": "2022-08-24T14:45:04.055Z"
   },
   {
    "duration": 55,
    "start_time": "2022-08-24T14:45:04.063Z"
   },
   {
    "duration": 47,
    "start_time": "2022-08-24T14:45:04.119Z"
   },
   {
    "duration": 26,
    "start_time": "2022-08-24T14:45:04.167Z"
   },
   {
    "duration": 4,
    "start_time": "2022-08-24T14:45:04.195Z"
   },
   {
    "duration": 15,
    "start_time": "2022-08-24T14:45:04.202Z"
   },
   {
    "duration": 13,
    "start_time": "2022-08-24T14:45:04.218Z"
   },
   {
    "duration": 9,
    "start_time": "2022-08-24T14:45:04.257Z"
   },
   {
    "duration": 21,
    "start_time": "2022-08-24T14:45:04.267Z"
   },
   {
    "duration": 9,
    "start_time": "2022-08-24T14:45:04.289Z"
   },
   {
    "duration": 7,
    "start_time": "2022-08-24T14:45:04.300Z"
   },
   {
    "duration": 16,
    "start_time": "2022-08-24T14:45:04.308Z"
   },
   {
    "duration": 10,
    "start_time": "2022-08-24T14:45:04.327Z"
   },
   {
    "duration": 41,
    "start_time": "2022-08-24T14:45:04.339Z"
   },
   {
    "duration": 11,
    "start_time": "2022-08-24T14:45:04.381Z"
   },
   {
    "duration": 70,
    "start_time": "2022-08-24T14:45:04.394Z"
   },
   {
    "duration": 4,
    "start_time": "2022-08-24T14:45:04.466Z"
   },
   {
    "duration": 10,
    "start_time": "2022-08-24T14:45:04.472Z"
   },
   {
    "duration": 14,
    "start_time": "2022-08-24T14:45:04.484Z"
   },
   {
    "duration": 7,
    "start_time": "2022-08-24T14:45:04.500Z"
   },
   {
    "duration": 10,
    "start_time": "2022-08-24T14:45:04.509Z"
   },
   {
    "duration": 17589,
    "start_time": "2022-08-24T14:45:04.520Z"
   },
   {
    "duration": 2,
    "start_time": "2022-08-24T14:45:22.111Z"
   },
   {
    "duration": 10,
    "start_time": "2022-08-24T14:45:22.115Z"
   },
   {
    "duration": 6,
    "start_time": "2022-08-24T14:45:22.126Z"
   },
   {
    "duration": 8,
    "start_time": "2022-08-24T14:45:22.134Z"
   },
   {
    "duration": 14,
    "start_time": "2022-08-24T14:45:22.143Z"
   },
   {
    "duration": 280,
    "start_time": "2022-08-24T14:45:22.158Z"
   },
   {
    "duration": 37,
    "start_time": "2022-08-24T14:45:22.439Z"
   },
   {
    "duration": 381,
    "start_time": "2022-08-24T14:45:22.558Z"
   },
   {
    "duration": 118,
    "start_time": "2022-08-24T14:45:22.940Z"
   },
   {
    "duration": 101,
    "start_time": "2022-08-24T14:45:23.059Z"
   },
   {
    "duration": 9,
    "start_time": "2022-08-24T14:45:23.162Z"
   },
   {
    "duration": 6,
    "start_time": "2022-08-24T14:45:23.172Z"
   },
   {
    "duration": 385,
    "start_time": "2022-08-24T14:45:23.179Z"
   },
   {
    "duration": 94,
    "start_time": "2022-08-24T14:45:23.566Z"
   },
   {
    "duration": 101,
    "start_time": "2022-08-24T14:45:23.664Z"
   },
   {
    "duration": 8,
    "start_time": "2022-08-24T14:45:23.767Z"
   },
   {
    "duration": 4,
    "start_time": "2022-08-24T14:45:23.776Z"
   },
   {
    "duration": 188,
    "start_time": "2022-08-24T14:45:23.781Z"
   },
   {
    "duration": 88,
    "start_time": "2022-08-24T14:45:23.971Z"
   },
   {
    "duration": 103,
    "start_time": "2022-08-24T14:45:24.061Z"
   },
   {
    "duration": 29,
    "start_time": "2022-08-24T14:45:24.165Z"
   },
   {
    "duration": 8,
    "start_time": "2022-08-24T14:45:24.195Z"
   },
   {
    "duration": 270,
    "start_time": "2022-08-24T14:45:24.204Z"
   },
   {
    "duration": 44,
    "start_time": "2022-08-24T14:45:24.476Z"
   },
   {
    "duration": 9,
    "start_time": "2022-08-24T14:45:24.522Z"
   },
   {
    "duration": 24,
    "start_time": "2022-08-24T14:45:24.533Z"
   },
   {
    "duration": 311,
    "start_time": "2022-08-24T14:45:24.559Z"
   },
   {
    "duration": 46,
    "start_time": "2022-08-24T14:45:24.871Z"
   },
   {
    "duration": 46,
    "start_time": "2022-08-24T14:49:21.506Z"
   },
   {
    "duration": 48,
    "start_time": "2022-08-24T14:49:32.073Z"
   },
   {
    "duration": 237,
    "start_time": "2022-08-24T14:50:26.629Z"
   },
   {
    "duration": 45,
    "start_time": "2022-08-24T14:50:37.932Z"
   },
   {
    "duration": 49,
    "start_time": "2022-08-24T14:50:53.033Z"
   },
   {
    "duration": 47,
    "start_time": "2022-08-24T14:51:00.948Z"
   },
   {
    "duration": 318,
    "start_time": "2022-08-24T14:51:24.742Z"
   },
   {
    "duration": 61,
    "start_time": "2022-08-24T14:51:45.398Z"
   },
   {
    "duration": 50,
    "start_time": "2022-08-24T14:52:12.421Z"
   },
   {
    "duration": 50,
    "start_time": "2022-08-24T14:52:22.548Z"
   },
   {
    "duration": 50,
    "start_time": "2022-08-24T14:52:38.717Z"
   },
   {
    "duration": 48,
    "start_time": "2022-08-24T14:52:48.275Z"
   },
   {
    "duration": 51,
    "start_time": "2022-08-24T14:53:00.174Z"
   },
   {
    "duration": 52,
    "start_time": "2022-08-24T14:53:10.431Z"
   },
   {
    "duration": 47,
    "start_time": "2022-08-24T14:53:21.744Z"
   },
   {
    "duration": 46,
    "start_time": "2022-08-24T14:53:38.615Z"
   },
   {
    "duration": 4,
    "start_time": "2022-08-24T14:53:44.719Z"
   },
   {
    "duration": 8,
    "start_time": "2022-08-24T14:53:44.724Z"
   },
   {
    "duration": 39,
    "start_time": "2022-08-24T14:53:44.734Z"
   },
   {
    "duration": 22,
    "start_time": "2022-08-24T14:53:44.775Z"
   },
   {
    "duration": 4,
    "start_time": "2022-08-24T14:53:44.798Z"
   },
   {
    "duration": 13,
    "start_time": "2022-08-24T14:53:44.803Z"
   },
   {
    "duration": 10,
    "start_time": "2022-08-24T14:53:44.817Z"
   },
   {
    "duration": 33,
    "start_time": "2022-08-24T14:53:44.829Z"
   },
   {
    "duration": 20,
    "start_time": "2022-08-24T14:53:44.865Z"
   },
   {
    "duration": 8,
    "start_time": "2022-08-24T14:53:44.887Z"
   },
   {
    "duration": 3,
    "start_time": "2022-08-24T14:53:44.896Z"
   },
   {
    "duration": 8,
    "start_time": "2022-08-24T14:53:44.900Z"
   },
   {
    "duration": 10,
    "start_time": "2022-08-24T14:53:44.909Z"
   },
   {
    "duration": 25,
    "start_time": "2022-08-24T14:53:44.958Z"
   },
   {
    "duration": 12,
    "start_time": "2022-08-24T14:53:44.984Z"
   },
   {
    "duration": 60,
    "start_time": "2022-08-24T14:53:44.997Z"
   },
   {
    "duration": 5,
    "start_time": "2022-08-24T14:53:45.059Z"
   },
   {
    "duration": 11,
    "start_time": "2022-08-24T14:53:45.065Z"
   },
   {
    "duration": 8,
    "start_time": "2022-08-24T14:53:45.078Z"
   },
   {
    "duration": 12,
    "start_time": "2022-08-24T14:53:45.087Z"
   },
   {
    "duration": 3,
    "start_time": "2022-08-24T14:53:45.101Z"
   },
   {
    "duration": 17284,
    "start_time": "2022-08-24T14:53:45.106Z"
   },
   {
    "duration": 2,
    "start_time": "2022-08-24T14:54:02.392Z"
   },
   {
    "duration": 18,
    "start_time": "2022-08-24T14:54:02.397Z"
   },
   {
    "duration": 25,
    "start_time": "2022-08-24T14:54:02.416Z"
   },
   {
    "duration": 13,
    "start_time": "2022-08-24T14:54:02.443Z"
   },
   {
    "duration": 34,
    "start_time": "2022-08-24T14:54:02.458Z"
   },
   {
    "duration": 305,
    "start_time": "2022-08-24T14:54:02.494Z"
   },
   {
    "duration": 65,
    "start_time": "2022-08-24T14:54:02.801Z"
   },
   {
    "duration": 343,
    "start_time": "2022-08-24T14:54:02.957Z"
   },
   {
    "duration": 65,
    "start_time": "2022-08-24T14:54:03.302Z"
   },
   {
    "duration": 10,
    "start_time": "2022-08-24T14:54:03.458Z"
   },
   {
    "duration": 6,
    "start_time": "2022-08-24T14:54:03.470Z"
   },
   {
    "duration": 398,
    "start_time": "2022-08-24T14:54:03.477Z"
   },
   {
    "duration": 83,
    "start_time": "2022-08-24T14:54:03.877Z"
   },
   {
    "duration": 102,
    "start_time": "2022-08-24T14:54:03.962Z"
   },
   {
    "duration": 6,
    "start_time": "2022-08-24T14:54:04.066Z"
   },
   {
    "duration": 191,
    "start_time": "2022-08-24T14:54:04.074Z"
   },
   {
    "duration": 93,
    "start_time": "2022-08-24T14:54:04.266Z"
   },
   {
    "duration": 96,
    "start_time": "2022-08-24T14:54:04.362Z"
   },
   {
    "duration": 26,
    "start_time": "2022-08-24T14:54:04.460Z"
   },
   {
    "duration": 7,
    "start_time": "2022-08-24T14:54:04.487Z"
   },
   {
    "duration": 277,
    "start_time": "2022-08-24T14:54:04.496Z"
   },
   {
    "duration": 50,
    "start_time": "2022-08-24T14:54:04.775Z"
   },
   {
    "duration": 11,
    "start_time": "2022-08-24T14:54:04.826Z"
   },
   {
    "duration": 23,
    "start_time": "2022-08-24T14:54:04.839Z"
   },
   {
    "duration": 335,
    "start_time": "2022-08-24T14:54:04.863Z"
   },
   {
    "duration": 72,
    "start_time": "2022-08-24T14:54:05.200Z"
   },
   {
    "duration": 119436,
    "start_time": "2022-08-24T14:56:00.044Z"
   },
   {
    "duration": 280,
    "start_time": "2022-08-24T14:58:56.679Z"
   },
   {
    "duration": 371,
    "start_time": "2022-08-24T14:59:27.915Z"
   },
   {
    "duration": 183,
    "start_time": "2022-08-24T14:59:52.517Z"
   },
   {
    "duration": 206,
    "start_time": "2022-08-24T15:00:05.128Z"
   },
   {
    "duration": 233,
    "start_time": "2022-08-24T15:00:28.953Z"
   },
   {
    "duration": 303,
    "start_time": "2022-08-24T15:00:58.207Z"
   },
   {
    "duration": 46,
    "start_time": "2022-08-24T15:01:12.398Z"
   },
   {
    "duration": 50,
    "start_time": "2022-08-24T15:01:35.677Z"
   },
   {
    "duration": 250,
    "start_time": "2022-08-24T15:01:52.085Z"
   },
   {
    "duration": 46,
    "start_time": "2022-08-24T15:02:09.568Z"
   },
   {
    "duration": 325,
    "start_time": "2022-08-24T15:02:32.012Z"
   },
   {
    "duration": 309,
    "start_time": "2022-08-24T15:02:46.477Z"
   },
   {
    "duration": 371,
    "start_time": "2022-08-24T15:02:52.928Z"
   },
   {
    "duration": 317,
    "start_time": "2022-08-24T15:03:00.836Z"
   },
   {
    "duration": 48,
    "start_time": "2022-08-24T15:03:06.824Z"
   },
   {
    "duration": 47,
    "start_time": "2022-08-24T15:03:15.772Z"
   },
   {
    "duration": 340,
    "start_time": "2022-08-24T15:03:42.221Z"
   },
   {
    "duration": 49,
    "start_time": "2022-08-24T15:03:54.003Z"
   },
   {
    "duration": 332,
    "start_time": "2022-08-24T15:04:06.755Z"
   },
   {
    "duration": 98,
    "start_time": "2022-08-24T15:05:01.511Z"
   },
   {
    "duration": 8,
    "start_time": "2022-08-24T15:06:19.890Z"
   },
   {
    "duration": 5,
    "start_time": "2022-08-24T15:06:25.381Z"
   },
   {
    "duration": 31,
    "start_time": "2022-08-24T15:06:25.389Z"
   },
   {
    "duration": 62,
    "start_time": "2022-08-24T15:06:25.422Z"
   },
   {
    "duration": 27,
    "start_time": "2022-08-24T15:06:25.485Z"
   },
   {
    "duration": 4,
    "start_time": "2022-08-24T15:06:25.513Z"
   },
   {
    "duration": 33,
    "start_time": "2022-08-24T15:06:25.518Z"
   },
   {
    "duration": 52,
    "start_time": "2022-08-24T15:06:25.553Z"
   },
   {
    "duration": 45,
    "start_time": "2022-08-24T15:06:25.607Z"
   },
   {
    "duration": 43,
    "start_time": "2022-08-24T15:06:25.653Z"
   },
   {
    "duration": 52,
    "start_time": "2022-08-24T15:06:25.697Z"
   },
   {
    "duration": 44,
    "start_time": "2022-08-24T15:06:25.751Z"
   },
   {
    "duration": 37,
    "start_time": "2022-08-24T15:06:25.796Z"
   },
   {
    "duration": 24,
    "start_time": "2022-08-24T15:06:25.835Z"
   },
   {
    "duration": 49,
    "start_time": "2022-08-24T15:06:25.862Z"
   },
   {
    "duration": 55,
    "start_time": "2022-08-24T15:06:25.913Z"
   },
   {
    "duration": 39,
    "start_time": "2022-08-24T15:06:25.970Z"
   },
   {
    "duration": 5,
    "start_time": "2022-08-24T15:06:26.011Z"
   },
   {
    "duration": 24,
    "start_time": "2022-08-24T15:06:26.018Z"
   },
   {
    "duration": 17,
    "start_time": "2022-08-24T15:06:26.044Z"
   },
   {
    "duration": 12,
    "start_time": "2022-08-24T15:06:26.063Z"
   },
   {
    "duration": 22,
    "start_time": "2022-08-24T15:06:26.076Z"
   },
   {
    "duration": 120186,
    "start_time": "2022-08-24T15:06:26.099Z"
   },
   {
    "duration": 2,
    "start_time": "2022-08-24T15:08:26.287Z"
   },
   {
    "duration": 11,
    "start_time": "2022-08-24T15:08:26.291Z"
   },
   {
    "duration": 8,
    "start_time": "2022-08-24T15:08:26.304Z"
   },
   {
    "duration": 10,
    "start_time": "2022-08-24T15:08:26.314Z"
   },
   {
    "duration": 7,
    "start_time": "2022-08-24T15:08:26.326Z"
   },
   {
    "duration": 296,
    "start_time": "2022-08-24T15:08:26.335Z"
   },
   {
    "duration": 139,
    "start_time": "2022-08-24T15:08:26.633Z"
   },
   {
    "duration": 403,
    "start_time": "2022-08-24T15:08:26.774Z"
   },
   {
    "duration": 91,
    "start_time": "2022-08-24T15:08:27.179Z"
   },
   {
    "duration": 93,
    "start_time": "2022-08-24T15:08:27.272Z"
   },
   {
    "duration": 28,
    "start_time": "2022-08-24T15:08:27.367Z"
   },
   {
    "duration": 408,
    "start_time": "2022-08-24T15:08:27.397Z"
   },
   {
    "duration": 60,
    "start_time": "2022-08-24T15:08:27.806Z"
   },
   {
    "duration": 99,
    "start_time": "2022-08-24T15:08:27.868Z"
   },
   {
    "duration": 89,
    "start_time": "2022-08-24T15:08:27.969Z"
   },
   {
    "duration": 185,
    "start_time": "2022-08-24T15:08:28.060Z"
   },
   {
    "duration": 213,
    "start_time": "2022-08-24T15:08:28.247Z"
   },
   {
    "duration": 11,
    "start_time": "2022-08-24T15:08:28.462Z"
   },
   {
    "duration": 28,
    "start_time": "2022-08-24T15:08:28.477Z"
   },
   {
    "duration": 7,
    "start_time": "2022-08-24T15:08:28.507Z"
   },
   {
    "duration": 278,
    "start_time": "2022-08-24T15:08:28.516Z"
   },
   {
    "duration": 47,
    "start_time": "2022-08-24T15:08:28.796Z"
   },
   {
    "duration": 20,
    "start_time": "2022-08-24T15:08:28.845Z"
   },
   {
    "duration": 10,
    "start_time": "2022-08-24T15:08:28.867Z"
   },
   {
    "duration": 329,
    "start_time": "2022-08-24T15:08:28.879Z"
   },
   {
    "duration": 57,
    "start_time": "2022-08-24T15:08:29.210Z"
   },
   {
    "duration": 1645,
    "start_time": "2022-08-25T04:08:33.676Z"
   },
   {
    "duration": 2,
    "start_time": "2022-08-25T04:08:35.324Z"
   },
   {
    "duration": 101,
    "start_time": "2022-08-25T04:08:35.328Z"
   },
   {
    "duration": 36,
    "start_time": "2022-08-25T04:08:35.431Z"
   },
   {
    "duration": 4,
    "start_time": "2022-08-25T04:08:35.469Z"
   },
   {
    "duration": 19,
    "start_time": "2022-08-25T04:08:35.474Z"
   },
   {
    "duration": 15,
    "start_time": "2022-08-25T04:08:35.494Z"
   },
   {
    "duration": 8,
    "start_time": "2022-08-25T04:08:35.511Z"
   },
   {
    "duration": 19,
    "start_time": "2022-08-25T04:08:35.520Z"
   },
   {
    "duration": 7,
    "start_time": "2022-08-25T04:08:35.541Z"
   },
   {
    "duration": 2,
    "start_time": "2022-08-25T04:08:35.549Z"
   },
   {
    "duration": 8,
    "start_time": "2022-08-25T04:08:35.553Z"
   },
   {
    "duration": 36,
    "start_time": "2022-08-25T04:08:35.563Z"
   },
   {
    "duration": 28,
    "start_time": "2022-08-25T04:08:35.602Z"
   },
   {
    "duration": 10,
    "start_time": "2022-08-25T04:08:35.632Z"
   },
   {
    "duration": 51,
    "start_time": "2022-08-25T04:08:35.644Z"
   },
   {
    "duration": 5,
    "start_time": "2022-08-25T04:08:35.700Z"
   },
   {
    "duration": 7,
    "start_time": "2022-08-25T04:08:35.707Z"
   },
   {
    "duration": 8,
    "start_time": "2022-08-25T04:08:35.716Z"
   },
   {
    "duration": 14,
    "start_time": "2022-08-25T04:08:35.725Z"
   },
   {
    "duration": 3,
    "start_time": "2022-08-25T04:08:35.740Z"
   },
   {
    "duration": 200921,
    "start_time": "2022-08-25T04:08:35.745Z"
   },
   {
    "duration": 2,
    "start_time": "2022-08-25T04:11:56.668Z"
   },
   {
    "duration": 6,
    "start_time": "2022-08-25T04:11:56.671Z"
   },
   {
    "duration": 6,
    "start_time": "2022-08-25T04:11:56.686Z"
   },
   {
    "duration": 12,
    "start_time": "2022-08-25T04:11:56.693Z"
   },
   {
    "duration": 4,
    "start_time": "2022-08-25T04:11:56.707Z"
   },
   {
    "duration": 294,
    "start_time": "2022-08-25T04:11:56.713Z"
   },
   {
    "duration": 79,
    "start_time": "2022-08-25T04:11:57.009Z"
   },
   {
    "duration": 377,
    "start_time": "2022-08-25T04:11:57.090Z"
   },
   {
    "duration": 123,
    "start_time": "2022-08-25T04:11:57.468Z"
   },
   {
    "duration": 96,
    "start_time": "2022-08-25T04:11:57.594Z"
   },
   {
    "duration": 8,
    "start_time": "2022-08-25T04:11:57.695Z"
   },
   {
    "duration": 385,
    "start_time": "2022-08-25T04:11:57.704Z"
   },
   {
    "duration": 95,
    "start_time": "2022-08-25T04:11:58.099Z"
   },
   {
    "duration": 99,
    "start_time": "2022-08-25T04:11:58.195Z"
   },
   {
    "duration": 9,
    "start_time": "2022-08-25T04:11:58.297Z"
   },
   {
    "duration": 193,
    "start_time": "2022-08-25T04:11:58.308Z"
   },
   {
    "duration": 93,
    "start_time": "2022-08-25T04:11:58.503Z"
   },
   {
    "duration": 88,
    "start_time": "2022-08-25T04:11:58.598Z"
   },
   {
    "duration": 27,
    "start_time": "2022-08-25T04:11:58.690Z"
   },
   {
    "duration": 7,
    "start_time": "2022-08-25T04:11:58.719Z"
   },
   {
    "duration": 271,
    "start_time": "2022-08-25T04:11:58.728Z"
   },
   {
    "duration": 50,
    "start_time": "2022-08-25T04:11:59.001Z"
   },
   {
    "duration": 12,
    "start_time": "2022-08-25T04:11:59.053Z"
   },
   {
    "duration": 32,
    "start_time": "2022-08-25T04:11:59.067Z"
   },
   {
    "duration": 349,
    "start_time": "2022-08-25T04:11:59.101Z"
   },
   {
    "duration": 51,
    "start_time": "2022-08-25T04:11:59.452Z"
   },
   {
    "duration": 51,
    "start_time": "2022-08-25T04:39:55.317Z"
   },
   {
    "duration": 37,
    "start_time": "2022-08-25T04:40:06.019Z"
   },
   {
    "duration": 24,
    "start_time": "2022-08-25T04:40:58.976Z"
   },
   {
    "duration": 226,
    "start_time": "2022-08-25T04:53:09.923Z"
   },
   {
    "duration": 101,
    "start_time": "2022-08-25T04:53:57.192Z"
   },
   {
    "duration": 5,
    "start_time": "2022-08-25T04:54:36.714Z"
   },
   {
    "duration": 8,
    "start_time": "2022-08-25T04:54:36.721Z"
   },
   {
    "duration": 39,
    "start_time": "2022-08-25T04:54:36.730Z"
   },
   {
    "duration": 27,
    "start_time": "2022-08-25T04:54:36.771Z"
   },
   {
    "duration": 3,
    "start_time": "2022-08-25T04:54:36.800Z"
   },
   {
    "duration": 14,
    "start_time": "2022-08-25T04:54:36.805Z"
   },
   {
    "duration": 10,
    "start_time": "2022-08-25T04:54:36.820Z"
   },
   {
    "duration": 7,
    "start_time": "2022-08-25T04:54:36.831Z"
   },
   {
    "duration": 54,
    "start_time": "2022-08-25T04:54:36.839Z"
   },
   {
    "duration": 8,
    "start_time": "2022-08-25T04:54:36.895Z"
   },
   {
    "duration": 6,
    "start_time": "2022-08-25T04:54:36.905Z"
   },
   {
    "duration": 7,
    "start_time": "2022-08-25T04:54:36.912Z"
   },
   {
    "duration": 30,
    "start_time": "2022-08-25T04:54:36.922Z"
   },
   {
    "duration": 43,
    "start_time": "2022-08-25T04:54:36.954Z"
   },
   {
    "duration": 35,
    "start_time": "2022-08-25T04:54:36.999Z"
   },
   {
    "duration": 5,
    "start_time": "2022-08-25T04:54:37.035Z"
   },
   {
    "duration": 10,
    "start_time": "2022-08-25T04:54:37.042Z"
   },
   {
    "duration": 8,
    "start_time": "2022-08-25T04:54:37.054Z"
   },
   {
    "duration": 26,
    "start_time": "2022-08-25T04:54:37.064Z"
   },
   {
    "duration": 2,
    "start_time": "2022-08-25T04:54:37.092Z"
   },
   {
    "duration": 4,
    "start_time": "2022-08-25T04:54:37.096Z"
   },
   {
    "duration": 5,
    "start_time": "2022-08-25T04:54:37.101Z"
   },
   {
    "duration": 4,
    "start_time": "2022-08-25T04:54:37.107Z"
   },
   {
    "duration": 6,
    "start_time": "2022-08-25T04:54:37.113Z"
   },
   {
    "duration": 4,
    "start_time": "2022-08-25T04:54:37.121Z"
   },
   {
    "duration": 4,
    "start_time": "2022-08-25T04:54:37.127Z"
   },
   {
    "duration": 358,
    "start_time": "2022-08-25T04:54:37.133Z"
   },
   {
    "duration": 95,
    "start_time": "2022-08-25T04:54:37.493Z"
   },
   {
    "duration": 419,
    "start_time": "2022-08-25T04:54:37.589Z"
   },
   {
    "duration": 75,
    "start_time": "2022-08-25T04:54:38.010Z"
   },
   {
    "duration": 11,
    "start_time": "2022-08-25T04:54:38.087Z"
   },
   {
    "duration": 90,
    "start_time": "2022-08-25T04:54:38.100Z"
   },
   {
    "duration": 411,
    "start_time": "2022-08-25T04:54:38.192Z"
   },
   {
    "duration": 85,
    "start_time": "2022-08-25T04:54:38.604Z"
   },
   {
    "duration": 100,
    "start_time": "2022-08-25T04:54:38.690Z"
   },
   {
    "duration": 9,
    "start_time": "2022-08-25T04:54:38.791Z"
   },
   {
    "duration": 190,
    "start_time": "2022-08-25T04:54:38.803Z"
   },
   {
    "duration": 91,
    "start_time": "2022-08-25T04:54:38.994Z"
   },
   {
    "duration": 101,
    "start_time": "2022-08-25T04:54:39.088Z"
   },
   {
    "duration": 24,
    "start_time": "2022-08-25T04:54:39.191Z"
   },
   {
    "duration": 7,
    "start_time": "2022-08-25T04:54:39.217Z"
   },
   {
    "duration": 280,
    "start_time": "2022-08-25T04:54:39.225Z"
   },
   {
    "duration": 46,
    "start_time": "2022-08-25T04:54:39.506Z"
   },
   {
    "duration": 11,
    "start_time": "2022-08-25T04:54:39.553Z"
   },
   {
    "duration": 22,
    "start_time": "2022-08-25T04:54:39.566Z"
   },
   {
    "duration": 328,
    "start_time": "2022-08-25T04:54:39.589Z"
   },
   {
    "duration": 43,
    "start_time": "2022-08-25T04:54:39.919Z"
   },
   {
    "duration": 27,
    "start_time": "2022-08-25T05:21:09.293Z"
   },
   {
    "duration": 1704,
    "start_time": "2022-08-25T08:56:30.957Z"
   },
   {
    "duration": 3,
    "start_time": "2022-08-25T08:56:32.663Z"
   },
   {
    "duration": 84,
    "start_time": "2022-08-25T08:56:32.668Z"
   },
   {
    "duration": 28,
    "start_time": "2022-08-25T08:56:32.753Z"
   },
   {
    "duration": 4,
    "start_time": "2022-08-25T08:56:32.783Z"
   },
   {
    "duration": 15,
    "start_time": "2022-08-25T08:56:32.788Z"
   },
   {
    "duration": 9,
    "start_time": "2022-08-25T08:56:32.804Z"
   },
   {
    "duration": 7,
    "start_time": "2022-08-25T08:56:32.814Z"
   },
   {
    "duration": 43,
    "start_time": "2022-08-25T08:56:32.823Z"
   },
   {
    "duration": 8,
    "start_time": "2022-08-25T08:56:32.867Z"
   },
   {
    "duration": 5,
    "start_time": "2022-08-25T08:56:32.877Z"
   },
   {
    "duration": 9,
    "start_time": "2022-08-25T08:56:32.884Z"
   },
   {
    "duration": 34,
    "start_time": "2022-08-25T08:56:32.894Z"
   },
   {
    "duration": 65,
    "start_time": "2022-08-25T08:56:32.931Z"
   },
   {
    "duration": 6,
    "start_time": "2022-08-25T08:56:32.998Z"
   },
   {
    "duration": 9,
    "start_time": "2022-08-25T08:56:33.006Z"
   },
   {
    "duration": 12,
    "start_time": "2022-08-25T08:56:33.017Z"
   },
   {
    "duration": 30,
    "start_time": "2022-08-25T08:56:33.031Z"
   },
   {
    "duration": 3,
    "start_time": "2022-08-25T08:56:33.063Z"
   },
   {
    "duration": 7,
    "start_time": "2022-08-25T08:56:33.068Z"
   },
   {
    "duration": 6,
    "start_time": "2022-08-25T08:56:33.077Z"
   },
   {
    "duration": 4,
    "start_time": "2022-08-25T08:56:33.085Z"
   },
   {
    "duration": 6,
    "start_time": "2022-08-25T08:56:33.091Z"
   },
   {
    "duration": 5,
    "start_time": "2022-08-25T08:56:33.099Z"
   },
   {
    "duration": 6,
    "start_time": "2022-08-25T08:56:33.106Z"
   },
   {
    "duration": 328,
    "start_time": "2022-08-25T08:56:33.113Z"
   },
   {
    "duration": 117,
    "start_time": "2022-08-25T08:56:33.442Z"
   },
   {
    "duration": 415,
    "start_time": "2022-08-25T08:56:33.563Z"
   },
   {
    "duration": 84,
    "start_time": "2022-08-25T08:56:33.979Z"
   },
   {
    "duration": 99,
    "start_time": "2022-08-25T08:56:34.064Z"
   },
   {
    "duration": 6,
    "start_time": "2022-08-25T08:56:34.165Z"
   },
   {
    "duration": 473,
    "start_time": "2022-08-25T08:56:34.173Z"
   },
   {
    "duration": 111,
    "start_time": "2022-08-25T08:56:34.649Z"
   },
   {
    "duration": 98,
    "start_time": "2022-08-25T08:56:34.762Z"
   },
   {
    "duration": 9,
    "start_time": "2022-08-25T08:56:34.862Z"
   },
   {
    "duration": 203,
    "start_time": "2022-08-25T08:56:34.873Z"
   },
   {
    "duration": 82,
    "start_time": "2022-08-25T08:56:35.078Z"
   },
   {
    "duration": 108,
    "start_time": "2022-08-25T08:56:35.162Z"
   },
   {
    "duration": 37,
    "start_time": "2022-08-25T08:56:35.273Z"
   },
   {
    "duration": 9,
    "start_time": "2022-08-25T08:56:35.312Z"
   },
   {
    "duration": 284,
    "start_time": "2022-08-25T08:56:35.325Z"
   },
   {
    "duration": 58,
    "start_time": "2022-08-25T08:56:35.610Z"
   },
   {
    "duration": 19,
    "start_time": "2022-08-25T08:56:35.670Z"
   },
   {
    "duration": 7,
    "start_time": "2022-08-25T08:56:35.691Z"
   },
   {
    "duration": 372,
    "start_time": "2022-08-25T08:56:35.700Z"
   },
   {
    "duration": 53,
    "start_time": "2022-08-25T08:56:36.074Z"
   },
   {
    "duration": 301,
    "start_time": "2022-08-25T08:58:05.264Z"
   },
   {
    "duration": 305,
    "start_time": "2022-08-25T08:58:20.277Z"
   },
   {
    "duration": 410,
    "start_time": "2022-08-25T08:58:34.735Z"
   },
   {
    "duration": 2,
    "start_time": "2022-08-25T09:25:54.912Z"
   },
   {
    "duration": 3,
    "start_time": "2022-08-25T09:26:12.489Z"
   },
   {
    "duration": 9,
    "start_time": "2022-08-25T09:37:42.538Z"
   },
   {
    "duration": 10,
    "start_time": "2022-08-25T09:38:26.443Z"
   },
   {
    "duration": 9,
    "start_time": "2022-08-25T09:38:44.012Z"
   },
   {
    "duration": 7,
    "start_time": "2022-08-25T09:38:48.023Z"
   },
   {
    "duration": 5,
    "start_time": "2022-08-25T09:38:58.458Z"
   },
   {
    "duration": 24,
    "start_time": "2022-08-25T09:38:58.464Z"
   },
   {
    "duration": 51,
    "start_time": "2022-08-25T09:38:58.490Z"
   },
   {
    "duration": 25,
    "start_time": "2022-08-25T09:38:58.543Z"
   },
   {
    "duration": 5,
    "start_time": "2022-08-25T09:38:58.569Z"
   },
   {
    "duration": 24,
    "start_time": "2022-08-25T09:38:58.575Z"
   },
   {
    "duration": 32,
    "start_time": "2022-08-25T09:38:58.600Z"
   },
   {
    "duration": 25,
    "start_time": "2022-08-25T09:38:58.633Z"
   },
   {
    "duration": 44,
    "start_time": "2022-08-25T09:38:58.660Z"
   },
   {
    "duration": 25,
    "start_time": "2022-08-25T09:38:58.706Z"
   },
   {
    "duration": 12,
    "start_time": "2022-08-25T09:38:58.733Z"
   },
   {
    "duration": 28,
    "start_time": "2022-08-25T09:38:58.746Z"
   },
   {
    "duration": 38,
    "start_time": "2022-08-25T09:38:58.776Z"
   },
   {
    "duration": 50,
    "start_time": "2022-08-25T09:38:58.816Z"
   },
   {
    "duration": 5,
    "start_time": "2022-08-25T09:38:58.868Z"
   },
   {
    "duration": 20,
    "start_time": "2022-08-25T09:38:58.875Z"
   },
   {
    "duration": 13,
    "start_time": "2022-08-25T09:38:58.896Z"
   },
   {
    "duration": 7,
    "start_time": "2022-08-25T09:38:58.910Z"
   },
   {
    "duration": 9,
    "start_time": "2022-08-25T09:38:58.918Z"
   },
   {
    "duration": 6,
    "start_time": "2022-08-25T09:38:58.929Z"
   },
   {
    "duration": 2,
    "start_time": "2022-08-25T09:38:58.957Z"
   },
   {
    "duration": 7,
    "start_time": "2022-08-25T09:38:58.960Z"
   },
   {
    "duration": 5,
    "start_time": "2022-08-25T09:38:58.968Z"
   },
   {
    "duration": 4,
    "start_time": "2022-08-25T09:38:58.974Z"
   },
   {
    "duration": 4,
    "start_time": "2022-08-25T09:38:58.980Z"
   },
   {
    "duration": 8,
    "start_time": "2022-08-25T09:38:58.985Z"
   },
   {
    "duration": 183,
    "start_time": "2022-08-25T09:38:58.994Z"
   },
   {
    "duration": 177,
    "start_time": "2022-08-25T09:38:59.181Z"
   },
   {
    "duration": 261,
    "start_time": "2022-08-25T09:38:59.361Z"
   },
   {
    "duration": 231,
    "start_time": "2022-08-25T09:38:59.625Z"
   },
   {
    "duration": 11,
    "start_time": "2022-08-25T09:38:59.858Z"
   },
   {
    "duration": 6,
    "start_time": "2022-08-25T09:38:59.871Z"
   },
   {
    "duration": 234,
    "start_time": "2022-08-25T09:38:59.878Z"
   },
   {
    "duration": 53,
    "start_time": "2022-08-25T09:39:00.114Z"
   },
   {
    "duration": 104,
    "start_time": "2022-08-25T09:39:00.257Z"
   },
   {
    "duration": 8,
    "start_time": "2022-08-25T09:39:00.363Z"
   },
   {
    "duration": 134,
    "start_time": "2022-08-25T09:39:00.373Z"
   },
   {
    "duration": 55,
    "start_time": "2022-08-25T09:39:00.509Z"
   },
   {
    "duration": 112,
    "start_time": "2022-08-25T09:39:00.566Z"
   },
   {
    "duration": 58,
    "start_time": "2022-08-25T09:39:00.680Z"
   },
   {
    "duration": 12,
    "start_time": "2022-08-25T09:39:00.740Z"
   },
   {
    "duration": 156,
    "start_time": "2022-08-25T09:39:00.754Z"
   },
   {
    "duration": 35,
    "start_time": "2022-08-25T09:39:00.911Z"
   },
   {
    "duration": 17,
    "start_time": "2022-08-25T09:39:00.947Z"
   },
   {
    "duration": 16,
    "start_time": "2022-08-25T09:39:00.966Z"
   },
   {
    "duration": 203,
    "start_time": "2022-08-25T09:39:00.984Z"
   },
   {
    "duration": 31,
    "start_time": "2022-08-25T09:39:01.188Z"
   },
   {
    "duration": 13,
    "start_time": "2022-08-25T09:54:11.110Z"
   },
   {
    "duration": 30,
    "start_time": "2022-08-25T09:56:00.643Z"
   },
   {
    "duration": 29,
    "start_time": "2022-08-25T09:58:06.936Z"
   },
   {
    "duration": 5,
    "start_time": "2022-08-25T10:06:03.462Z"
   },
   {
    "duration": 5,
    "start_time": "2022-08-25T10:06:40.865Z"
   },
   {
    "duration": 24,
    "start_time": "2022-08-25T10:06:40.872Z"
   },
   {
    "duration": 47,
    "start_time": "2022-08-25T10:06:40.898Z"
   },
   {
    "duration": 23,
    "start_time": "2022-08-25T10:06:40.946Z"
   },
   {
    "duration": 4,
    "start_time": "2022-08-25T10:06:40.971Z"
   },
   {
    "duration": 25,
    "start_time": "2022-08-25T10:06:40.977Z"
   },
   {
    "duration": 21,
    "start_time": "2022-08-25T10:06:41.003Z"
   },
   {
    "duration": 13,
    "start_time": "2022-08-25T10:06:41.025Z"
   },
   {
    "duration": 34,
    "start_time": "2022-08-25T10:06:41.040Z"
   },
   {
    "duration": 7,
    "start_time": "2022-08-25T10:06:41.076Z"
   },
   {
    "duration": 7,
    "start_time": "2022-08-25T10:06:41.085Z"
   },
   {
    "duration": 11,
    "start_time": "2022-08-25T10:06:41.094Z"
   },
   {
    "duration": 53,
    "start_time": "2022-08-25T10:06:41.109Z"
   },
   {
    "duration": 39,
    "start_time": "2022-08-25T10:06:41.163Z"
   },
   {
    "duration": 5,
    "start_time": "2022-08-25T10:06:41.204Z"
   },
   {
    "duration": 11,
    "start_time": "2022-08-25T10:06:41.210Z"
   },
   {
    "duration": 69,
    "start_time": "2022-08-25T10:06:41.223Z"
   },
   {
    "duration": 18,
    "start_time": "2022-08-25T10:06:41.293Z"
   },
   {
    "duration": 4,
    "start_time": "2022-08-25T10:06:41.312Z"
   },
   {
    "duration": 5,
    "start_time": "2022-08-25T10:06:41.318Z"
   },
   {
    "duration": 9,
    "start_time": "2022-08-25T10:06:41.324Z"
   },
   {
    "duration": 5,
    "start_time": "2022-08-25T10:06:41.335Z"
   },
   {
    "duration": 14,
    "start_time": "2022-08-25T10:06:41.341Z"
   },
   {
    "duration": 17,
    "start_time": "2022-08-25T10:06:41.357Z"
   },
   {
    "duration": 263,
    "start_time": "2022-08-25T10:06:41.375Z"
   },
   {
    "duration": 122,
    "start_time": "2022-08-25T10:06:41.640Z"
   },
   {
    "duration": 375,
    "start_time": "2022-08-25T10:06:41.764Z"
   },
   {
    "duration": 119,
    "start_time": "2022-08-25T10:06:42.141Z"
   },
   {
    "duration": 102,
    "start_time": "2022-08-25T10:06:42.262Z"
   },
   {
    "duration": 6,
    "start_time": "2022-08-25T10:06:42.366Z"
   },
   {
    "duration": 355,
    "start_time": "2022-08-25T10:06:42.373Z"
   },
   {
    "duration": 127,
    "start_time": "2022-08-25T10:06:42.731Z"
   },
   {
    "duration": 99,
    "start_time": "2022-08-25T10:06:42.860Z"
   },
   {
    "duration": 13,
    "start_time": "2022-08-25T10:06:42.961Z"
   },
   {
    "duration": 181,
    "start_time": "2022-08-25T10:06:42.976Z"
   },
   {
    "duration": 105,
    "start_time": "2022-08-25T10:06:43.159Z"
   },
   {
    "duration": 244,
    "start_time": "2022-08-25T10:06:43.268Z"
   },
   {
    "duration": 43,
    "start_time": "2022-08-25T10:06:43.514Z"
   },
   {
    "duration": 12,
    "start_time": "2022-08-25T10:06:43.558Z"
   },
   {
    "duration": 6,
    "start_time": "2022-08-25T10:06:43.571Z"
   },
   {
    "duration": 189,
    "start_time": "2022-08-25T10:06:43.579Z"
   },
   {
    "duration": 31,
    "start_time": "2022-08-25T10:06:43.770Z"
   },
   {
    "duration": 33,
    "start_time": "2022-08-25T10:10:00.749Z"
   },
   {
    "duration": 15860,
    "start_time": "2022-08-25T10:15:19.703Z"
   },
   {
    "duration": 257,
    "start_time": "2022-08-25T10:17:43.040Z"
   },
   {
    "duration": 755,
    "start_time": "2022-08-25T10:20:03.419Z"
   },
   {
    "duration": 4,
    "start_time": "2022-08-25T10:21:19.759Z"
   },
   {
    "duration": 7375,
    "start_time": "2022-08-25T10:24:37.983Z"
   },
   {
    "duration": 118,
    "start_time": "2022-08-25T10:27:00.121Z"
   },
   {
    "duration": 15206,
    "start_time": "2022-08-25T10:35:54.081Z"
   },
   {
    "duration": 47435,
    "start_time": "2022-08-25T10:42:12.672Z"
   },
   {
    "duration": 262,
    "start_time": "2022-08-25T10:45:14.397Z"
   },
   {
    "duration": 115,
    "start_time": "2022-08-25T10:45:34.111Z"
   },
   {
    "duration": 204,
    "start_time": "2022-08-25T10:47:05.906Z"
   },
   {
    "duration": 197,
    "start_time": "2022-08-25T10:47:26.689Z"
   },
   {
    "duration": 105,
    "start_time": "2022-08-25T10:47:58.127Z"
   },
   {
    "duration": 5,
    "start_time": "2022-08-25T10:49:00.638Z"
   },
   {
    "duration": 61,
    "start_time": "2022-08-25T10:49:00.645Z"
   },
   {
    "duration": 59,
    "start_time": "2022-08-25T10:49:00.708Z"
   },
   {
    "duration": 28,
    "start_time": "2022-08-25T10:49:00.770Z"
   },
   {
    "duration": 37,
    "start_time": "2022-08-25T10:49:00.800Z"
   },
   {
    "duration": 31,
    "start_time": "2022-08-25T10:49:00.839Z"
   },
   {
    "duration": 38,
    "start_time": "2022-08-25T10:49:00.871Z"
   },
   {
    "duration": 27,
    "start_time": "2022-08-25T10:49:00.911Z"
   },
   {
    "duration": 37,
    "start_time": "2022-08-25T10:49:00.940Z"
   },
   {
    "duration": 7,
    "start_time": "2022-08-25T10:49:00.980Z"
   },
   {
    "duration": 19,
    "start_time": "2022-08-25T10:49:00.989Z"
   },
   {
    "duration": 14,
    "start_time": "2022-08-25T10:49:01.010Z"
   },
   {
    "duration": 63,
    "start_time": "2022-08-25T10:49:01.026Z"
   },
   {
    "duration": 46,
    "start_time": "2022-08-25T10:49:01.091Z"
   },
   {
    "duration": 4,
    "start_time": "2022-08-25T10:49:01.139Z"
   },
   {
    "duration": 29,
    "start_time": "2022-08-25T10:49:01.144Z"
   },
   {
    "duration": 46,
    "start_time": "2022-08-25T10:49:01.175Z"
   },
   {
    "duration": 16,
    "start_time": "2022-08-25T10:49:01.222Z"
   },
   {
    "duration": 46448,
    "start_time": "2022-08-25T10:49:01.240Z"
   },
   {
    "duration": 4,
    "start_time": "2022-08-25T10:49:47.689Z"
   },
   {
    "duration": 6,
    "start_time": "2022-08-25T10:49:47.694Z"
   },
   {
    "duration": 212,
    "start_time": "2022-08-25T10:49:47.702Z"
   },
   {
    "duration": 710,
    "start_time": "2022-08-25T10:49:47.916Z"
   },
   {
    "duration": 5,
    "start_time": "2022-08-25T10:49:48.628Z"
   },
   {
    "duration": 123,
    "start_time": "2022-08-25T10:49:48.634Z"
   },
   {
    "duration": 369,
    "start_time": "2022-08-25T10:49:48.760Z"
   },
   {
    "duration": 135,
    "start_time": "2022-08-25T10:49:49.130Z"
   },
   {
    "duration": 13,
    "start_time": "2022-08-25T10:49:49.358Z"
   },
   {
    "duration": 7,
    "start_time": "2022-08-25T10:49:49.374Z"
   },
   {
    "duration": 312,
    "start_time": "2022-08-25T10:49:49.383Z"
   },
   {
    "duration": 69,
    "start_time": "2022-08-25T10:49:49.697Z"
   },
   {
    "duration": 13,
    "start_time": "2022-08-25T10:49:49.858Z"
   },
   {
    "duration": 6,
    "start_time": "2022-08-25T10:49:49.873Z"
   },
   {
    "duration": 207,
    "start_time": "2022-08-25T10:49:49.881Z"
   },
   {
    "duration": 70,
    "start_time": "2022-08-25T10:49:50.090Z"
   },
   {
    "duration": 126,
    "start_time": "2022-08-25T10:49:50.162Z"
   },
   {
    "duration": 12,
    "start_time": "2022-08-25T10:49:50.290Z"
   },
   {
    "duration": 6,
    "start_time": "2022-08-25T10:49:50.304Z"
   },
   {
    "duration": 203,
    "start_time": "2022-08-25T10:49:50.312Z"
   },
   {
    "duration": 43,
    "start_time": "2022-08-25T10:49:50.516Z"
   },
   {
    "duration": 47107,
    "start_time": "2022-08-25T10:51:02.386Z"
   },
   {
    "duration": 6,
    "start_time": "2022-08-25T11:00:59.869Z"
   },
   {
    "duration": 26,
    "start_time": "2022-08-25T11:10:59.203Z"
   },
   {
    "duration": 29,
    "start_time": "2022-08-25T11:25:58.130Z"
   },
   {
    "duration": 197,
    "start_time": "2022-08-25T11:29:48.274Z"
   },
   {
    "duration": 217,
    "start_time": "2022-08-25T11:30:11.215Z"
   },
   {
    "duration": 223,
    "start_time": "2022-08-25T11:30:35.597Z"
   },
   {
    "duration": 206,
    "start_time": "2022-08-25T11:31:28.985Z"
   },
   {
    "duration": 5,
    "start_time": "2022-08-25T11:39:22.596Z"
   },
   {
    "duration": 21,
    "start_time": "2022-08-25T14:44:59.233Z"
   },
   {
    "duration": 5,
    "start_time": "2022-08-25T14:45:56.146Z"
   },
   {
    "duration": 15,
    "start_time": "2022-08-25T14:46:12.440Z"
   },
   {
    "duration": 22,
    "start_time": "2022-08-25T14:49:23.080Z"
   },
   {
    "duration": 5,
    "start_time": "2022-08-25T14:50:25.669Z"
   },
   {
    "duration": 183,
    "start_time": "2022-08-25T15:00:52.121Z"
   },
   {
    "duration": 57,
    "start_time": "2022-08-25T15:12:47.957Z"
   },
   {
    "duration": 117,
    "start_time": "2022-08-25T15:13:14.558Z"
   },
   {
    "duration": 16,
    "start_time": "2022-08-25T15:13:45.115Z"
   },
   {
    "duration": 77,
    "start_time": "2022-08-25T15:14:12.284Z"
   },
   {
    "duration": 94,
    "start_time": "2022-08-25T15:19:02.789Z"
   },
   {
    "duration": 12,
    "start_time": "2022-08-25T15:21:14.190Z"
   },
   {
    "duration": 83,
    "start_time": "2022-08-25T15:21:33.333Z"
   },
   {
    "duration": 69,
    "start_time": "2022-08-25T15:23:44.471Z"
   },
   {
    "duration": 35,
    "start_time": "2022-08-25T15:24:29.767Z"
   },
   {
    "duration": 34,
    "start_time": "2022-08-25T15:24:42.352Z"
   },
   {
    "duration": 18,
    "start_time": "2022-08-25T15:26:12.760Z"
   },
   {
    "duration": 79,
    "start_time": "2022-08-25T15:26:33.054Z"
   },
   {
    "duration": 75,
    "start_time": "2022-08-25T15:26:42.130Z"
   },
   {
    "duration": 328,
    "start_time": "2022-08-25T15:32:10.618Z"
   },
   {
    "duration": 403,
    "start_time": "2022-08-25T15:39:55.008Z"
   },
   {
    "duration": 352,
    "start_time": "2022-08-25T15:41:44.679Z"
   },
   {
    "duration": 34,
    "start_time": "2022-08-25T15:42:52.641Z"
   },
   {
    "duration": 3,
    "start_time": "2022-08-25T15:44:31.134Z"
   },
   {
    "duration": 5,
    "start_time": "2022-08-25T15:46:54.607Z"
   },
   {
    "duration": 5,
    "start_time": "2022-08-25T15:46:54.613Z"
   },
   {
    "duration": 39,
    "start_time": "2022-08-25T15:46:54.620Z"
   },
   {
    "duration": 22,
    "start_time": "2022-08-25T15:46:54.660Z"
   },
   {
    "duration": 4,
    "start_time": "2022-08-25T15:46:54.684Z"
   },
   {
    "duration": 13,
    "start_time": "2022-08-25T15:46:54.690Z"
   },
   {
    "duration": 8,
    "start_time": "2022-08-25T15:46:54.704Z"
   },
   {
    "duration": 7,
    "start_time": "2022-08-25T15:46:54.714Z"
   },
   {
    "duration": 53,
    "start_time": "2022-08-25T15:46:54.722Z"
   },
   {
    "duration": 7,
    "start_time": "2022-08-25T15:46:54.777Z"
   },
   {
    "duration": 14,
    "start_time": "2022-08-25T15:46:54.785Z"
   },
   {
    "duration": 9,
    "start_time": "2022-08-25T15:46:54.800Z"
   },
   {
    "duration": 48,
    "start_time": "2022-08-25T15:46:54.810Z"
   },
   {
    "duration": 33,
    "start_time": "2022-08-25T15:46:54.860Z"
   },
   {
    "duration": 5,
    "start_time": "2022-08-25T15:46:54.895Z"
   },
   {
    "duration": 10,
    "start_time": "2022-08-25T15:46:54.901Z"
   },
   {
    "duration": 49,
    "start_time": "2022-08-25T15:46:54.913Z"
   },
   {
    "duration": 8,
    "start_time": "2022-08-25T15:46:54.964Z"
   },
   {
    "duration": 5,
    "start_time": "2022-08-25T15:46:54.974Z"
   },
   {
    "duration": 229,
    "start_time": "2022-08-25T15:46:54.981Z"
   },
   {
    "duration": 3,
    "start_time": "2022-08-25T15:46:55.212Z"
   },
   {
    "duration": 433,
    "start_time": "2022-08-25T15:46:55.216Z"
   },
   {
    "duration": 43,
    "start_time": "2022-08-25T15:46:55.651Z"
   },
   {
    "duration": 70,
    "start_time": "2022-08-25T15:46:55.696Z"
   },
   {
    "duration": 91,
    "start_time": "2022-08-25T15:46:55.768Z"
   },
   {
    "duration": 305,
    "start_time": "2022-08-25T15:46:55.861Z"
   },
   {
    "duration": 93,
    "start_time": "2022-08-25T15:46:56.168Z"
   },
   {
    "duration": 102,
    "start_time": "2022-08-25T15:46:56.263Z"
   },
   {
    "duration": 10,
    "start_time": "2022-08-25T15:46:56.367Z"
   },
   {
    "duration": 274,
    "start_time": "2022-08-25T15:46:56.378Z"
   },
   {
    "duration": 35,
    "start_time": "2022-08-25T15:46:56.654Z"
   },
   {
    "duration": 102,
    "start_time": "2022-08-25T15:46:56.759Z"
   },
   {
    "duration": 6,
    "start_time": "2022-08-25T15:46:56.862Z"
   },
   {
    "duration": 135,
    "start_time": "2022-08-25T15:46:56.869Z"
   },
   {
    "duration": 61,
    "start_time": "2022-08-25T15:46:57.005Z"
   },
   {
    "duration": 32,
    "start_time": "2022-08-25T15:46:57.156Z"
   },
   {
    "duration": 9,
    "start_time": "2022-08-25T15:46:57.189Z"
   },
   {
    "duration": 5,
    "start_time": "2022-08-25T15:46:57.200Z"
   },
   {
    "duration": 202,
    "start_time": "2022-08-25T15:46:57.206Z"
   },
   {
    "duration": 32,
    "start_time": "2022-08-25T15:46:57.409Z"
   },
   {
    "duration": 44,
    "start_time": "2022-08-25T15:49:12.678Z"
   },
   {
    "duration": 47,
    "start_time": "2022-08-25T15:51:13.452Z"
   },
   {
    "duration": 47,
    "start_time": "2022-08-25T15:51:27.232Z"
   },
   {
    "duration": 366,
    "start_time": "2022-08-25T15:55:16.748Z"
   },
   {
    "duration": 71,
    "start_time": "2022-08-25T16:34:01.780Z"
   },
   {
    "duration": 1895,
    "start_time": "2022-08-25T16:34:19.468Z"
   },
   {
    "duration": 3,
    "start_time": "2022-08-25T16:34:21.365Z"
   },
   {
    "duration": 97,
    "start_time": "2022-08-25T16:34:21.371Z"
   },
   {
    "duration": 27,
    "start_time": "2022-08-25T16:34:21.470Z"
   },
   {
    "duration": 5,
    "start_time": "2022-08-25T16:34:21.500Z"
   },
   {
    "duration": 26,
    "start_time": "2022-08-25T16:34:21.506Z"
   },
   {
    "duration": 16,
    "start_time": "2022-08-25T16:34:21.534Z"
   },
   {
    "duration": 9,
    "start_time": "2022-08-25T16:34:21.553Z"
   },
   {
    "duration": 23,
    "start_time": "2022-08-25T16:34:21.564Z"
   },
   {
    "duration": 21,
    "start_time": "2022-08-25T16:34:21.590Z"
   },
   {
    "duration": 8,
    "start_time": "2022-08-25T16:34:21.614Z"
   },
   {
    "duration": 9,
    "start_time": "2022-08-25T16:34:21.625Z"
   },
   {
    "duration": 74,
    "start_time": "2022-08-25T16:34:21.637Z"
   },
   {
    "duration": 43,
    "start_time": "2022-08-25T16:34:21.713Z"
   },
   {
    "duration": 5,
    "start_time": "2022-08-25T16:34:21.759Z"
   },
   {
    "duration": 12,
    "start_time": "2022-08-25T16:34:21.766Z"
   },
   {
    "duration": 66,
    "start_time": "2022-08-25T16:34:21.780Z"
   },
   {
    "duration": 15,
    "start_time": "2022-08-25T16:34:21.848Z"
   },
   {
    "duration": 3,
    "start_time": "2022-08-25T16:34:21.865Z"
   },
   {
    "duration": 251,
    "start_time": "2022-08-25T16:34:21.870Z"
   },
   {
    "duration": 3,
    "start_time": "2022-08-25T16:34:22.122Z"
   },
   {
    "duration": 452,
    "start_time": "2022-08-25T16:34:22.127Z"
   },
   {
    "duration": 0,
    "start_time": "2022-08-25T16:34:22.580Z"
   },
   {
    "duration": 0,
    "start_time": "2022-08-25T16:34:22.582Z"
   },
   {
    "duration": 0,
    "start_time": "2022-08-25T16:34:22.583Z"
   },
   {
    "duration": 0,
    "start_time": "2022-08-25T16:34:22.585Z"
   },
   {
    "duration": 0,
    "start_time": "2022-08-25T16:34:22.587Z"
   },
   {
    "duration": 0,
    "start_time": "2022-08-25T16:34:22.609Z"
   },
   {
    "duration": 0,
    "start_time": "2022-08-25T16:34:22.610Z"
   },
   {
    "duration": 0,
    "start_time": "2022-08-25T16:34:22.612Z"
   },
   {
    "duration": 0,
    "start_time": "2022-08-25T16:34:22.613Z"
   },
   {
    "duration": 0,
    "start_time": "2022-08-25T16:34:22.614Z"
   },
   {
    "duration": 0,
    "start_time": "2022-08-25T16:34:22.615Z"
   },
   {
    "duration": 1,
    "start_time": "2022-08-25T16:34:22.616Z"
   },
   {
    "duration": 0,
    "start_time": "2022-08-25T16:34:22.618Z"
   },
   {
    "duration": 0,
    "start_time": "2022-08-25T16:34:22.618Z"
   },
   {
    "duration": 0,
    "start_time": "2022-08-25T16:34:22.620Z"
   },
   {
    "duration": 553,
    "start_time": "2022-08-25T16:35:01.450Z"
   },
   {
    "duration": 734,
    "start_time": "2022-08-25T16:35:08.564Z"
   },
   {
    "duration": 45,
    "start_time": "2022-08-25T16:35:15.056Z"
   },
   {
    "duration": 88,
    "start_time": "2022-08-25T16:35:19.527Z"
   },
   {
    "duration": 5,
    "start_time": "2022-08-25T16:35:28.915Z"
   },
   {
    "duration": 8,
    "start_time": "2022-08-25T16:35:28.923Z"
   },
   {
    "duration": 60,
    "start_time": "2022-08-25T16:35:28.933Z"
   },
   {
    "duration": 23,
    "start_time": "2022-08-25T16:35:28.995Z"
   },
   {
    "duration": 32,
    "start_time": "2022-08-25T16:35:29.020Z"
   },
   {
    "duration": 26,
    "start_time": "2022-08-25T16:35:29.054Z"
   },
   {
    "duration": 18,
    "start_time": "2022-08-25T16:35:29.082Z"
   },
   {
    "duration": 11,
    "start_time": "2022-08-25T16:35:29.102Z"
   },
   {
    "duration": 30,
    "start_time": "2022-08-25T16:35:29.116Z"
   },
   {
    "duration": 15,
    "start_time": "2022-08-25T16:35:29.148Z"
   },
   {
    "duration": 20,
    "start_time": "2022-08-25T16:35:29.166Z"
   },
   {
    "duration": 12,
    "start_time": "2022-08-25T16:35:29.188Z"
   },
   {
    "duration": 61,
    "start_time": "2022-08-25T16:35:29.202Z"
   },
   {
    "duration": 51,
    "start_time": "2022-08-25T16:35:29.267Z"
   },
   {
    "duration": 5,
    "start_time": "2022-08-25T16:35:29.320Z"
   },
   {
    "duration": 16,
    "start_time": "2022-08-25T16:35:29.327Z"
   },
   {
    "duration": 32,
    "start_time": "2022-08-25T16:35:29.346Z"
   },
   {
    "duration": 38,
    "start_time": "2022-08-25T16:35:29.380Z"
   },
   {
    "duration": 9,
    "start_time": "2022-08-25T16:35:29.420Z"
   },
   {
    "duration": 230,
    "start_time": "2022-08-25T16:35:29.430Z"
   },
   {
    "duration": 3,
    "start_time": "2022-08-25T16:35:29.661Z"
   },
   {
    "duration": 393,
    "start_time": "2022-08-25T16:35:29.666Z"
   },
   {
    "duration": 718,
    "start_time": "2022-08-25T16:35:30.061Z"
   },
   {
    "duration": 50,
    "start_time": "2022-08-25T16:35:30.781Z"
   },
   {
    "duration": 81,
    "start_time": "2022-08-25T16:35:30.833Z"
   },
   {
    "duration": 95,
    "start_time": "2022-08-25T16:35:30.916Z"
   },
   {
    "duration": 279,
    "start_time": "2022-08-25T16:35:31.013Z"
   },
   {
    "duration": 115,
    "start_time": "2022-08-25T16:35:31.294Z"
   },
   {
    "duration": 102,
    "start_time": "2022-08-25T16:35:31.412Z"
   },
   {
    "duration": 9,
    "start_time": "2022-08-25T16:35:31.516Z"
   },
   {
    "duration": 294,
    "start_time": "2022-08-25T16:35:31.527Z"
   },
   {
    "duration": 91,
    "start_time": "2022-08-25T16:35:31.822Z"
   },
   {
    "duration": 102,
    "start_time": "2022-08-25T16:35:31.915Z"
   },
   {
    "duration": 33,
    "start_time": "2022-08-25T16:35:32.019Z"
   },
   {
    "duration": 138,
    "start_time": "2022-08-25T16:35:32.054Z"
   },
   {
    "duration": 117,
    "start_time": "2022-08-25T16:35:32.193Z"
   },
   {
    "duration": 137,
    "start_time": "2022-08-25T16:35:32.313Z"
   },
   {
    "duration": 51,
    "start_time": "2022-08-26T03:36:32.716Z"
   },
   {
    "duration": 3,
    "start_time": "2022-08-26T03:37:14.966Z"
   },
   {
    "duration": 1533,
    "start_time": "2022-08-26T03:38:13.505Z"
   },
   {
    "duration": 2,
    "start_time": "2022-08-26T03:38:15.040Z"
   },
   {
    "duration": 98,
    "start_time": "2022-08-26T03:38:15.044Z"
   },
   {
    "duration": 27,
    "start_time": "2022-08-26T03:38:15.143Z"
   },
   {
    "duration": 4,
    "start_time": "2022-08-26T03:38:15.172Z"
   },
   {
    "duration": 26,
    "start_time": "2022-08-26T03:38:15.177Z"
   },
   {
    "duration": 13,
    "start_time": "2022-08-26T03:38:15.205Z"
   },
   {
    "duration": 10,
    "start_time": "2022-08-26T03:38:15.220Z"
   },
   {
    "duration": 30,
    "start_time": "2022-08-26T03:38:15.232Z"
   },
   {
    "duration": 29,
    "start_time": "2022-08-26T03:38:15.264Z"
   },
   {
    "duration": 6,
    "start_time": "2022-08-26T03:38:15.295Z"
   },
   {
    "duration": 8,
    "start_time": "2022-08-26T03:38:15.302Z"
   },
   {
    "duration": 36,
    "start_time": "2022-08-26T03:38:15.312Z"
   },
   {
    "duration": 65,
    "start_time": "2022-08-26T03:38:15.352Z"
   },
   {
    "duration": 5,
    "start_time": "2022-08-26T03:38:15.419Z"
   },
   {
    "duration": 11,
    "start_time": "2022-08-26T03:38:15.425Z"
   },
   {
    "duration": 50,
    "start_time": "2022-08-26T03:38:15.438Z"
   },
   {
    "duration": 11,
    "start_time": "2022-08-26T03:38:15.489Z"
   },
   {
    "duration": 3,
    "start_time": "2022-08-26T03:38:15.502Z"
   },
   {
    "duration": 251,
    "start_time": "2022-08-26T03:38:15.506Z"
   },
   {
    "duration": 3,
    "start_time": "2022-08-26T03:38:15.758Z"
   },
   {
    "duration": 409,
    "start_time": "2022-08-26T03:38:15.762Z"
   },
   {
    "duration": 747,
    "start_time": "2022-08-26T03:38:16.173Z"
   },
   {
    "duration": 35,
    "start_time": "2022-08-26T03:38:16.921Z"
   },
   {
    "duration": 2,
    "start_time": "2022-08-26T03:38:16.958Z"
   },
   {
    "duration": 57044,
    "start_time": "2022-08-26T03:38:16.962Z"
   },
   {
    "duration": 180,
    "start_time": "2022-08-26T03:39:14.008Z"
   },
   {
    "duration": 6,
    "start_time": "2022-08-26T03:39:14.190Z"
   },
   {
    "duration": 394,
    "start_time": "2022-08-26T03:39:14.199Z"
   },
   {
    "duration": 95,
    "start_time": "2022-08-26T03:39:14.596Z"
   },
   {
    "duration": 95,
    "start_time": "2022-08-26T03:39:14.693Z"
   },
   {
    "duration": 22,
    "start_time": "2022-08-26T03:39:14.791Z"
   },
   {
    "duration": 308,
    "start_time": "2022-08-26T03:39:14.814Z"
   },
   {
    "duration": 177,
    "start_time": "2022-08-26T03:39:15.124Z"
   },
   {
    "duration": 95,
    "start_time": "2022-08-26T03:39:15.305Z"
   },
   {
    "duration": 10,
    "start_time": "2022-08-26T03:39:15.402Z"
   },
   {
    "duration": 144,
    "start_time": "2022-08-26T03:39:15.414Z"
   },
   {
    "duration": 129,
    "start_time": "2022-08-26T03:39:15.559Z"
   },
   {
    "duration": 131,
    "start_time": "2022-08-26T03:39:15.690Z"
   },
   {
    "duration": 52,
    "start_time": "2022-08-26T03:41:17.448Z"
   },
   {
    "duration": 707,
    "start_time": "2022-08-26T03:51:49.822Z"
   },
   {
    "duration": 693,
    "start_time": "2022-08-26T03:53:39.414Z"
   },
   {
    "duration": 747,
    "start_time": "2022-08-26T03:54:21.503Z"
   },
   {
    "duration": 743,
    "start_time": "2022-08-26T03:54:43.263Z"
   },
   {
    "duration": 30,
    "start_time": "2022-08-26T04:09:07.798Z"
   },
   {
    "duration": 698,
    "start_time": "2022-08-26T04:10:39.529Z"
   },
   {
    "duration": 791,
    "start_time": "2022-08-26T04:12:23.556Z"
   },
   {
    "duration": 879,
    "start_time": "2022-08-26T04:13:02.050Z"
   },
   {
    "duration": 124,
    "start_time": "2022-08-26T04:30:07.523Z"
   },
   {
    "duration": 4072,
    "start_time": "2022-08-26T04:32:17.328Z"
   },
   {
    "duration": 4164,
    "start_time": "2022-08-26T04:32:56.825Z"
   },
   {
    "duration": 19132,
    "start_time": "2022-08-26T04:40:32.465Z"
   },
   {
    "duration": 9703,
    "start_time": "2022-08-26T04:41:20.910Z"
   },
   {
    "duration": 49,
    "start_time": "2022-08-26T04:41:52.142Z"
   },
   {
    "duration": 53922,
    "start_time": "2022-08-26T05:00:19.465Z"
   },
   {
    "duration": 388,
    "start_time": "2022-08-26T05:03:09.708Z"
   },
   {
    "duration": 12025,
    "start_time": "2022-08-26T05:05:19.879Z"
   },
   {
    "duration": 37,
    "start_time": "2022-08-26T05:07:13.978Z"
   },
   {
    "duration": 12241,
    "start_time": "2022-08-26T05:07:48.064Z"
   },
   {
    "duration": 25068,
    "start_time": "2022-08-26T05:12:08.536Z"
   },
   {
    "duration": 504,
    "start_time": "2022-08-26T05:14:02.189Z"
   },
   {
    "duration": 24511,
    "start_time": "2022-08-26T05:15:54.276Z"
   },
   {
    "duration": 2,
    "start_time": "2022-08-26T05:16:51.197Z"
   },
   {
    "duration": 27968,
    "start_time": "2022-08-26T05:18:25.320Z"
   },
   {
    "duration": 711,
    "start_time": "2022-08-26T05:21:17.117Z"
   },
   {
    "duration": 670,
    "start_time": "2022-08-26T05:21:40.194Z"
   },
   {
    "duration": 24557,
    "start_time": "2022-08-26T05:22:19.938Z"
   },
   {
    "duration": 5,
    "start_time": "2022-08-26T05:22:59.344Z"
   },
   {
    "duration": 9,
    "start_time": "2022-08-26T05:22:59.351Z"
   },
   {
    "duration": 44,
    "start_time": "2022-08-26T05:22:59.362Z"
   },
   {
    "duration": 21,
    "start_time": "2022-08-26T05:22:59.407Z"
   },
   {
    "duration": 4,
    "start_time": "2022-08-26T05:22:59.430Z"
   },
   {
    "duration": 15,
    "start_time": "2022-08-26T05:22:59.435Z"
   },
   {
    "duration": 8,
    "start_time": "2022-08-26T05:22:59.452Z"
   },
   {
    "duration": 32,
    "start_time": "2022-08-26T05:22:59.461Z"
   },
   {
    "duration": 21,
    "start_time": "2022-08-26T05:22:59.495Z"
   },
   {
    "duration": 8,
    "start_time": "2022-08-26T05:22:59.517Z"
   },
   {
    "duration": 9,
    "start_time": "2022-08-26T05:22:59.527Z"
   },
   {
    "duration": 7,
    "start_time": "2022-08-26T05:22:59.538Z"
   },
   {
    "duration": 66,
    "start_time": "2022-08-26T05:22:59.548Z"
   },
   {
    "duration": 36,
    "start_time": "2022-08-26T05:22:59.616Z"
   },
   {
    "duration": 5,
    "start_time": "2022-08-26T05:22:59.653Z"
   },
   {
    "duration": 30,
    "start_time": "2022-08-26T05:22:59.659Z"
   },
   {
    "duration": 30,
    "start_time": "2022-08-26T05:22:59.691Z"
   },
   {
    "duration": 10,
    "start_time": "2022-08-26T05:22:59.722Z"
   },
   {
    "duration": 2,
    "start_time": "2022-08-26T05:22:59.734Z"
   },
   {
    "duration": 256,
    "start_time": "2022-08-26T05:22:59.737Z"
   },
   {
    "duration": 3,
    "start_time": "2022-08-26T05:22:59.994Z"
   },
   {
    "duration": 692,
    "start_time": "2022-08-26T05:22:59.998Z"
   },
   {
    "duration": 24896,
    "start_time": "2022-08-26T05:23:00.692Z"
   },
   {
    "duration": 3,
    "start_time": "2022-08-26T05:23:25.590Z"
   },
   {
    "duration": 347,
    "start_time": "2022-08-26T05:23:25.595Z"
   },
   {
    "duration": 144,
    "start_time": "2022-08-26T05:23:25.943Z"
   },
   {
    "duration": 13,
    "start_time": "2022-08-26T05:23:26.090Z"
   },
   {
    "duration": 7,
    "start_time": "2022-08-26T05:23:26.187Z"
   },
   {
    "duration": 314,
    "start_time": "2022-08-26T05:23:26.198Z"
   },
   {
    "duration": 83,
    "start_time": "2022-08-26T05:23:26.513Z"
   },
   {
    "duration": 11,
    "start_time": "2022-08-26T05:23:26.687Z"
   },
   {
    "duration": 8,
    "start_time": "2022-08-26T05:23:26.700Z"
   },
   {
    "duration": 129,
    "start_time": "2022-08-26T05:23:26.709Z"
   },
   {
    "duration": 149,
    "start_time": "2022-08-26T05:23:26.839Z"
   },
   {
    "duration": 122,
    "start_time": "2022-08-26T05:23:26.991Z"
   },
   {
    "duration": 220,
    "start_time": "2022-08-26T05:59:17.195Z"
   },
   {
    "duration": 16,
    "start_time": "2022-08-26T06:01:09.107Z"
   },
   {
    "duration": 5,
    "start_time": "2022-08-26T06:02:00.275Z"
   },
   {
    "duration": 32,
    "start_time": "2022-08-26T06:02:00.282Z"
   },
   {
    "duration": 55,
    "start_time": "2022-08-26T06:02:00.316Z"
   },
   {
    "duration": 24,
    "start_time": "2022-08-26T06:02:00.373Z"
   },
   {
    "duration": 16,
    "start_time": "2022-08-26T06:02:00.399Z"
   },
   {
    "duration": 34,
    "start_time": "2022-08-26T06:02:00.417Z"
   },
   {
    "duration": 20,
    "start_time": "2022-08-26T06:02:00.453Z"
   },
   {
    "duration": 15,
    "start_time": "2022-08-26T06:02:00.475Z"
   },
   {
    "duration": 48,
    "start_time": "2022-08-26T06:02:00.492Z"
   },
   {
    "duration": 17,
    "start_time": "2022-08-26T06:02:00.542Z"
   },
   {
    "duration": 12,
    "start_time": "2022-08-26T06:02:00.561Z"
   },
   {
    "duration": 18,
    "start_time": "2022-08-26T06:02:00.574Z"
   },
   {
    "duration": 80,
    "start_time": "2022-08-26T06:02:00.595Z"
   },
   {
    "duration": 41,
    "start_time": "2022-08-26T06:02:00.677Z"
   },
   {
    "duration": 5,
    "start_time": "2022-08-26T06:02:00.719Z"
   },
   {
    "duration": 50,
    "start_time": "2022-08-26T06:02:00.725Z"
   },
   {
    "duration": 27,
    "start_time": "2022-08-26T06:02:00.776Z"
   },
   {
    "duration": 28,
    "start_time": "2022-08-26T06:02:00.805Z"
   },
   {
    "duration": 6,
    "start_time": "2022-08-26T06:02:00.835Z"
   },
   {
    "duration": 260,
    "start_time": "2022-08-26T06:02:00.842Z"
   },
   {
    "duration": 2,
    "start_time": "2022-08-26T06:02:01.104Z"
   },
   {
    "duration": 730,
    "start_time": "2022-08-26T06:02:01.108Z"
   },
   {
    "duration": 26057,
    "start_time": "2022-08-26T06:02:01.839Z"
   },
   {
    "duration": 2,
    "start_time": "2022-08-26T06:02:27.988Z"
   },
   {
    "duration": 20,
    "start_time": "2022-08-26T06:02:27.992Z"
   },
   {
    "duration": 0,
    "start_time": "2022-08-26T06:02:28.014Z"
   },
   {
    "duration": 0,
    "start_time": "2022-08-26T06:02:28.015Z"
   },
   {
    "duration": 0,
    "start_time": "2022-08-26T06:02:28.016Z"
   },
   {
    "duration": 0,
    "start_time": "2022-08-26T06:02:28.017Z"
   },
   {
    "duration": 0,
    "start_time": "2022-08-26T06:02:28.018Z"
   },
   {
    "duration": 0,
    "start_time": "2022-08-26T06:02:28.019Z"
   },
   {
    "duration": 0,
    "start_time": "2022-08-26T06:02:28.021Z"
   },
   {
    "duration": 0,
    "start_time": "2022-08-26T06:02:28.023Z"
   },
   {
    "duration": 0,
    "start_time": "2022-08-26T06:02:28.026Z"
   },
   {
    "duration": 0,
    "start_time": "2022-08-26T06:02:28.027Z"
   },
   {
    "duration": 14,
    "start_time": "2022-08-26T06:04:15.730Z"
   },
   {
    "duration": 10,
    "start_time": "2022-08-26T06:04:37.391Z"
   },
   {
    "duration": 20,
    "start_time": "2022-08-26T06:05:04.993Z"
   },
   {
    "duration": 20,
    "start_time": "2022-08-26T06:09:24.202Z"
   },
   {
    "duration": 5,
    "start_time": "2022-08-26T06:09:38.720Z"
   },
   {
    "duration": 13,
    "start_time": "2022-08-26T06:09:38.726Z"
   },
   {
    "duration": 52,
    "start_time": "2022-08-26T06:09:38.741Z"
   },
   {
    "duration": 22,
    "start_time": "2022-08-26T06:09:38.795Z"
   },
   {
    "duration": 4,
    "start_time": "2022-08-26T06:09:38.818Z"
   },
   {
    "duration": 13,
    "start_time": "2022-08-26T06:09:38.824Z"
   },
   {
    "duration": 8,
    "start_time": "2022-08-26T06:09:38.839Z"
   },
   {
    "duration": 8,
    "start_time": "2022-08-26T06:09:38.848Z"
   },
   {
    "duration": 48,
    "start_time": "2022-08-26T06:09:38.858Z"
   },
   {
    "duration": 7,
    "start_time": "2022-08-26T06:09:38.908Z"
   },
   {
    "duration": 5,
    "start_time": "2022-08-26T06:09:38.917Z"
   },
   {
    "duration": 5,
    "start_time": "2022-08-26T06:09:38.924Z"
   },
   {
    "duration": 56,
    "start_time": "2022-08-26T06:09:38.931Z"
   },
   {
    "duration": 37,
    "start_time": "2022-08-26T06:09:38.989Z"
   },
   {
    "duration": 4,
    "start_time": "2022-08-26T06:09:39.028Z"
   },
   {
    "duration": 10,
    "start_time": "2022-08-26T06:09:39.033Z"
   },
   {
    "duration": 51,
    "start_time": "2022-08-26T06:09:39.045Z"
   },
   {
    "duration": 10,
    "start_time": "2022-08-26T06:09:39.098Z"
   },
   {
    "duration": 3,
    "start_time": "2022-08-26T06:09:39.109Z"
   },
   {
    "duration": 230,
    "start_time": "2022-08-26T06:09:39.113Z"
   },
   {
    "duration": 3,
    "start_time": "2022-08-26T06:09:39.344Z"
   },
   {
    "duration": 689,
    "start_time": "2022-08-26T06:09:39.348Z"
   },
   {
    "duration": 26349,
    "start_time": "2022-08-26T06:09:40.039Z"
   },
   {
    "duration": 2,
    "start_time": "2022-08-26T06:10:06.392Z"
   },
   {
    "duration": 25,
    "start_time": "2022-08-26T06:10:06.396Z"
   },
   {
    "duration": 0,
    "start_time": "2022-08-26T06:10:06.423Z"
   },
   {
    "duration": 0,
    "start_time": "2022-08-26T06:10:06.425Z"
   },
   {
    "duration": 0,
    "start_time": "2022-08-26T06:10:06.427Z"
   },
   {
    "duration": 0,
    "start_time": "2022-08-26T06:10:06.428Z"
   },
   {
    "duration": 0,
    "start_time": "2022-08-26T06:10:06.429Z"
   },
   {
    "duration": 0,
    "start_time": "2022-08-26T06:10:06.430Z"
   },
   {
    "duration": 1,
    "start_time": "2022-08-26T06:10:06.431Z"
   },
   {
    "duration": 0,
    "start_time": "2022-08-26T06:10:06.433Z"
   },
   {
    "duration": 0,
    "start_time": "2022-08-26T06:10:06.434Z"
   },
   {
    "duration": 0,
    "start_time": "2022-08-26T06:10:06.435Z"
   },
   {
    "duration": 10,
    "start_time": "2022-08-26T06:10:55.553Z"
   },
   {
    "duration": 3,
    "start_time": "2022-08-26T06:12:24.145Z"
   },
   {
    "duration": 26,
    "start_time": "2022-08-26T06:12:27.773Z"
   },
   {
    "duration": 27,
    "start_time": "2022-08-26T06:12:51.087Z"
   },
   {
    "duration": 26,
    "start_time": "2022-08-26T06:13:32.048Z"
   },
   {
    "duration": 237,
    "start_time": "2022-08-26T06:16:40.180Z"
   },
   {
    "duration": 749,
    "start_time": "2022-08-26T06:17:16.254Z"
   },
   {
    "duration": 32,
    "start_time": "2022-08-26T06:23:28.921Z"
   },
   {
    "duration": 3,
    "start_time": "2022-08-26T06:24:17.073Z"
   },
   {
    "duration": 364,
    "start_time": "2022-08-26T06:25:08.624Z"
   },
   {
    "duration": 57,
    "start_time": "2022-08-26T06:25:15.033Z"
   },
   {
    "duration": 7,
    "start_time": "2022-08-26T06:27:10.666Z"
   },
   {
    "duration": 14,
    "start_time": "2022-08-26T06:27:32.599Z"
   },
   {
    "duration": 13,
    "start_time": "2022-08-26T06:27:40.546Z"
   },
   {
    "duration": 2,
    "start_time": "2022-08-26T06:30:19.113Z"
   },
   {
    "duration": 285,
    "start_time": "2022-08-26T06:32:08.214Z"
   },
   {
    "duration": 304,
    "start_time": "2022-08-26T06:32:26.054Z"
   },
   {
    "duration": 722,
    "start_time": "2022-08-26T06:34:28.572Z"
   },
   {
    "duration": 891,
    "start_time": "2022-08-26T06:36:52.803Z"
   },
   {
    "duration": 37,
    "start_time": "2022-08-26T06:37:08.434Z"
   },
   {
    "duration": 48,
    "start_time": "2022-08-26T06:37:39.772Z"
   },
   {
    "duration": 15,
    "start_time": "2022-08-26T06:40:03.715Z"
   },
   {
    "duration": 6,
    "start_time": "2022-08-26T06:40:18.145Z"
   },
   {
    "duration": 2,
    "start_time": "2022-08-26T06:42:22.187Z"
   },
   {
    "duration": 135,
    "start_time": "2022-08-26T06:44:10.039Z"
   },
   {
    "duration": 22,
    "start_time": "2022-08-26T06:45:31.618Z"
   },
   {
    "duration": 373,
    "start_time": "2022-08-26T06:46:42.317Z"
   },
   {
    "duration": 110,
    "start_time": "2022-08-26T06:48:11.791Z"
   },
   {
    "duration": 4,
    "start_time": "2022-08-26T06:48:44.473Z"
   },
   {
    "duration": 6,
    "start_time": "2022-08-26T06:48:44.479Z"
   },
   {
    "duration": 47,
    "start_time": "2022-08-26T06:48:44.486Z"
   },
   {
    "duration": 22,
    "start_time": "2022-08-26T06:48:44.536Z"
   },
   {
    "duration": 3,
    "start_time": "2022-08-26T06:48:44.559Z"
   },
   {
    "duration": 30,
    "start_time": "2022-08-26T06:48:44.564Z"
   },
   {
    "duration": 23,
    "start_time": "2022-08-26T06:48:44.596Z"
   },
   {
    "duration": 10,
    "start_time": "2022-08-26T06:48:44.621Z"
   },
   {
    "duration": 21,
    "start_time": "2022-08-26T06:48:44.633Z"
   },
   {
    "duration": 9,
    "start_time": "2022-08-26T06:48:44.656Z"
   },
   {
    "duration": 23,
    "start_time": "2022-08-26T06:48:44.667Z"
   },
   {
    "duration": 8,
    "start_time": "2022-08-26T06:48:44.691Z"
   },
   {
    "duration": 31,
    "start_time": "2022-08-26T06:48:44.700Z"
   },
   {
    "duration": 58,
    "start_time": "2022-08-26T06:48:44.732Z"
   },
   {
    "duration": 4,
    "start_time": "2022-08-26T06:48:44.791Z"
   },
   {
    "duration": 18,
    "start_time": "2022-08-26T06:48:44.797Z"
   },
   {
    "duration": 24,
    "start_time": "2022-08-26T06:48:44.816Z"
   },
   {
    "duration": 8,
    "start_time": "2022-08-26T06:48:44.842Z"
   },
   {
    "duration": 16,
    "start_time": "2022-08-26T06:48:44.852Z"
   },
   {
    "duration": 223,
    "start_time": "2022-08-26T06:48:44.869Z"
   },
   {
    "duration": 2,
    "start_time": "2022-08-26T06:48:45.093Z"
   },
   {
    "duration": 701,
    "start_time": "2022-08-26T06:48:45.097Z"
   },
   {
    "duration": 33088,
    "start_time": "2022-08-26T06:48:45.800Z"
   },
   {
    "duration": 4,
    "start_time": "2022-08-26T06:49:18.893Z"
   },
   {
    "duration": 291,
    "start_time": "2022-08-26T06:49:18.899Z"
   },
   {
    "duration": 29,
    "start_time": "2022-08-26T06:49:19.192Z"
   },
   {
    "duration": 265,
    "start_time": "2022-08-26T06:49:19.223Z"
   },
   {
    "duration": 103,
    "start_time": "2022-08-26T06:49:19.490Z"
   },
   {
    "duration": 281,
    "start_time": "2022-08-26T06:49:19.595Z"
   },
   {
    "duration": 38,
    "start_time": "2022-08-26T06:49:19.878Z"
   },
   {
    "duration": 870,
    "start_time": "2022-08-26T06:49:19.918Z"
   },
   {
    "duration": 103,
    "start_time": "2022-08-26T06:49:20.790Z"
   },
   {
    "duration": 126,
    "start_time": "2022-08-26T06:49:20.895Z"
   },
   {
    "duration": 24,
    "start_time": "2022-08-26T06:49:21.022Z"
   },
   {
    "duration": 439,
    "start_time": "2022-08-26T06:49:21.048Z"
   },
   {
    "duration": 39,
    "start_time": "2022-08-26T06:49:21.488Z"
   },
   {
    "duration": 269,
    "start_time": "2022-08-26T06:51:50.557Z"
   },
   {
    "duration": 5,
    "start_time": "2022-08-26T06:52:19.041Z"
   },
   {
    "duration": 7,
    "start_time": "2022-08-26T06:52:19.048Z"
   },
   {
    "duration": 43,
    "start_time": "2022-08-26T06:52:19.056Z"
   },
   {
    "duration": 24,
    "start_time": "2022-08-26T06:52:19.101Z"
   },
   {
    "duration": 5,
    "start_time": "2022-08-26T06:52:19.126Z"
   },
   {
    "duration": 13,
    "start_time": "2022-08-26T06:52:19.133Z"
   },
   {
    "duration": 8,
    "start_time": "2022-08-26T06:52:19.148Z"
   },
   {
    "duration": 43,
    "start_time": "2022-08-26T06:52:19.158Z"
   },
   {
    "duration": 22,
    "start_time": "2022-08-26T06:52:19.203Z"
   },
   {
    "duration": 8,
    "start_time": "2022-08-26T06:52:19.227Z"
   },
   {
    "duration": 6,
    "start_time": "2022-08-26T06:52:19.236Z"
   },
   {
    "duration": 7,
    "start_time": "2022-08-26T06:52:19.243Z"
   },
   {
    "duration": 57,
    "start_time": "2022-08-26T06:52:19.251Z"
   },
   {
    "duration": 34,
    "start_time": "2022-08-26T06:52:19.310Z"
   },
   {
    "duration": 4,
    "start_time": "2022-08-26T06:52:19.345Z"
   },
   {
    "duration": 9,
    "start_time": "2022-08-26T06:52:19.351Z"
   },
   {
    "duration": 44,
    "start_time": "2022-08-26T06:52:19.362Z"
   },
   {
    "duration": 8,
    "start_time": "2022-08-26T06:52:19.408Z"
   },
   {
    "duration": 3,
    "start_time": "2022-08-26T06:52:19.418Z"
   },
   {
    "duration": 221,
    "start_time": "2022-08-26T06:52:19.422Z"
   },
   {
    "duration": 3,
    "start_time": "2022-08-26T06:52:19.645Z"
   },
   {
    "duration": 692,
    "start_time": "2022-08-26T06:52:19.650Z"
   },
   {
    "duration": 25544,
    "start_time": "2022-08-26T06:52:20.344Z"
   },
   {
    "duration": 2,
    "start_time": "2022-08-26T06:52:45.889Z"
   },
   {
    "duration": 232,
    "start_time": "2022-08-26T06:52:45.893Z"
   },
   {
    "duration": 31,
    "start_time": "2022-08-26T06:52:46.126Z"
   },
   {
    "duration": 438,
    "start_time": "2022-08-26T06:52:46.159Z"
   },
   {
    "duration": 14,
    "start_time": "2022-08-26T06:52:46.687Z"
   },
   {
    "duration": 275,
    "start_time": "2022-08-26T06:52:46.703Z"
   },
   {
    "duration": 35,
    "start_time": "2022-08-26T06:52:46.980Z"
   },
   {
    "duration": 773,
    "start_time": "2022-08-26T06:52:47.017Z"
   },
   {
    "duration": 105,
    "start_time": "2022-08-26T06:52:47.792Z"
   },
   {
    "duration": 142,
    "start_time": "2022-08-26T06:52:47.899Z"
   },
   {
    "duration": 22,
    "start_time": "2022-08-26T06:52:48.043Z"
   },
   {
    "duration": 325,
    "start_time": "2022-08-26T06:52:48.067Z"
   },
   {
    "duration": 353,
    "start_time": "2022-08-26T06:52:48.394Z"
   },
   {
    "duration": 46,
    "start_time": "2022-08-26T06:52:48.749Z"
   },
   {
    "duration": 277,
    "start_time": "2022-08-26T06:54:04.705Z"
   },
   {
    "duration": 264,
    "start_time": "2022-08-26T06:56:26.836Z"
   },
   {
    "duration": 265,
    "start_time": "2022-08-26T06:59:47.872Z"
   },
   {
    "duration": 3,
    "start_time": "2022-08-26T07:00:54.946Z"
   },
   {
    "duration": 27,
    "start_time": "2022-08-26T07:06:10.237Z"
   },
   {
    "duration": 5,
    "start_time": "2022-08-26T07:07:29.234Z"
   },
   {
    "duration": 35,
    "start_time": "2022-08-26T07:07:29.242Z"
   },
   {
    "duration": 64,
    "start_time": "2022-08-26T07:07:29.280Z"
   },
   {
    "duration": 34,
    "start_time": "2022-08-26T07:07:29.347Z"
   },
   {
    "duration": 15,
    "start_time": "2022-08-26T07:07:29.383Z"
   },
   {
    "duration": 32,
    "start_time": "2022-08-26T07:07:29.400Z"
   },
   {
    "duration": 21,
    "start_time": "2022-08-26T07:07:29.433Z"
   },
   {
    "duration": 22,
    "start_time": "2022-08-26T07:07:29.456Z"
   },
   {
    "duration": 48,
    "start_time": "2022-08-26T07:07:29.480Z"
   },
   {
    "duration": 18,
    "start_time": "2022-08-26T07:07:29.531Z"
   },
   {
    "duration": 26,
    "start_time": "2022-08-26T07:07:29.551Z"
   },
   {
    "duration": 28,
    "start_time": "2022-08-26T07:07:29.578Z"
   },
   {
    "duration": 75,
    "start_time": "2022-08-26T07:07:29.608Z"
   },
   {
    "duration": 55,
    "start_time": "2022-08-26T07:07:29.686Z"
   },
   {
    "duration": 4,
    "start_time": "2022-08-26T07:07:29.742Z"
   },
   {
    "duration": 26,
    "start_time": "2022-08-26T07:07:29.748Z"
   },
   {
    "duration": 53,
    "start_time": "2022-08-26T07:07:29.787Z"
   },
   {
    "duration": 17,
    "start_time": "2022-08-26T07:07:29.843Z"
   },
   {
    "duration": 18,
    "start_time": "2022-08-26T07:07:29.862Z"
   },
   {
    "duration": 250,
    "start_time": "2022-08-26T07:07:29.881Z"
   },
   {
    "duration": 2,
    "start_time": "2022-08-26T07:07:30.133Z"
   },
   {
    "duration": 713,
    "start_time": "2022-08-26T07:07:30.136Z"
   },
   {
    "duration": 20537,
    "start_time": "2022-08-26T07:07:30.850Z"
   },
   {
    "duration": 3,
    "start_time": "2022-08-26T07:07:51.388Z"
   },
   {
    "duration": 215,
    "start_time": "2022-08-26T07:07:51.393Z"
   },
   {
    "duration": 32,
    "start_time": "2022-08-26T07:07:51.610Z"
   },
   {
    "duration": 448,
    "start_time": "2022-08-26T07:07:51.644Z"
   },
   {
    "duration": 105,
    "start_time": "2022-08-26T07:07:52.097Z"
   },
   {
    "duration": 279,
    "start_time": "2022-08-26T07:07:52.204Z"
   },
   {
    "duration": 33,
    "start_time": "2022-08-26T07:07:52.486Z"
   },
   {
    "duration": 677,
    "start_time": "2022-08-26T07:07:52.520Z"
   },
   {
    "duration": 14,
    "start_time": "2022-08-26T07:07:53.287Z"
   },
   {
    "duration": 144,
    "start_time": "2022-08-26T07:07:53.303Z"
   },
   {
    "duration": 20,
    "start_time": "2022-08-26T07:07:53.449Z"
   },
   {
    "duration": 324,
    "start_time": "2022-08-26T07:07:53.471Z"
   },
   {
    "duration": 361,
    "start_time": "2022-08-26T07:07:53.797Z"
   },
   {
    "duration": 28,
    "start_time": "2022-08-26T07:07:54.159Z"
   },
   {
    "duration": 22,
    "start_time": "2022-08-26T07:08:27.344Z"
   },
   {
    "duration": 23,
    "start_time": "2022-08-26T07:08:34.144Z"
   },
   {
    "duration": 32,
    "start_time": "2022-08-26T07:08:42.678Z"
   },
   {
    "duration": 33,
    "start_time": "2022-08-26T07:08:50.660Z"
   },
   {
    "duration": 32,
    "start_time": "2022-08-26T07:08:58.937Z"
   },
   {
    "duration": 25,
    "start_time": "2022-08-26T07:09:05.370Z"
   },
   {
    "duration": 25,
    "start_time": "2022-08-26T07:09:11.385Z"
   },
   {
    "duration": 22,
    "start_time": "2022-08-26T07:09:17.729Z"
   },
   {
    "duration": 29,
    "start_time": "2022-08-26T07:09:26.403Z"
   },
   {
    "duration": 36,
    "start_time": "2022-08-26T07:16:06.637Z"
   },
   {
    "duration": 17,
    "start_time": "2022-08-26T07:21:57.879Z"
   },
   {
    "duration": 388,
    "start_time": "2022-08-26T07:27:09.007Z"
   },
   {
    "duration": 46,
    "start_time": "2022-08-26T07:27:11.741Z"
   },
   {
    "duration": 3,
    "start_time": "2022-08-26T07:27:51.830Z"
   },
   {
    "duration": 329,
    "start_time": "2022-08-26T07:27:53.700Z"
   },
   {
    "duration": 6,
    "start_time": "2022-08-26T07:29:36.829Z"
   },
   {
    "duration": 159,
    "start_time": "2022-08-26T07:30:47.736Z"
   },
   {
    "duration": 328,
    "start_time": "2022-08-26T07:31:22.259Z"
   },
   {
    "duration": 298,
    "start_time": "2022-08-26T07:34:16.746Z"
   },
   {
    "duration": 157,
    "start_time": "2022-08-26T07:34:50.255Z"
   },
   {
    "duration": 5,
    "start_time": "2022-08-26T07:40:16.143Z"
   },
   {
    "duration": 8,
    "start_time": "2022-08-26T07:40:16.150Z"
   },
   {
    "duration": 43,
    "start_time": "2022-08-26T07:40:16.159Z"
   },
   {
    "duration": 24,
    "start_time": "2022-08-26T07:40:16.204Z"
   },
   {
    "duration": 3,
    "start_time": "2022-08-26T07:40:16.230Z"
   },
   {
    "duration": 59,
    "start_time": "2022-08-26T07:40:16.235Z"
   },
   {
    "duration": 22,
    "start_time": "2022-08-26T07:40:16.297Z"
   },
   {
    "duration": 9,
    "start_time": "2022-08-26T07:40:16.321Z"
   },
   {
    "duration": 27,
    "start_time": "2022-08-26T07:40:16.333Z"
   },
   {
    "duration": 10,
    "start_time": "2022-08-26T07:40:16.362Z"
   },
   {
    "duration": 8,
    "start_time": "2022-08-26T07:40:16.387Z"
   },
   {
    "duration": 13,
    "start_time": "2022-08-26T07:40:16.397Z"
   },
   {
    "duration": 48,
    "start_time": "2022-08-26T07:40:16.411Z"
   },
   {
    "duration": 67,
    "start_time": "2022-08-26T07:40:16.461Z"
   },
   {
    "duration": 5,
    "start_time": "2022-08-26T07:40:16.530Z"
   },
   {
    "duration": 16,
    "start_time": "2022-08-26T07:40:16.538Z"
   },
   {
    "duration": 53,
    "start_time": "2022-08-26T07:40:16.557Z"
   },
   {
    "duration": 9,
    "start_time": "2022-08-26T07:40:16.612Z"
   },
   {
    "duration": 7,
    "start_time": "2022-08-26T07:40:16.622Z"
   },
   {
    "duration": 239,
    "start_time": "2022-08-26T07:40:16.631Z"
   },
   {
    "duration": 3,
    "start_time": "2022-08-26T07:40:16.871Z"
   },
   {
    "duration": 714,
    "start_time": "2022-08-26T07:40:16.875Z"
   },
   {
    "duration": 23197,
    "start_time": "2022-08-26T07:40:17.591Z"
   },
   {
    "duration": 3,
    "start_time": "2022-08-26T07:40:40.793Z"
   },
   {
    "duration": 317,
    "start_time": "2022-08-26T07:40:40.798Z"
   },
   {
    "duration": 169,
    "start_time": "2022-08-26T07:40:41.117Z"
   },
   {
    "duration": 31,
    "start_time": "2022-08-26T07:40:41.288Z"
   },
   {
    "duration": 367,
    "start_time": "2022-08-26T07:40:41.321Z"
   },
   {
    "duration": 322,
    "start_time": "2022-08-26T07:40:41.690Z"
   },
   {
    "duration": 13,
    "start_time": "2022-08-26T07:40:42.014Z"
   },
   {
    "duration": 285,
    "start_time": "2022-08-26T07:40:42.029Z"
   },
   {
    "duration": 174,
    "start_time": "2022-08-26T07:40:42.316Z"
   },
   {
    "duration": 34,
    "start_time": "2022-08-26T07:40:42.492Z"
   },
   {
    "duration": 463,
    "start_time": "2022-08-26T07:40:42.527Z"
   },
   {
    "duration": 98,
    "start_time": "2022-08-26T07:40:42.992Z"
   },
   {
    "duration": 138,
    "start_time": "2022-08-26T07:40:43.091Z"
   },
   {
    "duration": 23,
    "start_time": "2022-08-26T07:40:43.231Z"
   },
   {
    "duration": 431,
    "start_time": "2022-08-26T07:40:43.256Z"
   },
   {
    "duration": 290,
    "start_time": "2022-08-26T07:40:43.689Z"
   },
   {
    "duration": 11,
    "start_time": "2022-08-26T07:40:43.981Z"
   },
   {
    "duration": 0,
    "start_time": "2022-08-26T07:40:43.993Z"
   },
   {
    "duration": 8,
    "start_time": "2022-08-26T07:45:20.114Z"
   },
   {
    "duration": 35,
    "start_time": "2022-08-26T07:45:20.124Z"
   },
   {
    "duration": 53,
    "start_time": "2022-08-26T07:45:20.161Z"
   },
   {
    "duration": 25,
    "start_time": "2022-08-26T07:45:20.216Z"
   },
   {
    "duration": 31,
    "start_time": "2022-08-26T07:45:20.245Z"
   },
   {
    "duration": 34,
    "start_time": "2022-08-26T07:45:20.277Z"
   },
   {
    "duration": 21,
    "start_time": "2022-08-26T07:45:20.312Z"
   },
   {
    "duration": 27,
    "start_time": "2022-08-26T07:45:20.334Z"
   },
   {
    "duration": 23,
    "start_time": "2022-08-26T07:45:20.363Z"
   },
   {
    "duration": 11,
    "start_time": "2022-08-26T07:45:20.388Z"
   },
   {
    "duration": 7,
    "start_time": "2022-08-26T07:45:20.401Z"
   },
   {
    "duration": 15,
    "start_time": "2022-08-26T07:45:20.410Z"
   },
   {
    "duration": 62,
    "start_time": "2022-08-26T07:45:20.427Z"
   },
   {
    "duration": 44,
    "start_time": "2022-08-26T07:45:20.494Z"
   },
   {
    "duration": 5,
    "start_time": "2022-08-26T07:45:20.540Z"
   },
   {
    "duration": 17,
    "start_time": "2022-08-26T07:45:20.547Z"
   },
   {
    "duration": 37,
    "start_time": "2022-08-26T07:45:20.588Z"
   },
   {
    "duration": 12,
    "start_time": "2022-08-26T07:45:20.627Z"
   },
   {
    "duration": 16,
    "start_time": "2022-08-26T07:45:20.640Z"
   },
   {
    "duration": 291,
    "start_time": "2022-08-26T07:45:20.658Z"
   },
   {
    "duration": 3,
    "start_time": "2022-08-26T07:45:20.952Z"
   },
   {
    "duration": 780,
    "start_time": "2022-08-26T07:45:20.957Z"
   },
   {
    "duration": 29254,
    "start_time": "2022-08-26T07:45:21.739Z"
   },
   {
    "duration": 3,
    "start_time": "2022-08-26T07:45:50.996Z"
   },
   {
    "duration": 285,
    "start_time": "2022-08-26T07:45:51.001Z"
   },
   {
    "duration": 168,
    "start_time": "2022-08-26T07:45:51.288Z"
   },
   {
    "duration": 41,
    "start_time": "2022-08-26T07:45:51.458Z"
   },
   {
    "duration": 486,
    "start_time": "2022-08-26T07:45:51.501Z"
   },
   {
    "duration": 343,
    "start_time": "2022-08-26T07:45:51.989Z"
   },
   {
    "duration": 14,
    "start_time": "2022-08-26T07:45:52.334Z"
   },
   {
    "duration": 284,
    "start_time": "2022-08-26T07:45:52.350Z"
   },
   {
    "duration": 173,
    "start_time": "2022-08-26T07:45:52.636Z"
   },
   {
    "duration": 34,
    "start_time": "2022-08-26T07:45:52.812Z"
   },
   {
    "duration": 1140,
    "start_time": "2022-08-26T07:45:52.848Z"
   },
   {
    "duration": 103,
    "start_time": "2022-08-26T07:45:53.991Z"
   },
   {
    "duration": 142,
    "start_time": "2022-08-26T07:45:54.096Z"
   },
   {
    "duration": 22,
    "start_time": "2022-08-26T07:45:54.240Z"
   },
   {
    "duration": 329,
    "start_time": "2022-08-26T07:45:54.264Z"
   },
   {
    "duration": 371,
    "start_time": "2022-08-26T07:45:54.596Z"
   },
   {
    "duration": 10,
    "start_time": "2022-08-26T07:45:54.969Z"
   },
   {
    "duration": 0,
    "start_time": "2022-08-26T07:45:54.987Z"
   },
   {
    "duration": 29,
    "start_time": "2022-08-26T07:46:13.801Z"
   },
   {
    "duration": 6,
    "start_time": "2022-08-26T07:50:18.168Z"
   },
   {
    "duration": 146,
    "start_time": "2022-08-26T07:52:19.966Z"
   },
   {
    "duration": 217,
    "start_time": "2022-08-26T07:59:05.383Z"
   },
   {
    "duration": 209,
    "start_time": "2022-08-26T07:59:55.836Z"
   },
   {
    "duration": 9,
    "start_time": "2022-08-26T08:00:23.288Z"
   },
   {
    "duration": 24,
    "start_time": "2022-08-26T08:02:22.321Z"
   },
   {
    "duration": 148,
    "start_time": "2022-08-26T08:03:00.023Z"
   },
   {
    "duration": 9,
    "start_time": "2022-08-26T08:05:38.711Z"
   },
   {
    "duration": 225,
    "start_time": "2022-08-26T08:05:51.058Z"
   },
   {
    "duration": 5,
    "start_time": "2022-08-26T08:06:57.557Z"
   },
   {
    "duration": 138,
    "start_time": "2022-08-26T08:07:52.941Z"
   },
   {
    "duration": 148,
    "start_time": "2022-08-26T08:09:26.934Z"
   },
   {
    "duration": 162,
    "start_time": "2022-08-26T08:09:40.136Z"
   },
   {
    "duration": 145,
    "start_time": "2022-08-26T08:09:59.582Z"
   },
   {
    "duration": 9,
    "start_time": "2022-08-26T08:15:51.747Z"
   },
   {
    "duration": 5,
    "start_time": "2022-08-26T08:16:36.829Z"
   },
   {
    "duration": 16,
    "start_time": "2022-08-26T08:16:36.836Z"
   },
   {
    "duration": 42,
    "start_time": "2022-08-26T08:16:36.853Z"
   },
   {
    "duration": 21,
    "start_time": "2022-08-26T08:16:36.897Z"
   },
   {
    "duration": 5,
    "start_time": "2022-08-26T08:16:36.920Z"
   },
   {
    "duration": 18,
    "start_time": "2022-08-26T08:16:36.926Z"
   },
   {
    "duration": 11,
    "start_time": "2022-08-26T08:16:36.946Z"
   },
   {
    "duration": 32,
    "start_time": "2022-08-26T08:16:36.958Z"
   },
   {
    "duration": 21,
    "start_time": "2022-08-26T08:16:36.992Z"
   },
   {
    "duration": 8,
    "start_time": "2022-08-26T08:16:37.015Z"
   },
   {
    "duration": 7,
    "start_time": "2022-08-26T08:16:37.025Z"
   },
   {
    "duration": 10,
    "start_time": "2022-08-26T08:16:37.034Z"
   },
   {
    "duration": 50,
    "start_time": "2022-08-26T08:16:37.046Z"
   },
   {
    "duration": 35,
    "start_time": "2022-08-26T08:16:37.098Z"
   },
   {
    "duration": 4,
    "start_time": "2022-08-26T08:16:37.134Z"
   },
   {
    "duration": 12,
    "start_time": "2022-08-26T08:16:37.139Z"
   },
   {
    "duration": 50,
    "start_time": "2022-08-26T08:16:37.152Z"
   },
   {
    "duration": 8,
    "start_time": "2022-08-26T08:16:37.204Z"
   },
   {
    "duration": 3,
    "start_time": "2022-08-26T08:16:37.214Z"
   },
   {
    "duration": 219,
    "start_time": "2022-08-26T08:16:37.218Z"
   },
   {
    "duration": 2,
    "start_time": "2022-08-26T08:16:37.439Z"
   },
   {
    "duration": 708,
    "start_time": "2022-08-26T08:16:37.442Z"
   },
   {
    "duration": 25137,
    "start_time": "2022-08-26T08:16:38.151Z"
   },
   {
    "duration": 3,
    "start_time": "2022-08-26T08:17:03.291Z"
   },
   {
    "duration": 310,
    "start_time": "2022-08-26T08:17:03.296Z"
   },
   {
    "duration": 20,
    "start_time": "2022-08-26T08:17:03.608Z"
   },
   {
    "duration": 165,
    "start_time": "2022-08-26T08:17:03.629Z"
   },
   {
    "duration": 36,
    "start_time": "2022-08-26T08:17:03.797Z"
   },
   {
    "duration": 652,
    "start_time": "2022-08-26T08:17:03.835Z"
   },
   {
    "duration": 328,
    "start_time": "2022-08-26T08:17:04.489Z"
   },
   {
    "duration": 13,
    "start_time": "2022-08-26T08:17:04.819Z"
   },
   {
    "duration": 288,
    "start_time": "2022-08-26T08:17:04.833Z"
   },
   {
    "duration": 165,
    "start_time": "2022-08-26T08:17:05.122Z"
   },
   {
    "duration": 5,
    "start_time": "2022-08-26T08:17:05.289Z"
   },
   {
    "duration": 159,
    "start_time": "2022-08-26T08:17:05.295Z"
   },
   {
    "duration": 39,
    "start_time": "2022-08-26T08:17:05.456Z"
   },
   {
    "duration": 699,
    "start_time": "2022-08-26T08:17:05.496Z"
   },
   {
    "duration": 101,
    "start_time": "2022-08-26T08:17:06.197Z"
   },
   {
    "duration": 178,
    "start_time": "2022-08-26T08:17:06.305Z"
   },
   {
    "duration": 26,
    "start_time": "2022-08-26T08:17:06.489Z"
   },
   {
    "duration": 470,
    "start_time": "2022-08-26T08:17:06.517Z"
   },
   {
    "duration": 292,
    "start_time": "2022-08-26T08:17:06.989Z"
   },
   {
    "duration": 166,
    "start_time": "2022-08-26T08:17:07.286Z"
   },
   {
    "duration": 6,
    "start_time": "2022-08-26T08:17:07.453Z"
   },
   {
    "duration": 187,
    "start_time": "2022-08-26T08:17:07.460Z"
   },
   {
    "duration": 23,
    "start_time": "2022-08-26T08:17:07.649Z"
   },
   {
    "duration": 158,
    "start_time": "2022-08-26T08:18:05.680Z"
   },
   {
    "duration": 159,
    "start_time": "2022-08-26T08:18:39.074Z"
   },
   {
    "duration": 1648,
    "start_time": "2022-08-26T11:15:16.530Z"
   },
   {
    "duration": 2,
    "start_time": "2022-08-26T11:15:18.181Z"
   },
   {
    "duration": 178,
    "start_time": "2022-08-26T11:15:18.185Z"
   },
   {
    "duration": 31,
    "start_time": "2022-08-26T11:15:18.365Z"
   },
   {
    "duration": 4,
    "start_time": "2022-08-26T11:15:18.398Z"
   },
   {
    "duration": 18,
    "start_time": "2022-08-26T11:15:18.403Z"
   },
   {
    "duration": 12,
    "start_time": "2022-08-26T11:15:18.423Z"
   },
   {
    "duration": 10,
    "start_time": "2022-08-26T11:15:18.437Z"
   },
   {
    "duration": 52,
    "start_time": "2022-08-26T11:15:18.449Z"
   },
   {
    "duration": 8,
    "start_time": "2022-08-26T11:15:18.504Z"
   },
   {
    "duration": 15,
    "start_time": "2022-08-26T11:15:18.514Z"
   },
   {
    "duration": 19,
    "start_time": "2022-08-26T11:15:18.531Z"
   },
   {
    "duration": 49,
    "start_time": "2022-08-26T11:15:18.552Z"
   },
   {
    "duration": 43,
    "start_time": "2022-08-26T11:15:18.603Z"
   },
   {
    "duration": 5,
    "start_time": "2022-08-26T11:15:18.648Z"
   },
   {
    "duration": 36,
    "start_time": "2022-08-26T11:15:18.655Z"
   },
   {
    "duration": 32,
    "start_time": "2022-08-26T11:15:18.693Z"
   },
   {
    "duration": 12,
    "start_time": "2022-08-26T11:15:18.726Z"
   },
   {
    "duration": 3,
    "start_time": "2022-08-26T11:15:18.739Z"
   },
   {
    "duration": 265,
    "start_time": "2022-08-26T11:15:18.743Z"
   },
   {
    "duration": 2,
    "start_time": "2022-08-26T11:15:19.010Z"
   },
   {
    "duration": 819,
    "start_time": "2022-08-26T11:15:19.014Z"
   },
   {
    "duration": 143,
    "start_time": "2022-08-26T11:15:19.834Z"
   },
   {
    "duration": 0,
    "start_time": "2022-08-26T11:15:19.980Z"
   },
   {
    "duration": 0,
    "start_time": "2022-08-26T11:15:19.982Z"
   },
   {
    "duration": 0,
    "start_time": "2022-08-26T11:15:19.983Z"
   },
   {
    "duration": 0,
    "start_time": "2022-08-26T11:15:19.984Z"
   },
   {
    "duration": 0,
    "start_time": "2022-08-26T11:15:19.993Z"
   },
   {
    "duration": 0,
    "start_time": "2022-08-26T11:15:19.994Z"
   },
   {
    "duration": 0,
    "start_time": "2022-08-26T11:15:19.996Z"
   },
   {
    "duration": 0,
    "start_time": "2022-08-26T11:15:19.997Z"
   },
   {
    "duration": 0,
    "start_time": "2022-08-26T11:15:19.999Z"
   },
   {
    "duration": 0,
    "start_time": "2022-08-26T11:15:20.000Z"
   },
   {
    "duration": 0,
    "start_time": "2022-08-26T11:15:20.001Z"
   },
   {
    "duration": 0,
    "start_time": "2022-08-26T11:15:20.003Z"
   },
   {
    "duration": 0,
    "start_time": "2022-08-26T11:15:20.004Z"
   },
   {
    "duration": 1,
    "start_time": "2022-08-26T11:15:20.005Z"
   },
   {
    "duration": 0,
    "start_time": "2022-08-26T11:15:20.007Z"
   },
   {
    "duration": 0,
    "start_time": "2022-08-26T11:15:20.009Z"
   },
   {
    "duration": 0,
    "start_time": "2022-08-26T11:15:20.010Z"
   },
   {
    "duration": 0,
    "start_time": "2022-08-26T11:15:20.012Z"
   },
   {
    "duration": 0,
    "start_time": "2022-08-26T11:15:20.013Z"
   },
   {
    "duration": 0,
    "start_time": "2022-08-26T11:15:20.014Z"
   },
   {
    "duration": 0,
    "start_time": "2022-08-26T11:15:20.016Z"
   },
   {
    "duration": 0,
    "start_time": "2022-08-26T11:15:20.017Z"
   },
   {
    "duration": 1,
    "start_time": "2022-08-26T11:15:20.017Z"
   },
   {
    "duration": 5,
    "start_time": "2022-08-26T11:15:30.569Z"
   },
   {
    "duration": 26,
    "start_time": "2022-08-26T11:15:30.576Z"
   },
   {
    "duration": 55,
    "start_time": "2022-08-26T11:15:30.604Z"
   },
   {
    "duration": 25,
    "start_time": "2022-08-26T11:15:30.661Z"
   },
   {
    "duration": 4,
    "start_time": "2022-08-26T11:15:30.688Z"
   },
   {
    "duration": 17,
    "start_time": "2022-08-26T11:15:30.693Z"
   },
   {
    "duration": 36,
    "start_time": "2022-08-26T11:15:30.712Z"
   },
   {
    "duration": 16,
    "start_time": "2022-08-26T11:15:30.749Z"
   },
   {
    "duration": 25,
    "start_time": "2022-08-26T11:15:30.767Z"
   },
   {
    "duration": 9,
    "start_time": "2022-08-26T11:15:30.795Z"
   },
   {
    "duration": 12,
    "start_time": "2022-08-26T11:15:30.805Z"
   },
   {
    "duration": 12,
    "start_time": "2022-08-26T11:15:30.819Z"
   },
   {
    "duration": 44,
    "start_time": "2022-08-26T11:15:30.832Z"
   },
   {
    "duration": 53,
    "start_time": "2022-08-26T11:15:30.877Z"
   },
   {
    "duration": 5,
    "start_time": "2022-08-26T11:15:30.932Z"
   },
   {
    "duration": 23,
    "start_time": "2022-08-26T11:15:30.938Z"
   },
   {
    "duration": 45,
    "start_time": "2022-08-26T11:15:30.963Z"
   },
   {
    "duration": 12,
    "start_time": "2022-08-26T11:15:31.009Z"
   },
   {
    "duration": 31,
    "start_time": "2022-08-26T11:15:31.023Z"
   },
   {
    "duration": 268,
    "start_time": "2022-08-26T11:15:31.056Z"
   },
   {
    "duration": 3,
    "start_time": "2022-08-26T11:15:31.325Z"
   },
   {
    "duration": 838,
    "start_time": "2022-08-26T11:15:31.329Z"
   },
   {
    "duration": 14,
    "start_time": "2022-08-26T11:15:32.168Z"
   },
   {
    "duration": 0,
    "start_time": "2022-08-26T11:15:32.192Z"
   },
   {
    "duration": 0,
    "start_time": "2022-08-26T11:15:32.193Z"
   },
   {
    "duration": 0,
    "start_time": "2022-08-26T11:15:32.194Z"
   },
   {
    "duration": 0,
    "start_time": "2022-08-26T11:15:32.195Z"
   },
   {
    "duration": 0,
    "start_time": "2022-08-26T11:15:32.196Z"
   },
   {
    "duration": 0,
    "start_time": "2022-08-26T11:15:32.197Z"
   },
   {
    "duration": 0,
    "start_time": "2022-08-26T11:15:32.198Z"
   },
   {
    "duration": 0,
    "start_time": "2022-08-26T11:15:32.199Z"
   },
   {
    "duration": 0,
    "start_time": "2022-08-26T11:15:32.200Z"
   },
   {
    "duration": 0,
    "start_time": "2022-08-26T11:15:32.202Z"
   },
   {
    "duration": 0,
    "start_time": "2022-08-26T11:15:32.203Z"
   },
   {
    "duration": 0,
    "start_time": "2022-08-26T11:15:32.204Z"
   },
   {
    "duration": 0,
    "start_time": "2022-08-26T11:15:32.205Z"
   },
   {
    "duration": 0,
    "start_time": "2022-08-26T11:15:32.206Z"
   },
   {
    "duration": 0,
    "start_time": "2022-08-26T11:15:32.208Z"
   },
   {
    "duration": 0,
    "start_time": "2022-08-26T11:15:32.208Z"
   },
   {
    "duration": 0,
    "start_time": "2022-08-26T11:15:32.210Z"
   },
   {
    "duration": 0,
    "start_time": "2022-08-26T11:15:32.211Z"
   },
   {
    "duration": 0,
    "start_time": "2022-08-26T11:15:32.212Z"
   },
   {
    "duration": 0,
    "start_time": "2022-08-26T11:15:32.213Z"
   },
   {
    "duration": 0,
    "start_time": "2022-08-26T11:15:32.214Z"
   },
   {
    "duration": 0,
    "start_time": "2022-08-26T11:15:32.215Z"
   },
   {
    "duration": 1,
    "start_time": "2022-08-26T11:15:32.216Z"
   },
   {
    "duration": 5,
    "start_time": "2022-08-26T11:15:43.517Z"
   },
   {
    "duration": 7,
    "start_time": "2022-08-26T11:15:43.525Z"
   },
   {
    "duration": 44,
    "start_time": "2022-08-26T11:15:43.534Z"
   },
   {
    "duration": 25,
    "start_time": "2022-08-26T11:15:43.580Z"
   },
   {
    "duration": 4,
    "start_time": "2022-08-26T11:15:43.608Z"
   },
   {
    "duration": 15,
    "start_time": "2022-08-26T11:15:43.613Z"
   },
   {
    "duration": 14,
    "start_time": "2022-08-26T11:15:43.630Z"
   },
   {
    "duration": 8,
    "start_time": "2022-08-26T11:15:43.646Z"
   },
   {
    "duration": 49,
    "start_time": "2022-08-26T11:15:43.655Z"
   },
   {
    "duration": 10,
    "start_time": "2022-08-26T11:15:43.706Z"
   },
   {
    "duration": 7,
    "start_time": "2022-08-26T11:15:43.717Z"
   },
   {
    "duration": 9,
    "start_time": "2022-08-26T11:15:43.726Z"
   },
   {
    "duration": 64,
    "start_time": "2022-08-26T11:15:43.737Z"
   },
   {
    "duration": 46,
    "start_time": "2022-08-26T11:15:43.805Z"
   },
   {
    "duration": 6,
    "start_time": "2022-08-26T11:15:43.852Z"
   },
   {
    "duration": 35,
    "start_time": "2022-08-26T11:15:43.859Z"
   },
   {
    "duration": 28,
    "start_time": "2022-08-26T11:15:43.896Z"
   },
   {
    "duration": 10,
    "start_time": "2022-08-26T11:15:43.925Z"
   },
   {
    "duration": 3,
    "start_time": "2022-08-26T11:15:43.937Z"
   },
   {
    "duration": 269,
    "start_time": "2022-08-26T11:15:43.942Z"
   },
   {
    "duration": 3,
    "start_time": "2022-08-26T11:15:44.213Z"
   },
   {
    "duration": 820,
    "start_time": "2022-08-26T11:15:44.218Z"
   },
   {
    "duration": 16,
    "start_time": "2022-08-26T11:15:45.039Z"
   },
   {
    "duration": 0,
    "start_time": "2022-08-26T11:15:45.057Z"
   },
   {
    "duration": 0,
    "start_time": "2022-08-26T11:15:45.058Z"
   },
   {
    "duration": 0,
    "start_time": "2022-08-26T11:15:45.059Z"
   },
   {
    "duration": 0,
    "start_time": "2022-08-26T11:15:45.060Z"
   },
   {
    "duration": 0,
    "start_time": "2022-08-26T11:15:45.062Z"
   },
   {
    "duration": 0,
    "start_time": "2022-08-26T11:15:45.063Z"
   },
   {
    "duration": 0,
    "start_time": "2022-08-26T11:15:45.092Z"
   },
   {
    "duration": 0,
    "start_time": "2022-08-26T11:15:45.093Z"
   },
   {
    "duration": 0,
    "start_time": "2022-08-26T11:15:45.095Z"
   },
   {
    "duration": 0,
    "start_time": "2022-08-26T11:15:45.096Z"
   },
   {
    "duration": 0,
    "start_time": "2022-08-26T11:15:45.097Z"
   },
   {
    "duration": 0,
    "start_time": "2022-08-26T11:15:45.098Z"
   },
   {
    "duration": 0,
    "start_time": "2022-08-26T11:15:45.100Z"
   },
   {
    "duration": 0,
    "start_time": "2022-08-26T11:15:45.102Z"
   },
   {
    "duration": 0,
    "start_time": "2022-08-26T11:15:45.103Z"
   },
   {
    "duration": 0,
    "start_time": "2022-08-26T11:15:45.104Z"
   },
   {
    "duration": 1,
    "start_time": "2022-08-26T11:15:45.105Z"
   },
   {
    "duration": 0,
    "start_time": "2022-08-26T11:15:45.106Z"
   },
   {
    "duration": 0,
    "start_time": "2022-08-26T11:15:45.108Z"
   },
   {
    "duration": 0,
    "start_time": "2022-08-26T11:15:45.109Z"
   },
   {
    "duration": 0,
    "start_time": "2022-08-26T11:15:45.110Z"
   },
   {
    "duration": 0,
    "start_time": "2022-08-26T11:15:45.111Z"
   },
   {
    "duration": 0,
    "start_time": "2022-08-26T11:15:45.113Z"
   },
   {
    "duration": 14,
    "start_time": "2022-08-26T11:17:53.861Z"
   },
   {
    "duration": 13726,
    "start_time": "2022-08-26T11:20:21.672Z"
   },
   {
    "duration": 15,
    "start_time": "2022-08-26T11:21:47.593Z"
   },
   {
    "duration": 27043,
    "start_time": "2022-08-26T11:23:32.855Z"
   },
   {
    "duration": 6,
    "start_time": "2022-08-26T11:24:06.824Z"
   },
   {
    "duration": 29,
    "start_time": "2022-08-26T11:24:06.832Z"
   },
   {
    "duration": 56,
    "start_time": "2022-08-26T11:24:06.863Z"
   },
   {
    "duration": 24,
    "start_time": "2022-08-26T11:24:06.921Z"
   },
   {
    "duration": 7,
    "start_time": "2022-08-26T11:24:06.947Z"
   },
   {
    "duration": 34,
    "start_time": "2022-08-26T11:24:06.955Z"
   },
   {
    "duration": 19,
    "start_time": "2022-08-26T11:24:06.991Z"
   },
   {
    "duration": 20,
    "start_time": "2022-08-26T11:24:07.012Z"
   },
   {
    "duration": 33,
    "start_time": "2022-08-26T11:24:07.034Z"
   },
   {
    "duration": 10,
    "start_time": "2022-08-26T11:24:07.068Z"
   },
   {
    "duration": 15,
    "start_time": "2022-08-26T11:24:07.080Z"
   },
   {
    "duration": 33,
    "start_time": "2022-08-26T11:24:07.096Z"
   },
   {
    "duration": 47,
    "start_time": "2022-08-26T11:24:07.133Z"
   },
   {
    "duration": 39,
    "start_time": "2022-08-26T11:24:07.182Z"
   },
   {
    "duration": 5,
    "start_time": "2022-08-26T11:24:07.223Z"
   },
   {
    "duration": 19,
    "start_time": "2022-08-26T11:24:07.229Z"
   },
   {
    "duration": 44,
    "start_time": "2022-08-26T11:24:07.251Z"
   },
   {
    "duration": 10,
    "start_time": "2022-08-26T11:24:07.297Z"
   },
   {
    "duration": 12,
    "start_time": "2022-08-26T11:24:07.308Z"
   },
   {
    "duration": 271,
    "start_time": "2022-08-26T11:24:07.322Z"
   },
   {
    "duration": 3,
    "start_time": "2022-08-26T11:24:07.595Z"
   },
   {
    "duration": 798,
    "start_time": "2022-08-26T11:24:07.600Z"
   },
   {
    "duration": 28694,
    "start_time": "2022-08-26T11:24:08.400Z"
   },
   {
    "duration": 2,
    "start_time": "2022-08-26T11:24:37.096Z"
   },
   {
    "duration": 236,
    "start_time": "2022-08-26T11:24:37.100Z"
   },
   {
    "duration": 0,
    "start_time": "2022-08-26T11:24:37.337Z"
   },
   {
    "duration": 0,
    "start_time": "2022-08-26T11:24:37.339Z"
   },
   {
    "duration": 0,
    "start_time": "2022-08-26T11:24:37.340Z"
   },
   {
    "duration": 0,
    "start_time": "2022-08-26T11:24:37.341Z"
   },
   {
    "duration": 1,
    "start_time": "2022-08-26T11:24:37.342Z"
   },
   {
    "duration": 0,
    "start_time": "2022-08-26T11:24:37.344Z"
   },
   {
    "duration": 0,
    "start_time": "2022-08-26T11:24:37.345Z"
   },
   {
    "duration": 0,
    "start_time": "2022-08-26T11:24:37.346Z"
   },
   {
    "duration": 0,
    "start_time": "2022-08-26T11:24:37.347Z"
   },
   {
    "duration": 0,
    "start_time": "2022-08-26T11:24:37.349Z"
   },
   {
    "duration": 0,
    "start_time": "2022-08-26T11:24:37.350Z"
   },
   {
    "duration": 0,
    "start_time": "2022-08-26T11:24:37.351Z"
   },
   {
    "duration": 0,
    "start_time": "2022-08-26T11:24:37.352Z"
   },
   {
    "duration": 0,
    "start_time": "2022-08-26T11:24:37.353Z"
   },
   {
    "duration": 0,
    "start_time": "2022-08-26T11:24:37.354Z"
   },
   {
    "duration": 0,
    "start_time": "2022-08-26T11:24:37.356Z"
   },
   {
    "duration": 0,
    "start_time": "2022-08-26T11:24:37.357Z"
   },
   {
    "duration": 0,
    "start_time": "2022-08-26T11:24:37.358Z"
   },
   {
    "duration": 0,
    "start_time": "2022-08-26T11:24:37.392Z"
   },
   {
    "duration": 0,
    "start_time": "2022-08-26T11:24:37.394Z"
   },
   {
    "duration": 0,
    "start_time": "2022-08-26T11:24:37.395Z"
   },
   {
    "duration": 244,
    "start_time": "2022-08-26T11:26:30.655Z"
   },
   {
    "duration": 23,
    "start_time": "2022-08-26T11:26:38.392Z"
   },
   {
    "duration": 173,
    "start_time": "2022-08-26T11:26:39.512Z"
   },
   {
    "duration": 36,
    "start_time": "2022-08-26T11:26:44.595Z"
   },
   {
    "duration": 271,
    "start_time": "2022-08-26T11:26:54.127Z"
   },
   {
    "duration": 7,
    "start_time": "2022-08-26T11:26:57.534Z"
   },
   {
    "duration": 15,
    "start_time": "2022-08-26T11:26:57.544Z"
   },
   {
    "duration": 46,
    "start_time": "2022-08-26T11:26:57.561Z"
   },
   {
    "duration": 25,
    "start_time": "2022-08-26T11:26:57.610Z"
   },
   {
    "duration": 4,
    "start_time": "2022-08-26T11:26:57.636Z"
   },
   {
    "duration": 17,
    "start_time": "2022-08-26T11:26:57.642Z"
   },
   {
    "duration": 44,
    "start_time": "2022-08-26T11:26:57.660Z"
   },
   {
    "duration": 9,
    "start_time": "2022-08-26T11:26:57.707Z"
   },
   {
    "duration": 23,
    "start_time": "2022-08-26T11:26:57.717Z"
   },
   {
    "duration": 9,
    "start_time": "2022-08-26T11:26:57.743Z"
   },
   {
    "duration": 38,
    "start_time": "2022-08-26T11:26:57.753Z"
   },
   {
    "duration": 7,
    "start_time": "2022-08-26T11:26:57.793Z"
   },
   {
    "duration": 35,
    "start_time": "2022-08-26T11:26:57.803Z"
   },
   {
    "duration": 69,
    "start_time": "2022-08-26T11:26:57.840Z"
   },
   {
    "duration": 6,
    "start_time": "2022-08-26T11:26:57.911Z"
   },
   {
    "duration": 26,
    "start_time": "2022-08-26T11:26:57.919Z"
   },
   {
    "duration": 48,
    "start_time": "2022-08-26T11:26:57.947Z"
   },
   {
    "duration": 10,
    "start_time": "2022-08-26T11:26:57.996Z"
   },
   {
    "duration": 3,
    "start_time": "2022-08-26T11:26:58.008Z"
   },
   {
    "duration": 263,
    "start_time": "2022-08-26T11:26:58.012Z"
   },
   {
    "duration": 2,
    "start_time": "2022-08-26T11:26:58.277Z"
   },
   {
    "duration": 822,
    "start_time": "2022-08-26T11:26:58.291Z"
   },
   {
    "duration": 25378,
    "start_time": "2022-08-26T11:26:59.115Z"
   },
   {
    "duration": 4,
    "start_time": "2022-08-26T11:27:24.496Z"
   },
   {
    "duration": 327,
    "start_time": "2022-08-26T11:27:24.501Z"
   },
   {
    "duration": 21,
    "start_time": "2022-08-26T11:27:24.830Z"
   },
   {
    "duration": 169,
    "start_time": "2022-08-26T11:27:24.852Z"
   },
   {
    "duration": 34,
    "start_time": "2022-08-26T11:27:25.025Z"
   },
   {
    "duration": 532,
    "start_time": "2022-08-26T11:27:25.061Z"
   },
   {
    "duration": 418,
    "start_time": "2022-08-26T11:27:25.595Z"
   },
   {
    "duration": 15,
    "start_time": "2022-08-26T11:27:26.016Z"
   },
   {
    "duration": 311,
    "start_time": "2022-08-26T11:27:26.033Z"
   },
   {
    "duration": 179,
    "start_time": "2022-08-26T11:27:26.346Z"
   },
   {
    "duration": 6,
    "start_time": "2022-08-26T11:27:26.526Z"
   },
   {
    "duration": 175,
    "start_time": "2022-08-26T11:27:26.533Z"
   },
   {
    "duration": 39,
    "start_time": "2022-08-26T11:27:26.710Z"
   },
   {
    "duration": 850,
    "start_time": "2022-08-26T11:27:26.751Z"
   },
   {
    "duration": 16,
    "start_time": "2022-08-26T11:27:27.693Z"
   },
   {
    "duration": 154,
    "start_time": "2022-08-26T11:27:27.711Z"
   },
   {
    "duration": 37,
    "start_time": "2022-08-26T11:27:27.867Z"
   },
   {
    "duration": 387,
    "start_time": "2022-08-26T11:27:27.906Z"
   },
   {
    "duration": 392,
    "start_time": "2022-08-26T11:27:28.295Z"
   },
   {
    "duration": 183,
    "start_time": "2022-08-26T11:27:28.691Z"
   },
   {
    "duration": 6,
    "start_time": "2022-08-26T11:27:28.876Z"
   },
   {
    "duration": 174,
    "start_time": "2022-08-26T11:27:28.892Z"
   },
   {
    "duration": 34,
    "start_time": "2022-08-26T11:27:29.068Z"
   },
   {
    "duration": 4,
    "start_time": "2022-08-26T11:37:24.397Z"
   },
   {
    "duration": 35,
    "start_time": "2022-08-26T11:39:05.553Z"
   },
   {
    "duration": 11,
    "start_time": "2022-08-26T11:39:09.699Z"
   },
   {
    "duration": 36,
    "start_time": "2022-08-26T11:40:07.118Z"
   },
   {
    "duration": 315,
    "start_time": "2022-08-26T11:41:36.777Z"
   },
   {
    "duration": 3,
    "start_time": "2022-08-26T11:43:56.945Z"
   },
   {
    "duration": 341,
    "start_time": "2022-08-26T11:44:00.954Z"
   },
   {
    "duration": 2,
    "start_time": "2022-08-26T11:45:18.561Z"
   },
   {
    "duration": 32,
    "start_time": "2022-08-26T11:45:22.285Z"
   },
   {
    "duration": 441,
    "start_time": "2022-08-26T11:45:44.151Z"
   },
   {
    "duration": 4,
    "start_time": "2022-08-26T11:46:39.417Z"
   },
   {
    "duration": 4,
    "start_time": "2022-08-26T11:49:10.039Z"
   },
   {
    "duration": 220,
    "start_time": "2022-08-26T11:49:34.752Z"
   },
   {
    "duration": 769,
    "start_time": "2022-08-26T11:51:37.481Z"
   },
   {
    "duration": 6,
    "start_time": "2022-08-26T11:51:50.264Z"
   },
   {
    "duration": 19,
    "start_time": "2022-08-26T11:51:50.273Z"
   },
   {
    "duration": 52,
    "start_time": "2022-08-26T11:51:50.294Z"
   },
   {
    "duration": 28,
    "start_time": "2022-08-26T11:51:50.348Z"
   },
   {
    "duration": 14,
    "start_time": "2022-08-26T11:51:50.377Z"
   },
   {
    "duration": 23,
    "start_time": "2022-08-26T11:51:50.394Z"
   },
   {
    "duration": 28,
    "start_time": "2022-08-26T11:51:50.419Z"
   },
   {
    "duration": 26,
    "start_time": "2022-08-26T11:51:50.449Z"
   },
   {
    "duration": 38,
    "start_time": "2022-08-26T11:51:50.476Z"
   },
   {
    "duration": 10,
    "start_time": "2022-08-26T11:51:50.517Z"
   },
   {
    "duration": 17,
    "start_time": "2022-08-26T11:51:50.528Z"
   },
   {
    "duration": 23,
    "start_time": "2022-08-26T11:51:50.547Z"
   },
   {
    "duration": 44,
    "start_time": "2022-08-26T11:51:50.572Z"
   },
   {
    "duration": 57,
    "start_time": "2022-08-26T11:51:50.618Z"
   },
   {
    "duration": 6,
    "start_time": "2022-08-26T11:51:50.676Z"
   },
   {
    "duration": 16,
    "start_time": "2022-08-26T11:51:50.692Z"
   },
   {
    "duration": 46,
    "start_time": "2022-08-26T11:51:50.710Z"
   },
   {
    "duration": 10,
    "start_time": "2022-08-26T11:51:50.757Z"
   },
   {
    "duration": 13,
    "start_time": "2022-08-26T11:51:50.769Z"
   },
   {
    "duration": 228,
    "start_time": "2022-08-26T11:51:50.784Z"
   },
   {
    "duration": 4,
    "start_time": "2022-08-26T11:51:51.014Z"
   },
   {
    "duration": 19,
    "start_time": "2022-08-26T11:51:51.020Z"
   },
   {
    "duration": 243,
    "start_time": "2022-08-26T11:51:51.041Z"
   },
   {
    "duration": 833,
    "start_time": "2022-08-26T11:51:51.286Z"
   },
   {
    "duration": 26872,
    "start_time": "2022-08-26T11:51:52.121Z"
   },
   {
    "duration": 2,
    "start_time": "2022-08-26T11:52:18.996Z"
   },
   {
    "duration": 323,
    "start_time": "2022-08-26T11:52:19.000Z"
   },
   {
    "duration": 25,
    "start_time": "2022-08-26T11:52:19.327Z"
   },
   {
    "duration": 190,
    "start_time": "2022-08-26T11:52:19.354Z"
   },
   {
    "duration": 3,
    "start_time": "2022-08-26T11:52:19.546Z"
   },
   {
    "duration": 46,
    "start_time": "2022-08-26T11:52:19.551Z"
   },
   {
    "duration": 3,
    "start_time": "2022-08-26T11:52:19.599Z"
   },
   {
    "duration": 489,
    "start_time": "2022-08-26T11:52:19.604Z"
   },
   {
    "duration": 438,
    "start_time": "2022-08-26T11:52:20.096Z"
   },
   {
    "duration": 16,
    "start_time": "2022-08-26T11:52:20.536Z"
   },
   {
    "duration": 342,
    "start_time": "2022-08-26T11:52:20.554Z"
   },
   {
    "duration": 189,
    "start_time": "2022-08-26T11:52:20.898Z"
   },
   {
    "duration": 6,
    "start_time": "2022-08-26T11:52:21.091Z"
   },
   {
    "duration": 186,
    "start_time": "2022-08-26T11:52:21.099Z"
   },
   {
    "duration": 37,
    "start_time": "2022-08-26T11:52:21.292Z"
   },
   {
    "duration": 861,
    "start_time": "2022-08-26T11:52:21.331Z"
   },
   {
    "duration": 20,
    "start_time": "2022-08-26T11:52:22.194Z"
   },
   {
    "duration": 174,
    "start_time": "2022-08-26T11:52:22.216Z"
   },
   {
    "duration": 34,
    "start_time": "2022-08-26T11:52:22.392Z"
   },
   {
    "duration": 463,
    "start_time": "2022-08-26T11:52:22.429Z"
   },
   {
    "duration": 322,
    "start_time": "2022-08-26T11:52:22.894Z"
   },
   {
    "duration": 195,
    "start_time": "2022-08-26T11:52:23.218Z"
   },
   {
    "duration": 6,
    "start_time": "2022-08-26T11:52:23.415Z"
   },
   {
    "duration": 180,
    "start_time": "2022-08-26T11:52:23.422Z"
   },
   {
    "duration": 26,
    "start_time": "2022-08-26T11:52:23.604Z"
   },
   {
    "duration": 26992,
    "start_time": "2022-08-26T11:55:14.312Z"
   },
   {
    "duration": 207,
    "start_time": "2022-08-26T11:56:46.093Z"
   },
   {
    "duration": 242,
    "start_time": "2022-08-26T11:57:11.944Z"
   },
   {
    "duration": 24,
    "start_time": "2022-08-26T11:59:01.140Z"
   },
   {
    "duration": 38,
    "start_time": "2022-08-26T11:59:32.007Z"
   },
   {
    "duration": 2,
    "start_time": "2022-08-26T11:59:54.600Z"
   },
   {
    "duration": 420,
    "start_time": "2022-08-26T11:59:56.380Z"
   },
   {
    "duration": 280,
    "start_time": "2022-08-26T12:00:42.119Z"
   },
   {
    "duration": 38,
    "start_time": "2022-08-26T12:01:30.047Z"
   },
   {
    "duration": 787,
    "start_time": "2022-08-26T12:02:39.711Z"
   },
   {
    "duration": 125,
    "start_time": "2022-08-26T12:03:40.480Z"
   },
   {
    "duration": 21,
    "start_time": "2022-08-26T12:04:27.761Z"
   },
   {
    "duration": 318,
    "start_time": "2022-08-26T12:05:00.775Z"
   },
   {
    "duration": 317,
    "start_time": "2022-08-26T12:05:36.923Z"
   },
   {
    "duration": 16,
    "start_time": "2022-08-26T12:11:55.988Z"
   },
   {
    "duration": 298,
    "start_time": "2022-08-26T12:12:20.179Z"
   },
   {
    "duration": 37,
    "start_time": "2022-08-26T12:12:45.510Z"
   },
   {
    "duration": 28,
    "start_time": "2022-08-26T12:13:45.241Z"
   },
   {
    "duration": 40,
    "start_time": "2022-08-26T12:13:55.084Z"
   },
   {
    "duration": 103,
    "start_time": "2022-08-26T12:14:01.554Z"
   },
   {
    "duration": 390,
    "start_time": "2022-08-26T12:14:05.366Z"
   },
   {
    "duration": 6,
    "start_time": "2022-08-26T12:14:18.723Z"
   },
   {
    "duration": 12,
    "start_time": "2022-08-26T12:14:18.732Z"
   },
   {
    "duration": 44,
    "start_time": "2022-08-26T12:14:18.746Z"
   },
   {
    "duration": 27,
    "start_time": "2022-08-26T12:14:18.792Z"
   },
   {
    "duration": 6,
    "start_time": "2022-08-26T12:14:18.821Z"
   },
   {
    "duration": 14,
    "start_time": "2022-08-26T12:14:18.828Z"
   },
   {
    "duration": 49,
    "start_time": "2022-08-26T12:14:18.844Z"
   },
   {
    "duration": 10,
    "start_time": "2022-08-26T12:14:18.895Z"
   },
   {
    "duration": 24,
    "start_time": "2022-08-26T12:14:18.908Z"
   },
   {
    "duration": 10,
    "start_time": "2022-08-26T12:14:18.935Z"
   },
   {
    "duration": 8,
    "start_time": "2022-08-26T12:14:18.947Z"
   },
   {
    "duration": 41,
    "start_time": "2022-08-26T12:14:18.956Z"
   },
   {
    "duration": 43,
    "start_time": "2022-08-26T12:14:18.999Z"
   },
   {
    "duration": 58,
    "start_time": "2022-08-26T12:14:19.044Z"
   },
   {
    "duration": 5,
    "start_time": "2022-08-26T12:14:19.104Z"
   },
   {
    "duration": 17,
    "start_time": "2022-08-26T12:14:19.110Z"
   },
   {
    "duration": 28,
    "start_time": "2022-08-26T12:14:19.129Z"
   },
   {
    "duration": 40,
    "start_time": "2022-08-26T12:14:19.159Z"
   },
   {
    "duration": 3,
    "start_time": "2022-08-26T12:14:19.201Z"
   },
   {
    "duration": 259,
    "start_time": "2022-08-26T12:14:19.207Z"
   },
   {
    "duration": 4,
    "start_time": "2022-08-26T12:14:19.467Z"
   },
   {
    "duration": 5,
    "start_time": "2022-08-26T12:14:19.473Z"
   },
   {
    "duration": 247,
    "start_time": "2022-08-26T12:14:19.480Z"
   },
   {
    "duration": 808,
    "start_time": "2022-08-26T12:14:19.729Z"
   },
   {
    "duration": 24155,
    "start_time": "2022-08-26T12:14:20.539Z"
   },
   {
    "duration": 3,
    "start_time": "2022-08-26T12:14:44.696Z"
   },
   {
    "duration": 313,
    "start_time": "2022-08-26T12:14:44.702Z"
   },
   {
    "duration": 24,
    "start_time": "2022-08-26T12:14:45.019Z"
   },
   {
    "duration": 177,
    "start_time": "2022-08-26T12:14:45.044Z"
   },
   {
    "duration": 3,
    "start_time": "2022-08-26T12:14:45.222Z"
   },
   {
    "duration": 43,
    "start_time": "2022-08-26T12:14:45.227Z"
   },
   {
    "duration": 3,
    "start_time": "2022-08-26T12:14:45.272Z"
   },
   {
    "duration": 505,
    "start_time": "2022-08-26T12:14:45.292Z"
   },
   {
    "duration": 520,
    "start_time": "2022-08-26T12:14:45.800Z"
   },
   {
    "duration": 15,
    "start_time": "2022-08-26T12:14:46.322Z"
   },
   {
    "duration": 16,
    "start_time": "2022-08-26T12:14:46.339Z"
   },
   {
    "duration": 331,
    "start_time": "2022-08-26T12:14:46.357Z"
   },
   {
    "duration": 206,
    "start_time": "2022-08-26T12:14:46.691Z"
   },
   {
    "duration": 7,
    "start_time": "2022-08-26T12:14:46.901Z"
   },
   {
    "duration": 167,
    "start_time": "2022-08-26T12:14:46.911Z"
   },
   {
    "duration": 41,
    "start_time": "2022-08-26T12:14:47.080Z"
   },
   {
    "duration": 770,
    "start_time": "2022-08-26T12:14:47.123Z"
   },
   {
    "duration": 106,
    "start_time": "2022-08-26T12:14:47.898Z"
   },
   {
    "duration": 209,
    "start_time": "2022-08-26T12:14:48.006Z"
   },
   {
    "duration": 29,
    "start_time": "2022-08-26T12:14:48.217Z"
   },
   {
    "duration": 352,
    "start_time": "2022-08-26T12:14:48.247Z"
   },
   {
    "duration": 406,
    "start_time": "2022-08-26T12:14:48.601Z"
   },
   {
    "duration": 185,
    "start_time": "2022-08-26T12:14:49.009Z"
   },
   {
    "duration": 7,
    "start_time": "2022-08-26T12:14:49.196Z"
   },
   {
    "duration": 188,
    "start_time": "2022-08-26T12:14:49.205Z"
   },
   {
    "duration": 31,
    "start_time": "2022-08-26T12:14:49.396Z"
   },
   {
    "duration": 322,
    "start_time": "2022-08-26T12:19:38.529Z"
   },
   {
    "duration": 325,
    "start_time": "2022-08-26T12:20:12.491Z"
   },
   {
    "duration": 1081,
    "start_time": "2022-08-26T12:21:01.268Z"
   },
   {
    "duration": 346,
    "start_time": "2022-08-26T12:22:03.390Z"
   },
   {
    "duration": 44,
    "start_time": "2022-08-26T12:23:29.259Z"
   },
   {
    "duration": 43,
    "start_time": "2022-08-26T12:24:12.634Z"
   },
   {
    "duration": 356,
    "start_time": "2022-08-26T12:24:53.262Z"
   },
   {
    "duration": 374,
    "start_time": "2022-08-26T12:25:57.088Z"
   },
   {
    "duration": 43,
    "start_time": "2022-08-26T12:26:41.516Z"
   },
   {
    "duration": 618,
    "start_time": "2022-08-26T12:27:26.077Z"
   },
   {
    "duration": 19,
    "start_time": "2022-08-26T12:28:00.733Z"
   },
   {
    "duration": 21,
    "start_time": "2022-08-26T12:28:11.655Z"
   },
   {
    "duration": 252,
    "start_time": "2022-08-26T12:30:30.580Z"
   },
   {
    "duration": 18,
    "start_time": "2022-08-26T12:30:45.004Z"
   },
   {
    "duration": 46,
    "start_time": "2022-08-26T12:31:51.987Z"
   },
   {
    "duration": 1267,
    "start_time": "2022-08-26T12:32:26.924Z"
   },
   {
    "duration": 572,
    "start_time": "2022-08-26T12:32:37.992Z"
   },
   {
    "duration": 619,
    "start_time": "2022-08-26T12:32:51.548Z"
   },
   {
    "duration": 36,
    "start_time": "2022-08-26T12:33:05.503Z"
   },
   {
    "duration": 7,
    "start_time": "2022-08-26T12:34:07.245Z"
   },
   {
    "duration": 16,
    "start_time": "2022-08-26T12:34:07.254Z"
   },
   {
    "duration": 58,
    "start_time": "2022-08-26T12:34:07.272Z"
   },
   {
    "duration": 30,
    "start_time": "2022-08-26T12:34:07.332Z"
   },
   {
    "duration": 4,
    "start_time": "2022-08-26T12:34:07.364Z"
   },
   {
    "duration": 41,
    "start_time": "2022-08-26T12:34:07.370Z"
   },
   {
    "duration": 11,
    "start_time": "2022-08-26T12:34:07.412Z"
   },
   {
    "duration": 9,
    "start_time": "2022-08-26T12:34:07.424Z"
   },
   {
    "duration": 27,
    "start_time": "2022-08-26T12:34:07.436Z"
   },
   {
    "duration": 19,
    "start_time": "2022-08-26T12:34:07.493Z"
   },
   {
    "duration": 33,
    "start_time": "2022-08-26T12:34:07.514Z"
   },
   {
    "duration": 14,
    "start_time": "2022-08-26T12:34:07.549Z"
   },
   {
    "duration": 68,
    "start_time": "2022-08-26T12:34:07.566Z"
   },
   {
    "duration": 69,
    "start_time": "2022-08-26T12:34:07.636Z"
   },
   {
    "duration": 7,
    "start_time": "2022-08-26T12:34:07.711Z"
   },
   {
    "duration": 17,
    "start_time": "2022-08-26T12:34:07.720Z"
   },
   {
    "duration": 58,
    "start_time": "2022-08-26T12:34:07.739Z"
   },
   {
    "duration": 18,
    "start_time": "2022-08-26T12:34:07.801Z"
   },
   {
    "duration": 3,
    "start_time": "2022-08-26T12:34:07.822Z"
   },
   {
    "duration": 291,
    "start_time": "2022-08-26T12:34:07.827Z"
   },
   {
    "duration": 3,
    "start_time": "2022-08-26T12:34:08.119Z"
   },
   {
    "duration": 934,
    "start_time": "2022-08-26T12:34:08.124Z"
   },
   {
    "duration": 52549,
    "start_time": "2022-08-26T12:34:09.060Z"
   },
   {
    "duration": 82,
    "start_time": "2022-08-26T12:35:01.615Z"
   },
   {
    "duration": 315,
    "start_time": "2022-08-26T12:35:01.707Z"
   },
   {
    "duration": 34,
    "start_time": "2022-08-26T12:35:02.031Z"
   },
   {
    "duration": 239,
    "start_time": "2022-08-26T12:35:02.068Z"
   },
   {
    "duration": 35,
    "start_time": "2022-08-26T12:35:02.311Z"
   },
   {
    "duration": 1151,
    "start_time": "2022-08-26T12:35:02.347Z"
   },
   {
    "duration": 454,
    "start_time": "2022-08-26T12:35:03.500Z"
   },
   {
    "duration": 18,
    "start_time": "2022-08-26T12:35:03.957Z"
   },
   {
    "duration": 365,
    "start_time": "2022-08-26T12:35:03.978Z"
   },
   {
    "duration": 220,
    "start_time": "2022-08-26T12:35:04.345Z"
   },
   {
    "duration": 6,
    "start_time": "2022-08-26T12:35:04.567Z"
   },
   {
    "duration": 193,
    "start_time": "2022-08-26T12:35:04.575Z"
   },
   {
    "duration": 66,
    "start_time": "2022-08-26T12:35:04.771Z"
   },
   {
    "duration": 2553,
    "start_time": "2022-08-26T12:35:04.839Z"
   },
   {
    "duration": 22,
    "start_time": "2022-08-26T12:35:07.395Z"
   },
   {
    "duration": 228,
    "start_time": "2022-08-26T12:35:07.425Z"
   },
   {
    "duration": 41,
    "start_time": "2022-08-26T12:35:07.655Z"
   },
   {
    "duration": 897,
    "start_time": "2022-08-26T12:35:07.700Z"
   },
   {
    "duration": 406,
    "start_time": "2022-08-26T12:35:08.607Z"
   },
   {
    "duration": 192,
    "start_time": "2022-08-26T12:35:09.015Z"
   },
   {
    "duration": 7,
    "start_time": "2022-08-26T12:35:09.212Z"
   },
   {
    "duration": 214,
    "start_time": "2022-08-26T12:35:09.221Z"
   },
   {
    "duration": 30,
    "start_time": "2022-08-26T12:35:09.437Z"
   },
   {
    "duration": 18,
    "start_time": "2022-08-26T12:37:24.646Z"
   },
   {
    "duration": 18,
    "start_time": "2022-08-26T12:39:22.641Z"
   },
   {
    "duration": 28996,
    "start_time": "2022-08-26T12:41:36.603Z"
   },
   {
    "duration": 1700,
    "start_time": "2022-08-27T04:44:56.223Z"
   },
   {
    "duration": 3,
    "start_time": "2022-08-27T04:44:57.927Z"
   },
   {
    "duration": 115,
    "start_time": "2022-08-27T04:44:57.932Z"
   },
   {
    "duration": 32,
    "start_time": "2022-08-27T04:44:58.050Z"
   },
   {
    "duration": 4,
    "start_time": "2022-08-27T04:44:58.085Z"
   },
   {
    "duration": 36,
    "start_time": "2022-08-27T04:44:58.091Z"
   },
   {
    "duration": 9,
    "start_time": "2022-08-27T04:44:58.129Z"
   },
   {
    "duration": 8,
    "start_time": "2022-08-27T04:44:58.140Z"
   },
   {
    "duration": 22,
    "start_time": "2022-08-27T04:44:58.150Z"
   },
   {
    "duration": 38,
    "start_time": "2022-08-27T04:44:58.175Z"
   },
   {
    "duration": 9,
    "start_time": "2022-08-27T04:44:58.215Z"
   },
   {
    "duration": 12,
    "start_time": "2022-08-27T04:44:58.225Z"
   },
   {
    "duration": 37,
    "start_time": "2022-08-27T04:44:58.238Z"
   },
   {
    "duration": 67,
    "start_time": "2022-08-27T04:44:58.277Z"
   },
   {
    "duration": 4,
    "start_time": "2022-08-27T04:44:58.346Z"
   },
   {
    "duration": 14,
    "start_time": "2022-08-27T04:44:58.352Z"
   },
   {
    "duration": 62,
    "start_time": "2022-08-27T04:44:58.367Z"
   },
   {
    "duration": 12,
    "start_time": "2022-08-27T04:44:58.433Z"
   },
   {
    "duration": 3,
    "start_time": "2022-08-27T04:44:58.447Z"
   },
   {
    "duration": 247,
    "start_time": "2022-08-27T04:44:58.452Z"
   },
   {
    "duration": 8,
    "start_time": "2022-08-27T04:44:58.701Z"
   },
   {
    "duration": 749,
    "start_time": "2022-08-27T04:44:58.711Z"
   },
   {
    "duration": 11068,
    "start_time": "2022-08-27T04:44:59.462Z"
   },
   {
    "duration": 4,
    "start_time": "2022-08-27T04:45:10.614Z"
   },
   {
    "duration": 331,
    "start_time": "2022-08-27T04:45:10.620Z"
   },
   {
    "duration": 23,
    "start_time": "2022-08-27T04:45:10.953Z"
   },
   {
    "duration": 186,
    "start_time": "2022-08-27T04:45:10.978Z"
   },
   {
    "duration": 45,
    "start_time": "2022-08-27T04:45:11.168Z"
   },
   {
    "duration": 695,
    "start_time": "2022-08-27T04:45:11.215Z"
   },
   {
    "duration": 336,
    "start_time": "2022-08-27T04:45:11.912Z"
   },
   {
    "duration": 16,
    "start_time": "2022-08-27T04:45:12.250Z"
   },
   {
    "duration": 306,
    "start_time": "2022-08-27T04:45:12.267Z"
   },
   {
    "duration": 187,
    "start_time": "2022-08-27T04:45:12.575Z"
   },
   {
    "duration": 7,
    "start_time": "2022-08-27T04:45:12.764Z"
   },
   {
    "duration": 260,
    "start_time": "2022-08-27T04:45:12.772Z"
   },
   {
    "duration": 36,
    "start_time": "2022-08-27T04:45:13.033Z"
   },
   {
    "duration": 1060,
    "start_time": "2022-08-27T04:45:13.071Z"
   },
   {
    "duration": 15,
    "start_time": "2022-08-27T04:45:14.134Z"
   },
   {
    "duration": 178,
    "start_time": "2022-08-27T04:45:14.150Z"
   },
   {
    "duration": 24,
    "start_time": "2022-08-27T04:45:14.330Z"
   },
   {
    "duration": 270,
    "start_time": "2022-08-27T04:45:14.356Z"
   },
   {
    "duration": 321,
    "start_time": "2022-08-27T04:45:14.710Z"
   },
   {
    "duration": 176,
    "start_time": "2022-08-27T04:45:15.033Z"
   },
   {
    "duration": 7,
    "start_time": "2022-08-27T04:45:15.212Z"
   },
   {
    "duration": 176,
    "start_time": "2022-08-27T04:45:15.221Z"
   },
   {
    "duration": 34,
    "start_time": "2022-08-27T04:45:15.400Z"
   },
   {
    "duration": 21,
    "start_time": "2022-08-27T05:24:39.324Z"
   },
   {
    "duration": 24,
    "start_time": "2022-08-27T05:24:57.545Z"
   },
   {
    "duration": 30,
    "start_time": "2022-08-27T05:25:05.899Z"
   },
   {
    "duration": 164,
    "start_time": "2022-08-27T05:42:13.033Z"
   },
   {
    "duration": 21,
    "start_time": "2022-08-27T05:59:15.854Z"
   },
   {
    "duration": 164,
    "start_time": "2022-08-27T05:59:36.461Z"
   },
   {
    "duration": 5,
    "start_time": "2022-08-27T05:59:43.951Z"
   },
   {
    "duration": 174,
    "start_time": "2022-08-27T06:01:46.355Z"
   },
   {
    "duration": 155,
    "start_time": "2022-08-27T06:02:46.571Z"
   },
   {
    "duration": 172,
    "start_time": "2022-08-27T06:17:29.404Z"
   },
   {
    "duration": 169,
    "start_time": "2022-08-27T06:18:12.799Z"
   },
   {
    "duration": 21,
    "start_time": "2022-08-27T06:20:16.985Z"
   },
   {
    "duration": 23,
    "start_time": "2022-08-27T06:20:44.627Z"
   },
   {
    "duration": 7,
    "start_time": "2022-08-27T06:22:11.039Z"
   },
   {
    "duration": 7,
    "start_time": "2022-08-27T06:23:18.638Z"
   },
   {
    "duration": 779,
    "start_time": "2022-08-27T06:24:44.230Z"
   },
   {
    "duration": 7,
    "start_time": "2022-08-27T06:24:50.778Z"
   },
   {
    "duration": 1845,
    "start_time": "2022-08-27T06:25:06.237Z"
   },
   {
    "duration": 48,
    "start_time": "2022-08-27T06:26:20.724Z"
   },
   {
    "duration": 35,
    "start_time": "2022-08-27T06:26:49.098Z"
   },
   {
    "duration": 716,
    "start_time": "2022-08-27T06:27:20.284Z"
   },
   {
    "duration": 5,
    "start_time": "2022-08-27T06:28:36.250Z"
   },
   {
    "duration": 8,
    "start_time": "2022-08-27T06:28:36.259Z"
   },
   {
    "duration": 52,
    "start_time": "2022-08-27T06:28:36.269Z"
   },
   {
    "duration": 32,
    "start_time": "2022-08-27T06:28:36.322Z"
   },
   {
    "duration": 4,
    "start_time": "2022-08-27T06:28:36.356Z"
   },
   {
    "duration": 48,
    "start_time": "2022-08-27T06:28:36.362Z"
   },
   {
    "duration": 10,
    "start_time": "2022-08-27T06:28:36.412Z"
   },
   {
    "duration": 15,
    "start_time": "2022-08-27T06:28:36.424Z"
   },
   {
    "duration": 22,
    "start_time": "2022-08-27T06:28:36.440Z"
   },
   {
    "duration": 10,
    "start_time": "2022-08-27T06:28:36.463Z"
   },
   {
    "duration": 38,
    "start_time": "2022-08-27T06:28:36.474Z"
   },
   {
    "duration": 13,
    "start_time": "2022-08-27T06:28:36.514Z"
   },
   {
    "duration": 36,
    "start_time": "2022-08-27T06:28:36.528Z"
   },
   {
    "duration": 53,
    "start_time": "2022-08-27T06:28:36.567Z"
   },
   {
    "duration": 5,
    "start_time": "2022-08-27T06:28:36.622Z"
   },
   {
    "duration": 11,
    "start_time": "2022-08-27T06:28:36.629Z"
   },
   {
    "duration": 33,
    "start_time": "2022-08-27T06:28:36.642Z"
   },
   {
    "duration": 38,
    "start_time": "2022-08-27T06:28:36.678Z"
   },
   {
    "duration": 3,
    "start_time": "2022-08-27T06:28:36.718Z"
   },
   {
    "duration": 246,
    "start_time": "2022-08-27T06:28:36.723Z"
   },
   {
    "duration": 20,
    "start_time": "2022-08-27T06:28:36.971Z"
   },
   {
    "duration": 2,
    "start_time": "2022-08-27T06:28:36.993Z"
   },
   {
    "duration": 841,
    "start_time": "2022-08-27T06:28:37.011Z"
   },
   {
    "duration": 8,
    "start_time": "2022-08-27T06:28:37.854Z"
   },
   {
    "duration": 16247,
    "start_time": "2022-08-27T06:28:37.863Z"
   },
   {
    "duration": 93,
    "start_time": "2022-08-27T06:28:54.115Z"
   },
   {
    "duration": 94,
    "start_time": "2022-08-27T06:28:54.215Z"
   },
   {
    "duration": 222,
    "start_time": "2022-08-27T06:28:54.311Z"
   },
   {
    "duration": 21,
    "start_time": "2022-08-27T06:28:54.535Z"
   },
   {
    "duration": 165,
    "start_time": "2022-08-27T06:28:54.558Z"
   },
   {
    "duration": 31,
    "start_time": "2022-08-27T06:28:54.724Z"
   },
   {
    "duration": 553,
    "start_time": "2022-08-27T06:28:54.757Z"
   },
   {
    "duration": 329,
    "start_time": "2022-08-27T06:28:55.312Z"
   },
   {
    "duration": 15,
    "start_time": "2022-08-27T06:28:55.643Z"
   },
   {
    "duration": 339,
    "start_time": "2022-08-27T06:28:55.659Z"
   },
   {
    "duration": 184,
    "start_time": "2022-08-27T06:28:56.000Z"
   },
   {
    "duration": 6,
    "start_time": "2022-08-27T06:28:56.185Z"
   },
   {
    "duration": 162,
    "start_time": "2022-08-27T06:28:56.193Z"
   },
   {
    "duration": 37,
    "start_time": "2022-08-27T06:28:56.357Z"
   },
   {
    "duration": 816,
    "start_time": "2022-08-27T06:28:56.395Z"
   },
   {
    "duration": 105,
    "start_time": "2022-08-27T06:28:57.217Z"
   },
   {
    "duration": 161,
    "start_time": "2022-08-27T06:28:57.324Z"
   },
   {
    "duration": 35,
    "start_time": "2022-08-27T06:28:57.487Z"
   },
   {
    "duration": 488,
    "start_time": "2022-08-27T06:28:57.524Z"
   },
   {
    "duration": 302,
    "start_time": "2022-08-27T06:28:58.014Z"
   },
   {
    "duration": 270,
    "start_time": "2022-08-27T06:28:58.318Z"
   },
   {
    "duration": 6,
    "start_time": "2022-08-27T06:28:58.590Z"
   },
   {
    "duration": 35,
    "start_time": "2022-08-27T06:28:58.597Z"
   },
   {
    "duration": 175,
    "start_time": "2022-08-27T06:28:58.634Z"
   },
   {
    "duration": 20,
    "start_time": "2022-08-27T06:38:12.524Z"
   },
   {
    "duration": 172,
    "start_time": "2022-08-27T06:38:15.373Z"
   },
   {
    "duration": 36,
    "start_time": "2022-08-27T07:01:53.218Z"
   },
   {
    "duration": 2,
    "start_time": "2022-08-27T07:01:56.412Z"
   },
   {
    "duration": 121,
    "start_time": "2022-08-27T07:29:24.943Z"
   },
   {
    "duration": 33,
    "start_time": "2022-08-27T07:29:35.314Z"
   },
   {
    "duration": 32,
    "start_time": "2022-08-27T07:45:13.243Z"
   },
   {
    "duration": 33,
    "start_time": "2022-08-27T07:46:22.541Z"
   },
   {
    "duration": 226,
    "start_time": "2022-08-27T07:46:38.088Z"
   },
   {
    "duration": 227,
    "start_time": "2022-08-27T07:46:50.795Z"
   },
   {
    "duration": 234,
    "start_time": "2022-08-27T07:49:27.440Z"
   },
   {
    "duration": 699,
    "start_time": "2022-08-27T07:50:36.354Z"
   },
   {
    "duration": 15044,
    "start_time": "2022-08-27T07:53:23.470Z"
   },
   {
    "duration": 233,
    "start_time": "2022-08-27T08:09:47.760Z"
   },
   {
    "duration": 232,
    "start_time": "2022-08-27T08:10:24.096Z"
   },
   {
    "duration": 36,
    "start_time": "2022-08-27T08:13:45.392Z"
   },
   {
    "duration": 499,
    "start_time": "2022-08-27T08:16:38.311Z"
   },
   {
    "duration": 232,
    "start_time": "2022-08-27T08:17:32.277Z"
   },
   {
    "duration": 265,
    "start_time": "2022-08-27T08:17:58.464Z"
   },
   {
    "duration": 303,
    "start_time": "2022-08-27T08:21:06.296Z"
   },
   {
    "duration": 300,
    "start_time": "2022-08-27T08:21:55.444Z"
   },
   {
    "duration": 140,
    "start_time": "2022-08-27T08:24:54.399Z"
   },
   {
    "duration": 160,
    "start_time": "2022-08-27T08:27:32.129Z"
   },
   {
    "duration": 42,
    "start_time": "2022-08-27T08:30:01.869Z"
   },
   {
    "duration": 40,
    "start_time": "2022-08-27T08:30:34.032Z"
   },
   {
    "duration": 38,
    "start_time": "2022-08-27T08:31:10.292Z"
   },
   {
    "duration": 151,
    "start_time": "2022-08-27T08:33:17.857Z"
   },
   {
    "duration": 39,
    "start_time": "2022-08-27T08:33:28.897Z"
   },
   {
    "duration": 149,
    "start_time": "2022-08-27T08:33:30.845Z"
   },
   {
    "duration": 172,
    "start_time": "2022-08-27T08:34:06.907Z"
   },
   {
    "duration": 357,
    "start_time": "2022-08-27T08:34:38.667Z"
   },
   {
    "duration": 298,
    "start_time": "2022-08-27T08:35:56.378Z"
   },
   {
    "duration": 307,
    "start_time": "2022-08-27T08:37:40.938Z"
   },
   {
    "duration": 415,
    "start_time": "2022-08-27T08:38:20.778Z"
   },
   {
    "duration": 307,
    "start_time": "2022-08-27T08:38:53.523Z"
   },
   {
    "duration": 305,
    "start_time": "2022-08-27T08:39:20.029Z"
   },
   {
    "duration": 628,
    "start_time": "2022-08-27T08:41:56.383Z"
   },
   {
    "duration": 699,
    "start_time": "2022-08-27T08:42:17.219Z"
   },
   {
    "duration": 847,
    "start_time": "2022-08-27T08:42:30.962Z"
   },
   {
    "duration": 13443,
    "start_time": "2022-08-27T08:43:02.866Z"
   },
   {
    "duration": 658,
    "start_time": "2022-08-27T08:43:47.257Z"
   },
   {
    "duration": 40,
    "start_time": "2022-08-27T08:46:30.575Z"
   },
   {
    "duration": 309,
    "start_time": "2022-08-27T08:48:17.787Z"
   },
   {
    "duration": 585,
    "start_time": "2022-08-27T08:49:49.455Z"
   },
   {
    "duration": 861,
    "start_time": "2022-08-27T08:51:18.425Z"
   },
   {
    "duration": 738,
    "start_time": "2022-08-27T08:52:05.494Z"
   },
   {
    "duration": 632,
    "start_time": "2022-08-27T08:53:23.914Z"
   },
   {
    "duration": 622,
    "start_time": "2022-08-27T08:53:44.542Z"
   },
   {
    "duration": 692,
    "start_time": "2022-08-27T08:54:51.161Z"
   },
   {
    "duration": 189,
    "start_time": "2022-08-27T09:01:24.350Z"
   },
   {
    "duration": 153,
    "start_time": "2022-08-27T09:01:50.504Z"
   },
   {
    "duration": 35,
    "start_time": "2022-08-27T09:03:17.902Z"
   },
   {
    "duration": 30,
    "start_time": "2022-08-27T09:03:36.891Z"
   },
   {
    "duration": 481,
    "start_time": "2022-08-27T09:04:40.838Z"
   },
   {
    "duration": 322,
    "start_time": "2022-08-27T09:04:57.689Z"
   },
   {
    "duration": 857,
    "start_time": "2022-08-27T09:06:26.208Z"
   },
   {
    "duration": 309,
    "start_time": "2022-08-27T09:11:43.981Z"
   },
   {
    "duration": 288,
    "start_time": "2022-08-27T09:11:53.271Z"
   },
   {
    "duration": 27,
    "start_time": "2022-08-27T09:15:36.466Z"
   },
   {
    "duration": 149,
    "start_time": "2022-08-27T09:17:05.740Z"
   },
   {
    "duration": 327,
    "start_time": "2022-08-27T09:19:41.015Z"
   },
   {
    "duration": 68,
    "start_time": "2022-08-27T09:21:28.023Z"
   },
   {
    "duration": 26,
    "start_time": "2022-08-27T09:26:02.465Z"
   },
   {
    "duration": 306,
    "start_time": "2022-08-27T09:35:20.042Z"
   },
   {
    "duration": 61,
    "start_time": "2022-08-27T09:36:20.365Z"
   },
   {
    "duration": 32,
    "start_time": "2022-08-27T10:03:44.084Z"
   },
   {
    "duration": 14,
    "start_time": "2022-08-27T10:11:10.880Z"
   },
   {
    "duration": 14,
    "start_time": "2022-08-27T10:11:28.305Z"
   },
   {
    "duration": 4,
    "start_time": "2022-08-27T10:11:32.240Z"
   },
   {
    "duration": 7,
    "start_time": "2022-08-27T10:11:32.246Z"
   },
   {
    "duration": 46,
    "start_time": "2022-08-27T10:11:32.254Z"
   },
   {
    "duration": 26,
    "start_time": "2022-08-27T10:11:32.301Z"
   },
   {
    "duration": 4,
    "start_time": "2022-08-27T10:11:32.329Z"
   },
   {
    "duration": 19,
    "start_time": "2022-08-27T10:11:32.334Z"
   },
   {
    "duration": 25,
    "start_time": "2022-08-27T10:11:32.354Z"
   },
   {
    "duration": 11,
    "start_time": "2022-08-27T10:11:32.381Z"
   },
   {
    "duration": 22,
    "start_time": "2022-08-27T10:11:32.409Z"
   },
   {
    "duration": 7,
    "start_time": "2022-08-27T10:11:32.432Z"
   },
   {
    "duration": 5,
    "start_time": "2022-08-27T10:11:32.441Z"
   },
   {
    "duration": 8,
    "start_time": "2022-08-27T10:11:32.448Z"
   },
   {
    "duration": 61,
    "start_time": "2022-08-27T10:11:32.457Z"
   },
   {
    "duration": 36,
    "start_time": "2022-08-27T10:11:32.520Z"
   },
   {
    "duration": 4,
    "start_time": "2022-08-27T10:11:32.558Z"
   },
   {
    "duration": 12,
    "start_time": "2022-08-27T10:11:32.563Z"
   },
   {
    "duration": 51,
    "start_time": "2022-08-27T10:11:32.577Z"
   },
   {
    "duration": 10,
    "start_time": "2022-08-27T10:11:32.630Z"
   },
   {
    "duration": 5,
    "start_time": "2022-08-27T10:11:32.641Z"
   },
   {
    "duration": 261,
    "start_time": "2022-08-27T10:11:32.648Z"
   },
   {
    "duration": 3,
    "start_time": "2022-08-27T10:11:32.910Z"
   },
   {
    "duration": 723,
    "start_time": "2022-08-27T10:11:32.914Z"
   },
   {
    "duration": 13276,
    "start_time": "2022-08-27T10:11:33.638Z"
   },
   {
    "duration": 92,
    "start_time": "2022-08-27T10:11:46.917Z"
   },
   {
    "duration": 253,
    "start_time": "2022-08-27T10:11:47.011Z"
   },
   {
    "duration": 53,
    "start_time": "2022-08-27T10:11:47.267Z"
   },
   {
    "duration": 487,
    "start_time": "2022-08-27T10:11:47.323Z"
   },
   {
    "duration": 102,
    "start_time": "2022-08-27T10:11:47.814Z"
   },
   {
    "duration": 321,
    "start_time": "2022-08-27T10:11:47.918Z"
   },
   {
    "duration": 40,
    "start_time": "2022-08-27T10:11:48.240Z"
   },
   {
    "duration": 932,
    "start_time": "2022-08-27T10:11:48.281Z"
   },
   {
    "duration": 749,
    "start_time": "2022-08-27T10:11:49.215Z"
   },
   {
    "duration": 148,
    "start_time": "2022-08-27T10:11:49.968Z"
   },
   {
    "duration": 173,
    "start_time": "2022-08-27T10:11:50.117Z"
   },
   {
    "duration": 36,
    "start_time": "2022-08-27T10:11:50.291Z"
   },
   {
    "duration": 480,
    "start_time": "2022-08-27T10:11:50.329Z"
   },
   {
    "duration": 736,
    "start_time": "2022-08-27T10:11:50.812Z"
   },
   {
    "duration": 448,
    "start_time": "2022-08-27T10:11:51.550Z"
   },
   {
    "duration": 35,
    "start_time": "2022-08-27T10:11:51.999Z"
   },
   {
    "duration": 346,
    "start_time": "2022-08-27T10:11:52.035Z"
   },
   {
    "duration": 154,
    "start_time": "2022-08-27T10:15:06.224Z"
   },
   {
    "duration": 6,
    "start_time": "2022-08-27T10:15:18.521Z"
   },
   {
    "duration": 17,
    "start_time": "2022-08-27T10:15:18.529Z"
   },
   {
    "duration": 62,
    "start_time": "2022-08-27T10:15:18.548Z"
   },
   {
    "duration": 28,
    "start_time": "2022-08-27T10:15:18.612Z"
   },
   {
    "duration": 5,
    "start_time": "2022-08-27T10:15:18.642Z"
   },
   {
    "duration": 16,
    "start_time": "2022-08-27T10:15:18.650Z"
   },
   {
    "duration": 13,
    "start_time": "2022-08-27T10:15:18.668Z"
   },
   {
    "duration": 33,
    "start_time": "2022-08-27T10:15:18.682Z"
   },
   {
    "duration": 29,
    "start_time": "2022-08-27T10:15:18.718Z"
   },
   {
    "duration": 9,
    "start_time": "2022-08-27T10:15:18.750Z"
   },
   {
    "duration": 7,
    "start_time": "2022-08-27T10:15:18.761Z"
   },
   {
    "duration": 47,
    "start_time": "2022-08-27T10:15:18.770Z"
   },
   {
    "duration": 37,
    "start_time": "2022-08-27T10:15:18.819Z"
   },
   {
    "duration": 58,
    "start_time": "2022-08-27T10:15:18.858Z"
   },
   {
    "duration": 5,
    "start_time": "2022-08-27T10:15:18.918Z"
   },
   {
    "duration": 16,
    "start_time": "2022-08-27T10:15:18.925Z"
   },
   {
    "duration": 37,
    "start_time": "2022-08-27T10:15:18.943Z"
   },
   {
    "duration": 11,
    "start_time": "2022-08-27T10:15:19.008Z"
   },
   {
    "duration": 3,
    "start_time": "2022-08-27T10:15:19.021Z"
   },
   {
    "duration": 270,
    "start_time": "2022-08-27T10:15:19.026Z"
   },
   {
    "duration": 10,
    "start_time": "2022-08-27T10:15:19.299Z"
   },
   {
    "duration": 760,
    "start_time": "2022-08-27T10:15:19.310Z"
   },
   {
    "duration": 14545,
    "start_time": "2022-08-27T10:15:20.072Z"
   },
   {
    "duration": 91,
    "start_time": "2022-08-27T10:15:34.619Z"
   },
   {
    "duration": 242,
    "start_time": "2022-08-27T10:15:34.712Z"
   },
   {
    "duration": 35,
    "start_time": "2022-08-27T10:15:34.956Z"
   },
   {
    "duration": 1099,
    "start_time": "2022-08-27T10:15:35.009Z"
   },
   {
    "duration": 15,
    "start_time": "2022-08-27T10:15:36.110Z"
   },
   {
    "duration": 320,
    "start_time": "2022-08-27T10:15:36.127Z"
   },
   {
    "duration": 42,
    "start_time": "2022-08-27T10:15:36.449Z"
   },
   {
    "duration": 624,
    "start_time": "2022-08-27T10:15:36.493Z"
   },
   {
    "duration": 1030,
    "start_time": "2022-08-27T10:15:37.119Z"
   },
   {
    "duration": 106,
    "start_time": "2022-08-27T10:15:38.208Z"
   },
   {
    "duration": 168,
    "start_time": "2022-08-27T10:15:38.316Z"
   },
   {
    "duration": 41,
    "start_time": "2022-08-27T10:15:38.486Z"
   },
   {
    "duration": 280,
    "start_time": "2022-08-27T10:15:38.529Z"
   },
   {
    "duration": 737,
    "start_time": "2022-08-27T10:15:38.811Z"
   },
   {
    "duration": 460,
    "start_time": "2022-08-27T10:15:39.550Z"
   },
   {
    "duration": 29,
    "start_time": "2022-08-27T10:15:40.012Z"
   },
   {
    "duration": 406,
    "start_time": "2022-08-27T10:15:40.044Z"
   },
   {
    "duration": 4,
    "start_time": "2022-08-27T11:41:19.191Z"
   },
   {
    "duration": 203,
    "start_time": "2022-08-27T11:41:47.289Z"
   },
   {
    "duration": 148,
    "start_time": "2022-08-27T11:43:13.959Z"
   },
   {
    "duration": 153,
    "start_time": "2022-08-27T11:45:49.496Z"
   },
   {
    "duration": 236,
    "start_time": "2022-08-27T11:52:09.740Z"
   },
   {
    "duration": 240,
    "start_time": "2022-08-27T11:53:05.614Z"
   },
   {
    "duration": 240,
    "start_time": "2022-08-27T11:53:14.597Z"
   },
   {
    "duration": 254,
    "start_time": "2022-08-27T11:54:52.427Z"
   },
   {
    "duration": 247,
    "start_time": "2022-08-27T11:56:51.981Z"
   },
   {
    "duration": 312,
    "start_time": "2022-08-27T11:57:07.206Z"
   },
   {
    "duration": 165,
    "start_time": "2022-08-27T12:01:13.106Z"
   },
   {
    "duration": 11,
    "start_time": "2022-08-27T12:02:45.410Z"
   },
   {
    "duration": 10,
    "start_time": "2022-08-27T12:03:06.447Z"
   },
   {
    "duration": 171,
    "start_time": "2022-08-27T12:05:11.258Z"
   },
   {
    "duration": 24,
    "start_time": "2022-08-27T12:12:51.694Z"
   },
   {
    "duration": 15,
    "start_time": "2022-08-27T12:13:53.068Z"
   },
   {
    "duration": 259,
    "start_time": "2022-08-27T12:14:21.701Z"
   },
   {
    "duration": 4,
    "start_time": "2022-08-27T12:23:03.679Z"
   },
   {
    "duration": 69,
    "start_time": "2022-08-27T12:24:36.508Z"
   },
   {
    "duration": 46,
    "start_time": "2022-08-27T12:26:51.605Z"
   },
   {
    "duration": 4,
    "start_time": "2022-08-27T12:26:59.314Z"
   },
   {
    "duration": 4,
    "start_time": "2022-08-27T12:28:20.770Z"
   },
   {
    "duration": 10,
    "start_time": "2022-08-27T12:29:22.242Z"
   },
   {
    "duration": 6,
    "start_time": "2022-08-27T12:37:04.455Z"
   },
   {
    "duration": 10,
    "start_time": "2022-08-27T12:37:04.463Z"
   },
   {
    "duration": 41,
    "start_time": "2022-08-27T12:37:04.513Z"
   },
   {
    "duration": 116,
    "start_time": "2022-08-27T12:37:04.556Z"
   },
   {
    "duration": 4,
    "start_time": "2022-08-27T12:37:04.673Z"
   },
   {
    "duration": 29,
    "start_time": "2022-08-27T12:37:04.679Z"
   },
   {
    "duration": 15,
    "start_time": "2022-08-27T12:37:04.710Z"
   },
   {
    "duration": 11,
    "start_time": "2022-08-27T12:37:04.727Z"
   },
   {
    "duration": 22,
    "start_time": "2022-08-27T12:37:04.740Z"
   },
   {
    "duration": 11,
    "start_time": "2022-08-27T12:37:04.764Z"
   },
   {
    "duration": 38,
    "start_time": "2022-08-27T12:37:04.777Z"
   },
   {
    "duration": 19,
    "start_time": "2022-08-27T12:37:04.817Z"
   },
   {
    "duration": 44,
    "start_time": "2022-08-27T12:37:04.839Z"
   },
   {
    "duration": 50,
    "start_time": "2022-08-27T12:37:04.885Z"
   },
   {
    "duration": 5,
    "start_time": "2022-08-27T12:37:04.937Z"
   },
   {
    "duration": 16,
    "start_time": "2022-08-27T12:37:04.945Z"
   },
   {
    "duration": 56,
    "start_time": "2022-08-27T12:37:04.962Z"
   },
   {
    "duration": 12,
    "start_time": "2022-08-27T12:37:05.020Z"
   },
   {
    "duration": 3,
    "start_time": "2022-08-27T12:37:05.034Z"
   },
   {
    "duration": 297,
    "start_time": "2022-08-27T12:37:05.038Z"
   },
   {
    "duration": 3,
    "start_time": "2022-08-27T12:37:05.337Z"
   },
   {
    "duration": 798,
    "start_time": "2022-08-27T12:37:05.341Z"
   },
   {
    "duration": 13479,
    "start_time": "2022-08-27T12:37:06.140Z"
   },
   {
    "duration": 90,
    "start_time": "2022-08-27T12:37:19.622Z"
   },
   {
    "duration": 348,
    "start_time": "2022-08-27T12:37:19.716Z"
   },
   {
    "duration": 180,
    "start_time": "2022-08-27T12:37:20.066Z"
   },
   {
    "duration": 191,
    "start_time": "2022-08-27T12:37:20.248Z"
   },
   {
    "duration": 53,
    "start_time": "2022-08-27T12:37:20.441Z"
   },
   {
    "duration": 0,
    "start_time": "2022-08-27T12:37:20.496Z"
   },
   {
    "duration": 0,
    "start_time": "2022-08-27T12:37:20.497Z"
   },
   {
    "duration": 0,
    "start_time": "2022-08-27T12:37:20.499Z"
   },
   {
    "duration": 0,
    "start_time": "2022-08-27T12:37:20.500Z"
   },
   {
    "duration": 0,
    "start_time": "2022-08-27T12:37:20.501Z"
   },
   {
    "duration": 0,
    "start_time": "2022-08-27T12:37:20.502Z"
   },
   {
    "duration": 0,
    "start_time": "2022-08-27T12:37:20.504Z"
   },
   {
    "duration": 0,
    "start_time": "2022-08-27T12:37:20.505Z"
   },
   {
    "duration": 0,
    "start_time": "2022-08-27T12:37:20.507Z"
   },
   {
    "duration": 0,
    "start_time": "2022-08-27T12:37:20.508Z"
   },
   {
    "duration": 0,
    "start_time": "2022-08-27T12:37:20.510Z"
   },
   {
    "duration": 0,
    "start_time": "2022-08-27T12:37:20.511Z"
   },
   {
    "duration": 0,
    "start_time": "2022-08-27T12:37:20.512Z"
   },
   {
    "duration": 0,
    "start_time": "2022-08-27T12:37:20.514Z"
   },
   {
    "duration": 0,
    "start_time": "2022-08-27T12:37:20.515Z"
   },
   {
    "duration": 0,
    "start_time": "2022-08-27T12:37:20.517Z"
   },
   {
    "duration": 4,
    "start_time": "2022-08-27T12:39:30.497Z"
   },
   {
    "duration": 7,
    "start_time": "2022-08-27T12:39:48.093Z"
   },
   {
    "duration": 179,
    "start_time": "2022-08-27T12:41:44.984Z"
   },
   {
    "duration": 178,
    "start_time": "2022-08-27T12:42:29.142Z"
   },
   {
    "duration": 16,
    "start_time": "2022-08-27T12:45:47.117Z"
   },
   {
    "duration": 172,
    "start_time": "2022-08-27T12:46:03.492Z"
   },
   {
    "duration": 171,
    "start_time": "2022-08-27T12:47:38.199Z"
   },
   {
    "duration": 174,
    "start_time": "2022-08-27T12:47:55.052Z"
   },
   {
    "duration": 15,
    "start_time": "2022-08-27T12:51:16.508Z"
   },
   {
    "duration": 14,
    "start_time": "2022-08-27T12:52:14.278Z"
   },
   {
    "duration": 8,
    "start_time": "2022-08-27T12:53:24.376Z"
   },
   {
    "duration": 188,
    "start_time": "2022-08-27T12:53:31.124Z"
   },
   {
    "duration": 186,
    "start_time": "2022-08-27T12:56:02.775Z"
   },
   {
    "duration": 180,
    "start_time": "2022-08-27T12:56:35.352Z"
   },
   {
    "duration": 9,
    "start_time": "2022-08-27T14:32:15.578Z"
   },
   {
    "duration": 11,
    "start_time": "2022-08-27T14:32:27.452Z"
   },
   {
    "duration": 191,
    "start_time": "2022-08-27T14:33:36.020Z"
   },
   {
    "duration": 302,
    "start_time": "2022-08-27T14:35:00.840Z"
   },
   {
    "duration": 199,
    "start_time": "2022-08-27T14:37:28.837Z"
   },
   {
    "duration": 200,
    "start_time": "2022-08-27T15:27:36.984Z"
   },
   {
    "duration": 970,
    "start_time": "2022-08-27T15:32:46.619Z"
   },
   {
    "duration": 4,
    "start_time": "2022-08-27T15:33:19.631Z"
   },
   {
    "duration": 13,
    "start_time": "2022-08-27T15:33:19.637Z"
   },
   {
    "duration": 51,
    "start_time": "2022-08-27T15:33:19.651Z"
   },
   {
    "duration": 23,
    "start_time": "2022-08-27T15:33:19.705Z"
   },
   {
    "duration": 4,
    "start_time": "2022-08-27T15:33:19.730Z"
   },
   {
    "duration": 16,
    "start_time": "2022-08-27T15:33:19.736Z"
   },
   {
    "duration": 13,
    "start_time": "2022-08-27T15:33:19.753Z"
   },
   {
    "duration": 12,
    "start_time": "2022-08-27T15:33:19.767Z"
   },
   {
    "duration": 45,
    "start_time": "2022-08-27T15:33:19.781Z"
   },
   {
    "duration": 8,
    "start_time": "2022-08-27T15:33:19.827Z"
   },
   {
    "duration": 13,
    "start_time": "2022-08-27T15:33:19.837Z"
   },
   {
    "duration": 15,
    "start_time": "2022-08-27T15:33:19.851Z"
   },
   {
    "duration": 49,
    "start_time": "2022-08-27T15:33:19.867Z"
   },
   {
    "duration": 37,
    "start_time": "2022-08-27T15:33:19.918Z"
   },
   {
    "duration": 4,
    "start_time": "2022-08-27T15:33:19.956Z"
   },
   {
    "duration": 18,
    "start_time": "2022-08-27T15:33:19.962Z"
   },
   {
    "duration": 51,
    "start_time": "2022-08-27T15:33:19.981Z"
   },
   {
    "duration": 10,
    "start_time": "2022-08-27T15:33:20.034Z"
   },
   {
    "duration": 9,
    "start_time": "2022-08-27T15:33:20.046Z"
   },
   {
    "duration": 267,
    "start_time": "2022-08-27T15:33:20.057Z"
   },
   {
    "duration": 2,
    "start_time": "2022-08-27T15:33:20.326Z"
   },
   {
    "duration": 757,
    "start_time": "2022-08-27T15:33:20.329Z"
   },
   {
    "duration": 13223,
    "start_time": "2022-08-27T15:33:21.087Z"
   },
   {
    "duration": 92,
    "start_time": "2022-08-27T15:33:34.317Z"
   },
   {
    "duration": 262,
    "start_time": "2022-08-27T15:33:34.411Z"
   },
   {
    "duration": 175,
    "start_time": "2022-08-27T15:33:34.674Z"
   },
   {
    "duration": 184,
    "start_time": "2022-08-27T15:33:34.851Z"
   },
   {
    "duration": 909,
    "start_time": "2022-08-27T15:33:35.037Z"
   },
   {
    "duration": 0,
    "start_time": "2022-08-27T15:33:35.947Z"
   },
   {
    "duration": 0,
    "start_time": "2022-08-27T15:33:35.949Z"
   },
   {
    "duration": 0,
    "start_time": "2022-08-27T15:33:35.950Z"
   },
   {
    "duration": 0,
    "start_time": "2022-08-27T15:33:35.952Z"
   },
   {
    "duration": 0,
    "start_time": "2022-08-27T15:33:35.953Z"
   },
   {
    "duration": 0,
    "start_time": "2022-08-27T15:33:35.955Z"
   },
   {
    "duration": 0,
    "start_time": "2022-08-27T15:33:35.956Z"
   },
   {
    "duration": 0,
    "start_time": "2022-08-27T15:33:35.958Z"
   },
   {
    "duration": 0,
    "start_time": "2022-08-27T15:33:35.959Z"
   },
   {
    "duration": 0,
    "start_time": "2022-08-27T15:33:35.960Z"
   },
   {
    "duration": 0,
    "start_time": "2022-08-27T15:33:35.962Z"
   },
   {
    "duration": 0,
    "start_time": "2022-08-27T15:33:35.963Z"
   },
   {
    "duration": 0,
    "start_time": "2022-08-27T15:33:35.964Z"
   },
   {
    "duration": 0,
    "start_time": "2022-08-27T15:33:35.965Z"
   },
   {
    "duration": 0,
    "start_time": "2022-08-27T15:33:35.966Z"
   },
   {
    "duration": 0,
    "start_time": "2022-08-27T15:33:35.967Z"
   },
   {
    "duration": 0,
    "start_time": "2022-08-27T15:33:35.969Z"
   },
   {
    "duration": 175,
    "start_time": "2022-08-27T15:34:50.237Z"
   },
   {
    "duration": 5,
    "start_time": "2022-08-27T15:35:25.848Z"
   },
   {
    "duration": 11,
    "start_time": "2022-08-27T15:35:25.855Z"
   },
   {
    "duration": 50,
    "start_time": "2022-08-27T15:35:25.867Z"
   },
   {
    "duration": 32,
    "start_time": "2022-08-27T15:35:25.919Z"
   },
   {
    "duration": 5,
    "start_time": "2022-08-27T15:35:25.953Z"
   },
   {
    "duration": 20,
    "start_time": "2022-08-27T15:35:25.960Z"
   },
   {
    "duration": 39,
    "start_time": "2022-08-27T15:35:25.982Z"
   },
   {
    "duration": 14,
    "start_time": "2022-08-27T15:35:26.023Z"
   },
   {
    "duration": 26,
    "start_time": "2022-08-27T15:35:26.041Z"
   },
   {
    "duration": 10,
    "start_time": "2022-08-27T15:35:26.069Z"
   },
   {
    "duration": 33,
    "start_time": "2022-08-27T15:35:26.081Z"
   },
   {
    "duration": 11,
    "start_time": "2022-08-27T15:35:26.115Z"
   },
   {
    "duration": 36,
    "start_time": "2022-08-27T15:35:26.127Z"
   },
   {
    "duration": 70,
    "start_time": "2022-08-27T15:35:26.165Z"
   },
   {
    "duration": 5,
    "start_time": "2022-08-27T15:35:26.237Z"
   },
   {
    "duration": 19,
    "start_time": "2022-08-27T15:35:26.243Z"
   },
   {
    "duration": 35,
    "start_time": "2022-08-27T15:35:26.264Z"
   },
   {
    "duration": 10,
    "start_time": "2022-08-27T15:35:26.308Z"
   },
   {
    "duration": 3,
    "start_time": "2022-08-27T15:35:26.320Z"
   },
   {
    "duration": 261,
    "start_time": "2022-08-27T15:35:26.325Z"
   },
   {
    "duration": 2,
    "start_time": "2022-08-27T15:35:26.588Z"
   },
   {
    "duration": 738,
    "start_time": "2022-08-27T15:35:26.592Z"
   },
   {
    "duration": 13287,
    "start_time": "2022-08-27T15:35:27.332Z"
   },
   {
    "duration": 3,
    "start_time": "2022-08-27T15:35:40.713Z"
   },
   {
    "duration": 342,
    "start_time": "2022-08-27T15:35:40.718Z"
   },
   {
    "duration": 177,
    "start_time": "2022-08-27T15:35:41.062Z"
   },
   {
    "duration": 180,
    "start_time": "2022-08-27T15:35:41.241Z"
   },
   {
    "duration": 187,
    "start_time": "2022-08-27T15:35:41.422Z"
   },
   {
    "duration": 210,
    "start_time": "2022-08-27T15:35:41.611Z"
   },
   {
    "duration": 33,
    "start_time": "2022-08-27T15:35:41.823Z"
   },
   {
    "duration": 552,
    "start_time": "2022-08-27T15:35:41.858Z"
   },
   {
    "duration": 105,
    "start_time": "2022-08-27T15:35:42.414Z"
   },
   {
    "duration": 313,
    "start_time": "2022-08-27T15:35:42.521Z"
   },
   {
    "duration": 39,
    "start_time": "2022-08-27T15:35:42.836Z"
   },
   {
    "duration": 842,
    "start_time": "2022-08-27T15:35:42.876Z"
   },
   {
    "duration": 753,
    "start_time": "2022-08-27T15:35:43.810Z"
   },
   {
    "duration": 106,
    "start_time": "2022-08-27T15:35:44.610Z"
   },
   {
    "duration": 163,
    "start_time": "2022-08-27T15:35:44.718Z"
   },
   {
    "duration": 35,
    "start_time": "2022-08-27T15:35:44.882Z"
   },
   {
    "duration": 299,
    "start_time": "2022-08-27T15:35:44.919Z"
   },
   {
    "duration": 759,
    "start_time": "2022-08-27T15:35:45.308Z"
   },
   {
    "duration": 255,
    "start_time": "2022-08-27T15:35:46.110Z"
   },
   {
    "duration": 326,
    "start_time": "2022-08-27T15:35:46.366Z"
   },
   {
    "duration": 38,
    "start_time": "2022-08-27T15:35:46.693Z"
   },
   {
    "duration": 378,
    "start_time": "2022-08-27T15:35:46.733Z"
   },
   {
    "duration": 311,
    "start_time": "2022-08-27T16:18:05.803Z"
   },
   {
    "duration": 284,
    "start_time": "2022-08-27T16:18:17.943Z"
   },
   {
    "duration": 306,
    "start_time": "2022-08-27T16:20:00.467Z"
   },
   {
    "duration": 39,
    "start_time": "2022-08-27T16:22:08.872Z"
   },
   {
    "duration": 155,
    "start_time": "2022-08-27T16:22:48.925Z"
   },
   {
    "duration": 297,
    "start_time": "2022-08-27T16:23:25.337Z"
   },
   {
    "duration": 323,
    "start_time": "2022-08-27T16:24:53.943Z"
   },
   {
    "duration": 193,
    "start_time": "2022-08-27T16:26:39.640Z"
   },
   {
    "duration": 341,
    "start_time": "2022-08-27T16:27:29.443Z"
   },
   {
    "duration": 352,
    "start_time": "2022-08-27T16:28:55.595Z"
   },
   {
    "duration": 3,
    "start_time": "2022-08-27T16:29:31.263Z"
   },
   {
    "duration": 190,
    "start_time": "2022-08-27T16:29:33.477Z"
   },
   {
    "duration": 14,
    "start_time": "2022-08-27T16:32:38.084Z"
   },
   {
    "duration": 15,
    "start_time": "2022-08-27T16:34:51.116Z"
   },
   {
    "duration": 197,
    "start_time": "2022-08-27T16:35:12.441Z"
   },
   {
    "duration": 207,
    "start_time": "2022-08-27T16:36:53.627Z"
   },
   {
    "duration": 212,
    "start_time": "2022-08-27T16:38:33.416Z"
   },
   {
    "duration": 208,
    "start_time": "2022-08-27T16:40:34.528Z"
   },
   {
    "duration": 212,
    "start_time": "2022-08-27T16:41:52.144Z"
   },
   {
    "duration": 283,
    "start_time": "2022-08-27T16:44:04.427Z"
   },
   {
    "duration": 288,
    "start_time": "2022-08-27T16:48:06.746Z"
   },
   {
    "duration": 296,
    "start_time": "2022-08-27T16:48:21.089Z"
   },
   {
    "duration": 332,
    "start_time": "2022-08-27T16:49:24.103Z"
   },
   {
    "duration": 181,
    "start_time": "2022-08-27T16:50:12.200Z"
   },
   {
    "duration": 178,
    "start_time": "2022-08-27T16:50:18.257Z"
   },
   {
    "duration": 43,
    "start_time": "2022-08-27T16:50:49.856Z"
   },
   {
    "duration": 329,
    "start_time": "2022-08-27T16:50:58.929Z"
   },
   {
    "duration": 14,
    "start_time": "2022-08-27T16:51:18.247Z"
   },
   {
    "duration": 209,
    "start_time": "2022-08-27T16:53:03.457Z"
   },
   {
    "duration": 205,
    "start_time": "2022-08-27T16:53:54.849Z"
   },
   {
    "duration": 219,
    "start_time": "2022-08-27T16:57:36.090Z"
   },
   {
    "duration": 370,
    "start_time": "2022-08-27T16:58:03.417Z"
   },
   {
    "duration": 236,
    "start_time": "2022-08-27T16:59:07.642Z"
   },
   {
    "duration": 225,
    "start_time": "2022-08-27T16:59:29.971Z"
   },
   {
    "duration": 5,
    "start_time": "2022-08-27T17:01:19.467Z"
   },
   {
    "duration": 5,
    "start_time": "2022-08-27T17:02:25.464Z"
   },
   {
    "duration": 30,
    "start_time": "2022-08-27T17:02:25.471Z"
   },
   {
    "duration": 47,
    "start_time": "2022-08-27T17:02:25.503Z"
   },
   {
    "duration": 22,
    "start_time": "2022-08-27T17:02:25.552Z"
   },
   {
    "duration": 5,
    "start_time": "2022-08-27T17:02:25.576Z"
   },
   {
    "duration": 15,
    "start_time": "2022-08-27T17:02:25.582Z"
   },
   {
    "duration": 11,
    "start_time": "2022-08-27T17:02:25.599Z"
   },
   {
    "duration": 10,
    "start_time": "2022-08-27T17:02:25.611Z"
   },
   {
    "duration": 22,
    "start_time": "2022-08-27T17:02:25.623Z"
   },
   {
    "duration": 8,
    "start_time": "2022-08-27T17:02:25.647Z"
   },
   {
    "duration": 5,
    "start_time": "2022-08-27T17:02:25.657Z"
   },
   {
    "duration": 9,
    "start_time": "2022-08-27T17:02:25.663Z"
   },
   {
    "duration": 66,
    "start_time": "2022-08-27T17:02:25.674Z"
   },
   {
    "duration": 39,
    "start_time": "2022-08-27T17:02:25.741Z"
   },
   {
    "duration": 31,
    "start_time": "2022-08-27T17:02:25.781Z"
   },
   {
    "duration": 12,
    "start_time": "2022-08-27T17:02:25.813Z"
   },
   {
    "duration": 27,
    "start_time": "2022-08-27T17:02:25.827Z"
   },
   {
    "duration": 11,
    "start_time": "2022-08-27T17:02:25.856Z"
   },
   {
    "duration": 21,
    "start_time": "2022-08-27T17:02:25.869Z"
   },
   {
    "duration": 327,
    "start_time": "2022-08-27T17:02:25.892Z"
   },
   {
    "duration": 3,
    "start_time": "2022-08-27T17:02:26.221Z"
   },
   {
    "duration": 815,
    "start_time": "2022-08-27T17:02:26.225Z"
   },
   {
    "duration": 13874,
    "start_time": "2022-08-27T17:02:27.041Z"
   },
   {
    "duration": 91,
    "start_time": "2022-08-27T17:02:40.919Z"
   },
   {
    "duration": 302,
    "start_time": "2022-08-27T17:02:41.012Z"
   },
   {
    "duration": 34,
    "start_time": "2022-08-27T17:02:41.316Z"
   },
   {
    "duration": 366,
    "start_time": "2022-08-27T17:02:41.352Z"
   },
   {
    "duration": 100,
    "start_time": "2022-08-27T17:02:41.810Z"
   },
   {
    "duration": 339,
    "start_time": "2022-08-27T17:02:41.912Z"
   },
   {
    "duration": 38,
    "start_time": "2022-08-27T17:02:42.253Z"
   },
   {
    "duration": 924,
    "start_time": "2022-08-27T17:02:42.292Z"
   },
   {
    "duration": 723,
    "start_time": "2022-08-27T17:02:43.218Z"
   },
   {
    "duration": 106,
    "start_time": "2022-08-27T17:02:44.009Z"
   },
   {
    "duration": 197,
    "start_time": "2022-08-27T17:02:44.117Z"
   },
   {
    "duration": 25,
    "start_time": "2022-08-27T17:02:44.316Z"
   },
   {
    "duration": 471,
    "start_time": "2022-08-27T17:02:44.342Z"
   },
   {
    "duration": 732,
    "start_time": "2022-08-27T17:02:44.818Z"
   },
   {
    "duration": 459,
    "start_time": "2022-08-27T17:02:45.610Z"
   },
   {
    "duration": 27,
    "start_time": "2022-08-27T17:02:46.071Z"
   },
   {
    "duration": 336,
    "start_time": "2022-08-27T17:02:46.110Z"
   },
   {
    "duration": 218,
    "start_time": "2022-08-27T17:02:46.448Z"
   },
   {
    "duration": 234,
    "start_time": "2022-08-27T17:03:38.541Z"
   },
   {
    "duration": 1507,
    "start_time": "2022-08-28T03:04:26.452Z"
   },
   {
    "duration": 2,
    "start_time": "2022-08-28T03:04:27.962Z"
   },
   {
    "duration": 109,
    "start_time": "2022-08-28T03:04:27.966Z"
   },
   {
    "duration": 29,
    "start_time": "2022-08-28T03:04:28.077Z"
   },
   {
    "duration": 4,
    "start_time": "2022-08-28T03:04:28.108Z"
   },
   {
    "duration": 14,
    "start_time": "2022-08-28T03:04:28.113Z"
   },
   {
    "duration": 8,
    "start_time": "2022-08-28T03:04:28.129Z"
   },
   {
    "duration": 8,
    "start_time": "2022-08-28T03:04:28.138Z"
   },
   {
    "duration": 46,
    "start_time": "2022-08-28T03:04:28.148Z"
   },
   {
    "duration": 9,
    "start_time": "2022-08-28T03:04:28.196Z"
   },
   {
    "duration": 6,
    "start_time": "2022-08-28T03:04:28.207Z"
   },
   {
    "duration": 8,
    "start_time": "2022-08-28T03:04:28.215Z"
   },
   {
    "duration": 33,
    "start_time": "2022-08-28T03:04:28.224Z"
   },
   {
    "duration": 36,
    "start_time": "2022-08-28T03:04:28.286Z"
   },
   {
    "duration": 4,
    "start_time": "2022-08-28T03:04:28.323Z"
   },
   {
    "duration": 11,
    "start_time": "2022-08-28T03:04:28.328Z"
   },
   {
    "duration": 51,
    "start_time": "2022-08-28T03:04:28.340Z"
   },
   {
    "duration": 10,
    "start_time": "2022-08-28T03:04:28.393Z"
   },
   {
    "duration": 6,
    "start_time": "2022-08-28T03:04:28.404Z"
   },
   {
    "duration": 294,
    "start_time": "2022-08-28T03:04:28.412Z"
   },
   {
    "duration": 2,
    "start_time": "2022-08-28T03:04:28.708Z"
   },
   {
    "duration": 724,
    "start_time": "2022-08-28T03:04:28.711Z"
   },
   {
    "duration": 12559,
    "start_time": "2022-08-28T03:04:29.436Z"
   },
   {
    "duration": 3,
    "start_time": "2022-08-28T03:04:42.088Z"
   },
   {
    "duration": 347,
    "start_time": "2022-08-28T03:04:42.092Z"
   },
   {
    "duration": 35,
    "start_time": "2022-08-28T03:04:42.441Z"
   },
   {
    "duration": 410,
    "start_time": "2022-08-28T03:04:42.486Z"
   },
   {
    "duration": 99,
    "start_time": "2022-08-28T03:04:42.897Z"
   },
   {
    "duration": 327,
    "start_time": "2022-08-28T03:04:43.087Z"
   },
   {
    "duration": 36,
    "start_time": "2022-08-28T03:04:43.415Z"
   },
   {
    "duration": 834,
    "start_time": "2022-08-28T03:04:43.452Z"
   },
   {
    "duration": 720,
    "start_time": "2022-08-28T03:04:44.292Z"
   },
   {
    "duration": 176,
    "start_time": "2022-08-28T03:04:45.014Z"
   },
   {
    "duration": 251,
    "start_time": "2022-08-28T03:04:45.191Z"
   },
   {
    "duration": 26,
    "start_time": "2022-08-28T03:04:45.443Z"
   },
   {
    "duration": 415,
    "start_time": "2022-08-28T03:04:45.471Z"
   },
   {
    "duration": 747,
    "start_time": "2022-08-28T03:04:45.889Z"
   },
   {
    "duration": 409,
    "start_time": "2022-08-28T03:04:46.688Z"
   },
   {
    "duration": 24,
    "start_time": "2022-08-28T03:04:47.098Z"
   },
   {
    "duration": 321,
    "start_time": "2022-08-28T03:04:47.123Z"
   },
   {
    "duration": 247,
    "start_time": "2022-08-28T03:04:47.448Z"
   },
   {
    "duration": 25,
    "start_time": "2022-08-28T03:05:27.856Z"
   },
   {
    "duration": 340,
    "start_time": "2022-08-28T04:38:27.005Z"
   },
   {
    "duration": 315,
    "start_time": "2022-08-28T04:39:32.876Z"
   },
   {
    "duration": 372,
    "start_time": "2022-08-28T04:42:26.185Z"
   },
   {
    "duration": 418,
    "start_time": "2022-08-28T04:45:26.880Z"
   },
   {
    "duration": 26,
    "start_time": "2022-08-28T04:49:55.538Z"
   },
   {
    "duration": 28,
    "start_time": "2022-08-28T04:50:17.251Z"
   },
   {
    "duration": 14,
    "start_time": "2022-08-28T04:59:31.469Z"
   },
   {
    "duration": 649,
    "start_time": "2022-08-28T05:19:06.984Z"
   },
   {
    "duration": 514,
    "start_time": "2022-08-28T05:19:49.303Z"
   },
   {
    "duration": 467,
    "start_time": "2022-08-28T05:20:10.407Z"
   },
   {
    "duration": 409,
    "start_time": "2022-08-28T05:22:30.149Z"
   },
   {
    "duration": 388,
    "start_time": "2022-08-28T05:22:44.566Z"
   },
   {
    "duration": 366,
    "start_time": "2022-08-28T05:23:20.280Z"
   },
   {
    "duration": 483,
    "start_time": "2022-08-28T05:26:35.539Z"
   },
   {
    "duration": 444,
    "start_time": "2022-08-28T05:29:28.973Z"
   },
   {
    "duration": 485,
    "start_time": "2022-08-28T05:30:13.956Z"
   },
   {
    "duration": 455,
    "start_time": "2022-08-28T05:30:40.813Z"
   },
   {
    "duration": 854,
    "start_time": "2022-08-28T05:31:08.892Z"
   },
   {
    "duration": 717,
    "start_time": "2022-08-28T05:32:26.112Z"
   },
   {
    "duration": 753,
    "start_time": "2022-08-28T05:33:07.491Z"
   },
   {
    "duration": 720,
    "start_time": "2022-08-28T05:33:51.460Z"
   },
   {
    "duration": 705,
    "start_time": "2022-08-28T05:34:02.642Z"
   },
   {
    "duration": 887,
    "start_time": "2022-08-28T05:34:10.556Z"
   },
   {
    "duration": 725,
    "start_time": "2022-08-28T05:35:24.079Z"
   },
   {
    "duration": 744,
    "start_time": "2022-08-28T05:36:25.587Z"
   },
   {
    "duration": 744,
    "start_time": "2022-08-28T05:37:10.104Z"
   },
   {
    "duration": 694,
    "start_time": "2022-08-28T05:37:34.486Z"
   },
   {
    "duration": 769,
    "start_time": "2022-08-28T05:39:06.715Z"
   },
   {
    "duration": 815,
    "start_time": "2022-08-28T05:43:56.929Z"
   },
   {
    "duration": 726,
    "start_time": "2022-08-28T05:44:21.233Z"
   },
   {
    "duration": 730,
    "start_time": "2022-08-28T05:44:34.001Z"
   },
   {
    "duration": 790,
    "start_time": "2022-08-28T05:45:47.145Z"
   },
   {
    "duration": 729,
    "start_time": "2022-08-28T05:46:31.730Z"
   },
   {
    "duration": 871,
    "start_time": "2022-08-28T05:47:03.755Z"
   },
   {
    "duration": 773,
    "start_time": "2022-08-28T05:47:15.534Z"
   },
   {
    "duration": 256,
    "start_time": "2022-08-28T05:49:34.534Z"
   },
   {
    "duration": 48289,
    "start_time": "2022-08-28T05:54:39.684Z"
   },
   {
    "duration": 48759,
    "start_time": "2022-08-28T05:55:50.943Z"
   },
   {
    "duration": 108,
    "start_time": "2022-08-28T06:03:37.185Z"
   },
   {
    "duration": 6,
    "start_time": "2022-08-28T06:03:48.488Z"
   },
   {
    "duration": 79,
    "start_time": "2022-08-28T06:05:10.295Z"
   },
   {
    "duration": 6,
    "start_time": "2022-08-28T06:05:35.635Z"
   },
   {
    "duration": 14,
    "start_time": "2022-08-28T06:05:36.818Z"
   },
   {
    "duration": 2,
    "start_time": "2022-08-28T06:06:18.107Z"
   },
   {
    "duration": 12,
    "start_time": "2022-08-28T06:06:19.674Z"
   },
   {
    "duration": 13,
    "start_time": "2022-08-28T06:06:32.218Z"
   },
   {
    "duration": 10,
    "start_time": "2022-08-28T06:07:10.903Z"
   },
   {
    "duration": 12,
    "start_time": "2022-08-28T06:07:16.593Z"
   },
   {
    "duration": 28,
    "start_time": "2022-08-28T06:08:10.772Z"
   },
   {
    "duration": 9,
    "start_time": "2022-08-28T06:08:21.090Z"
   },
   {
    "duration": 33,
    "start_time": "2022-08-28T06:55:07.704Z"
   },
   {
    "duration": 31,
    "start_time": "2022-08-28T06:55:12.406Z"
   },
   {
    "duration": 23,
    "start_time": "2022-08-28T06:55:44.959Z"
   },
   {
    "duration": 13423,
    "start_time": "2022-08-28T07:07:14.681Z"
   },
   {
    "duration": 15988,
    "start_time": "2022-08-28T07:07:47.310Z"
   },
   {
    "duration": 4,
    "start_time": "2022-08-28T07:08:06.884Z"
   },
   {
    "duration": 11774,
    "start_time": "2022-08-28T07:08:23.322Z"
   },
   {
    "duration": 4,
    "start_time": "2022-08-28T07:08:41.053Z"
   },
   {
    "duration": 10523,
    "start_time": "2022-08-28T07:08:56.186Z"
   },
   {
    "duration": 25180,
    "start_time": "2022-08-28T07:09:27.908Z"
   },
   {
    "duration": 290,
    "start_time": "2022-08-28T08:23:35.510Z"
   },
   {
    "duration": 330,
    "start_time": "2022-08-28T08:27:00.866Z"
   },
   {
    "duration": 45,
    "start_time": "2022-08-28T08:28:49.652Z"
   },
   {
    "duration": 40,
    "start_time": "2022-08-28T08:29:01.672Z"
   },
   {
    "duration": 1839,
    "start_time": "2022-08-28T08:33:01.450Z"
   },
   {
    "duration": 505,
    "start_time": "2022-08-28T08:33:13.900Z"
   },
   {
    "duration": 18,
    "start_time": "2022-08-28T08:37:05.959Z"
   },
   {
    "duration": 418,
    "start_time": "2022-08-28T08:38:36.139Z"
   },
   {
    "duration": 377,
    "start_time": "2022-08-28T08:38:42.436Z"
   },
   {
    "duration": 361,
    "start_time": "2022-08-28T08:38:54.067Z"
   },
   {
    "duration": 290,
    "start_time": "2022-08-28T08:45:08.725Z"
   },
   {
    "duration": 353,
    "start_time": "2022-08-28T08:45:26.134Z"
   },
   {
    "duration": 453,
    "start_time": "2022-08-28T08:46:06.172Z"
   },
   {
    "duration": 423,
    "start_time": "2022-08-28T08:46:27.460Z"
   },
   {
    "duration": 51,
    "start_time": "2022-08-28T08:46:52.391Z"
   },
   {
    "duration": 1260,
    "start_time": "2022-08-28T08:47:12.544Z"
   },
   {
    "duration": 215,
    "start_time": "2022-08-28T09:01:17.715Z"
   },
   {
    "duration": 204,
    "start_time": "2022-08-28T09:01:30.654Z"
   },
   {
    "duration": 39,
    "start_time": "2022-08-28T09:02:04.289Z"
   },
   {
    "duration": 215,
    "start_time": "2022-08-28T09:02:29.509Z"
   },
   {
    "duration": 268,
    "start_time": "2022-08-28T09:03:29.519Z"
   },
   {
    "duration": 782,
    "start_time": "2022-08-28T09:04:46.307Z"
   },
   {
    "duration": 671,
    "start_time": "2022-08-28T09:05:32.954Z"
   },
   {
    "duration": 425,
    "start_time": "2022-08-28T09:52:09.022Z"
   },
   {
    "duration": 425,
    "start_time": "2022-08-28T09:52:22.719Z"
   },
   {
    "duration": 431,
    "start_time": "2022-08-28T09:52:37.584Z"
   },
   {
    "duration": 406,
    "start_time": "2022-08-28T10:21:08.238Z"
   },
   {
    "duration": 286,
    "start_time": "2022-08-28T10:30:05.082Z"
   },
   {
    "duration": 451,
    "start_time": "2022-08-28T10:56:18.873Z"
   },
   {
    "duration": 922,
    "start_time": "2022-08-28T11:05:06.108Z"
   },
   {
    "duration": 804,
    "start_time": "2022-08-28T11:05:51.554Z"
   },
   {
    "duration": 120,
    "start_time": "2022-08-28T11:08:11.995Z"
   },
   {
    "duration": 15,
    "start_time": "2022-08-28T11:08:28.471Z"
   },
   {
    "duration": 172,
    "start_time": "2022-08-28T11:08:54.815Z"
   },
   {
    "duration": 201,
    "start_time": "2022-08-28T11:10:03.903Z"
   },
   {
    "duration": 5,
    "start_time": "2022-08-28T11:10:44.557Z"
   },
   {
    "duration": 80,
    "start_time": "2022-08-28T11:10:44.563Z"
   },
   {
    "duration": 14,
    "start_time": "2022-08-28T11:10:44.645Z"
   },
   {
    "duration": 11,
    "start_time": "2022-08-28T11:10:44.661Z"
   },
   {
    "duration": 19,
    "start_time": "2022-08-28T11:10:44.674Z"
   },
   {
    "duration": 26,
    "start_time": "2022-08-28T11:10:44.695Z"
   },
   {
    "duration": 11,
    "start_time": "2022-08-28T11:10:44.723Z"
   },
   {
    "duration": 7,
    "start_time": "2022-08-28T11:10:44.736Z"
   },
   {
    "duration": 45,
    "start_time": "2022-08-28T11:10:44.745Z"
   },
   {
    "duration": 37,
    "start_time": "2022-08-28T11:10:44.791Z"
   },
   {
    "duration": 61,
    "start_time": "2022-08-28T11:10:44.831Z"
   },
   {
    "duration": 5,
    "start_time": "2022-08-28T11:10:44.895Z"
   },
   {
    "duration": 12,
    "start_time": "2022-08-28T11:10:44.902Z"
   },
   {
    "duration": 29,
    "start_time": "2022-08-28T11:10:44.915Z"
   },
   {
    "duration": 10,
    "start_time": "2022-08-28T11:10:44.946Z"
   },
   {
    "duration": 48852,
    "start_time": "2022-08-28T11:10:44.987Z"
   },
   {
    "duration": 278,
    "start_time": "2022-08-28T11:11:33.841Z"
   },
   {
    "duration": 706,
    "start_time": "2022-08-28T11:11:34.120Z"
   },
   {
    "duration": 15060,
    "start_time": "2022-08-28T11:11:34.828Z"
   },
   {
    "duration": 386,
    "start_time": "2022-08-28T11:11:49.894Z"
   },
   {
    "duration": 36,
    "start_time": "2022-08-28T11:11:50.287Z"
   },
   {
    "duration": 869,
    "start_time": "2022-08-28T11:11:50.325Z"
   },
   {
    "duration": 104,
    "start_time": "2022-08-28T11:11:51.197Z"
   },
   {
    "duration": 331,
    "start_time": "2022-08-28T11:11:51.303Z"
   },
   {
    "duration": 41,
    "start_time": "2022-08-28T11:11:51.636Z"
   },
   {
    "duration": 712,
    "start_time": "2022-08-28T11:11:51.686Z"
   },
   {
    "duration": 929,
    "start_time": "2022-08-28T11:11:52.402Z"
   },
   {
    "duration": 153,
    "start_time": "2022-08-28T11:11:53.335Z"
   },
   {
    "duration": 186,
    "start_time": "2022-08-28T11:11:53.491Z"
   },
   {
    "duration": 41,
    "start_time": "2022-08-28T11:11:53.679Z"
   },
   {
    "duration": 272,
    "start_time": "2022-08-28T11:11:53.722Z"
   },
   {
    "duration": 733,
    "start_time": "2022-08-28T11:11:53.997Z"
   },
   {
    "duration": 468,
    "start_time": "2022-08-28T11:11:54.734Z"
   },
   {
    "duration": 31,
    "start_time": "2022-08-28T11:11:55.204Z"
   },
   {
    "duration": 256,
    "start_time": "2022-08-28T11:11:55.236Z"
   },
   {
    "duration": 182,
    "start_time": "2022-08-28T11:11:55.494Z"
   },
   {
    "duration": 0,
    "start_time": "2022-08-28T11:11:55.677Z"
   },
   {
    "duration": 161,
    "start_time": "2022-08-28T11:13:51.459Z"
   },
   {
    "duration": 171,
    "start_time": "2022-08-28T11:16:35.574Z"
   },
   {
    "duration": 332,
    "start_time": "2022-08-28T11:17:45.166Z"
   },
   {
    "duration": 267,
    "start_time": "2022-08-28T11:19:10.342Z"
   },
   {
    "duration": 250,
    "start_time": "2022-08-28T11:20:36.233Z"
   },
   {
    "duration": 791,
    "start_time": "2022-08-28T11:23:25.614Z"
   },
   {
    "duration": 477,
    "start_time": "2022-08-28T11:23:46.646Z"
   },
   {
    "duration": 431,
    "start_time": "2022-08-28T11:24:42.519Z"
   },
   {
    "duration": 386,
    "start_time": "2022-08-28T11:26:22.662Z"
   },
   {
    "duration": 870,
    "start_time": "2022-08-28T11:27:40.781Z"
   },
   {
    "duration": 875,
    "start_time": "2022-08-28T11:28:20.277Z"
   },
   {
    "duration": 389,
    "start_time": "2022-08-28T11:28:53.235Z"
   },
   {
    "duration": 7,
    "start_time": "2022-08-28T11:29:06.339Z"
   },
   {
    "duration": 97,
    "start_time": "2022-08-28T11:29:06.349Z"
   },
   {
    "duration": 20,
    "start_time": "2022-08-28T11:29:06.449Z"
   },
   {
    "duration": 19,
    "start_time": "2022-08-28T11:29:06.488Z"
   },
   {
    "duration": 26,
    "start_time": "2022-08-28T11:29:06.511Z"
   },
   {
    "duration": 48,
    "start_time": "2022-08-28T11:29:06.539Z"
   },
   {
    "duration": 23,
    "start_time": "2022-08-28T11:29:06.589Z"
   },
   {
    "duration": 17,
    "start_time": "2022-08-28T11:29:06.614Z"
   },
   {
    "duration": 19,
    "start_time": "2022-08-28T11:29:06.633Z"
   },
   {
    "duration": 50,
    "start_time": "2022-08-28T11:29:06.654Z"
   },
   {
    "duration": 46,
    "start_time": "2022-08-28T11:29:06.706Z"
   },
   {
    "duration": 7,
    "start_time": "2022-08-28T11:29:06.754Z"
   },
   {
    "duration": 36,
    "start_time": "2022-08-28T11:29:06.763Z"
   },
   {
    "duration": 50,
    "start_time": "2022-08-28T11:29:06.804Z"
   },
   {
    "duration": 36,
    "start_time": "2022-08-28T11:29:06.856Z"
   },
   {
    "duration": 50611,
    "start_time": "2022-08-28T11:29:06.895Z"
   },
   {
    "duration": 314,
    "start_time": "2022-08-28T11:29:57.509Z"
   },
   {
    "duration": 850,
    "start_time": "2022-08-28T11:29:57.825Z"
   },
   {
    "duration": 11427,
    "start_time": "2022-08-28T11:29:58.677Z"
   },
   {
    "duration": 481,
    "start_time": "2022-08-28T11:30:10.106Z"
   },
   {
    "duration": 40,
    "start_time": "2022-08-28T11:30:10.589Z"
   },
   {
    "duration": 672,
    "start_time": "2022-08-28T11:30:10.630Z"
   },
   {
    "duration": 91,
    "start_time": "2022-08-28T11:30:11.306Z"
   },
   {
    "duration": 376,
    "start_time": "2022-08-28T11:30:11.399Z"
   },
   {
    "duration": 51,
    "start_time": "2022-08-28T11:30:11.777Z"
   },
   {
    "duration": 472,
    "start_time": "2022-08-28T11:30:11.833Z"
   },
   {
    "duration": 802,
    "start_time": "2022-08-28T11:30:12.392Z"
   },
   {
    "duration": 98,
    "start_time": "2022-08-28T11:30:13.198Z"
   },
   {
    "duration": 212,
    "start_time": "2022-08-28T11:30:13.299Z"
   },
   {
    "duration": 36,
    "start_time": "2022-08-28T11:30:13.513Z"
   },
   {
    "duration": 539,
    "start_time": "2022-08-28T11:30:13.551Z"
   },
   {
    "duration": 796,
    "start_time": "2022-08-28T11:30:14.093Z"
   },
   {
    "duration": 534,
    "start_time": "2022-08-28T11:30:14.891Z"
   },
   {
    "duration": 29,
    "start_time": "2022-08-28T11:30:15.428Z"
   },
   {
    "duration": 275,
    "start_time": "2022-08-28T11:30:15.458Z"
   },
   {
    "duration": 884,
    "start_time": "2022-08-28T11:30:15.735Z"
   },
   {
    "duration": 508,
    "start_time": "2022-08-28T11:30:16.621Z"
   },
   {
    "duration": 103,
    "start_time": "2022-08-28T12:26:03.544Z"
   },
   {
    "duration": 5,
    "start_time": "2022-08-28T12:37:40.439Z"
   },
   {
    "duration": 88,
    "start_time": "2022-08-28T12:37:40.446Z"
   },
   {
    "duration": 12,
    "start_time": "2022-08-28T12:37:40.536Z"
   },
   {
    "duration": 14,
    "start_time": "2022-08-28T12:37:40.549Z"
   },
   {
    "duration": 8,
    "start_time": "2022-08-28T12:37:40.565Z"
   },
   {
    "duration": 43,
    "start_time": "2022-08-28T12:37:40.575Z"
   },
   {
    "duration": 8,
    "start_time": "2022-08-28T12:37:40.620Z"
   },
   {
    "duration": 5,
    "start_time": "2022-08-28T12:37:40.629Z"
   },
   {
    "duration": 14,
    "start_time": "2022-08-28T12:37:40.635Z"
   },
   {
    "duration": 48,
    "start_time": "2022-08-28T12:37:40.650Z"
   },
   {
    "duration": 38,
    "start_time": "2022-08-28T12:37:40.708Z"
   },
   {
    "duration": 4,
    "start_time": "2022-08-28T12:37:40.747Z"
   },
   {
    "duration": 11,
    "start_time": "2022-08-28T12:37:40.752Z"
   },
   {
    "duration": 41,
    "start_time": "2022-08-28T12:37:40.765Z"
   },
   {
    "duration": 12,
    "start_time": "2022-08-28T12:37:40.810Z"
   },
   {
    "duration": 52432,
    "start_time": "2022-08-28T12:37:40.823Z"
   },
   {
    "duration": 286,
    "start_time": "2022-08-28T12:38:33.257Z"
   },
   {
    "duration": 761,
    "start_time": "2022-08-28T12:38:33.545Z"
   },
   {
    "duration": 19206,
    "start_time": "2022-08-28T12:38:34.309Z"
   },
   {
    "duration": 426,
    "start_time": "2022-08-28T12:38:53.517Z"
   },
   {
    "duration": 44,
    "start_time": "2022-08-28T12:38:53.946Z"
   },
   {
    "duration": 796,
    "start_time": "2022-08-28T12:38:53.992Z"
   },
   {
    "duration": 21,
    "start_time": "2022-08-28T12:38:54.790Z"
   },
   {
    "duration": 379,
    "start_time": "2022-08-28T12:38:54.887Z"
   },
   {
    "duration": 52,
    "start_time": "2022-08-28T12:38:55.268Z"
   },
   {
    "duration": 1369,
    "start_time": "2022-08-28T12:38:55.321Z"
   },
   {
    "duration": 799,
    "start_time": "2022-08-28T12:38:56.691Z"
   },
   {
    "duration": 101,
    "start_time": "2022-08-28T12:38:57.492Z"
   },
   {
    "duration": 218,
    "start_time": "2022-08-28T12:38:57.595Z"
   },
   {
    "duration": 25,
    "start_time": "2022-08-28T12:38:57.815Z"
   },
   {
    "duration": 576,
    "start_time": "2022-08-28T12:38:57.842Z"
   },
   {
    "duration": 789,
    "start_time": "2022-08-28T12:38:58.499Z"
   },
   {
    "duration": 449,
    "start_time": "2022-08-28T12:38:59.291Z"
   },
   {
    "duration": 26,
    "start_time": "2022-08-28T12:38:59.742Z"
   },
   {
    "duration": 283,
    "start_time": "2022-08-28T12:38:59.770Z"
   },
   {
    "duration": 816,
    "start_time": "2022-08-28T12:39:00.055Z"
   },
   {
    "duration": 392,
    "start_time": "2022-08-28T12:39:00.872Z"
   },
   {
    "duration": 4,
    "start_time": "2022-08-28T12:52:42.958Z"
   },
   {
    "duration": 10,
    "start_time": "2022-08-28T12:52:46.403Z"
   },
   {
    "duration": 116,
    "start_time": "2022-08-28T12:52:46.429Z"
   },
   {
    "duration": 16,
    "start_time": "2022-08-28T12:52:46.548Z"
   },
   {
    "duration": 85,
    "start_time": "2022-08-28T12:52:46.566Z"
   },
   {
    "duration": 8,
    "start_time": "2022-08-28T12:52:46.653Z"
   },
   {
    "duration": 36,
    "start_time": "2022-08-28T12:52:46.664Z"
   },
   {
    "duration": 15,
    "start_time": "2022-08-28T12:52:46.702Z"
   },
   {
    "duration": 25,
    "start_time": "2022-08-28T12:52:46.719Z"
   },
   {
    "duration": 14,
    "start_time": "2022-08-28T12:52:46.747Z"
   },
   {
    "duration": 47,
    "start_time": "2022-08-28T12:52:46.763Z"
   },
   {
    "duration": 55,
    "start_time": "2022-08-28T12:52:46.818Z"
   },
   {
    "duration": 4,
    "start_time": "2022-08-28T12:52:46.874Z"
   },
   {
    "duration": 15,
    "start_time": "2022-08-28T12:52:46.880Z"
   },
   {
    "duration": 60,
    "start_time": "2022-08-28T12:52:46.896Z"
   },
   {
    "duration": 9,
    "start_time": "2022-08-28T12:52:46.959Z"
   },
   {
    "duration": 53463,
    "start_time": "2022-08-28T12:52:46.970Z"
   },
   {
    "duration": 284,
    "start_time": "2022-08-28T12:53:40.434Z"
   },
   {
    "duration": 773,
    "start_time": "2022-08-28T12:53:40.720Z"
   },
   {
    "duration": 18695,
    "start_time": "2022-08-28T12:53:41.498Z"
   },
   {
    "duration": 374,
    "start_time": "2022-08-28T12:54:00.201Z"
   },
   {
    "duration": 64,
    "start_time": "2022-08-28T12:54:00.578Z"
   },
   {
    "duration": 658,
    "start_time": "2022-08-28T12:54:00.644Z"
   },
   {
    "duration": 105,
    "start_time": "2022-08-28T12:54:01.306Z"
   },
   {
    "duration": 446,
    "start_time": "2022-08-28T12:54:01.413Z"
   },
   {
    "duration": 60,
    "start_time": "2022-08-28T12:54:01.861Z"
   },
   {
    "duration": 1064,
    "start_time": "2022-08-28T12:54:01.923Z"
   },
   {
    "duration": 801,
    "start_time": "2022-08-28T12:54:02.989Z"
   },
   {
    "duration": 112,
    "start_time": "2022-08-28T12:54:03.795Z"
   },
   {
    "duration": 228,
    "start_time": "2022-08-28T12:54:03.911Z"
   },
   {
    "duration": 26,
    "start_time": "2022-08-28T12:54:04.141Z"
   },
   {
    "duration": 822,
    "start_time": "2022-08-28T12:54:04.168Z"
   },
   {
    "duration": 759,
    "start_time": "2022-08-28T12:54:04.992Z"
   },
   {
    "duration": 492,
    "start_time": "2022-08-28T12:54:05.791Z"
   },
   {
    "duration": 44,
    "start_time": "2022-08-28T12:54:06.285Z"
   },
   {
    "duration": 320,
    "start_time": "2022-08-28T12:54:06.330Z"
   },
   {
    "duration": 825,
    "start_time": "2022-08-28T12:54:06.652Z"
   },
   {
    "duration": 383,
    "start_time": "2022-08-28T12:54:07.478Z"
   },
   {
    "duration": 943,
    "start_time": "2022-08-28T13:07:34.241Z"
   },
   {
    "duration": 1515,
    "start_time": "2022-08-29T08:52:21.003Z"
   },
   {
    "duration": 103,
    "start_time": "2022-08-29T08:52:22.520Z"
   },
   {
    "duration": 10,
    "start_time": "2022-08-29T08:52:22.624Z"
   },
   {
    "duration": 19,
    "start_time": "2022-08-29T08:52:22.636Z"
   },
   {
    "duration": 16,
    "start_time": "2022-08-29T08:52:22.656Z"
   },
   {
    "duration": 26,
    "start_time": "2022-08-29T08:52:22.673Z"
   },
   {
    "duration": 7,
    "start_time": "2022-08-29T08:52:22.700Z"
   },
   {
    "duration": 8,
    "start_time": "2022-08-29T08:52:22.708Z"
   },
   {
    "duration": 9,
    "start_time": "2022-08-29T08:52:22.717Z"
   },
   {
    "duration": 36,
    "start_time": "2022-08-29T08:52:22.728Z"
   },
   {
    "duration": 40,
    "start_time": "2022-08-29T08:52:22.765Z"
   },
   {
    "duration": 4,
    "start_time": "2022-08-29T08:52:22.807Z"
   },
   {
    "duration": 10,
    "start_time": "2022-08-29T08:52:22.812Z"
   },
   {
    "duration": 28,
    "start_time": "2022-08-29T08:52:22.823Z"
   },
   {
    "duration": 9,
    "start_time": "2022-08-29T08:52:22.852Z"
   },
   {
    "duration": 46660,
    "start_time": "2022-08-29T08:52:22.862Z"
   },
   {
    "duration": 256,
    "start_time": "2022-08-29T08:53:09.523Z"
   },
   {
    "duration": 742,
    "start_time": "2022-08-29T08:53:09.781Z"
   },
   {
    "duration": 10774,
    "start_time": "2022-08-29T08:53:10.525Z"
   },
   {
    "duration": 343,
    "start_time": "2022-08-29T08:53:21.302Z"
   },
   {
    "duration": 32,
    "start_time": "2022-08-29T08:53:21.646Z"
   },
   {
    "duration": 322,
    "start_time": "2022-08-29T08:53:21.680Z"
   },
   {
    "duration": 105,
    "start_time": "2022-08-29T08:53:22.003Z"
   },
   {
    "duration": 337,
    "start_time": "2022-08-29T08:53:22.110Z"
   },
   {
    "duration": 37,
    "start_time": "2022-08-29T08:53:22.448Z"
   },
   {
    "duration": 520,
    "start_time": "2022-08-29T08:53:22.487Z"
   },
   {
    "duration": 601,
    "start_time": "2022-08-29T08:53:23.099Z"
   },
   {
    "duration": 104,
    "start_time": "2022-08-29T08:53:23.704Z"
   },
   {
    "duration": 166,
    "start_time": "2022-08-29T08:53:23.899Z"
   },
   {
    "duration": 22,
    "start_time": "2022-08-29T08:53:24.066Z"
   },
   {
    "duration": 508,
    "start_time": "2022-08-29T08:53:24.097Z"
   },
   {
    "duration": 798,
    "start_time": "2022-08-29T08:53:24.606Z"
   },
   {
    "duration": 482,
    "start_time": "2022-08-29T08:53:25.405Z"
   },
   {
    "duration": 30,
    "start_time": "2022-08-29T08:53:25.888Z"
   },
   {
    "duration": 229,
    "start_time": "2022-08-29T08:53:25.920Z"
   },
   {
    "duration": 240,
    "start_time": "2022-08-29T08:53:26.151Z"
   },
   {
    "duration": 0,
    "start_time": "2022-08-29T08:53:26.398Z"
   },
   {
    "duration": 245,
    "start_time": "2022-08-29T10:03:47.635Z"
   },
   {
    "duration": 43,
    "start_time": "2022-08-29T15:33:42.939Z"
   },
   {
    "duration": 11,
    "start_time": "2022-08-29T15:35:37.119Z"
   },
   {
    "duration": 1491,
    "start_time": "2022-08-29T15:35:45.203Z"
   },
   {
    "duration": 112,
    "start_time": "2022-08-29T15:35:46.696Z"
   },
   {
    "duration": 12,
    "start_time": "2022-08-29T15:35:46.809Z"
   },
   {
    "duration": 11,
    "start_time": "2022-08-29T15:35:46.823Z"
   },
   {
    "duration": 17,
    "start_time": "2022-08-29T15:35:46.835Z"
   },
   {
    "duration": 21,
    "start_time": "2022-08-29T15:35:46.854Z"
   },
   {
    "duration": 27,
    "start_time": "2022-08-29T15:35:46.876Z"
   },
   {
    "duration": 6,
    "start_time": "2022-08-29T15:35:46.905Z"
   },
   {
    "duration": 20,
    "start_time": "2022-08-29T15:35:46.912Z"
   },
   {
    "duration": 26,
    "start_time": "2022-08-29T15:35:46.934Z"
   },
   {
    "duration": 53,
    "start_time": "2022-08-29T15:35:46.962Z"
   },
   {
    "duration": 4,
    "start_time": "2022-08-29T15:35:47.017Z"
   },
   {
    "duration": 12,
    "start_time": "2022-08-29T15:35:47.023Z"
   },
   {
    "duration": 42,
    "start_time": "2022-08-29T15:35:47.037Z"
   },
   {
    "duration": 24,
    "start_time": "2022-08-29T15:35:47.080Z"
   },
   {
    "duration": 44577,
    "start_time": "2022-08-29T15:35:47.106Z"
   },
   {
    "duration": 263,
    "start_time": "2022-08-29T15:36:31.684Z"
   },
   {
    "duration": 694,
    "start_time": "2022-08-29T15:36:31.949Z"
   },
   {
    "duration": 10756,
    "start_time": "2022-08-29T15:36:32.645Z"
   },
   {
    "duration": 379,
    "start_time": "2022-08-29T15:36:43.403Z"
   },
   {
    "duration": 48,
    "start_time": "2022-08-29T15:36:43.785Z"
   },
   {
    "duration": 373,
    "start_time": "2022-08-29T15:36:43.835Z"
   },
   {
    "duration": 192,
    "start_time": "2022-08-29T15:36:44.210Z"
   },
   {
    "duration": 379,
    "start_time": "2022-08-29T15:36:44.404Z"
   },
   {
    "duration": 46,
    "start_time": "2022-08-29T15:36:44.785Z"
   },
   {
    "duration": 675,
    "start_time": "2022-08-29T15:36:44.833Z"
   },
   {
    "duration": 708,
    "start_time": "2022-08-29T15:36:45.599Z"
   },
   {
    "duration": 101,
    "start_time": "2022-08-29T15:36:46.311Z"
   },
   {
    "duration": 194,
    "start_time": "2022-08-29T15:36:46.500Z"
   },
   {
    "duration": 28,
    "start_time": "2022-08-29T15:36:46.699Z"
   },
   {
    "duration": 372,
    "start_time": "2022-08-29T15:36:46.729Z"
   },
   {
    "duration": 802,
    "start_time": "2022-08-29T15:36:47.104Z"
   },
   {
    "duration": 525,
    "start_time": "2022-08-29T15:36:47.908Z"
   },
   {
    "duration": 28,
    "start_time": "2022-08-29T15:36:48.434Z"
   },
   {
    "duration": 262,
    "start_time": "2022-08-29T15:36:48.464Z"
   },
   {
    "duration": 81,
    "start_time": "2022-08-29T15:36:48.729Z"
   },
   {
    "duration": 0,
    "start_time": "2022-08-29T15:36:48.812Z"
   },
   {
    "duration": 0,
    "start_time": "2022-08-29T15:36:48.813Z"
   },
   {
    "duration": 134,
    "start_time": "2022-08-29T15:42:54.684Z"
   },
   {
    "duration": 261,
    "start_time": "2022-08-29T15:43:05.264Z"
   },
   {
    "duration": 148,
    "start_time": "2022-08-29T15:43:39.995Z"
   },
   {
    "duration": 3,
    "start_time": "2022-08-29T15:45:08.665Z"
   },
   {
    "duration": 353,
    "start_time": "2022-08-29T15:45:10.814Z"
   },
   {
    "duration": 705,
    "start_time": "2022-08-29T15:45:26.279Z"
   },
   {
    "duration": 4,
    "start_time": "2022-08-29T15:47:35.344Z"
   },
   {
    "duration": 4,
    "start_time": "2022-08-29T15:47:54.775Z"
   },
   {
    "duration": 67,
    "start_time": "2022-08-29T15:47:54.780Z"
   },
   {
    "duration": 12,
    "start_time": "2022-08-29T15:47:54.850Z"
   },
   {
    "duration": 8,
    "start_time": "2022-08-29T15:47:54.863Z"
   },
   {
    "duration": 27,
    "start_time": "2022-08-29T15:47:54.874Z"
   },
   {
    "duration": 20,
    "start_time": "2022-08-29T15:47:54.903Z"
   },
   {
    "duration": 9,
    "start_time": "2022-08-29T15:47:54.925Z"
   },
   {
    "duration": 5,
    "start_time": "2022-08-29T15:47:54.935Z"
   },
   {
    "duration": 7,
    "start_time": "2022-08-29T15:47:54.942Z"
   },
   {
    "duration": 60,
    "start_time": "2022-08-29T15:47:54.950Z"
   },
   {
    "duration": 34,
    "start_time": "2022-08-29T15:47:55.013Z"
   },
   {
    "duration": 5,
    "start_time": "2022-08-29T15:47:55.049Z"
   },
   {
    "duration": 9,
    "start_time": "2022-08-29T15:47:55.055Z"
   },
   {
    "duration": 54,
    "start_time": "2022-08-29T15:47:55.066Z"
   },
   {
    "duration": 9,
    "start_time": "2022-08-29T15:47:55.123Z"
   },
   {
    "duration": 44219,
    "start_time": "2022-08-29T15:47:55.133Z"
   },
   {
    "duration": 243,
    "start_time": "2022-08-29T15:48:39.353Z"
   },
   {
    "duration": 673,
    "start_time": "2022-08-29T15:48:39.600Z"
   },
   {
    "duration": 11432,
    "start_time": "2022-08-29T15:48:40.275Z"
   },
   {
    "duration": 423,
    "start_time": "2022-08-29T15:48:51.709Z"
   },
   {
    "duration": 32,
    "start_time": "2022-08-29T15:48:52.134Z"
   },
   {
    "duration": 334,
    "start_time": "2022-08-29T15:48:52.167Z"
   },
   {
    "duration": 104,
    "start_time": "2022-08-29T15:48:52.504Z"
   },
   {
    "duration": 304,
    "start_time": "2022-08-29T15:48:52.610Z"
   },
   {
    "duration": 35,
    "start_time": "2022-08-29T15:48:52.915Z"
   },
   {
    "duration": 649,
    "start_time": "2022-08-29T15:48:52.951Z"
   },
   {
    "duration": 698,
    "start_time": "2022-08-29T15:48:53.602Z"
   },
   {
    "duration": 102,
    "start_time": "2022-08-29T15:48:54.303Z"
   },
   {
    "duration": 172,
    "start_time": "2022-08-29T15:48:54.409Z"
   },
   {
    "duration": 31,
    "start_time": "2022-08-29T15:48:54.582Z"
   },
   {
    "duration": 293,
    "start_time": "2022-08-29T15:48:54.614Z"
   },
   {
    "duration": 695,
    "start_time": "2022-08-29T15:48:54.909Z"
   },
   {
    "duration": 479,
    "start_time": "2022-08-29T15:48:55.606Z"
   },
   {
    "duration": 30,
    "start_time": "2022-08-29T15:48:56.087Z"
   },
   {
    "duration": 205,
    "start_time": "2022-08-29T15:48:56.118Z"
   },
   {
    "duration": 647,
    "start_time": "2022-08-29T15:48:56.325Z"
   },
   {
    "duration": 263,
    "start_time": "2022-08-29T15:48:56.974Z"
   },
   {
    "duration": 59474,
    "start_time": "2022-08-29T16:04:23.123Z"
   },
   {
    "duration": 309,
    "start_time": "2022-08-29T16:05:54.074Z"
   },
   {
    "duration": 302,
    "start_time": "2022-08-29T16:06:32.480Z"
   },
   {
    "duration": 329,
    "start_time": "2022-08-29T16:06:56.978Z"
   },
   {
    "duration": 312,
    "start_time": "2022-08-29T16:07:11.914Z"
   },
   {
    "duration": 303,
    "start_time": "2022-08-29T16:07:30.209Z"
   },
   {
    "duration": 94,
    "start_time": "2022-08-30T06:37:35.945Z"
   },
   {
    "duration": 45,
    "start_time": "2022-08-30T06:37:50.526Z"
   },
   {
    "duration": 1593,
    "start_time": "2022-08-30T06:38:17.505Z"
   },
   {
    "duration": 196,
    "start_time": "2022-08-30T06:38:19.100Z"
   },
   {
    "duration": 13,
    "start_time": "2022-08-30T06:38:24.662Z"
   },
   {
    "duration": 9,
    "start_time": "2022-08-30T06:38:30.511Z"
   },
   {
    "duration": 9,
    "start_time": "2022-08-30T06:38:34.384Z"
   },
   {
    "duration": 27,
    "start_time": "2022-08-30T06:38:39.346Z"
   },
   {
    "duration": 8,
    "start_time": "2022-08-30T06:38:43.563Z"
   },
   {
    "duration": 7,
    "start_time": "2022-08-30T06:38:48.588Z"
   },
   {
    "duration": 6,
    "start_time": "2022-08-30T06:38:49.565Z"
   },
   {
    "duration": 28,
    "start_time": "2022-08-30T06:38:51.547Z"
   },
   {
    "duration": 44,
    "start_time": "2022-08-30T06:38:57.279Z"
   },
   {
    "duration": 5,
    "start_time": "2022-08-30T06:39:07.492Z"
   },
   {
    "duration": 10,
    "start_time": "2022-08-30T06:39:08.828Z"
   },
   {
    "duration": 28,
    "start_time": "2022-08-30T06:39:13.565Z"
   },
   {
    "duration": 11,
    "start_time": "2022-08-30T06:39:17.290Z"
   },
   {
    "duration": 212,
    "start_time": "2022-08-30T06:39:20.935Z"
   },
   {
    "duration": 99,
    "start_time": "2022-08-30T06:40:08.579Z"
   },
   {
    "duration": 1500,
    "start_time": "2022-08-30T17:05:46.662Z"
   },
   {
    "duration": 118,
    "start_time": "2022-08-30T17:05:48.165Z"
   },
   {
    "duration": 11,
    "start_time": "2022-08-30T17:05:48.285Z"
   },
   {
    "duration": 11,
    "start_time": "2022-08-30T17:05:48.298Z"
   },
   {
    "duration": 10,
    "start_time": "2022-08-30T17:05:48.312Z"
   },
   {
    "duration": 26,
    "start_time": "2022-08-30T17:05:48.323Z"
   },
   {
    "duration": 7,
    "start_time": "2022-08-30T17:05:48.350Z"
   },
   {
    "duration": 5,
    "start_time": "2022-08-30T17:05:48.359Z"
   },
   {
    "duration": 7,
    "start_time": "2022-08-30T17:05:48.366Z"
   },
   {
    "duration": 24,
    "start_time": "2022-08-30T17:05:48.411Z"
   },
   {
    "duration": 74,
    "start_time": "2022-08-30T17:05:48.437Z"
   },
   {
    "duration": 5,
    "start_time": "2022-08-30T17:05:48.512Z"
   },
   {
    "duration": 11,
    "start_time": "2022-08-30T17:05:48.518Z"
   },
   {
    "duration": 22,
    "start_time": "2022-08-30T17:05:48.532Z"
   },
   {
    "duration": 9,
    "start_time": "2022-08-30T17:05:48.556Z"
   },
   {
    "duration": 4,
    "start_time": "2022-08-30T17:05:48.566Z"
   },
   {
    "duration": 128,
    "start_time": "2022-08-30T17:05:48.572Z"
   },
   {
    "duration": 48526,
    "start_time": "2022-08-30T17:05:48.710Z"
   },
   {
    "duration": 285,
    "start_time": "2022-08-30T17:06:37.238Z"
   },
   {
    "duration": 781,
    "start_time": "2022-08-30T17:06:37.525Z"
   },
   {
    "duration": 11702,
    "start_time": "2022-08-30T17:06:38.310Z"
   },
   {
    "duration": 348,
    "start_time": "2022-08-30T17:06:50.013Z"
   },
   {
    "duration": 33,
    "start_time": "2022-08-30T17:06:50.362Z"
   },
   {
    "duration": 320,
    "start_time": "2022-08-30T17:06:50.397Z"
   },
   {
    "duration": 96,
    "start_time": "2022-08-30T17:06:50.719Z"
   },
   {
    "duration": 66093,
    "start_time": "2022-08-30T17:06:50.817Z"
   },
   {
    "duration": 350,
    "start_time": "2022-08-30T17:07:56.911Z"
   },
   {
    "duration": 39,
    "start_time": "2022-08-30T17:07:57.262Z"
   },
   {
    "duration": 309,
    "start_time": "2022-08-30T17:07:57.312Z"
   },
   {
    "duration": 748,
    "start_time": "2022-08-30T17:07:57.624Z"
   },
   {
    "duration": 104,
    "start_time": "2022-08-30T17:07:58.412Z"
   },
   {
    "duration": 177,
    "start_time": "2022-08-30T17:07:58.518Z"
   },
   {
    "duration": 30,
    "start_time": "2022-08-30T17:07:58.696Z"
   },
   {
    "duration": 289,
    "start_time": "2022-08-30T17:07:58.727Z"
   },
   {
    "duration": 594,
    "start_time": "2022-08-30T17:07:59.018Z"
   },
   {
    "duration": 491,
    "start_time": "2022-08-30T17:07:59.614Z"
   },
   {
    "duration": 25,
    "start_time": "2022-08-30T17:08:00.110Z"
   },
   {
    "duration": 220,
    "start_time": "2022-08-30T17:08:00.137Z"
   },
   {
    "duration": 754,
    "start_time": "2022-08-30T17:08:00.359Z"
   },
   {
    "duration": 271,
    "start_time": "2022-08-30T17:08:01.115Z"
   },
   {
    "duration": 1114,
    "start_time": "2022-08-30T17:10:40.069Z"
   },
   {
    "duration": 90,
    "start_time": "2022-08-30T17:11:55.894Z"
   },
   {
    "duration": 119,
    "start_time": "2022-08-30T17:19:03.537Z"
   },
   {
    "duration": 10,
    "start_time": "2022-08-30T17:20:15.302Z"
   },
   {
    "duration": 1575,
    "start_time": "2022-08-31T07:57:34.196Z"
   },
   {
    "duration": 102,
    "start_time": "2022-08-31T07:57:35.773Z"
   },
   {
    "duration": 11,
    "start_time": "2022-08-31T07:57:35.877Z"
   },
   {
    "duration": 11,
    "start_time": "2022-08-31T07:57:35.890Z"
   },
   {
    "duration": 14,
    "start_time": "2022-08-31T07:57:35.903Z"
   },
   {
    "duration": 9,
    "start_time": "2022-08-31T07:57:35.918Z"
   },
   {
    "duration": 22,
    "start_time": "2022-08-31T07:57:35.929Z"
   },
   {
    "duration": 9,
    "start_time": "2022-08-31T07:57:35.953Z"
   },
   {
    "duration": 7,
    "start_time": "2022-08-31T07:57:35.964Z"
   },
   {
    "duration": 25,
    "start_time": "2022-08-31T07:57:35.974Z"
   },
   {
    "duration": 23,
    "start_time": "2022-08-31T07:57:36.001Z"
   },
   {
    "duration": 35,
    "start_time": "2022-08-31T07:57:36.026Z"
   },
   {
    "duration": 35,
    "start_time": "2022-08-31T07:57:36.063Z"
   },
   {
    "duration": 9,
    "start_time": "2022-08-31T07:57:36.100Z"
   },
   {
    "duration": 34,
    "start_time": "2022-08-31T07:57:36.110Z"
   },
   {
    "duration": 11,
    "start_time": "2022-08-31T07:57:36.145Z"
   },
   {
    "duration": 7,
    "start_time": "2022-08-31T07:57:36.158Z"
   },
   {
    "duration": 136,
    "start_time": "2022-08-31T07:57:36.167Z"
   },
   {
    "duration": 47830,
    "start_time": "2022-08-31T07:57:36.304Z"
   },
   {
    "duration": 257,
    "start_time": "2022-08-31T07:58:24.135Z"
   },
   {
    "duration": 797,
    "start_time": "2022-08-31T07:58:24.399Z"
   },
   {
    "duration": 9801,
    "start_time": "2022-08-31T07:58:25.199Z"
   },
   {
    "duration": 359,
    "start_time": "2022-08-31T07:58:35.002Z"
   },
   {
    "duration": 50,
    "start_time": "2022-08-31T07:58:35.363Z"
   },
   {
    "duration": 391,
    "start_time": "2022-08-31T07:58:35.414Z"
   },
   {
    "duration": 103,
    "start_time": "2022-08-31T07:58:35.806Z"
   },
   {
    "duration": 63969,
    "start_time": "2022-08-31T07:58:35.911Z"
   },
   {
    "duration": 342,
    "start_time": "2022-08-31T07:59:39.883Z"
   },
   {
    "duration": 51,
    "start_time": "2022-08-31T07:59:40.227Z"
   },
   {
    "duration": 420,
    "start_time": "2022-08-31T07:59:40.279Z"
   },
   {
    "duration": 654,
    "start_time": "2022-08-31T07:59:40.701Z"
   },
   {
    "duration": 54,
    "start_time": "2022-08-31T07:59:41.357Z"
   },
   {
    "duration": 265,
    "start_time": "2022-08-31T07:59:41.412Z"
   },
   {
    "duration": 30,
    "start_time": "2022-08-31T07:59:41.679Z"
   },
   {
    "duration": 295,
    "start_time": "2022-08-31T07:59:41.711Z"
   },
   {
    "duration": 694,
    "start_time": "2022-08-31T07:59:42.008Z"
   },
   {
    "duration": 480,
    "start_time": "2022-08-31T07:59:42.704Z"
   },
   {
    "duration": 29,
    "start_time": "2022-08-31T07:59:43.186Z"
   },
   {
    "duration": 210,
    "start_time": "2022-08-31T07:59:43.217Z"
   },
   {
    "duration": 669,
    "start_time": "2022-08-31T07:59:43.429Z"
   },
   {
    "duration": 256,
    "start_time": "2022-08-31T07:59:44.100Z"
   },
   {
    "duration": 4,
    "start_time": "2022-08-31T08:01:33.882Z"
   },
   {
    "duration": 446,
    "start_time": "2022-08-31T08:02:57.180Z"
   },
   {
    "duration": 403,
    "start_time": "2022-08-31T08:03:19.630Z"
   },
   {
    "duration": 12,
    "start_time": "2022-08-31T08:12:01.392Z"
   },
   {
    "duration": 4,
    "start_time": "2022-08-31T08:12:35.522Z"
   },
   {
    "duration": 60,
    "start_time": "2022-08-31T08:12:35.527Z"
   },
   {
    "duration": 173,
    "start_time": "2022-08-31T08:12:35.589Z"
   },
   {
    "duration": 0,
    "start_time": "2022-08-31T08:12:35.764Z"
   },
   {
    "duration": 0,
    "start_time": "2022-08-31T08:12:35.765Z"
   },
   {
    "duration": 0,
    "start_time": "2022-08-31T08:12:35.767Z"
   },
   {
    "duration": 0,
    "start_time": "2022-08-31T08:12:35.768Z"
   },
   {
    "duration": 0,
    "start_time": "2022-08-31T08:12:35.768Z"
   },
   {
    "duration": 0,
    "start_time": "2022-08-31T08:12:35.769Z"
   },
   {
    "duration": 0,
    "start_time": "2022-08-31T08:12:35.770Z"
   },
   {
    "duration": 0,
    "start_time": "2022-08-31T08:12:35.771Z"
   },
   {
    "duration": 0,
    "start_time": "2022-08-31T08:12:35.771Z"
   },
   {
    "duration": 0,
    "start_time": "2022-08-31T08:12:35.772Z"
   },
   {
    "duration": 0,
    "start_time": "2022-08-31T08:12:35.773Z"
   },
   {
    "duration": 0,
    "start_time": "2022-08-31T08:12:35.774Z"
   },
   {
    "duration": 0,
    "start_time": "2022-08-31T08:12:35.775Z"
   },
   {
    "duration": 0,
    "start_time": "2022-08-31T08:12:35.775Z"
   },
   {
    "duration": 0,
    "start_time": "2022-08-31T08:12:35.776Z"
   },
   {
    "duration": 0,
    "start_time": "2022-08-31T08:12:35.777Z"
   },
   {
    "duration": 0,
    "start_time": "2022-08-31T08:12:35.778Z"
   },
   {
    "duration": 0,
    "start_time": "2022-08-31T08:12:35.779Z"
   },
   {
    "duration": 0,
    "start_time": "2022-08-31T08:12:35.780Z"
   },
   {
    "duration": 0,
    "start_time": "2022-08-31T08:12:35.781Z"
   },
   {
    "duration": 1,
    "start_time": "2022-08-31T08:12:35.782Z"
   },
   {
    "duration": 0,
    "start_time": "2022-08-31T08:12:35.783Z"
   },
   {
    "duration": 0,
    "start_time": "2022-08-31T08:12:35.784Z"
   },
   {
    "duration": 0,
    "start_time": "2022-08-31T08:12:35.785Z"
   },
   {
    "duration": 0,
    "start_time": "2022-08-31T08:12:35.786Z"
   },
   {
    "duration": 0,
    "start_time": "2022-08-31T08:12:35.787Z"
   },
   {
    "duration": 0,
    "start_time": "2022-08-31T08:12:35.788Z"
   },
   {
    "duration": 0,
    "start_time": "2022-08-31T08:12:35.789Z"
   },
   {
    "duration": 0,
    "start_time": "2022-08-31T08:12:35.789Z"
   },
   {
    "duration": 0,
    "start_time": "2022-08-31T08:12:35.790Z"
   },
   {
    "duration": 0,
    "start_time": "2022-08-31T08:12:35.791Z"
   },
   {
    "duration": 0,
    "start_time": "2022-08-31T08:12:35.792Z"
   },
   {
    "duration": 0,
    "start_time": "2022-08-31T08:12:35.793Z"
   },
   {
    "duration": 0,
    "start_time": "2022-08-31T08:12:35.794Z"
   },
   {
    "duration": 0,
    "start_time": "2022-08-31T08:12:35.794Z"
   },
   {
    "duration": 0,
    "start_time": "2022-08-31T08:12:35.795Z"
   },
   {
    "duration": 0,
    "start_time": "2022-08-31T08:12:35.796Z"
   },
   {
    "duration": 0,
    "start_time": "2022-08-31T08:12:35.797Z"
   },
   {
    "duration": 3,
    "start_time": "2022-08-31T08:13:18.463Z"
   },
   {
    "duration": 13,
    "start_time": "2022-08-31T08:13:19.652Z"
   },
   {
    "duration": 4,
    "start_time": "2022-08-31T08:18:14.159Z"
   },
   {
    "duration": 57,
    "start_time": "2022-08-31T08:18:14.165Z"
   },
   {
    "duration": 2,
    "start_time": "2022-08-31T08:18:14.223Z"
   },
   {
    "duration": 13,
    "start_time": "2022-08-31T08:18:14.226Z"
   },
   {
    "duration": 6,
    "start_time": "2022-08-31T08:18:14.241Z"
   },
   {
    "duration": 10,
    "start_time": "2022-08-31T08:18:14.248Z"
   },
   {
    "duration": 48,
    "start_time": "2022-08-31T08:18:14.259Z"
   },
   {
    "duration": 7,
    "start_time": "2022-08-31T08:18:14.309Z"
   },
   {
    "duration": 5,
    "start_time": "2022-08-31T08:18:14.317Z"
   },
   {
    "duration": 6,
    "start_time": "2022-08-31T08:18:14.323Z"
   },
   {
    "duration": 23,
    "start_time": "2022-08-31T08:18:14.331Z"
   },
   {
    "duration": 62,
    "start_time": "2022-08-31T08:18:14.356Z"
   },
   {
    "duration": 5,
    "start_time": "2022-08-31T08:18:14.420Z"
   },
   {
    "duration": 18,
    "start_time": "2022-08-31T08:18:14.427Z"
   },
   {
    "duration": 33,
    "start_time": "2022-08-31T08:18:14.446Z"
   },
   {
    "duration": 12,
    "start_time": "2022-08-31T08:18:14.499Z"
   },
   {
    "duration": 11,
    "start_time": "2022-08-31T08:18:14.512Z"
   },
   {
    "duration": 115,
    "start_time": "2022-08-31T08:18:14.525Z"
   },
   {
    "duration": 47526,
    "start_time": "2022-08-31T08:18:14.642Z"
   },
   {
    "duration": 272,
    "start_time": "2022-08-31T08:19:02.170Z"
   },
   {
    "duration": 735,
    "start_time": "2022-08-31T08:19:02.443Z"
   },
   {
    "duration": 10026,
    "start_time": "2022-08-31T08:19:03.180Z"
   },
   {
    "duration": 329,
    "start_time": "2022-08-31T08:19:13.299Z"
   },
   {
    "duration": 35,
    "start_time": "2022-08-31T08:19:13.629Z"
   },
   {
    "duration": 341,
    "start_time": "2022-08-31T08:19:13.665Z"
   },
   {
    "duration": 106,
    "start_time": "2022-08-31T08:19:14.097Z"
   },
   {
    "duration": 64747,
    "start_time": "2022-08-31T08:19:14.205Z"
   },
   {
    "duration": 341,
    "start_time": "2022-08-31T08:20:18.953Z"
   },
   {
    "duration": 38,
    "start_time": "2022-08-31T08:20:19.298Z"
   },
   {
    "duration": 374,
    "start_time": "2022-08-31T08:20:19.338Z"
   },
   {
    "duration": 608,
    "start_time": "2022-08-31T08:20:19.801Z"
   },
   {
    "duration": 187,
    "start_time": "2022-08-31T08:20:20.411Z"
   },
   {
    "duration": 172,
    "start_time": "2022-08-31T08:20:20.600Z"
   },
   {
    "duration": 32,
    "start_time": "2022-08-31T08:20:20.773Z"
   },
   {
    "duration": 293,
    "start_time": "2022-08-31T08:20:20.806Z"
   },
   {
    "duration": 597,
    "start_time": "2022-08-31T08:20:21.103Z"
   },
   {
    "duration": 501,
    "start_time": "2022-08-31T08:20:21.702Z"
   },
   {
    "duration": 25,
    "start_time": "2022-08-31T08:20:22.205Z"
   },
   {
    "duration": 229,
    "start_time": "2022-08-31T08:20:22.232Z"
   },
   {
    "duration": 663,
    "start_time": "2022-08-31T08:20:22.463Z"
   },
   {
    "duration": 248,
    "start_time": "2022-08-31T08:20:23.127Z"
   },
   {
    "duration": 3,
    "start_time": "2022-08-31T08:37:42.310Z"
   },
   {
    "duration": 2,
    "start_time": "2022-08-31T08:40:31.723Z"
   },
   {
    "duration": 11,
    "start_time": "2022-08-31T08:40:39.208Z"
   },
   {
    "duration": 5,
    "start_time": "2022-08-31T08:44:32.667Z"
   },
   {
    "duration": 14,
    "start_time": "2022-08-31T08:44:32.674Z"
   },
   {
    "duration": 61,
    "start_time": "2022-08-31T08:44:32.689Z"
   },
   {
    "duration": 1,
    "start_time": "2022-08-31T08:44:32.752Z"
   },
   {
    "duration": 15,
    "start_time": "2022-08-31T08:44:32.755Z"
   },
   {
    "duration": 11,
    "start_time": "2022-08-31T08:44:32.771Z"
   },
   {
    "duration": 15,
    "start_time": "2022-08-31T08:44:32.783Z"
   },
   {
    "duration": 7,
    "start_time": "2022-08-31T08:44:32.799Z"
   },
   {
    "duration": 77,
    "start_time": "2022-08-31T08:44:32.808Z"
   },
   {
    "duration": 18,
    "start_time": "2022-08-31T08:44:32.898Z"
   },
   {
    "duration": 7,
    "start_time": "2022-08-31T08:44:32.917Z"
   },
   {
    "duration": 5,
    "start_time": "2022-08-31T08:44:32.925Z"
   },
   {
    "duration": 8,
    "start_time": "2022-08-31T08:44:32.932Z"
   },
   {
    "duration": 24,
    "start_time": "2022-08-31T08:44:32.941Z"
   },
   {
    "duration": 62,
    "start_time": "2022-08-31T08:44:32.966Z"
   },
   {
    "duration": 4,
    "start_time": "2022-08-31T08:44:33.029Z"
   },
   {
    "duration": 11,
    "start_time": "2022-08-31T08:44:33.035Z"
   },
   {
    "duration": 51,
    "start_time": "2022-08-31T08:44:33.048Z"
   },
   {
    "duration": 9,
    "start_time": "2022-08-31T08:44:33.101Z"
   },
   {
    "duration": 6,
    "start_time": "2022-08-31T08:44:33.112Z"
   },
   {
    "duration": 96,
    "start_time": "2022-08-31T08:44:33.119Z"
   },
   {
    "duration": 48630,
    "start_time": "2022-08-31T08:44:33.217Z"
   },
   {
    "duration": 274,
    "start_time": "2022-08-31T08:45:21.849Z"
   },
   {
    "duration": 751,
    "start_time": "2022-08-31T08:45:22.126Z"
   },
   {
    "duration": 10428,
    "start_time": "2022-08-31T08:45:22.878Z"
   },
   {
    "duration": 439,
    "start_time": "2022-08-31T08:45:33.307Z"
   },
   {
    "duration": 31,
    "start_time": "2022-08-31T08:45:33.747Z"
   },
   {
    "duration": 325,
    "start_time": "2022-08-31T08:45:33.780Z"
   },
   {
    "duration": 103,
    "start_time": "2022-08-31T08:45:34.107Z"
   },
   {
    "duration": 63584,
    "start_time": "2022-08-31T08:45:34.299Z"
   },
   {
    "duration": 342,
    "start_time": "2022-08-31T08:46:37.884Z"
   },
   {
    "duration": 38,
    "start_time": "2022-08-31T08:46:38.227Z"
   },
   {
    "duration": 544,
    "start_time": "2022-08-31T08:46:38.266Z"
   },
   {
    "duration": 694,
    "start_time": "2022-08-31T08:46:38.811Z"
   },
   {
    "duration": 192,
    "start_time": "2022-08-31T08:46:39.507Z"
   },
   {
    "duration": 170,
    "start_time": "2022-08-31T08:46:39.701Z"
   },
   {
    "duration": 32,
    "start_time": "2022-08-31T08:46:39.873Z"
   },
   {
    "duration": 495,
    "start_time": "2022-08-31T08:46:39.907Z"
   },
   {
    "duration": 595,
    "start_time": "2022-08-31T08:46:40.404Z"
   },
   {
    "duration": 524,
    "start_time": "2022-08-31T08:46:41.000Z"
   },
   {
    "duration": 25,
    "start_time": "2022-08-31T08:46:41.526Z"
   },
   {
    "duration": 241,
    "start_time": "2022-08-31T08:46:41.552Z"
   },
   {
    "duration": 650,
    "start_time": "2022-08-31T08:46:41.794Z"
   },
   {
    "duration": 328,
    "start_time": "2022-08-31T08:46:42.446Z"
   },
   {
    "duration": 7,
    "start_time": "2022-08-31T08:50:56.026Z"
   },
   {
    "duration": 3,
    "start_time": "2022-08-31T08:51:07.893Z"
   },
   {
    "duration": 19,
    "start_time": "2022-08-31T08:51:07.898Z"
   },
   {
    "duration": 65,
    "start_time": "2022-08-31T08:51:07.967Z"
   },
   {
    "duration": 2,
    "start_time": "2022-08-31T08:51:08.034Z"
   },
   {
    "duration": 20,
    "start_time": "2022-08-31T08:51:08.038Z"
   },
   {
    "duration": 8,
    "start_time": "2022-08-31T08:51:08.059Z"
   },
   {
    "duration": 29,
    "start_time": "2022-08-31T08:51:08.069Z"
   },
   {
    "duration": 8,
    "start_time": "2022-08-31T08:51:08.100Z"
   },
   {
    "duration": 7,
    "start_time": "2022-08-31T08:51:08.110Z"
   },
   {
    "duration": 8,
    "start_time": "2022-08-31T08:51:08.119Z"
   },
   {
    "duration": 19,
    "start_time": "2022-08-31T08:51:08.128Z"
   },
   {
    "duration": 7,
    "start_time": "2022-08-31T08:51:08.148Z"
   },
   {
    "duration": 6,
    "start_time": "2022-08-31T08:51:08.156Z"
   },
   {
    "duration": 6,
    "start_time": "2022-08-31T08:51:08.198Z"
   },
   {
    "duration": 25,
    "start_time": "2022-08-31T08:51:08.206Z"
   },
   {
    "duration": 32,
    "start_time": "2022-08-31T08:51:08.234Z"
   },
   {
    "duration": 4,
    "start_time": "2022-08-31T08:51:08.267Z"
   },
   {
    "duration": 32,
    "start_time": "2022-08-31T08:51:08.273Z"
   },
   {
    "duration": 55,
    "start_time": "2022-08-31T08:51:08.307Z"
   },
   {
    "duration": 9,
    "start_time": "2022-08-31T08:51:08.363Z"
   },
   {
    "duration": 25,
    "start_time": "2022-08-31T08:51:08.373Z"
   },
   {
    "duration": 101,
    "start_time": "2022-08-31T08:51:08.399Z"
   },
   {
    "duration": 48317,
    "start_time": "2022-08-31T08:51:08.502Z"
   },
   {
    "duration": 258,
    "start_time": "2022-08-31T08:51:56.820Z"
   },
   {
    "duration": 747,
    "start_time": "2022-08-31T08:51:57.080Z"
   },
   {
    "duration": 10472,
    "start_time": "2022-08-31T08:51:57.828Z"
   },
   {
    "duration": 411,
    "start_time": "2022-08-31T08:52:08.302Z"
   },
   {
    "duration": 33,
    "start_time": "2022-08-31T08:52:08.715Z"
   },
   {
    "duration": 355,
    "start_time": "2022-08-31T08:52:08.749Z"
   },
   {
    "duration": 105,
    "start_time": "2022-08-31T08:52:09.106Z"
   },
   {
    "duration": 63959,
    "start_time": "2022-08-31T08:52:09.213Z"
   },
   {
    "duration": 325,
    "start_time": "2022-08-31T08:53:13.174Z"
   },
   {
    "duration": 37,
    "start_time": "2022-08-31T08:53:13.501Z"
   },
   {
    "duration": 466,
    "start_time": "2022-08-31T08:53:13.539Z"
   },
   {
    "duration": 718,
    "start_time": "2022-08-31T08:53:14.007Z"
   },
   {
    "duration": 78,
    "start_time": "2022-08-31T08:53:14.726Z"
   },
   {
    "duration": 271,
    "start_time": "2022-08-31T08:53:14.805Z"
   },
   {
    "duration": 31,
    "start_time": "2022-08-31T08:53:15.077Z"
   },
   {
    "duration": 297,
    "start_time": "2022-08-31T08:53:15.109Z"
   },
   {
    "duration": 695,
    "start_time": "2022-08-31T08:53:15.407Z"
   },
   {
    "duration": 502,
    "start_time": "2022-08-31T08:53:16.103Z"
   },
   {
    "duration": 23,
    "start_time": "2022-08-31T08:53:16.607Z"
   },
   {
    "duration": 219,
    "start_time": "2022-08-31T08:53:16.633Z"
   },
   {
    "duration": 713,
    "start_time": "2022-08-31T08:53:16.854Z"
   },
   {
    "duration": 254,
    "start_time": "2022-08-31T08:53:17.568Z"
   },
   {
    "duration": 5,
    "start_time": "2022-08-31T08:59:07.150Z"
   },
   {
    "duration": 21,
    "start_time": "2022-08-31T08:59:07.157Z"
   },
   {
    "duration": 87,
    "start_time": "2022-08-31T08:59:07.180Z"
   },
   {
    "duration": 2,
    "start_time": "2022-08-31T08:59:07.269Z"
   },
   {
    "duration": 29,
    "start_time": "2022-08-31T08:59:07.273Z"
   },
   {
    "duration": 41,
    "start_time": "2022-08-31T08:59:07.303Z"
   },
   {
    "duration": 33,
    "start_time": "2022-08-31T08:59:07.346Z"
   },
   {
    "duration": 30,
    "start_time": "2022-08-31T08:59:07.381Z"
   },
   {
    "duration": 30,
    "start_time": "2022-08-31T08:59:07.413Z"
   },
   {
    "duration": 28,
    "start_time": "2022-08-31T08:59:07.445Z"
   },
   {
    "duration": 39,
    "start_time": "2022-08-31T08:59:07.476Z"
   },
   {
    "duration": 28,
    "start_time": "2022-08-31T08:59:07.518Z"
   },
   {
    "duration": 23,
    "start_time": "2022-08-31T08:59:07.547Z"
   },
   {
    "duration": 33,
    "start_time": "2022-08-31T08:59:07.574Z"
   },
   {
    "duration": 41,
    "start_time": "2022-08-31T08:59:07.609Z"
   },
   {
    "duration": 37,
    "start_time": "2022-08-31T08:59:07.651Z"
   },
   {
    "duration": 5,
    "start_time": "2022-08-31T08:59:07.689Z"
   },
   {
    "duration": 10,
    "start_time": "2022-08-31T08:59:07.698Z"
   },
   {
    "duration": 25,
    "start_time": "2022-08-31T08:59:07.710Z"
   },
   {
    "duration": 11,
    "start_time": "2022-08-31T08:59:07.737Z"
   },
   {
    "duration": 6,
    "start_time": "2022-08-31T08:59:07.749Z"
   },
   {
    "duration": 122,
    "start_time": "2022-08-31T08:59:07.757Z"
   },
   {
    "duration": 48753,
    "start_time": "2022-08-31T08:59:07.881Z"
   },
   {
    "duration": 264,
    "start_time": "2022-08-31T08:59:56.635Z"
   },
   {
    "duration": 779,
    "start_time": "2022-08-31T08:59:56.901Z"
   },
   {
    "duration": 10422,
    "start_time": "2022-08-31T08:59:57.681Z"
   },
   {
    "duration": 405,
    "start_time": "2022-08-31T09:00:08.105Z"
   },
   {
    "duration": 35,
    "start_time": "2022-08-31T09:00:08.511Z"
   },
   {
    "duration": 356,
    "start_time": "2022-08-31T09:00:08.548Z"
   },
   {
    "duration": 103,
    "start_time": "2022-08-31T09:00:08.906Z"
   },
   {
    "duration": 66782,
    "start_time": "2022-08-31T09:00:09.011Z"
   },
   {
    "duration": 351,
    "start_time": "2022-08-31T09:01:15.794Z"
   },
   {
    "duration": 41,
    "start_time": "2022-08-31T09:01:16.147Z"
   },
   {
    "duration": 417,
    "start_time": "2022-08-31T09:01:16.189Z"
   },
   {
    "duration": 691,
    "start_time": "2022-08-31T09:01:16.608Z"
   },
   {
    "duration": 101,
    "start_time": "2022-08-31T09:01:17.301Z"
   },
   {
    "duration": 236,
    "start_time": "2022-08-31T09:01:17.405Z"
   },
   {
    "duration": 25,
    "start_time": "2022-08-31T09:01:17.643Z"
   },
   {
    "duration": 329,
    "start_time": "2022-08-31T09:01:17.669Z"
   },
   {
    "duration": 699,
    "start_time": "2022-08-31T09:01:18.000Z"
   },
   {
    "duration": 472,
    "start_time": "2022-08-31T09:01:18.704Z"
   },
   {
    "duration": 37,
    "start_time": "2022-08-31T09:01:19.178Z"
   },
   {
    "duration": 237,
    "start_time": "2022-08-31T09:01:19.217Z"
   },
   {
    "duration": 784,
    "start_time": "2022-08-31T09:01:19.456Z"
   },
   {
    "duration": 288,
    "start_time": "2022-08-31T09:01:20.241Z"
   },
   {
    "duration": 10,
    "start_time": "2022-08-31T09:29:09.877Z"
   },
   {
    "duration": 10,
    "start_time": "2022-08-31T09:29:41.179Z"
   },
   {
    "duration": 5,
    "start_time": "2022-08-31T09:29:50.729Z"
   },
   {
    "duration": 16,
    "start_time": "2022-08-31T09:29:50.735Z"
   },
   {
    "duration": 62,
    "start_time": "2022-08-31T09:29:50.753Z"
   },
   {
    "duration": 3,
    "start_time": "2022-08-31T09:29:50.816Z"
   },
   {
    "duration": 13,
    "start_time": "2022-08-31T09:29:50.821Z"
   },
   {
    "duration": 12,
    "start_time": "2022-08-31T09:29:50.835Z"
   },
   {
    "duration": 6,
    "start_time": "2022-08-31T09:29:50.848Z"
   },
   {
    "duration": 10,
    "start_time": "2022-08-31T09:29:50.855Z"
   },
   {
    "duration": 37,
    "start_time": "2022-08-31T09:29:50.867Z"
   },
   {
    "duration": 8,
    "start_time": "2022-08-31T09:29:50.905Z"
   },
   {
    "duration": 22,
    "start_time": "2022-08-31T09:29:50.914Z"
   },
   {
    "duration": 7,
    "start_time": "2022-08-31T09:29:50.938Z"
   },
   {
    "duration": 5,
    "start_time": "2022-08-31T09:29:50.948Z"
   },
   {
    "duration": 12,
    "start_time": "2022-08-31T09:29:50.954Z"
   },
   {
    "duration": 51,
    "start_time": "2022-08-31T09:29:50.967Z"
   },
   {
    "duration": 34,
    "start_time": "2022-08-31T09:29:51.019Z"
   },
   {
    "duration": 3,
    "start_time": "2022-08-31T09:29:51.055Z"
   },
   {
    "duration": 35,
    "start_time": "2022-08-31T09:29:51.060Z"
   },
   {
    "duration": 23,
    "start_time": "2022-08-31T09:29:51.098Z"
   },
   {
    "duration": 10,
    "start_time": "2022-08-31T09:29:51.122Z"
   },
   {
    "duration": 6,
    "start_time": "2022-08-31T09:29:51.133Z"
   },
   {
    "duration": 108,
    "start_time": "2022-08-31T09:29:51.141Z"
   },
   {
    "duration": 48030,
    "start_time": "2022-08-31T09:29:51.251Z"
   },
   {
    "duration": 270,
    "start_time": "2022-08-31T09:30:39.282Z"
   },
   {
    "duration": 749,
    "start_time": "2022-08-31T09:30:39.553Z"
   },
   {
    "duration": 9302,
    "start_time": "2022-08-31T09:30:40.304Z"
   },
   {
    "duration": 449,
    "start_time": "2022-08-31T09:30:49.608Z"
   },
   {
    "duration": 39,
    "start_time": "2022-08-31T09:30:50.059Z"
   },
   {
    "duration": 305,
    "start_time": "2022-08-31T09:30:50.100Z"
   },
   {
    "duration": 104,
    "start_time": "2022-08-31T09:30:50.497Z"
   },
   {
    "duration": 63582,
    "start_time": "2022-08-31T09:30:50.602Z"
   },
   {
    "duration": 356,
    "start_time": "2022-08-31T09:31:54.185Z"
   },
   {
    "duration": 44,
    "start_time": "2022-08-31T09:31:54.543Z"
   },
   {
    "duration": 406,
    "start_time": "2022-08-31T09:31:54.599Z"
   },
   {
    "duration": 689,
    "start_time": "2022-08-31T09:31:55.010Z"
   },
   {
    "duration": 105,
    "start_time": "2022-08-31T09:31:55.702Z"
   },
   {
    "duration": 175,
    "start_time": "2022-08-31T09:31:55.900Z"
   },
   {
    "duration": 32,
    "start_time": "2022-08-31T09:31:56.077Z"
   },
   {
    "duration": 288,
    "start_time": "2022-08-31T09:31:56.110Z"
   },
   {
    "duration": 702,
    "start_time": "2022-08-31T09:31:56.402Z"
   },
   {
    "duration": 503,
    "start_time": "2022-08-31T09:31:57.107Z"
   },
   {
    "duration": 24,
    "start_time": "2022-08-31T09:31:57.611Z"
   },
   {
    "duration": 210,
    "start_time": "2022-08-31T09:31:57.636Z"
   },
   {
    "duration": 688,
    "start_time": "2022-08-31T09:31:57.847Z"
   },
   {
    "duration": 243,
    "start_time": "2022-08-31T09:31:58.537Z"
   },
   {
    "duration": 452,
    "start_time": "2022-08-31T09:50:07.769Z"
   },
   {
    "duration": 113,
    "start_time": "2022-08-31T09:52:36.400Z"
   },
   {
    "duration": 257,
    "start_time": "2022-08-31T09:53:00.654Z"
   },
   {
    "duration": 106,
    "start_time": "2022-08-31T09:53:17.143Z"
   },
   {
    "duration": 133,
    "start_time": "2022-08-31T09:55:19.647Z"
   },
   {
    "duration": 346,
    "start_time": "2022-08-31T09:55:40.020Z"
   },
   {
    "duration": 82,
    "start_time": "2022-08-31T09:56:17.853Z"
   },
   {
    "duration": 168,
    "start_time": "2022-08-31T09:56:30.549Z"
   },
   {
    "duration": 134,
    "start_time": "2022-08-31T09:57:20.369Z"
   },
   {
    "duration": 4,
    "start_time": "2022-08-31T09:59:03.114Z"
   },
   {
    "duration": 30,
    "start_time": "2022-08-31T09:59:03.119Z"
   },
   {
    "duration": 76,
    "start_time": "2022-08-31T09:59:03.151Z"
   },
   {
    "duration": 2,
    "start_time": "2022-08-31T09:59:03.229Z"
   },
   {
    "duration": 36,
    "start_time": "2022-08-31T09:59:03.232Z"
   },
   {
    "duration": 27,
    "start_time": "2022-08-31T09:59:03.270Z"
   },
   {
    "duration": 25,
    "start_time": "2022-08-31T09:59:03.298Z"
   },
   {
    "duration": 25,
    "start_time": "2022-08-31T09:59:03.325Z"
   },
   {
    "duration": 18,
    "start_time": "2022-08-31T09:59:03.352Z"
   },
   {
    "duration": 29,
    "start_time": "2022-08-31T09:59:03.371Z"
   },
   {
    "duration": 28,
    "start_time": "2022-08-31T09:59:03.401Z"
   },
   {
    "duration": 9,
    "start_time": "2022-08-31T09:59:03.430Z"
   },
   {
    "duration": 23,
    "start_time": "2022-08-31T09:59:03.440Z"
   },
   {
    "duration": 16,
    "start_time": "2022-08-31T09:59:03.465Z"
   },
   {
    "duration": 43,
    "start_time": "2022-08-31T09:59:03.483Z"
   },
   {
    "duration": 34,
    "start_time": "2022-08-31T09:59:03.528Z"
   },
   {
    "duration": 4,
    "start_time": "2022-08-31T09:59:03.563Z"
   },
   {
    "duration": 26,
    "start_time": "2022-08-31T09:59:03.568Z"
   },
   {
    "duration": 37,
    "start_time": "2022-08-31T09:59:03.595Z"
   },
   {
    "duration": 8,
    "start_time": "2022-08-31T09:59:03.634Z"
   },
   {
    "duration": 14,
    "start_time": "2022-08-31T09:59:03.644Z"
   },
   {
    "duration": 91,
    "start_time": "2022-08-31T09:59:03.659Z"
   },
   {
    "duration": 48054,
    "start_time": "2022-08-31T09:59:03.751Z"
   },
   {
    "duration": 2,
    "start_time": "2022-08-31T09:59:51.809Z"
   },
   {
    "duration": 118,
    "start_time": "2022-08-31T09:59:51.812Z"
   },
   {
    "duration": 765,
    "start_time": "2022-08-31T09:59:51.932Z"
   },
   {
    "duration": 10099,
    "start_time": "2022-08-31T09:59:52.699Z"
   },
   {
    "duration": 371,
    "start_time": "2022-08-31T10:00:02.800Z"
   },
   {
    "duration": 41,
    "start_time": "2022-08-31T10:00:03.172Z"
   },
   {
    "duration": 385,
    "start_time": "2022-08-31T10:00:03.215Z"
   },
   {
    "duration": 103,
    "start_time": "2022-08-31T10:00:03.602Z"
   },
   {
    "duration": 163,
    "start_time": "2022-08-31T10:00:03.706Z"
   },
   {
    "duration": 49,
    "start_time": "2022-08-31T10:00:03.870Z"
   },
   {
    "duration": 581,
    "start_time": "2022-08-31T10:00:03.921Z"
   },
   {
    "duration": 702,
    "start_time": "2022-08-31T10:00:04.504Z"
   },
   {
    "duration": 192,
    "start_time": "2022-08-31T10:00:05.207Z"
   },
   {
    "duration": 183,
    "start_time": "2022-08-31T10:00:05.400Z"
   },
   {
    "duration": 30,
    "start_time": "2022-08-31T10:00:05.584Z"
   },
   {
    "duration": 383,
    "start_time": "2022-08-31T10:00:05.616Z"
   },
   {
    "duration": 598,
    "start_time": "2022-08-31T10:00:06.005Z"
   },
   {
    "duration": 93,
    "start_time": "2022-08-31T10:00:06.606Z"
   },
   {
    "duration": 432,
    "start_time": "2022-08-31T10:00:06.701Z"
   },
   {
    "duration": 23,
    "start_time": "2022-08-31T10:00:07.135Z"
   },
   {
    "duration": 210,
    "start_time": "2022-08-31T10:00:07.160Z"
   },
   {
    "duration": 685,
    "start_time": "2022-08-31T10:00:07.372Z"
   },
   {
    "duration": 265,
    "start_time": "2022-08-31T10:00:08.059Z"
   },
   {
    "duration": 427,
    "start_time": "2022-08-31T10:03:34.512Z"
   },
   {
    "duration": 405,
    "start_time": "2022-08-31T10:03:59.011Z"
   },
   {
    "duration": 737,
    "start_time": "2022-08-31T10:04:30.812Z"
   },
   {
    "duration": 3,
    "start_time": "2022-08-31T10:04:46.824Z"
   },
   {
    "duration": 9,
    "start_time": "2022-08-31T10:04:46.829Z"
   },
   {
    "duration": 60,
    "start_time": "2022-08-31T10:04:46.839Z"
   },
   {
    "duration": 3,
    "start_time": "2022-08-31T10:04:46.900Z"
   },
   {
    "duration": 15,
    "start_time": "2022-08-31T10:04:46.905Z"
   },
   {
    "duration": 10,
    "start_time": "2022-08-31T10:04:46.924Z"
   },
   {
    "duration": 9,
    "start_time": "2022-08-31T10:04:46.936Z"
   },
   {
    "duration": 8,
    "start_time": "2022-08-31T10:04:46.946Z"
   },
   {
    "duration": 43,
    "start_time": "2022-08-31T10:04:46.956Z"
   },
   {
    "duration": 8,
    "start_time": "2022-08-31T10:04:47.001Z"
   },
   {
    "duration": 20,
    "start_time": "2022-08-31T10:04:47.011Z"
   },
   {
    "duration": 8,
    "start_time": "2022-08-31T10:04:47.033Z"
   },
   {
    "duration": 12,
    "start_time": "2022-08-31T10:04:47.043Z"
   },
   {
    "duration": 6,
    "start_time": "2022-08-31T10:04:47.058Z"
   },
   {
    "duration": 53,
    "start_time": "2022-08-31T10:04:47.065Z"
   },
   {
    "duration": 32,
    "start_time": "2022-08-31T10:04:47.120Z"
   },
   {
    "duration": 4,
    "start_time": "2022-08-31T10:04:47.154Z"
   },
   {
    "duration": 12,
    "start_time": "2022-08-31T10:04:47.159Z"
   },
   {
    "duration": 45,
    "start_time": "2022-08-31T10:04:47.172Z"
   },
   {
    "duration": 8,
    "start_time": "2022-08-31T10:04:47.218Z"
   },
   {
    "duration": 5,
    "start_time": "2022-08-31T10:04:47.227Z"
   },
   {
    "duration": 105,
    "start_time": "2022-08-31T10:04:47.233Z"
   },
   {
    "duration": 47890,
    "start_time": "2022-08-31T10:04:47.339Z"
   },
   {
    "duration": 2,
    "start_time": "2022-08-31T10:05:35.231Z"
   },
   {
    "duration": 120,
    "start_time": "2022-08-31T10:05:35.235Z"
   },
   {
    "duration": 745,
    "start_time": "2022-08-31T10:05:35.356Z"
   },
   {
    "duration": 9805,
    "start_time": "2022-08-31T10:05:36.102Z"
   },
   {
    "duration": 443,
    "start_time": "2022-08-31T10:05:45.908Z"
   },
   {
    "duration": 33,
    "start_time": "2022-08-31T10:05:46.353Z"
   },
   {
    "duration": 307,
    "start_time": "2022-08-31T10:05:46.398Z"
   },
   {
    "duration": 192,
    "start_time": "2022-08-31T10:05:46.707Z"
   },
   {
    "duration": 149,
    "start_time": "2022-08-31T10:05:46.901Z"
   },
   {
    "duration": 36,
    "start_time": "2022-08-31T10:05:47.052Z"
   },
   {
    "duration": 504,
    "start_time": "2022-08-31T10:05:47.098Z"
   },
   {
    "duration": 603,
    "start_time": "2022-08-31T10:05:47.604Z"
   },
   {
    "duration": 191,
    "start_time": "2022-08-31T10:05:48.208Z"
   },
   {
    "duration": 183,
    "start_time": "2022-08-31T10:05:48.401Z"
   },
   {
    "duration": 419,
    "start_time": "2022-08-31T10:05:48.586Z"
   },
   {
    "duration": 26,
    "start_time": "2022-08-31T10:05:49.007Z"
   },
   {
    "duration": 271,
    "start_time": "2022-08-31T10:05:49.034Z"
   },
   {
    "duration": 609,
    "start_time": "2022-08-31T10:05:49.399Z"
   },
   {
    "duration": 5,
    "start_time": "2022-08-31T10:05:50.010Z"
   },
   {
    "duration": 428,
    "start_time": "2022-08-31T10:05:50.098Z"
   },
   {
    "duration": 27,
    "start_time": "2022-08-31T10:05:50.527Z"
   },
   {
    "duration": 208,
    "start_time": "2022-08-31T10:05:50.556Z"
   },
   {
    "duration": 761,
    "start_time": "2022-08-31T10:05:50.766Z"
   },
   {
    "duration": 276,
    "start_time": "2022-08-31T10:05:51.528Z"
   },
   {
    "duration": 775,
    "start_time": "2022-08-31T10:08:18.755Z"
   },
   {
    "duration": 261,
    "start_time": "2022-08-31T10:09:24.994Z"
   },
   {
    "duration": 36,
    "start_time": "2022-08-31T10:09:51.067Z"
   },
   {
    "duration": 138,
    "start_time": "2022-08-31T10:10:15.199Z"
   },
   {
    "duration": 44,
    "start_time": "2022-08-31T10:10:30.952Z"
   },
   {
    "duration": 76,
    "start_time": "2022-08-31T10:11:03.403Z"
   },
   {
    "duration": 29,
    "start_time": "2022-08-31T10:11:38.939Z"
   },
   {
    "duration": 25,
    "start_time": "2022-08-31T10:12:02.087Z"
   },
   {
    "duration": 26,
    "start_time": "2022-08-31T10:15:13.819Z"
   },
   {
    "duration": 26,
    "start_time": "2022-08-31T10:15:22.069Z"
   },
   {
    "duration": 25,
    "start_time": "2022-08-31T10:15:32.819Z"
   },
   {
    "duration": 395,
    "start_time": "2022-08-31T10:16:29.890Z"
   },
   {
    "duration": 88,
    "start_time": "2022-08-31T10:24:39.738Z"
   },
   {
    "duration": 107,
    "start_time": "2022-08-31T10:26:35.686Z"
   },
   {
    "duration": 13,
    "start_time": "2022-08-31T10:28:27.147Z"
   },
   {
    "duration": 312,
    "start_time": "2022-08-31T10:29:49.729Z"
   },
   {
    "duration": 120,
    "start_time": "2022-08-31T10:30:00.239Z"
   },
   {
    "duration": 118,
    "start_time": "2022-08-31T10:30:24.197Z"
   },
   {
    "duration": 36,
    "start_time": "2022-08-31T10:30:46.146Z"
   },
   {
    "duration": 138,
    "start_time": "2022-08-31T10:31:10.509Z"
   },
   {
    "duration": 64038,
    "start_time": "2022-08-31T10:32:32.199Z"
   },
   {
    "duration": 439,
    "start_time": "2022-08-31T10:35:11.931Z"
   },
   {
    "duration": 134,
    "start_time": "2022-08-31T10:35:36.965Z"
   },
   {
    "duration": 153,
    "start_time": "2022-08-31T10:35:44.476Z"
   },
   {
    "duration": 80,
    "start_time": "2022-08-31T11:03:25.170Z"
   },
   {
    "duration": 976,
    "start_time": "2022-08-31T11:10:53.688Z"
   },
   {
    "duration": 719,
    "start_time": "2022-08-31T11:13:08.699Z"
   },
   {
    "duration": 573,
    "start_time": "2022-08-31T11:14:32.237Z"
   },
   {
    "duration": 301,
    "start_time": "2022-08-31T11:17:34.852Z"
   },
   {
    "duration": 269,
    "start_time": "2022-08-31T11:18:12.142Z"
   },
   {
    "duration": 248,
    "start_time": "2022-08-31T11:19:06.953Z"
   },
   {
    "duration": 371,
    "start_time": "2022-08-31T11:20:14.350Z"
   },
   {
    "duration": 404,
    "start_time": "2022-08-31T11:21:45.698Z"
   },
   {
    "duration": 712,
    "start_time": "2022-08-31T11:23:39.887Z"
   },
   {
    "duration": 580,
    "start_time": "2022-08-31T11:25:31.820Z"
   },
   {
    "duration": 537,
    "start_time": "2022-08-31T11:26:28.577Z"
   },
   {
    "duration": 834,
    "start_time": "2022-08-31T11:28:02.726Z"
   },
   {
    "duration": 622,
    "start_time": "2022-08-31T11:29:02.685Z"
   },
   {
    "duration": 519,
    "start_time": "2022-08-31T11:30:46.199Z"
   },
   {
    "duration": 779,
    "start_time": "2022-08-31T11:31:31.020Z"
   },
   {
    "duration": 536,
    "start_time": "2022-08-31T11:32:52.880Z"
   },
   {
    "duration": 68,
    "start_time": "2022-08-31T11:36:06.332Z"
   },
   {
    "duration": 585,
    "start_time": "2022-08-31T11:36:21.827Z"
   },
   {
    "duration": 787,
    "start_time": "2022-08-31T11:36:37.392Z"
   },
   {
    "duration": 718,
    "start_time": "2022-08-31T11:38:25.267Z"
   },
   {
    "duration": 4,
    "start_time": "2022-08-31T11:38:30.446Z"
   },
   {
    "duration": 33,
    "start_time": "2022-08-31T11:38:30.452Z"
   },
   {
    "duration": 82,
    "start_time": "2022-08-31T11:38:30.487Z"
   },
   {
    "duration": 3,
    "start_time": "2022-08-31T11:38:30.570Z"
   },
   {
    "duration": 38,
    "start_time": "2022-08-31T11:38:30.574Z"
   },
   {
    "duration": 40,
    "start_time": "2022-08-31T11:38:30.613Z"
   },
   {
    "duration": 35,
    "start_time": "2022-08-31T11:38:30.655Z"
   },
   {
    "duration": 20,
    "start_time": "2022-08-31T11:38:30.691Z"
   },
   {
    "duration": 21,
    "start_time": "2022-08-31T11:38:30.713Z"
   },
   {
    "duration": 16,
    "start_time": "2022-08-31T11:38:30.735Z"
   },
   {
    "duration": 44,
    "start_time": "2022-08-31T11:38:30.753Z"
   },
   {
    "duration": 24,
    "start_time": "2022-08-31T11:38:30.799Z"
   },
   {
    "duration": 27,
    "start_time": "2022-08-31T11:38:30.825Z"
   },
   {
    "duration": 26,
    "start_time": "2022-08-31T11:38:30.853Z"
   },
   {
    "duration": 48,
    "start_time": "2022-08-31T11:38:30.881Z"
   },
   {
    "duration": 33,
    "start_time": "2022-08-31T11:38:30.931Z"
   },
   {
    "duration": 4,
    "start_time": "2022-08-31T11:38:30.965Z"
   },
   {
    "duration": 23,
    "start_time": "2022-08-31T11:38:30.970Z"
   },
   {
    "duration": 42,
    "start_time": "2022-08-31T11:38:30.994Z"
   },
   {
    "duration": 19,
    "start_time": "2022-08-31T11:38:31.037Z"
   },
   {
    "duration": 133,
    "start_time": "2022-08-31T11:38:31.058Z"
   },
   {
    "duration": 0,
    "start_time": "2022-08-31T11:38:31.193Z"
   },
   {
    "duration": 0,
    "start_time": "2022-08-31T11:38:31.194Z"
   },
   {
    "duration": 0,
    "start_time": "2022-08-31T11:38:31.195Z"
   },
   {
    "duration": 0,
    "start_time": "2022-08-31T11:38:31.196Z"
   },
   {
    "duration": 0,
    "start_time": "2022-08-31T11:38:31.197Z"
   },
   {
    "duration": 0,
    "start_time": "2022-08-31T11:38:31.198Z"
   },
   {
    "duration": 0,
    "start_time": "2022-08-31T11:38:31.199Z"
   },
   {
    "duration": 0,
    "start_time": "2022-08-31T11:38:31.200Z"
   },
   {
    "duration": 0,
    "start_time": "2022-08-31T11:38:31.201Z"
   },
   {
    "duration": 0,
    "start_time": "2022-08-31T11:38:31.202Z"
   },
   {
    "duration": 0,
    "start_time": "2022-08-31T11:38:31.203Z"
   },
   {
    "duration": 0,
    "start_time": "2022-08-31T11:38:31.204Z"
   },
   {
    "duration": 0,
    "start_time": "2022-08-31T11:38:31.205Z"
   },
   {
    "duration": 0,
    "start_time": "2022-08-31T11:38:31.206Z"
   },
   {
    "duration": 0,
    "start_time": "2022-08-31T11:38:31.207Z"
   },
   {
    "duration": 0,
    "start_time": "2022-08-31T11:38:31.208Z"
   },
   {
    "duration": 0,
    "start_time": "2022-08-31T11:38:31.209Z"
   },
   {
    "duration": 0,
    "start_time": "2022-08-31T11:38:31.210Z"
   },
   {
    "duration": 0,
    "start_time": "2022-08-31T11:38:31.211Z"
   },
   {
    "duration": 0,
    "start_time": "2022-08-31T11:38:31.212Z"
   },
   {
    "duration": 0,
    "start_time": "2022-08-31T11:38:31.213Z"
   },
   {
    "duration": 0,
    "start_time": "2022-08-31T11:38:31.213Z"
   },
   {
    "duration": 0,
    "start_time": "2022-08-31T11:38:31.214Z"
   },
   {
    "duration": 0,
    "start_time": "2022-08-31T11:38:31.216Z"
   },
   {
    "duration": 0,
    "start_time": "2022-08-31T11:38:31.217Z"
   },
   {
    "duration": 0,
    "start_time": "2022-08-31T11:38:31.218Z"
   },
   {
    "duration": 0,
    "start_time": "2022-08-31T11:38:31.219Z"
   },
   {
    "duration": 0,
    "start_time": "2022-08-31T11:38:31.220Z"
   },
   {
    "duration": 0,
    "start_time": "2022-08-31T11:38:31.221Z"
   },
   {
    "duration": 4,
    "start_time": "2022-08-31T11:41:48.208Z"
   },
   {
    "duration": 6,
    "start_time": "2022-08-31T11:41:48.214Z"
   },
   {
    "duration": 56,
    "start_time": "2022-08-31T11:41:48.231Z"
   },
   {
    "duration": 2,
    "start_time": "2022-08-31T11:41:48.290Z"
   },
   {
    "duration": 15,
    "start_time": "2022-08-31T11:41:48.294Z"
   },
   {
    "duration": 8,
    "start_time": "2022-08-31T11:41:48.310Z"
   },
   {
    "duration": 6,
    "start_time": "2022-08-31T11:41:48.320Z"
   },
   {
    "duration": 7,
    "start_time": "2022-08-31T11:41:48.327Z"
   },
   {
    "duration": 9,
    "start_time": "2022-08-31T11:41:48.336Z"
   },
   {
    "duration": 20,
    "start_time": "2022-08-31T11:41:48.346Z"
   },
   {
    "duration": 44,
    "start_time": "2022-08-31T11:41:48.368Z"
   },
   {
    "duration": 7,
    "start_time": "2022-08-31T11:41:48.413Z"
   },
   {
    "duration": 5,
    "start_time": "2022-08-31T11:41:48.421Z"
   },
   {
    "duration": 7,
    "start_time": "2022-08-31T11:41:48.428Z"
   },
   {
    "duration": 28,
    "start_time": "2022-08-31T11:41:48.436Z"
   },
   {
    "duration": 53,
    "start_time": "2022-08-31T11:41:48.466Z"
   },
   {
    "duration": 4,
    "start_time": "2022-08-31T11:41:48.520Z"
   },
   {
    "duration": 17,
    "start_time": "2022-08-31T11:41:48.526Z"
   },
   {
    "duration": 21,
    "start_time": "2022-08-31T11:41:48.544Z"
   },
   {
    "duration": 32,
    "start_time": "2022-08-31T11:41:48.566Z"
   },
   {
    "duration": 83,
    "start_time": "2022-08-31T11:41:48.599Z"
   },
   {
    "duration": 47497,
    "start_time": "2022-08-31T11:41:48.684Z"
   },
   {
    "duration": 2,
    "start_time": "2022-08-31T11:42:36.182Z"
   },
   {
    "duration": 114,
    "start_time": "2022-08-31T11:42:36.186Z"
   },
   {
    "duration": 739,
    "start_time": "2022-08-31T11:42:36.301Z"
   },
   {
    "duration": 8858,
    "start_time": "2022-08-31T11:42:37.041Z"
   },
   {
    "duration": 211,
    "start_time": "2022-08-31T11:42:45.901Z"
   },
   {
    "duration": 36,
    "start_time": "2022-08-31T11:42:46.113Z"
   },
   {
    "duration": 455,
    "start_time": "2022-08-31T11:42:46.150Z"
   },
   {
    "duration": 103,
    "start_time": "2022-08-31T11:42:46.607Z"
   },
   {
    "duration": 221,
    "start_time": "2022-08-31T11:42:46.712Z"
   },
   {
    "duration": 46,
    "start_time": "2022-08-31T11:42:46.935Z"
   },
   {
    "duration": 517,
    "start_time": "2022-08-31T11:42:46.982Z"
   },
   {
    "duration": 774,
    "start_time": "2022-08-31T11:42:47.501Z"
   },
   {
    "duration": 629,
    "start_time": "2022-08-31T11:42:48.277Z"
   },
   {
    "duration": 100,
    "start_time": "2022-08-31T11:42:48.907Z"
   },
   {
    "duration": 94,
    "start_time": "2022-08-31T11:42:49.009Z"
   },
   {
    "duration": 400,
    "start_time": "2022-08-31T11:42:49.105Z"
   },
   {
    "duration": 23,
    "start_time": "2022-08-31T11:42:49.507Z"
   },
   {
    "duration": 367,
    "start_time": "2022-08-31T11:42:49.531Z"
   },
   {
    "duration": 780,
    "start_time": "2022-08-31T11:42:49.900Z"
   },
   {
    "duration": 506,
    "start_time": "2022-08-31T11:42:50.698Z"
   },
   {
    "duration": 3,
    "start_time": "2022-08-31T11:42:51.209Z"
   },
   {
    "duration": 427,
    "start_time": "2022-08-31T11:42:51.301Z"
   },
   {
    "duration": 25,
    "start_time": "2022-08-31T11:42:51.730Z"
   },
   {
    "duration": 209,
    "start_time": "2022-08-31T11:42:51.757Z"
   },
   {
    "duration": 678,
    "start_time": "2022-08-31T11:42:51.968Z"
   },
   {
    "duration": 256,
    "start_time": "2022-08-31T11:42:52.648Z"
   },
   {
    "duration": 140,
    "start_time": "2022-08-31T11:44:33.453Z"
   },
   {
    "duration": 746,
    "start_time": "2022-08-31T11:45:20.138Z"
   },
   {
    "duration": 204,
    "start_time": "2022-08-31T11:46:51.381Z"
   },
   {
    "duration": 311,
    "start_time": "2022-08-31T11:48:04.265Z"
   },
   {
    "duration": 694,
    "start_time": "2022-08-31T11:52:15.089Z"
   },
   {
    "duration": 514,
    "start_time": "2022-08-31T11:54:30.687Z"
   },
   {
    "duration": 75,
    "start_time": "2022-08-31T11:54:58.631Z"
   },
   {
    "duration": 26,
    "start_time": "2022-08-31T11:55:23.674Z"
   },
   {
    "duration": 239,
    "start_time": "2022-08-31T11:55:34.065Z"
   },
   {
    "duration": 114,
    "start_time": "2022-08-31T12:33:44.995Z"
   },
   {
    "duration": 8804,
    "start_time": "2022-08-31T12:34:14.601Z"
   },
   {
    "duration": 15,
    "start_time": "2022-08-31T13:03:33.172Z"
   },
   {
    "duration": 111,
    "start_time": "2022-08-31T13:03:49.412Z"
   },
   {
    "duration": 109,
    "start_time": "2022-08-31T13:04:06.001Z"
   },
   {
    "duration": 64152,
    "start_time": "2022-08-31T13:08:38.355Z"
   },
   {
    "duration": 422,
    "start_time": "2022-08-31T13:10:09.008Z"
   },
   {
    "duration": 149,
    "start_time": "2022-08-31T13:10:39.418Z"
   },
   {
    "duration": 419,
    "start_time": "2022-08-31T13:10:57.456Z"
   },
   {
    "duration": 140,
    "start_time": "2022-08-31T13:11:10.097Z"
   },
   {
    "duration": 129,
    "start_time": "2022-08-31T13:24:28.780Z"
   },
   {
    "duration": 326,
    "start_time": "2022-08-31T13:24:45.857Z"
   },
   {
    "duration": 319,
    "start_time": "2022-08-31T13:24:56.165Z"
   },
   {
    "duration": 63075,
    "start_time": "2022-08-31T13:26:20.727Z"
   },
   {
    "duration": 415,
    "start_time": "2022-08-31T13:27:59.062Z"
   },
   {
    "duration": 433,
    "start_time": "2022-08-31T13:30:59.632Z"
   },
   {
    "duration": 67,
    "start_time": "2022-08-31T13:31:41.350Z"
   },
   {
    "duration": 264,
    "start_time": "2022-08-31T13:34:48.091Z"
   },
   {
    "duration": 293,
    "start_time": "2022-08-31T13:37:56.070Z"
   },
   {
    "duration": 330,
    "start_time": "2022-08-31T13:44:10.972Z"
   },
   {
    "duration": 417,
    "start_time": "2022-08-31T13:44:42.710Z"
   },
   {
    "duration": 326,
    "start_time": "2022-08-31T13:45:07.493Z"
   },
   {
    "duration": 137,
    "start_time": "2022-08-31T13:45:51.953Z"
   },
   {
    "duration": 310,
    "start_time": "2022-08-31T13:46:12.475Z"
   },
   {
    "duration": 113,
    "start_time": "2022-08-31T13:46:48.539Z"
   },
   {
    "duration": 430,
    "start_time": "2022-08-31T13:49:18.892Z"
   },
   {
    "duration": 346,
    "start_time": "2022-08-31T13:50:25.981Z"
   },
   {
    "duration": 153,
    "start_time": "2022-08-31T13:50:40.254Z"
   },
   {
    "duration": 140,
    "start_time": "2022-08-31T13:51:51.883Z"
   },
   {
    "duration": 342,
    "start_time": "2022-08-31T13:52:00.936Z"
   },
   {
    "duration": 328,
    "start_time": "2022-08-31T13:52:36.889Z"
   },
   {
    "duration": 344,
    "start_time": "2022-08-31T13:54:46.455Z"
   },
   {
    "duration": 222,
    "start_time": "2022-08-31T13:58:37.939Z"
   },
   {
    "duration": 292,
    "start_time": "2022-08-31T13:58:53.890Z"
   },
   {
    "duration": 336,
    "start_time": "2022-08-31T14:07:15.104Z"
   },
   {
    "duration": 202,
    "start_time": "2022-08-31T14:08:30.560Z"
   },
   {
    "duration": 679,
    "start_time": "2022-08-31T14:08:42.548Z"
   },
   {
    "duration": 325,
    "start_time": "2022-08-31T14:09:31.817Z"
   },
   {
    "duration": 1093,
    "start_time": "2022-08-31T14:11:08.065Z"
   },
   {
    "duration": 683,
    "start_time": "2022-08-31T14:11:25.933Z"
   },
   {
    "duration": 75,
    "start_time": "2022-08-31T14:12:41.029Z"
   },
   {
    "duration": 492,
    "start_time": "2022-08-31T14:17:32.862Z"
   },
   {
    "duration": 267,
    "start_time": "2022-08-31T14:17:57.575Z"
   },
   {
    "duration": 294,
    "start_time": "2022-08-31T14:18:39.914Z"
   },
   {
    "duration": 4,
    "start_time": "2022-08-31T14:45:26.371Z"
   },
   {
    "duration": 283,
    "start_time": "2022-08-31T14:45:41.889Z"
   },
   {
    "duration": 555,
    "start_time": "2022-08-31T14:47:13.021Z"
   },
   {
    "duration": 477,
    "start_time": "2022-08-31T14:47:53.513Z"
   },
   {
    "duration": 501,
    "start_time": "2022-08-31T14:48:39.671Z"
   },
   {
    "duration": 953,
    "start_time": "2022-08-31T14:49:23.993Z"
   },
   {
    "duration": 135,
    "start_time": "2022-08-31T14:50:31.292Z"
   },
   {
    "duration": 842,
    "start_time": "2022-08-31T14:51:55.642Z"
   },
   {
    "duration": 815,
    "start_time": "2022-08-31T14:52:20.084Z"
   },
   {
    "duration": 1001,
    "start_time": "2022-08-31T14:53:32.834Z"
   },
   {
    "duration": 833,
    "start_time": "2022-08-31T14:57:51.967Z"
   },
   {
    "duration": 383,
    "start_time": "2022-08-31T14:59:07.478Z"
   },
   {
    "duration": 399,
    "start_time": "2022-08-31T15:00:02.524Z"
   },
   {
    "duration": 660,
    "start_time": "2022-08-31T15:00:29.453Z"
   },
   {
    "duration": 3,
    "start_time": "2022-08-31T15:02:27.333Z"
   },
   {
    "duration": 242,
    "start_time": "2022-08-31T15:03:44.027Z"
   },
   {
    "duration": 469,
    "start_time": "2022-08-31T15:04:38.199Z"
   },
   {
    "duration": 4,
    "start_time": "2022-08-31T15:04:58.407Z"
   },
   {
    "duration": 10,
    "start_time": "2022-08-31T15:04:58.413Z"
   },
   {
    "duration": 62,
    "start_time": "2022-08-31T15:04:58.424Z"
   },
   {
    "duration": 2,
    "start_time": "2022-08-31T15:04:58.488Z"
   },
   {
    "duration": 17,
    "start_time": "2022-08-31T15:04:58.491Z"
   },
   {
    "duration": 7,
    "start_time": "2022-08-31T15:04:58.509Z"
   },
   {
    "duration": 9,
    "start_time": "2022-08-31T15:04:58.517Z"
   },
   {
    "duration": 10,
    "start_time": "2022-08-31T15:04:58.528Z"
   },
   {
    "duration": 10,
    "start_time": "2022-08-31T15:04:58.540Z"
   },
   {
    "duration": 55,
    "start_time": "2022-08-31T15:04:58.551Z"
   },
   {
    "duration": 25,
    "start_time": "2022-08-31T15:04:58.608Z"
   },
   {
    "duration": 18,
    "start_time": "2022-08-31T15:04:58.635Z"
   },
   {
    "duration": 8,
    "start_time": "2022-08-31T15:04:58.699Z"
   },
   {
    "duration": 10,
    "start_time": "2022-08-31T15:04:58.709Z"
   },
   {
    "duration": 29,
    "start_time": "2022-08-31T15:04:58.721Z"
   },
   {
    "duration": 71,
    "start_time": "2022-08-31T15:04:58.752Z"
   },
   {
    "duration": 4,
    "start_time": "2022-08-31T15:04:58.825Z"
   },
   {
    "duration": 14,
    "start_time": "2022-08-31T15:04:58.831Z"
   },
   {
    "duration": 55,
    "start_time": "2022-08-31T15:04:58.847Z"
   },
   {
    "duration": 9,
    "start_time": "2022-08-31T15:04:58.904Z"
   },
   {
    "duration": 109,
    "start_time": "2022-08-31T15:04:58.915Z"
   },
   {
    "duration": 51634,
    "start_time": "2022-08-31T15:04:59.025Z"
   },
   {
    "duration": 128,
    "start_time": "2022-08-31T15:05:50.661Z"
   },
   {
    "duration": 790,
    "start_time": "2022-08-31T15:05:50.797Z"
   },
   {
    "duration": 11313,
    "start_time": "2022-08-31T15:05:51.588Z"
   },
   {
    "duration": 219,
    "start_time": "2022-08-31T15:06:02.903Z"
   },
   {
    "duration": 36,
    "start_time": "2022-08-31T15:06:03.124Z"
   },
   {
    "duration": 460,
    "start_time": "2022-08-31T15:06:03.161Z"
   },
   {
    "duration": 100,
    "start_time": "2022-08-31T15:06:03.623Z"
   },
   {
    "duration": 150,
    "start_time": "2022-08-31T15:06:03.803Z"
   },
   {
    "duration": 46,
    "start_time": "2022-08-31T15:06:03.954Z"
   },
   {
    "duration": 500,
    "start_time": "2022-08-31T15:06:04.003Z"
   },
   {
    "duration": 997,
    "start_time": "2022-08-31T15:06:04.507Z"
   },
   {
    "duration": 693,
    "start_time": "2022-08-31T15:06:05.517Z"
   },
   {
    "duration": 108,
    "start_time": "2022-08-31T15:06:06.212Z"
   },
   {
    "duration": 467,
    "start_time": "2022-08-31T15:06:06.322Z"
   },
   {
    "duration": 424,
    "start_time": "2022-08-31T15:06:06.791Z"
   },
   {
    "duration": 370,
    "start_time": "2022-08-31T15:06:07.218Z"
   },
   {
    "duration": 817,
    "start_time": "2022-08-31T15:06:07.589Z"
   },
   {
    "duration": 90,
    "start_time": "2022-08-31T15:06:08.408Z"
   },
   {
    "duration": 68296,
    "start_time": "2022-08-31T15:06:08.502Z"
   },
   {
    "duration": 477,
    "start_time": "2022-08-31T15:07:16.800Z"
   },
   {
    "duration": 364,
    "start_time": "2022-08-31T15:07:17.278Z"
   },
   {
    "duration": 24,
    "start_time": "2022-08-31T15:07:17.644Z"
   },
   {
    "duration": 237,
    "start_time": "2022-08-31T15:07:17.669Z"
   },
   {
    "duration": 852,
    "start_time": "2022-08-31T15:07:17.908Z"
   },
   {
    "duration": 278,
    "start_time": "2022-08-31T15:07:18.762Z"
   },
   {
    "duration": 3,
    "start_time": "2022-08-31T15:08:39.915Z"
   },
   {
    "duration": 3,
    "start_time": "2022-08-31T15:09:20.671Z"
   },
   {
    "duration": 381,
    "start_time": "2022-08-31T15:09:42.533Z"
   },
   {
    "duration": 246,
    "start_time": "2022-08-31T15:10:12.253Z"
   },
   {
    "duration": 1113,
    "start_time": "2022-08-31T15:11:11.895Z"
   },
   {
    "duration": 3,
    "start_time": "2022-08-31T15:12:03.687Z"
   },
   {
    "duration": 6,
    "start_time": "2022-08-31T15:12:23.674Z"
   },
   {
    "duration": 375,
    "start_time": "2022-08-31T15:12:27.624Z"
   },
   {
    "duration": 356,
    "start_time": "2022-08-31T15:12:35.526Z"
   },
   {
    "duration": 286,
    "start_time": "2022-08-31T15:13:11.662Z"
   },
   {
    "duration": 301,
    "start_time": "2022-08-31T15:13:25.582Z"
   },
   {
    "duration": 621,
    "start_time": "2022-08-31T15:13:32.780Z"
   },
   {
    "duration": 594,
    "start_time": "2022-08-31T15:16:14.464Z"
   },
   {
    "duration": 432,
    "start_time": "2022-08-31T15:17:29.405Z"
   },
   {
    "duration": 569,
    "start_time": "2022-08-31T15:18:48.499Z"
   },
   {
    "duration": 4,
    "start_time": "2022-08-31T15:20:35.277Z"
   },
   {
    "duration": 10,
    "start_time": "2022-08-31T15:20:35.283Z"
   },
   {
    "duration": 61,
    "start_time": "2022-08-31T15:20:35.294Z"
   },
   {
    "duration": 2,
    "start_time": "2022-08-31T15:20:35.357Z"
   },
   {
    "duration": 16,
    "start_time": "2022-08-31T15:20:35.361Z"
   },
   {
    "duration": 8,
    "start_time": "2022-08-31T15:20:35.379Z"
   },
   {
    "duration": 11,
    "start_time": "2022-08-31T15:20:35.388Z"
   },
   {
    "duration": 7,
    "start_time": "2022-08-31T15:20:35.400Z"
   },
   {
    "duration": 8,
    "start_time": "2022-08-31T15:20:35.409Z"
   },
   {
    "duration": 14,
    "start_time": "2022-08-31T15:20:35.418Z"
   },
   {
    "duration": 18,
    "start_time": "2022-08-31T15:20:35.433Z"
   },
   {
    "duration": 7,
    "start_time": "2022-08-31T15:20:35.452Z"
   },
   {
    "duration": 38,
    "start_time": "2022-08-31T15:20:35.461Z"
   },
   {
    "duration": 5,
    "start_time": "2022-08-31T15:20:35.500Z"
   },
   {
    "duration": 50,
    "start_time": "2022-08-31T15:20:35.507Z"
   },
   {
    "duration": 32,
    "start_time": "2022-08-31T15:20:35.558Z"
   },
   {
    "duration": 4,
    "start_time": "2022-08-31T15:20:35.592Z"
   },
   {
    "duration": 15,
    "start_time": "2022-08-31T15:20:35.598Z"
   },
   {
    "duration": 21,
    "start_time": "2022-08-31T15:20:35.614Z"
   },
   {
    "duration": 9,
    "start_time": "2022-08-31T15:20:35.636Z"
   },
   {
    "duration": 101,
    "start_time": "2022-08-31T15:20:35.646Z"
   },
   {
    "duration": 47127,
    "start_time": "2022-08-31T15:20:35.748Z"
   },
   {
    "duration": 111,
    "start_time": "2022-08-31T15:21:22.876Z"
   },
   {
    "duration": 740,
    "start_time": "2022-08-31T15:21:22.990Z"
   },
   {
    "duration": 9274,
    "start_time": "2022-08-31T15:21:23.732Z"
   },
   {
    "duration": 294,
    "start_time": "2022-08-31T15:21:33.009Z"
   },
   {
    "duration": 36,
    "start_time": "2022-08-31T15:21:33.304Z"
   },
   {
    "duration": 359,
    "start_time": "2022-08-31T15:21:33.341Z"
   },
   {
    "duration": 97,
    "start_time": "2022-08-31T15:21:33.702Z"
   },
   {
    "duration": 8,
    "start_time": "2022-08-31T15:21:33.800Z"
   },
   {
    "duration": 364,
    "start_time": "2022-08-31T15:21:33.809Z"
   },
   {
    "duration": 252,
    "start_time": "2022-08-31T15:21:34.174Z"
   },
   {
    "duration": 873,
    "start_time": "2022-08-31T15:21:34.428Z"
   },
   {
    "duration": 195,
    "start_time": "2022-08-31T15:21:35.304Z"
   },
   {
    "duration": 301,
    "start_time": "2022-08-31T15:21:35.500Z"
   },
   {
    "duration": 416,
    "start_time": "2022-08-31T15:21:35.802Z"
   },
   {
    "duration": 396,
    "start_time": "2022-08-31T15:21:36.220Z"
   },
   {
    "duration": 982,
    "start_time": "2022-08-31T15:21:36.617Z"
   },
   {
    "duration": 63905,
    "start_time": "2022-08-31T15:21:37.602Z"
   },
   {
    "duration": 606,
    "start_time": "2022-08-31T15:22:41.509Z"
   },
   {
    "duration": 591,
    "start_time": "2022-08-31T15:22:42.117Z"
   },
   {
    "duration": 24,
    "start_time": "2022-08-31T15:22:42.709Z"
   },
   {
    "duration": 219,
    "start_time": "2022-08-31T15:22:42.735Z"
   },
   {
    "duration": 668,
    "start_time": "2022-08-31T15:22:42.955Z"
   },
   {
    "duration": 3,
    "start_time": "2022-08-31T16:20:10.593Z"
   },
   {
    "duration": 4,
    "start_time": "2022-08-31T16:20:40.033Z"
   },
   {
    "duration": 357,
    "start_time": "2022-08-31T16:20:45.691Z"
   },
   {
    "duration": 283,
    "start_time": "2022-08-31T16:21:14.324Z"
   },
   {
    "duration": 737,
    "start_time": "2022-08-31T16:21:25.079Z"
   },
   {
    "duration": 309,
    "start_time": "2022-08-31T16:21:46.197Z"
   },
   {
    "duration": 407,
    "start_time": "2022-08-31T16:21:58.165Z"
   },
   {
    "duration": 841,
    "start_time": "2022-08-31T16:22:13.062Z"
   },
   {
    "duration": 564,
    "start_time": "2022-08-31T16:26:06.495Z"
   },
   {
    "duration": 600,
    "start_time": "2022-08-31T16:26:40.673Z"
   },
   {
    "duration": 217,
    "start_time": "2022-08-31T16:27:45.825Z"
   },
   {
    "duration": 655,
    "start_time": "2022-08-31T16:28:51.382Z"
   },
   {
    "duration": 4,
    "start_time": "2022-08-31T16:31:05.559Z"
   },
   {
    "duration": 10,
    "start_time": "2022-08-31T16:31:05.564Z"
   },
   {
    "duration": 62,
    "start_time": "2022-08-31T16:31:05.576Z"
   },
   {
    "duration": 2,
    "start_time": "2022-08-31T16:31:05.639Z"
   },
   {
    "duration": 20,
    "start_time": "2022-08-31T16:31:05.643Z"
   },
   {
    "duration": 6,
    "start_time": "2022-08-31T16:31:05.665Z"
   },
   {
    "duration": 6,
    "start_time": "2022-08-31T16:31:05.673Z"
   },
   {
    "duration": 26,
    "start_time": "2022-08-31T16:31:05.680Z"
   },
   {
    "duration": 9,
    "start_time": "2022-08-31T16:31:05.707Z"
   },
   {
    "duration": 6,
    "start_time": "2022-08-31T16:31:05.717Z"
   },
   {
    "duration": 18,
    "start_time": "2022-08-31T16:31:05.725Z"
   },
   {
    "duration": 7,
    "start_time": "2022-08-31T16:31:05.745Z"
   },
   {
    "duration": 5,
    "start_time": "2022-08-31T16:31:05.753Z"
   },
   {
    "duration": 22,
    "start_time": "2022-08-31T16:31:05.759Z"
   },
   {
    "duration": 22,
    "start_time": "2022-08-31T16:31:05.799Z"
   },
   {
    "duration": 31,
    "start_time": "2022-08-31T16:31:05.822Z"
   },
   {
    "duration": 4,
    "start_time": "2022-08-31T16:31:05.854Z"
   },
   {
    "duration": 13,
    "start_time": "2022-08-31T16:31:05.859Z"
   },
   {
    "duration": 43,
    "start_time": "2022-08-31T16:31:05.873Z"
   },
   {
    "duration": 8,
    "start_time": "2022-08-31T16:31:05.917Z"
   },
   {
    "duration": 104,
    "start_time": "2022-08-31T16:31:05.927Z"
   },
   {
    "duration": 47118,
    "start_time": "2022-08-31T16:31:06.033Z"
   },
   {
    "duration": 110,
    "start_time": "2022-08-31T16:31:53.152Z"
   },
   {
    "duration": 731,
    "start_time": "2022-08-31T16:31:53.264Z"
   },
   {
    "duration": 9709,
    "start_time": "2022-08-31T16:31:53.998Z"
   },
   {
    "duration": 206,
    "start_time": "2022-08-31T16:32:03.800Z"
   },
   {
    "duration": 35,
    "start_time": "2022-08-31T16:32:04.008Z"
   },
   {
    "duration": 264,
    "start_time": "2022-08-31T16:32:04.044Z"
   },
   {
    "duration": 103,
    "start_time": "2022-08-31T16:32:04.399Z"
   },
   {
    "duration": 5,
    "start_time": "2022-08-31T16:32:04.504Z"
   },
   {
    "duration": 442,
    "start_time": "2022-08-31T16:32:04.511Z"
   },
   {
    "duration": 269,
    "start_time": "2022-08-31T16:32:04.955Z"
   },
   {
    "duration": 782,
    "start_time": "2022-08-31T16:32:05.225Z"
   },
   {
    "duration": 190,
    "start_time": "2022-08-31T16:32:06.010Z"
   },
   {
    "duration": 337,
    "start_time": "2022-08-31T16:32:06.201Z"
   },
   {
    "duration": 400,
    "start_time": "2022-08-31T16:32:06.539Z"
   },
   {
    "duration": 316,
    "start_time": "2022-08-31T16:32:06.940Z"
   },
   {
    "duration": 742,
    "start_time": "2022-08-31T16:32:07.257Z"
   },
   {
    "duration": 63248,
    "start_time": "2022-08-31T16:32:08.001Z"
   },
   {
    "duration": 575,
    "start_time": "2022-08-31T16:33:11.250Z"
   },
   {
    "duration": 577,
    "start_time": "2022-08-31T16:33:11.827Z"
   },
   {
    "duration": 24,
    "start_time": "2022-08-31T16:33:12.406Z"
   },
   {
    "duration": 214,
    "start_time": "2022-08-31T16:33:12.431Z"
   },
   {
    "duration": 664,
    "start_time": "2022-08-31T16:33:12.647Z"
   },
   {
    "duration": 4,
    "start_time": "2022-08-31T16:48:28.646Z"
   },
   {
    "duration": 6,
    "start_time": "2022-08-31T16:48:28.652Z"
   },
   {
    "duration": 59,
    "start_time": "2022-08-31T16:48:28.659Z"
   },
   {
    "duration": 2,
    "start_time": "2022-08-31T16:48:28.719Z"
   },
   {
    "duration": 12,
    "start_time": "2022-08-31T16:48:28.723Z"
   },
   {
    "duration": 7,
    "start_time": "2022-08-31T16:48:28.737Z"
   },
   {
    "duration": 6,
    "start_time": "2022-08-31T16:48:28.745Z"
   },
   {
    "duration": 10,
    "start_time": "2022-08-31T16:48:28.752Z"
   },
   {
    "duration": 41,
    "start_time": "2022-08-31T16:48:28.763Z"
   },
   {
    "duration": 7,
    "start_time": "2022-08-31T16:48:28.805Z"
   },
   {
    "duration": 17,
    "start_time": "2022-08-31T16:48:28.814Z"
   },
   {
    "duration": 7,
    "start_time": "2022-08-31T16:48:28.833Z"
   },
   {
    "duration": 8,
    "start_time": "2022-08-31T16:48:28.841Z"
   },
   {
    "duration": 6,
    "start_time": "2022-08-31T16:48:28.852Z"
   },
   {
    "duration": 60,
    "start_time": "2022-08-31T16:48:28.860Z"
   },
   {
    "duration": 36,
    "start_time": "2022-08-31T16:48:28.922Z"
   },
   {
    "duration": 4,
    "start_time": "2022-08-31T16:48:28.960Z"
   },
   {
    "duration": 37,
    "start_time": "2022-08-31T16:48:28.966Z"
   },
   {
    "duration": 23,
    "start_time": "2022-08-31T16:48:29.005Z"
   },
   {
    "duration": 10,
    "start_time": "2022-08-31T16:48:29.029Z"
   },
   {
    "duration": 107,
    "start_time": "2022-08-31T16:48:29.040Z"
   },
   {
    "duration": 48327,
    "start_time": "2022-08-31T16:48:29.148Z"
   },
   {
    "duration": 113,
    "start_time": "2022-08-31T16:49:17.477Z"
   },
   {
    "duration": 744,
    "start_time": "2022-08-31T16:49:17.592Z"
   },
   {
    "duration": 11567,
    "start_time": "2022-08-31T16:49:18.338Z"
   },
   {
    "duration": 279,
    "start_time": "2022-08-31T16:49:29.907Z"
   },
   {
    "duration": 43,
    "start_time": "2022-08-31T16:49:30.188Z"
   },
   {
    "duration": 368,
    "start_time": "2022-08-31T16:49:30.232Z"
   },
   {
    "duration": 107,
    "start_time": "2022-08-31T16:49:30.601Z"
   },
   {
    "duration": 20,
    "start_time": "2022-08-31T16:49:30.710Z"
   },
   {
    "duration": 399,
    "start_time": "2022-08-31T16:49:30.731Z"
   },
   {
    "duration": 272,
    "start_time": "2022-08-31T16:49:31.131Z"
   },
   {
    "duration": 1005,
    "start_time": "2022-08-31T16:49:31.404Z"
   },
   {
    "duration": 97,
    "start_time": "2022-08-31T16:49:32.411Z"
   },
   {
    "duration": 291,
    "start_time": "2022-08-31T16:49:32.599Z"
   },
   {
    "duration": 404,
    "start_time": "2022-08-31T16:49:32.891Z"
   },
   {
    "duration": 218,
    "start_time": "2022-08-31T16:49:33.297Z"
   },
   {
    "duration": 592,
    "start_time": "2022-08-31T16:49:33.516Z"
   },
   {
    "duration": 64654,
    "start_time": "2022-08-31T16:49:34.112Z"
   },
   {
    "duration": 570,
    "start_time": "2022-08-31T16:50:38.768Z"
   },
   {
    "duration": 598,
    "start_time": "2022-08-31T16:50:39.342Z"
   },
   {
    "duration": 27,
    "start_time": "2022-08-31T16:50:39.943Z"
   },
   {
    "duration": 227,
    "start_time": "2022-08-31T16:50:39.971Z"
   },
   {
    "duration": 691,
    "start_time": "2022-08-31T16:50:40.200Z"
   },
   {
    "duration": 1721,
    "start_time": "2022-09-01T13:39:30.307Z"
   },
   {
    "duration": 3,
    "start_time": "2022-09-01T13:39:32.029Z"
   },
   {
    "duration": 80,
    "start_time": "2022-09-01T13:39:32.034Z"
   },
   {
    "duration": 2,
    "start_time": "2022-09-01T13:39:32.117Z"
   },
   {
    "duration": 18,
    "start_time": "2022-09-01T13:39:32.120Z"
   },
   {
    "duration": 8,
    "start_time": "2022-09-01T13:39:32.140Z"
   },
   {
    "duration": 7,
    "start_time": "2022-09-01T13:39:32.168Z"
   },
   {
    "duration": 25,
    "start_time": "2022-09-01T13:39:32.181Z"
   },
   {
    "duration": 9,
    "start_time": "2022-09-01T13:39:32.208Z"
   },
   {
    "duration": 8,
    "start_time": "2022-09-01T13:39:32.219Z"
   },
   {
    "duration": 22,
    "start_time": "2022-09-01T13:39:32.229Z"
   },
   {
    "duration": 22,
    "start_time": "2022-09-01T13:39:32.252Z"
   },
   {
    "duration": 13,
    "start_time": "2022-09-01T13:39:32.276Z"
   },
   {
    "duration": 17,
    "start_time": "2022-09-01T13:39:32.291Z"
   },
   {
    "duration": 27,
    "start_time": "2022-09-01T13:39:32.310Z"
   },
   {
    "duration": 46,
    "start_time": "2022-09-01T13:39:32.339Z"
   },
   {
    "duration": 5,
    "start_time": "2022-09-01T13:39:32.389Z"
   },
   {
    "duration": 20,
    "start_time": "2022-09-01T13:39:32.397Z"
   },
   {
    "duration": 25,
    "start_time": "2022-09-01T13:39:32.418Z"
   },
   {
    "duration": 38,
    "start_time": "2022-09-01T13:39:32.445Z"
   },
   {
    "duration": 107,
    "start_time": "2022-09-01T13:39:32.492Z"
   },
   {
    "duration": 50697,
    "start_time": "2022-09-01T13:39:32.601Z"
   },
   {
    "duration": 136,
    "start_time": "2022-09-01T13:40:23.300Z"
   },
   {
    "duration": 823,
    "start_time": "2022-09-01T13:40:23.438Z"
   },
   {
    "duration": 28106,
    "start_time": "2022-09-01T13:40:24.262Z"
   },
   {
    "duration": 220,
    "start_time": "2022-09-01T13:40:52.374Z"
   },
   {
    "duration": 35,
    "start_time": "2022-09-01T13:40:52.601Z"
   },
   {
    "duration": 1445,
    "start_time": "2022-09-01T13:40:52.639Z"
   },
   {
    "duration": 107,
    "start_time": "2022-09-01T13:40:54.092Z"
   },
   {
    "duration": 5,
    "start_time": "2022-09-01T13:40:54.201Z"
   },
   {
    "duration": 957,
    "start_time": "2022-09-01T13:40:54.274Z"
   },
   {
    "duration": 344,
    "start_time": "2022-09-01T13:40:55.233Z"
   },
   {
    "duration": 2523,
    "start_time": "2022-09-01T13:40:55.584Z"
   },
   {
    "duration": 99,
    "start_time": "2022-09-01T13:40:58.172Z"
   },
   {
    "duration": 387,
    "start_time": "2022-09-01T13:40:58.273Z"
   },
   {
    "duration": 434,
    "start_time": "2022-09-01T13:40:58.662Z"
   },
   {
    "duration": 316,
    "start_time": "2022-09-01T13:40:59.103Z"
   },
   {
    "duration": 2663,
    "start_time": "2022-09-01T13:40:59.420Z"
   },
   {
    "duration": 78387,
    "start_time": "2022-09-01T13:41:02.088Z"
   },
   {
    "duration": 710,
    "start_time": "2022-09-01T13:42:20.479Z"
   },
   {
    "duration": 784,
    "start_time": "2022-09-01T13:42:21.194Z"
   },
   {
    "duration": 40,
    "start_time": "2022-09-01T13:42:21.982Z"
   },
   {
    "duration": 283,
    "start_time": "2022-09-01T13:42:22.024Z"
   },
   {
    "duration": 1046,
    "start_time": "2022-09-01T13:42:22.310Z"
   },
   {
    "duration": 1324,
    "start_time": "2022-11-14T18:29:30.894Z"
   },
   {
    "duration": 2,
    "start_time": "2022-11-14T18:29:32.220Z"
   },
   {
    "duration": 68,
    "start_time": "2022-11-14T18:29:32.224Z"
   },
   {
    "duration": 11,
    "start_time": "2022-11-14T18:29:32.293Z"
   },
   {
    "duration": 26,
    "start_time": "2022-11-14T18:29:32.306Z"
   },
   {
    "duration": 12,
    "start_time": "2022-11-14T18:29:32.333Z"
   },
   {
    "duration": 26,
    "start_time": "2022-11-14T18:29:32.346Z"
   },
   {
    "duration": 19,
    "start_time": "2022-11-14T18:29:32.374Z"
   },
   {
    "duration": 14,
    "start_time": "2022-11-14T18:29:32.394Z"
   },
   {
    "duration": 20,
    "start_time": "2022-11-14T18:29:32.411Z"
   },
   {
    "duration": 8,
    "start_time": "2022-11-14T18:29:32.432Z"
   },
   {
    "duration": 9,
    "start_time": "2022-11-14T18:29:32.441Z"
   },
   {
    "duration": 7,
    "start_time": "2022-11-14T18:29:32.451Z"
   },
   {
    "duration": 42,
    "start_time": "2022-11-14T18:29:32.459Z"
   },
   {
    "duration": 33,
    "start_time": "2022-11-14T18:29:32.503Z"
   },
   {
    "duration": 3,
    "start_time": "2022-11-14T18:29:32.538Z"
   },
   {
    "duration": 52,
    "start_time": "2022-11-14T18:29:32.542Z"
   },
   {
    "duration": 23,
    "start_time": "2022-11-14T18:29:32.596Z"
   },
   {
    "duration": 9,
    "start_time": "2022-11-14T18:29:32.620Z"
   },
   {
    "duration": 114,
    "start_time": "2022-11-14T18:29:32.630Z"
   },
   {
    "duration": 44751,
    "start_time": "2022-11-14T18:29:32.746Z"
   },
   {
    "duration": 111,
    "start_time": "2022-11-14T18:30:17.499Z"
   },
   {
    "duration": 681,
    "start_time": "2022-11-14T18:30:17.612Z"
   },
   {
    "duration": 15007,
    "start_time": "2022-11-14T18:30:18.294Z"
   },
   {
    "duration": 201,
    "start_time": "2022-11-14T18:30:33.303Z"
   },
   {
    "duration": 33,
    "start_time": "2022-11-14T18:30:33.506Z"
   },
   {
    "duration": 466,
    "start_time": "2022-11-14T18:30:33.540Z"
   },
   {
    "duration": 97,
    "start_time": "2022-11-14T18:30:34.100Z"
   },
   {
    "duration": 5,
    "start_time": "2022-11-14T18:30:34.199Z"
   },
   {
    "duration": 414,
    "start_time": "2022-11-14T18:30:34.206Z"
   },
   {
    "duration": 292,
    "start_time": "2022-11-14T18:30:34.622Z"
   },
   {
    "duration": 884,
    "start_time": "2022-11-14T18:30:34.916Z"
   },
   {
    "duration": 114,
    "start_time": "2022-11-14T18:30:35.804Z"
   },
   {
    "duration": 293,
    "start_time": "2022-11-14T18:30:35.997Z"
   },
   {
    "duration": 367,
    "start_time": "2022-11-14T18:30:36.297Z"
   },
   {
    "duration": 228,
    "start_time": "2022-11-14T18:30:36.666Z"
   },
   {
    "duration": 802,
    "start_time": "2022-11-14T18:30:36.896Z"
   },
   {
    "duration": 58617,
    "start_time": "2022-11-14T18:30:37.702Z"
   },
   {
    "duration": 546,
    "start_time": "2022-11-14T18:31:36.321Z"
   },
   {
    "duration": 610,
    "start_time": "2022-11-14T18:31:36.868Z"
   },
   {
    "duration": 43,
    "start_time": "2022-11-14T18:31:37.479Z"
   },
   {
    "duration": 216,
    "start_time": "2022-11-14T18:31:37.524Z"
   },
   {
    "duration": 705,
    "start_time": "2022-11-14T18:31:37.742Z"
   }
  ],
  "kernelspec": {
   "display_name": "Python 3 (ipykernel)",
   "language": "python",
   "name": "python3"
  },
  "language_info": {
   "codemirror_mode": {
    "name": "ipython",
    "version": 3
   },
   "file_extension": ".py",
   "mimetype": "text/x-python",
   "name": "python",
   "nbconvert_exporter": "python",
   "pygments_lexer": "ipython3",
   "version": "3.9.5"
  },
  "toc": {
   "base_numbering": 1,
   "nav_menu": {},
   "number_sections": true,
   "sideBar": true,
   "skip_h1_title": true,
   "title_cell": "Содержание",
   "title_sidebar": "Contents",
   "toc_cell": true,
   "toc_position": {},
   "toc_section_display": true,
   "toc_window_display": true
  }
 },
 "nbformat": 4,
 "nbformat_minor": 2
}
